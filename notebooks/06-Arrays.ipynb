{
 "cells": [
  {
   "cell_type": "markdown",
   "metadata": {
    "slideshow": {
     "slide_type": "slide"
    }
   },
   "source": [
    "# 6장 배열"
   ]
  },
  {
   "cell_type": "markdown",
   "metadata": {},
   "source": [
    "## 핵심\n",
    "\n",
    "* 배열 개념 및 정의\n",
    "* 문자열 활용"
   ]
  },
  {
   "cell_type": "markdown",
   "metadata": {
    "slideshow": {
     "slide_type": "slide"
    }
   },
   "source": [
    "## (C 언어) 아빠는 대머리"
   ]
  },
  {
   "cell_type": "markdown",
   "metadata": {
    "slideshow": {
     "slide_type": "fragment"
    }
   },
   "source": [
    "* 동영상: [(나도코딩 C) 6-1 아빠는 대머리](https://www.youtube.com/watch?v=5VIDqDdKDsw&list=PLMsa_0kAjjrdiwQykI8eb3H4IRxLTqCnP&index=37&ab_channel=%EB%82%98%EB%8F%84%EC%BD%94%EB%94%A9)"
   ]
  },
  {
   "cell_type": "markdown",
   "metadata": {},
   "source": [
    "### 게임 설명"
   ]
  },
  {
   "cell_type": "markdown",
   "metadata": {},
   "source": [
    "* 발모제의 조합을 테스트하면서 효과있는 발모제 찾기"
   ]
  },
  {
   "cell_type": "markdown",
   "metadata": {},
   "source": [
    "---"
   ]
  },
  {
   "cell_type": "markdown",
   "metadata": {
    "slideshow": {
     "slide_type": "slide"
    }
   },
   "source": [
    "## (C 언어) 배열 기초"
   ]
  },
  {
   "cell_type": "markdown",
   "metadata": {
    "slideshow": {
     "slide_type": "fragment"
    }
   },
   "source": [
    "* 동영상: [(나도코딩 C) 6-2 계산기](https://www.youtube.com/watch?v=pr0r_dZht0g&list=PLMsa_0kAjjrdiwQykI8eb3H4IRxLTqCnP&index=38&ab_channel=%EB%82%98%EB%8F%84%EC%BD%94%EB%94%A9)"
   ]
  },
  {
   "cell_type": "markdown",
   "metadata": {},
   "source": [
    "* 여러 개의 값을 여러 개의 변수에 저장해서 활용할 수 있지만 비효율적임."
   ]
  },
  {
   "cell_type": "markdown",
   "metadata": {},
   "source": [
    "---\n",
    "```c\n",
    "#include <stdio.h>\n",
    " \n",
    "int main()\n",
    "{\n",
    "    // 배열\n",
    "    int subway_1 = 30; // 지하철 1호차에 30명이 타고 있다.\n",
    "    int subway_2 = 40; // 지하철 1호차에 40명이 타고 있다.\n",
    "    int subway_3 = 50; // 지하철 1호차에 50명이 타고 있다.\n",
    "\n",
    "    printf(\"지하철 1호차에 %d 명이 타고 있습니다.\\n\", subway_1);\n",
    "    printf(\"지하철 2호차에 %d 명이 타고 있습니다.\\n\", subway_2);\n",
    "    printf(\"지하철 3호차에 %d 명이 타고 있습니다.\\n\", subway_3);\n",
    "\n",
    "    return 0;\n",
    "}\n",
    "```"
   ]
  },
  {
   "cell_type": "markdown",
   "metadata": {},
   "source": [
    "* 여러 개의 값을 하나의 어레이에 저장하여 동시에 활용할 수 있음.\n",
    "* 인덱스가 0부터 시작함에 주의할 것."
   ]
  },
  {
   "cell_type": "markdown",
   "metadata": {},
   "source": [
    "---\n",
    "```c\n",
    "#include <stdio.h>\n",
    " \n",
    "int main()\n",
    "{\n",
    "    // 여러 개의 변수를 함께, 동시에 생성\n",
    "    int subway_array[3];\n",
    "    \n",
    "    subway_array[0] = 30;\n",
    "    subway_array[1] = 40;\n",
    "    subway_array[2] = 50;\n",
    "    \n",
    "    for (int i = 0; i < 3; i++)\n",
    "    {\n",
    "        printf(\"지하철 %d호차에 %d 명이 타고 있습니다.\\n\", i+1, subway_array[i]);\n",
    "    }\n",
    "\n",
    "    return 0;\n",
    "}\n",
    "```"
   ]
  },
  {
   "cell_type": "markdown",
   "metadata": {
    "slideshow": {
     "slide_type": "slide"
    }
   },
   "source": [
    "---\n",
    "\n",
    "### Python 구현"
   ]
  },
  {
   "cell_type": "markdown",
   "metadata": {},
   "source": [
    "* 아래 두 함수를 잘 활용해야 함."
   ]
  },
  {
   "cell_type": "markdown",
   "metadata": {},
   "source": [
    "* `len()`: 리스트의 길이 반환"
   ]
  },
  {
   "cell_type": "code",
   "execution_count": 1,
   "metadata": {},
   "outputs": [
    {
     "data": {
      "text/plain": [
       "4"
      ]
     },
     "execution_count": 1,
     "metadata": {},
     "output_type": "execute_result"
    }
   ],
   "source": [
    "len([1, 3, 5, 7])"
   ]
  },
  {
   "cell_type": "markdown",
   "metadata": {},
   "source": [
    "* `range()`: 인자로 사용된 양의 정수까지의 리스트와 비슷한 값 반환"
   ]
  },
  {
   "cell_type": "code",
   "execution_count": 2,
   "metadata": {},
   "outputs": [
    {
     "data": {
      "text/plain": [
       "range(0, 5)"
      ]
     },
     "execution_count": 2,
     "metadata": {},
     "output_type": "execute_result"
    }
   ],
   "source": [
    "range(5)"
   ]
  },
  {
   "cell_type": "markdown",
   "metadata": {},
   "source": [
    "* `range(5)`는 `[0, 1, 2, 3, 4]`와 비슷한 성질의 가짐. \n",
    "* 주의: 하지만 리스트와 자료형은 다름.\n",
    "* 그래도 `for` 반복문과 함께 사용될 수 있음."
   ]
  },
  {
   "cell_type": "code",
   "execution_count": 3,
   "metadata": {},
   "outputs": [
    {
     "name": "stdout",
     "output_type": "stream",
     "text": [
      "0\n",
      "1\n",
      "2\n",
      "3\n",
      "4\n"
     ]
    }
   ],
   "source": [
    "for i in range(5):\n",
    "    print(i)"
   ]
  },
  {
   "cell_type": "markdown",
   "metadata": {},
   "source": [
    "* 이제 `len()`과 `range()` 함수를 활용하여 위 C 코드를 파이썬에서 동일하게 구현 가능."
   ]
  },
  {
   "cell_type": "code",
   "execution_count": 4,
   "metadata": {},
   "outputs": [
    {
     "name": "stdout",
     "output_type": "stream",
     "text": [
      "지하철 1호차에 30 명이 타고 있습니다.\n",
      "지하철 2호차에 40 명이 타고 있습니다.\n",
      "지하철 3호차에 50 명이 타고 있습니다.\n"
     ]
    }
   ],
   "source": [
    "# 리스트: 여러 개의 값을 동시에 저장하는 기능\n",
    "\n",
    "# 길이가 3인 리스를 선언한 후에 나중에 항목을 업데이트 하고자 할 경우 \n",
    "# 먼저 리스트 항목을 임의의 값으로 초기화 해야 함.\n",
    "subway_array = [0, 0, 0]\n",
    "\n",
    "# 인덱싱을 이용한 항목 업데이트는 C 언어의 경우와 동일하게 진행\n",
    "subway_array[0] = 30\n",
    "subway_array[1] = 40\n",
    "subway_array[2] = 50\n",
    "\n",
    "# 리스트와 for 문은 매우 잘 어울림.\n",
    "# C 언어의 for 문과 형식이 많이 다름.\n",
    "for i in range(len(subway_array)):\n",
    "    print(f\"지하철 {i+1}호차에 {subway_array[i]} 명이 타고 있습니다.\")"
   ]
  },
  {
   "cell_type": "markdown",
   "metadata": {},
   "source": [
    "---"
   ]
  },
  {
   "cell_type": "markdown",
   "metadata": {
    "slideshow": {
     "slide_type": "slide"
    }
   },
   "source": [
    "## (C 언어) 어레이 항목 값 설정"
   ]
  },
  {
   "cell_type": "markdown",
   "metadata": {
    "slideshow": {
     "slide_type": "fragment"
    }
   },
   "source": [
    "* 동영상: [(나도코딩 C) 6-3 값 설정](https://www.youtube.com/watch?v=6B-Vu7Ox7zQ&list=PLMsa_0kAjjrdiwQykI8eb3H4IRxLTqCnP&index=39&ab_channel=%EB%82%98%EB%8F%84%EC%BD%94%EB%94%A9)"
   ]
  },
  {
   "cell_type": "markdown",
   "metadata": {},
   "source": [
    "* 어레이를 선언할 때 항목값을 함께 설정 가능"
   ]
  },
  {
   "cell_type": "markdown",
   "metadata": {},
   "source": [
    "---\n",
    "```c\n",
    "#include <stdio.h>\n",
    " \n",
    "int main()\n",
    "{\n",
    "    // 어레이 항목값 설정 방법\n",
    "\n",
    "\tint arr[10] = {1, 2, 3, 4, 5, 6, 7, 8, 9, 10}; \n",
    "\n",
    "\tfor (int i=0; i<10; i++)\n",
    "\t{\n",
    "\t\tprintf(\"%d\\n\", arr[i]);\n",
    "\t}\n",
    "\n",
    "    return 0;\n",
    "}\n",
    "```"
   ]
  },
  {
   "cell_type": "markdown",
   "metadata": {},
   "source": [
    "* 하지만 어레이를 선언만 하면 항목값이 임의로 초기화됨에 주의할 것."
   ]
  },
  {
   "cell_type": "markdown",
   "metadata": {},
   "source": [
    "---\n",
    "```c\n",
    "#include <stdio.h>\n",
    " \n",
    "int main()\n",
    "{\n",
    "    // 어레이 항목값 설정 방법\n",
    "\n",
    "\tint arr[10];\n",
    "    \n",
    "    // 아래 코드를 실행하면 엉뚱한 값들이 확인됨.\n",
    "\n",
    "\tfor (int i=0; i<10; i++)\n",
    "\t{\n",
    "\t\tprintf(\"%d\\n\", arr[i]);\n",
    "\t}\n",
    "\n",
    "    return 0;\n",
    "}\n",
    "```"
   ]
  },
  {
   "cell_type": "markdown",
   "metadata": {},
   "source": [
    "* 아래와 같이 소위 더미(dummy)값이라는 쓰레기값이 임의로 지정됨에 주의할 것.\n",
    "    * 시스템마다 다를 수 있음.\n",
    "    * 따라서 항상 함께 항목값을 직접 지정한 후에 사용해야 함."
   ]
  },
  {
   "cell_type": "markdown",
   "metadata": {},
   "source": [
    "```c\n",
    "742975984\n",
    "32572\n",
    "0\n",
    "0\n",
    "4196848\n",
    "0\n",
    "4195712\n",
    "0\n",
    "-594061760\n",
    "32764\n",
    "```"
   ]
  },
  {
   "cell_type": "markdown",
   "metadata": {},
   "source": [
    "* 어레이의 길이에 변수 사용 불가\n",
    "    * 즉, 배열의 크기는 항상 상수로 선언해야 함."
   ]
  },
  {
   "cell_type": "markdown",
   "metadata": {},
   "source": [
    "```c\n",
    "// 배열 크기는 항상 상수로 선언해야 함.\n",
    "/* 아래 코드 사용 불가\n",
    "int size =10;\n",
    "int arr[size];\n",
    "*/\n",
    "\n",
    "int arr[10];\n",
    "```"
   ]
  },
  {
   "cell_type": "markdown",
   "metadata": {},
   "source": [
    "* 어레이 크기보다 적은 수의 항목만을 입력하면 나머지 항목의 값은 0으로 지정됨."
   ]
  },
  {
   "cell_type": "markdown",
   "metadata": {},
   "source": [
    "---\n",
    "```c\n",
    "#include <stdio.h>\n",
    " \n",
    "int main()\n",
    "{\n",
    "    // 어레이 항목값 설정 방법\n",
    "\n",
    "\tint arr[10] = {1, 2}; // 셋째 값부터는 모두 0으로 지정됨.\n",
    "    \n",
    "    // 아래 코드를 실행하면 엉뚱한 값들이 확인됨.\n",
    "\n",
    "\tfor (int i=0; i<10; i++)\n",
    "\t{\n",
    "\t\tprintf(\"%d\\n\", arr[i]);\n",
    "\t}\n",
    "\n",
    "    return 0;\n",
    "}\n",
    "```"
   ]
  },
  {
   "cell_type": "markdown",
   "metadata": {},
   "source": [
    "* 처음 두 개의 항목을 제외한 나머지 항목은 모두 0으로 초기화됨."
   ]
  },
  {
   "cell_type": "markdown",
   "metadata": {},
   "source": [
    "```c\n",
    "1\n",
    "2\n",
    "0\n",
    "0\n",
    "0\n",
    "0\n",
    "0\n",
    "0\n",
    "0\n",
    "0\n",
    "```"
   ]
  },
  {
   "cell_type": "markdown",
   "metadata": {},
   "source": [
    "* 부동소수점의 경우는 0.0으로 초기화됨."
   ]
  },
  {
   "cell_type": "markdown",
   "metadata": {},
   "source": [
    "```c\n",
    "#include <stdio.h>\n",
    " \n",
    "int main()\n",
    "{\n",
    "    // 어레이 항목값 설정 방법\n",
    "\n",
    "\tfloat arr_f[5]={1.0f, 2.0f, 3.0f}; \n",
    "\n",
    "\tfor (int i=0; i<5; i++)\n",
    "\t{\n",
    "\t\tprintf(\"%.2f\\n\", arr_f[i]);\n",
    "\t}\n",
    "\n",
    "    return 0;\n",
    "}\n",
    "```"
   ]
  },
  {
   "cell_type": "markdown",
   "metadata": {},
   "source": [
    "```c\n",
    "1.00\n",
    "2.00\n",
    "3.00\n",
    "0.00\n",
    "0.00\n",
    "```"
   ]
  },
  {
   "cell_type": "markdown",
   "metadata": {},
   "source": [
    "* 어레이 크기 미지정 선언 가능"
   ]
  },
  {
   "cell_type": "markdown",
   "metadata": {},
   "source": [
    "```c\n",
    "int arr[] = {1, 2} // arr[2]와 동일한 의미임\n",
    "```"
   ]
  },
  {
   "cell_type": "markdown",
   "metadata": {
    "slideshow": {
     "slide_type": "slide"
    }
   },
   "source": [
    "---\n",
    "\n",
    "### Python 구현"
   ]
  },
  {
   "cell_type": "markdown",
   "metadata": {},
   "source": [
    "* 파이썬에서 리스트의 항목과 개수는 항상 직접 지정해야 함."
   ]
  },
  {
   "cell_type": "markdown",
   "metadata": {},
   "source": [
    "* for 반복문을 위해 `len()`과 `range()` 함수 활용"
   ]
  },
  {
   "cell_type": "code",
   "execution_count": 5,
   "metadata": {},
   "outputs": [
    {
     "name": "stdout",
     "output_type": "stream",
     "text": [
      "1\n",
      "3\n",
      "5\n",
      "7\n",
      "9\n"
     ]
    }
   ],
   "source": [
    "# 어레이 항목값 설정 방법\n",
    "\n",
    "arr = [1, 3, 5, 7, 9]\n",
    "\n",
    "# len()과 range() 활용\n",
    "for i in range(len(arr)):\n",
    "    print(arr[i])"
   ]
  },
  {
   "cell_type": "markdown",
   "metadata": {},
   "source": [
    "* 하지만 리스트의 항목을 직접 가리킬 수도 있음."
   ]
  },
  {
   "cell_type": "code",
   "execution_count": 6,
   "metadata": {},
   "outputs": [
    {
     "name": "stdout",
     "output_type": "stream",
     "text": [
      "1\n",
      "3\n",
      "5\n",
      "7\n",
      "9\n"
     ]
    }
   ],
   "source": [
    "# 어레이 항목값 설정 방법\n",
    "\n",
    "arr = [1, 3, 5, 7, 9]\n",
    "\n",
    "# 항목 직접 사용\n",
    "for item in arr:\n",
    "    print(item)"
   ]
  },
  {
   "cell_type": "markdown",
   "metadata": {},
   "source": [
    "---"
   ]
  },
  {
   "cell_type": "markdown",
   "metadata": {
    "slideshow": {
     "slide_type": "slide"
    }
   },
   "source": [
    "## (C 언어) 문자와 문자열"
   ]
  },
  {
   "cell_type": "markdown",
   "metadata": {
    "slideshow": {
     "slide_type": "fragment"
    }
   },
   "source": [
    "* 동영상: [(나도코딩 C) 6-4 문자 vs 문자열](https://www.youtube.com/watch?v=CXi3CykWah8&list=PLMsa_0kAjjrdiwQykI8eb3H4IRxLTqCnP&index=40&ab_channel=%EB%82%98%EB%8F%84%EC%BD%94%EB%94%A9)"
   ]
  },
  {
   "cell_type": "markdown",
   "metadata": {},
   "source": [
    "* 문자와 문자열을 구분하여 사용\n",
    "* `char`: 문자 자료형. 하나의 문자만 포함. 작은 인용부호 사용.\n",
    "* 문자열: \n",
    "    * 문자로 이루어진 배열로 처리. \n",
    "    * 즉, 문자열 자료형이 따로 존재하지 않음.\n",
    "    * 배열의 길이는 사용하는 문자열의 크기보다 1크게 선언해야 함."
   ]
  },
  {
   "cell_type": "markdown",
   "metadata": {},
   "source": [
    "---\n",
    "```c\n",
    "#include <stdio.h>\n",
    "\n",
    "// 문자 vs 문자열 \n",
    "\n",
    "int main()\n",
    "{\n",
    "\t// 문자\n",
    "\tchar c = 'A';\n",
    "\tprintf(\"%c\\n\", c);\n",
    "\n",
    "\t// 문자열 끝을 의미하는 NULL 문자인 '\\0'이 반드시 포함되어야 함.\n",
    "\t// 즉, 지정된 문자열의 크기보다 1크게 선언해야 함.\n",
    "\t// char str[6] = \"coding\"; \n",
    "\tchar str[7] = \"coding\"; \n",
    "\tprintf(\"%s\\n\", str);\n",
    "\n",
    "\t// 일반적으로 문자열의 길이를 지정하지 않게 선언함.\n",
    "\tchar str1[] = \"coding\";\n",
    "\tprintf(\"%s\\n\", str1);\n",
    "\n",
    "\t// 문자열의 크기에 1이 더해짐에 주의할 것\n",
    "\t// 문자열의 크기는 unsigned long 자료형을 갖는 정수값임.\n",
    "\tprintf(\"%d\\n\", sizeof(str1));\n",
    "\n",
    "    return 0;\n",
    "}\n",
    "```"
   ]
  },
  {
   "cell_type": "markdown",
   "metadata": {},
   "source": [
    "#### 문자열과 for 반복문"
   ]
  },
  {
   "cell_type": "markdown",
   "metadata": {},
   "source": [
    "* for 반복문과 인덱싱을 이용하여 문자열 항목 확인 가능."
   ]
  },
  {
   "cell_type": "markdown",
   "metadata": {},
   "source": [
    "```c\n",
    "#include <stdio.h>\n",
    "\n",
    "// 문자 vs 문자열 \n",
    "\n",
    "int main()\n",
    "{\n",
    "\tchar str[] = \"coding\";\n",
    "\n",
    "\tfor(int i=0; i<sizeof(str); i++)\n",
    "\t{\n",
    "\t\tprintf(\"%c\\n\", str[i]);\n",
    "\t}\n",
    "\n",
    "    return 0;\n",
    "}\n",
    "```"
   ]
  },
  {
   "cell_type": "markdown",
   "metadata": {},
   "source": [
    "* 주의: 마지막에 NULL 문자 또한 출력됨."
   ]
  },
  {
   "cell_type": "markdown",
   "metadata": {},
   "source": [
    "```c\n",
    "c\n",
    "o\n",
    "d\n",
    "i\n",
    "n\n",
    "g\n",
    "   (<== 빈칸이 이곳에 보여짐)\n",
    "```"
   ]
  },
  {
   "cell_type": "markdown",
   "metadata": {},
   "source": [
    "#### 한글 문자열 활용"
   ]
  },
  {
   "cell_type": "markdown",
   "metadata": {},
   "source": [
    "* 한글의 글자는 시스템에 따라 2-3 바이트 사용함.\n",
    "* 반면에 영어 알파벳은 1 바이트 활용"
   ]
  },
  {
   "cell_type": "markdown",
   "metadata": {},
   "source": [
    "```c\n",
    "#include <stdio.h>\n",
    "\n",
    "// 문자 vs 문자열 \n",
    "\n",
    "int main()\n",
    "{\n",
    "\tchar kor[] = \"나도코딩\";\n",
    "\tprintf(\"%s\\n\", kor);\n",
    "\tprintf(\"%lu\\n\", sizeof(kor));\n",
    "\t// 영어 1글자: 1 byte\n",
    "\t// 한글 1글자: 2-3 byte\n",
    "\t// char 크기: 1 byte\n",
    "    return 0;\n",
    "}\n",
    "```"
   ]
  },
  {
   "cell_type": "markdown",
   "metadata": {},
   "source": [
    "* 문자열 \"나도코딩\"의 크기는 $13 = 3 \\cdot 4 + 1$"
   ]
  },
  {
   "cell_type": "markdown",
   "metadata": {},
   "source": [
    "```c\n",
    "나도코딩\n",
    "13\n",
    "```"
   ]
  },
  {
   "cell_type": "markdown",
   "metadata": {
    "slideshow": {
     "slide_type": "slide"
    }
   },
   "source": [
    "---\n",
    "\n",
    "### Python 구현"
   ]
  },
  {
   "cell_type": "markdown",
   "metadata": {},
   "source": [
    "* 문자 자료형이 따로 없음.\n",
    "* 대신에 문자는 길이가 1인 문자열에 불과함.\n",
    "* 작은따옴표와 큰따옴표는 동일한 기능 수행"
   ]
  },
  {
   "cell_type": "code",
   "execution_count": 7,
   "metadata": {},
   "outputs": [
    {
     "name": "stdout",
     "output_type": "stream",
     "text": [
      "A\n",
      "<class 'str'>\n",
      "6\n",
      "4\n"
     ]
    }
   ],
   "source": [
    "# 문자 vs 문자열 \n",
    "\n",
    "# 문자\n",
    "c = 'A'\n",
    "print(c)\n",
    "\n",
    "# 문자열의 자료형은 str\n",
    "string = \"coding\" \n",
    "print(type(string))\n",
    "\n",
    "# 문자열의 길이는 사용된 문자의 수. \n",
    "# C 언어와는 달리 Null 문자 고려하지 않음.\n",
    "print(len(string))\n",
    "\n",
    "# 한글의 경우 문자열의 길이는 글자 수임.\n",
    "print(len(\"나도코딩\"))"
   ]
  },
  {
   "cell_type": "markdown",
   "metadata": {},
   "source": [
    "* 바이트 단위의 크기를 알고 싶을 때는 `sys` 모듈의 `getsizeof()` 함수 활용 가능\n",
    "    * 문자열 자료형의 `__sizeof__()` 메서드 호출함.\n",
    "    * 가비지컬렉션에 사용할 메모리 크기까지 포함하기에 별 의미 찾기 어려움.\n",
    "    * 따라서 굳이 사용할 필요 없음."
   ]
  },
  {
   "cell_type": "code",
   "execution_count": 8,
   "metadata": {},
   "outputs": [],
   "source": [
    "from sys import getsizeof"
   ]
  },
  {
   "cell_type": "code",
   "execution_count": 9,
   "metadata": {},
   "outputs": [
    {
     "data": {
      "text/plain": [
       "82"
      ]
     },
     "execution_count": 9,
     "metadata": {},
     "output_type": "execute_result"
    }
   ],
   "source": [
    "getsizeof(\"나도코딩\")"
   ]
  },
  {
   "cell_type": "code",
   "execution_count": 10,
   "metadata": {},
   "outputs": [
    {
     "data": {
      "text/plain": [
       "55"
      ]
     },
     "execution_count": 10,
     "metadata": {},
     "output_type": "execute_result"
    }
   ],
   "source": [
    "getsizeof(\"coding\")"
   ]
  },
  {
   "cell_type": "markdown",
   "metadata": {},
   "source": [
    "---"
   ]
  },
  {
   "cell_type": "markdown",
   "metadata": {
    "slideshow": {
     "slide_type": "slide"
    }
   },
   "source": [
    "## (C 언어) 문자열 심화"
   ]
  },
  {
   "cell_type": "markdown",
   "metadata": {
    "slideshow": {
     "slide_type": "fragment"
    }
   },
   "source": [
    "* 동영상: [(나도코딩 C) 6-5 문자열 심화](https://www.youtube.com/watch?v=MxUudXTn-2E&list=PLMsa_0kAjjrdiwQykI8eb3H4IRxLTqCnP&index=41)"
   ]
  },
  {
   "cell_type": "markdown",
   "metadata": {},
   "source": [
    "* 문자열을 문자로 구성된 배열로 동일하게 구현 가능."
   ]
  },
  {
   "cell_type": "markdown",
   "metadata": {},
   "source": [
    "---\n",
    "```c\n",
    "#include <stdio.h>\n",
    "\n",
    "// 문자열 심화\n",
    "\n",
    "int main()\n",
    "{\n",
    "\tchar arr[7] = \"coding\";\n",
    "\t// 위 문자열의 원래 정의는 다음과 같음.\n",
    "\t// 끝에 문자열의 끝을 알려주는 널 문자를 포함하는 것에 주의할 것.\n",
    "\tchar c_array[7] = {'c', 'o', 'd', 'i', 'n', 'g', '\\0'};\n",
    "\n",
    "\tprintf(\"%s\\n\", arr);\n",
    "\tprintf(\"%s\\n\", c_array);\n",
    "\n",
    "    return 0;\n",
    "}\n",
    "```"
   ]
  },
  {
   "cell_type": "markdown",
   "metadata": {},
   "source": [
    "#### 널문자와 배열의 크기"
   ]
  },
  {
   "cell_type": "markdown",
   "metadata": {},
   "source": [
    "* 배열의 크기를 충분히 크게 하면 남은 공간은 널문자로 대체됨."
   ]
  },
  {
   "cell_type": "markdown",
   "metadata": {},
   "source": [
    "```c\n",
    "#include <stdio.h>\n",
    "\n",
    "// 문자열 심화\n",
    "\n",
    "int main()\n",
    "{\n",
    "\t// 배열의 길이를 사용된 문자열의 크기보다 크게 지정한 경우\n",
    "\tchar c_array[10] = {'c', 'o', 'd', 'i', 'n', 'g'};\n",
    "\n",
    "\t// 마지막에 널 문자를 명시하지 않더라도 문자열 출력에 전혀 문제 없음.\n",
    "\t// 널 문자가 자동으로 삽입되며, 남은 공간도 동일하게 취급됨.\n",
    "\t// 이 점을 for 반복문으로 직접 확인 가능.\n",
    "\n",
    "\tfor (int i=0; i < sizeof(c_array); i++)\n",
    "\t{\n",
    "\t\tprintf(\"%c\\n\", c_array[i]);\n",
    "\t}\n",
    "\n",
    "    return 0;\n",
    "}\n",
    "```"
   ]
  },
  {
   "cell_type": "markdown",
   "metadata": {},
   "source": [
    "```c\n",
    "c\n",
    "o\n",
    "d\n",
    "i\n",
    "n\n",
    "g\n",
    "\n",
    "\n",
    "\n",
    "\n",
    "```"
   ]
  },
  {
   "cell_type": "markdown",
   "metadata": {},
   "source": [
    "#### 문자와 아스키(ascii) 코드"
   ]
  },
  {
   "cell_type": "markdown",
   "metadata": {},
   "source": [
    "* 아스키 코드: 사용되는 문자와 숫자 사이의 연관관계"
   ]
  },
  {
   "cell_type": "markdown",
   "metadata": {},
   "source": [
    "```c\n",
    "#include <stdio.h>\n",
    "\n",
    "// 문자와 아스키 코드\n",
    "\n",
    "int main()\n",
    "{\n",
    "\t// 배열의 길이를 사용된 문자열의 크기보다 크게 지정한 경우\n",
    "    char c_array[10] = {'c', 'o', 'd', 'i', 'n', 'g'};\n",
    "\n",
    "\t// 각각의 문자에 아스키(ascii) 코드라는 숫자가 대응됨.\n",
    "\t// 이 점을 for 반복문으로 직접 확인 가능.\n",
    "\n",
    "\tfor (int i=0; i < sizeof(c_array); i++)\n",
    "\t{\n",
    "\t\tprintf(\"%d\\n\", c_array[i]);    // %d 사용에 주의\n",
    "\t}\n",
    "\n",
    "    return 0;\n",
    "}\n",
    "```"
   ]
  },
  {
   "cell_type": "markdown",
   "metadata": {},
   "source": [
    "```c\n",
    "99\n",
    "111\n",
    "100\n",
    "105\n",
    "110\n",
    "103\n",
    "0\n",
    "0\n",
    "0\n",
    "0\n",
    "```"
   ]
  },
  {
   "cell_type": "markdown",
   "metadata": {},
   "source": [
    "#### 널 문자 다음에 오는 문자"
   ]
  },
  {
   "cell_type": "markdown",
   "metadata": {},
   "source": [
    "* 널 문자 다음에 오는 문자들은 모두 무시됨. 널 문자가 문자열의 끝으로 인식되기 때문."
   ]
  },
  {
   "cell_type": "markdown",
   "metadata": {},
   "source": [
    "```c\n",
    "#include <stdio.h>\n",
    "\n",
    "// 문자와 아스키 코드\n",
    "\n",
    "int main()\n",
    "{\n",
    "\t// 배열의 길이를 사용된 문자열의 크기보다 크게 지정한 경우\n",
    "    char c_array[10] = {'c', 'o', 'd', 'i', 'n', 'g', '\\0', 'c' };\n",
    "\n",
    "\t// 문자열 전체를 한꺼번에 출력하면 널문자는 무시됨.\n",
    "\tprintf(\"%s\\n\", c_array);    // %d 사용에 주의\n",
    "\n",
    "    return 0;\n",
    "}\n",
    "```"
   ]
  },
  {
   "cell_type": "markdown",
   "metadata": {},
   "source": [
    "```c\n",
    "coding\n",
    "```"
   ]
  },
  {
   "cell_type": "markdown",
   "metadata": {
    "slideshow": {
     "slide_type": "slide"
    }
   },
   "source": [
    "---\n",
    "\n",
    "### Python 구현"
   ]
  },
  {
   "cell_type": "markdown",
   "metadata": {},
   "source": [
    "* 파이썬에서 문자는 길이가 1인 문자열로 처리함. 따라서 `char`에 해당하는 자료형 없음.\n",
    "* 또한 널문자(`\\0`)와 동일한 기능의 문자도 없음. 물론 널문자를 가리키는 문자열 `\\0`은 사용 가능."
   ]
  },
  {
   "cell_type": "code",
   "execution_count": 11,
   "metadata": {},
   "outputs": [
    {
     "name": "stdout",
     "output_type": "stream",
     "text": [
      "\u0000\n"
     ]
    }
   ],
   "source": [
    "print('\\0')"
   ]
  },
  {
   "cell_type": "markdown",
   "metadata": {},
   "source": [
    "* 빈문자열과 동일함."
   ]
  },
  {
   "cell_type": "code",
   "execution_count": 12,
   "metadata": {},
   "outputs": [
    {
     "name": "stdout",
     "output_type": "stream",
     "text": [
      "\n"
     ]
    }
   ],
   "source": [
    "print('')"
   ]
  },
  {
   "cell_type": "markdown",
   "metadata": {},
   "source": [
    "---"
   ]
  },
  {
   "cell_type": "markdown",
   "metadata": {
    "slideshow": {
     "slide_type": "slide"
    }
   },
   "source": [
    "## (C 언어) 아스키 코드"
   ]
  },
  {
   "cell_type": "markdown",
   "metadata": {
    "slideshow": {
     "slide_type": "fragment"
    }
   },
   "source": [
    "* 동영상: [(나도코딩 C) 6-6 아스키 코드](https://www.youtube.com/watch?v=-brVtblamCY&list=PLMsa_0kAjjrdiwQykI8eb3H4IRxLTqCnP&index=42)"
   ]
  },
  {
   "cell_type": "markdown",
   "metadata": {},
   "source": [
    "* ANSI(미국표준협회)에서 제시한 표준코드 체계\n",
    "* 7 bit 크기로 표현할 수 있는 문자 표준체계\n",
    "* 총 2의 7승 개, 즉 128 개의 문자 표현 가능"
   ]
  },
  {
   "cell_type": "markdown",
   "metadata": {},
   "source": [
    "---\n",
    "```c\n",
    "#include <stdio.h>\n",
    "\n",
    "// 아스키 코드\n",
    "\n",
    "int main()\n",
    "{\n",
    "\t// 소문자 a, b, c 는 97, 98, 99 등으로 시작\n",
    "    printf(\"%c는 아스키 코드로 %d\\n\", 'a', 'a');\n",
    "    printf(\"%c는 아스키 코드로 %d\\n\", 'b', 'b');\n",
    "    printf(\"%c는 아스키 코드로 %d\\n\", 'c', 'c');\n",
    "\n",
    "\t// 대문자 A, B, C 는 65, 66, 67 등으로 시작\n",
    "    printf(\"%c는 아스키 코드로 %d\\n\", 'A', 'A');\n",
    "    printf(\"%c는 아스키 코드로 %d\\n\", 'B', 'B');\n",
    "    printf(\"%c는 아스키 코드로 %d\\n\", 'C', 'C');\n",
    "\n",
    "\t// 널문자 `\\0`은 아스키 코드 0임.\n",
    "    printf(\"널문자 %c는 아스키 코드로 %d\\n\", '\\0', '\\0');\n",
    "\n",
    "\t// 숫자 0, 1, 2 는 48, 49, 50 등으로 시작\n",
    "    printf(\"%c는 아스키 코드로 %d\\n\", '0', '0');\n",
    "    printf(\"%c는 아스키 코드로 %d\\n\", '1', '1');\n",
    "    printf(\"%c는 아스키 코드로 %d\\n\", '2', '2');\n",
    "\n",
    "    return 0;\n",
    "}\n",
    "```"
   ]
  },
  {
   "cell_type": "markdown",
   "metadata": {},
   "source": [
    "```c\n",
    "a는 아스키 코드로 97\n",
    "b는 아스키 코드로 98\n",
    "c는 아스키 코드로 99\n",
    "A는 아스키 코드로 65\n",
    "B는 아스키 코드로 66\n",
    "C는 아스키 코드로 67\n",
    "널문자 는 아스키 코드로 0\n",
    "0는 아스키 코드로 48\n",
    "1는 아스키 코드로 49\n",
    "2는 아스키 코드로 50\n",
    "```"
   ]
  },
  {
   "cell_type": "markdown",
   "metadata": {},
   "source": [
    "#### 아스키 코드 전체"
   ]
  },
  {
   "cell_type": "markdown",
   "metadata": {},
   "source": [
    "* 전체 아스키 코드와 간단한 역사는\n",
    "    [위키피디아: 아스키 코드](https://ko.wikipedia.org/wiki/ASCII)\n",
    "    에서 확인 가능."
   ]
  },
  {
   "cell_type": "markdown",
   "metadata": {
    "slideshow": {
     "slide_type": "slide"
    }
   },
   "source": [
    "---\n",
    "\n",
    "### Python 구현"
   ]
  },
  {
   "cell_type": "markdown",
   "metadata": {},
   "source": [
    "#### 파이썬과 아스키 코드"
   ]
  },
  {
   "cell_type": "markdown",
   "metadata": {},
   "source": [
    "* 아스키 코드 문자 사이의 대응관계는 C 언어의 경우와 동일함. "
   ]
  },
  {
   "cell_type": "markdown",
   "metadata": {},
   "source": [
    "* 하지만 관계를 확인하려면 `ord()` 함수와 `chr()` 함수를 활용해야 함."
   ]
  },
  {
   "cell_type": "markdown",
   "metadata": {},
   "source": [
    "* `ord()` 함수: 문자를 아스키 코드 숫자로 변환"
   ]
  },
  {
   "cell_type": "code",
   "execution_count": 13,
   "metadata": {},
   "outputs": [
    {
     "name": "stdout",
     "output_type": "stream",
     "text": [
      "97\n",
      "98\n",
      "99\n"
     ]
    }
   ],
   "source": [
    "for item in ['a', 'b', 'c']:\n",
    "    print(ord(item))"
   ]
  },
  {
   "cell_type": "code",
   "execution_count": 14,
   "metadata": {},
   "outputs": [
    {
     "name": "stdout",
     "output_type": "stream",
     "text": [
      "65\n",
      "66\n",
      "67\n"
     ]
    }
   ],
   "source": [
    "for item in ['A', 'B', 'C']:\n",
    "    print(ord(item))"
   ]
  },
  {
   "cell_type": "code",
   "execution_count": 15,
   "metadata": {},
   "outputs": [
    {
     "name": "stdout",
     "output_type": "stream",
     "text": [
      "48\n",
      "49\n",
      "50\n"
     ]
    }
   ],
   "source": [
    "for item in ['0', '1', '2']:\n",
    "    print(ord(item))"
   ]
  },
  {
   "cell_type": "markdown",
   "metadata": {},
   "source": [
    "* 널문자의 아스키 코드 번호는 0."
   ]
  },
  {
   "cell_type": "code",
   "execution_count": 16,
   "metadata": {},
   "outputs": [
    {
     "name": "stdout",
     "output_type": "stream",
     "text": [
      "0\n"
     ]
    }
   ],
   "source": [
    "print(ord('\\0'))"
   ]
  },
  {
   "cell_type": "markdown",
   "metadata": {},
   "source": [
    "* `chr()` 함수는 아스키 코드를 해당 문자로 변환함."
   ]
  },
  {
   "cell_type": "code",
   "execution_count": 17,
   "metadata": {},
   "outputs": [
    {
     "name": "stdout",
     "output_type": "stream",
     "text": [
      "a\n",
      "b\n",
      "c\n"
     ]
    }
   ],
   "source": [
    "for num in range(97, 100):\n",
    "    print(chr(num))"
   ]
  },
  {
   "cell_type": "code",
   "execution_count": 18,
   "metadata": {},
   "outputs": [
    {
     "name": "stdout",
     "output_type": "stream",
     "text": [
      "A\n",
      "B\n",
      "C\n"
     ]
    }
   ],
   "source": [
    "for num in range(65, 68):\n",
    "    print(chr(num))"
   ]
  },
  {
   "cell_type": "code",
   "execution_count": 19,
   "metadata": {},
   "outputs": [
    {
     "name": "stdout",
     "output_type": "stream",
     "text": [
      "0\n",
      "1\n",
      "2\n"
     ]
    }
   ],
   "source": [
    "for num in range(48,51):\n",
    "    print(chr(num))"
   ]
  },
  {
   "cell_type": "markdown",
   "metadata": {},
   "source": [
    "* 널문자 표기"
   ]
  },
  {
   "cell_type": "code",
   "execution_count": 20,
   "metadata": {},
   "outputs": [
    {
     "data": {
      "text/plain": [
       "'\\x00'"
      ]
     },
     "execution_count": 20,
     "metadata": {},
     "output_type": "execute_result"
    }
   ],
   "source": [
    "chr(0)"
   ]
  },
  {
   "cell_type": "markdown",
   "metadata": {},
   "source": [
    "#### 유니코드"
   ]
  },
  {
   "cell_type": "markdown",
   "metadata": {},
   "source": [
    "* `chr()`과 `ord()` 함수는 실제로는 아스키 코드를 확장한 유니코드도 지원함.\n",
    "* 따라서 한글도 지원함."
   ]
  },
  {
   "cell_type": "code",
   "execution_count": 21,
   "metadata": {},
   "outputs": [
    {
     "data": {
      "text/plain": [
       "12593"
      ]
     },
     "execution_count": 21,
     "metadata": {},
     "output_type": "execute_result"
    }
   ],
   "source": [
    "ord('ㄱ')"
   ]
  },
  {
   "cell_type": "code",
   "execution_count": 22,
   "metadata": {},
   "outputs": [
    {
     "data": {
      "text/plain": [
       "50028"
      ]
     },
     "execution_count": 22,
     "metadata": {},
     "output_type": "execute_result"
    }
   ],
   "source": [
    "ord('썬')"
   ]
  },
  {
   "cell_type": "code",
   "execution_count": 23,
   "metadata": {},
   "outputs": [
    {
     "data": {
      "text/plain": [
       "'ㄱ'"
      ]
     },
     "execution_count": 23,
     "metadata": {},
     "output_type": "execute_result"
    }
   ],
   "source": [
    "chr(12593)"
   ]
  },
  {
   "cell_type": "code",
   "execution_count": 24,
   "metadata": {},
   "outputs": [
    {
     "data": {
      "text/plain": [
       "'썬'"
      ]
     },
     "execution_count": 24,
     "metadata": {},
     "output_type": "execute_result"
    }
   ],
   "source": [
    "chr(50028)"
   ]
  },
  {
   "cell_type": "markdown",
   "metadata": {},
   "source": [
    "* 아스키코드, 유니코드, utf8 등에 대한 간단한 설명은 \n",
    "    [초보몽키: 강의노트 06. ASCII, UNICODE, utf8](https://wayhome25.github.io/cs/2017/04/05/cs-06/) 참조"
   ]
  },
  {
   "cell_type": "markdown",
   "metadata": {},
   "source": [
    "---"
   ]
  },
  {
   "cell_type": "markdown",
   "metadata": {
    "slideshow": {
     "slide_type": "slide"
    }
   },
   "source": [
    "## (C 언어) 프로젝트"
   ]
  },
  {
   "cell_type": "markdown",
   "metadata": {
    "slideshow": {
     "slide_type": "fragment"
    }
   },
   "source": [
    "* 동영상: [(나도코딩 C) 6-7 프로젝트](https://www.youtube.com/watch?v=W1b7YhFjc70&list=PLMsa_0kAjjrdiwQykI8eb3H4IRxLTqCnP&index=43)"
   ]
  },
  {
   "cell_type": "markdown",
   "metadata": {},
   "source": [
    "* 아빠는 대머리 게임: 발모제 찾기 게임"
   ]
  },
  {
   "cell_type": "markdown",
   "metadata": {},
   "source": [
    "---\n",
    "```c\n",
    "#include <stdio.h>\n",
    "#include <stdlib.h>\n",
    "#include <time.h>\n",
    "\n",
    "// 아빠는 대머리 게임: 발모제 찾기\n",
    "\n",
    "int main()\n",
    "{\n",
    "\tsrand(time(NULL));\n",
    "\t\n",
    "\tprintf(\"\\n\\n === 아빠는 대머리 게임 === \\n\\n\");\n",
    "\n",
    "\tint answer; // 사용자 입력값\n",
    "\tint treatment = rand() % 4; // 네 개의 발모제 중 산택 (0 - 3)\n",
    "\n",
    "\t// 무작위로 보여줄 병 개수 지정. \n",
    "\t// 정답률을 향상시키기 위해 병의 수를 2개 또는 3개로 번갈아 가면서 지정\n",
    "\n",
    "\tint cntShowBottle = 0; // 이번 게임에 보여줄 병 개수\n",
    "\tint prevCntShowBottle = 0; // 앞 게임에 보여준 병 개수\n",
    "\n",
    "    // 게임 세팅하기\n",
    "    \n",
    "\t// 발모제에 대한 정보를 3번 전달함.\n",
    "\n",
    "\tfor (int i=1; i <= 3; i++)\n",
    "\t{\n",
    "        // 보여줄 병의 개수를 2개 또는 3개로 번갈아 임의로 선택\n",
    "\t\tint bottle[4] = {0, 0, 0, 0}; // 병 4개\n",
    "\t\tdo {\n",
    "\t\t\tcntShowBottle = rand() % 2 + 2; // 보여줄 병 개수는 2-3개\n",
    "\t\t} while (cntShowBottle == prevCntShowBottle); \n",
    "\n",
    "\t\tprevCntShowBottle = cntShowBottle;\n",
    "\n",
    "        // 선택된 병의 개수만큼 병 선택\n",
    "\n",
    "        // 발모제 포함여부에 따라 약의 효과여부 전달\n",
    "\t\tint isincluded = 0;\n",
    "\n",
    "        // 몇 번째 정보인지 알려줌.\n",
    "\t\tprintf(\" > %d 번째 시도: \", i);\n",
    "\n",
    "\t\t// 보여줄 병 종류 선택\n",
    "\t\tfor (int j = 0; j < cntShowBottle; j++)\n",
    "\t\t{\n",
    "\t\t\tint randBottle = rand() % 4; // 0 - 3\n",
    "\n",
    "\t\t\t// 아직 선택되지 않은 병인 경우만 선택\n",
    "\t\t\tif (bottle[randBottle] == 0)\n",
    "\t\t\t{\n",
    "\t\t\t\tbottle[randBottle] = 1;\n",
    "\n",
    "\t\t\t\tif (randBottle == treatment)\n",
    "\t\t\t\t{\n",
    "\t\t\t\t\tisincluded = 1;  // 포함된 것 기억\n",
    "\t\t\t\t}\n",
    "\t\t\t}\n",
    "\t\t\telse  // 이미 선택된 병인 경우 j값을 늘리지 않고 다시 선택하기 위해\n",
    "\t\t\t{\n",
    "\t\t\t\tj--;\n",
    "\t\t\t}\n",
    "\t\t}\n",
    "\n",
    "\t\t// 사용자에게 준비된 3개의 물병조합 보여주기\n",
    "\t\tfor (int k = 0; k < 4; k++)\n",
    "\t\t{\n",
    "\t\t\tif (bottle[k] == 1)\n",
    "\t\t\t{\n",
    "\t\t\t\tprintf(\"%d \", k+1); \n",
    "\t\t\t}\n",
    "\t\t}\n",
    "\t\tprintf(\" 물약을 머리에 바릅니다.\\n\\n\");\n",
    "\n",
    "\t\tif (isincluded == 1)\n",
    "\t\t{\n",
    "\t\t\tprintf(\" >> 성공 ! 머리가 났어요 !!\\n\");\n",
    "\t\t}\n",
    "\t\telse\n",
    "\t\t{\n",
    "\t\t\tprintf(\" >> 실패 ! 머리가 나지 않었어요.. ㅠㅠ\\n\");\n",
    "\t\t}\n",
    "\n",
    "\t\tprintf(\"\\n ... 계속 하려면 아무 키나 누르세요 ...\\n\");\n",
    "\t\tgetchar();  //임의의 값을 입력할 때까지 대기하는 용도로 사용\n",
    "\t}\n",
    "\n",
    "\tprintf(\"\\n\\n 발모제는 몇 번일까요? \");\n",
    "\tscanf(\"%d\", &answer);\n",
    "\n",
    "\tif (answer == treatment + 1)\n",
    "\t{\n",
    "\t\tprintf(\"\\n >> 정답입니다!\\n\");\n",
    "\t}\n",
    "\telse\n",
    "\t{\n",
    "\t\tprintf(\"\\n >> 땡! 틀렸어요. 정답은 %d 입니다.\\n\", treatment + 1);\n",
    "\t}\n",
    "    return 0;\n",
    "}\n",
    "```"
   ]
  },
  {
   "cell_type": "markdown",
   "metadata": {},
   "source": [
    "### 함수 활용하기"
   ]
  },
  {
   "cell_type": "markdown",
   "metadata": {},
   "source": [
    "* 위와 같이 `main` 함수에 모든 코드를 작성하면 코드의 전체 구조를 살펴보기 매우 어려움.\n",
    "* 함수를 사용하여 코드의 구조를 명확하게 드러나게 할 수 있음."
   ]
  },
  {
   "cell_type": "markdown",
   "metadata": {},
   "source": [
    "#### 예제"
   ]
  },
  {
   "cell_type": "markdown",
   "metadata": {},
   "source": [
    "* 아래 코드는 게임세팅을 위한 부분을 `game_setting()` 함수로 분리하여 활용함."
   ]
  },
  {
   "cell_type": "markdown",
   "metadata": {},
   "source": [
    "```c\n",
    "#include <stdio.h>\n",
    "#include <stdlib.h>\n",
    "#include <time.h>\n",
    "\n",
    "// 아빠는 대머리 게임: 발모제 찾기\n",
    "\n",
    "// 게임세팅을 위한 함수\n",
    "void game_setting(int treatment);\n",
    "\n",
    "int main()\n",
    "{\n",
    "\tsrand(time(NULL));\n",
    "\t\n",
    "\tprintf(\"\\n\\n === 아빠는 대머리 게임 === \\n\\n\");\n",
    "\n",
    "\tint answer; // 사용자 입력값\n",
    "\tint treatment = rand() % 4; // 네 개의 발모제 중 산택 (0 - 3)\n",
    "\n",
    "\tgame_setting(treatment);\n",
    "\n",
    "\tprintf(\"\\n\\n 발모제는 몇 번일까요? \");\n",
    "\tscanf(\"%d\", &answer);\n",
    "\n",
    "\tif (answer == treatment + 1)\n",
    "\t{\n",
    "\t\tprintf(\"\\n >> 정답입니다!\\n\");\n",
    "\t}\n",
    "\telse\n",
    "\t{\n",
    "\t\tprintf(\"\\n >> 땡! 틀렸어요. 정답은 %d 입니다.\\n\", treatment + 1);\n",
    "\t}\n",
    "    return 0;\n",
    "}\n",
    "\n",
    "void game_setting(int treatment)\n",
    "{\n",
    "\t// 무작위로 보여줄 병 개수 지정. \n",
    "\t// 정답률을 향상시키기 위해 병의 수를 2개 또는 3개로 번갈아 가면서 지정\n",
    "\n",
    "\tint cntShowBottle = 0; // 이번 게임에 보여줄 병 개수\n",
    "\tint prevCntShowBottle = 0; // 앞 게임에 보여준 병 개수\n",
    "\n",
    "    // 게임 세팅하기\n",
    "    \n",
    "\t// 발모제에 대한 정보를 3번 전달함.\n",
    "\tfor (int i=1; i <= 3; i++)\n",
    "\t{\n",
    "        // ***보여줄 병의 개수를 2개 또는 3개로 번갈아 임의로 선택***\n",
    "        \n",
    "        // 4개의 물병준비\n",
    "        // 인덱스에 해당하는 물병의 사용여부 저장\n",
    "\t\tint bottle[4] = {0, 0, 0, 0}; // 병 4개\n",
    "\t\tdo {\n",
    "\t\t\tcntShowBottle = rand() % 2 + 2; // 보여줄 병 개수는 2-3개\n",
    "\t\t} while (cntShowBottle == prevCntShowBottle); \n",
    "\n",
    "\t\tprevCntShowBottle = cntShowBottle;\n",
    "\n",
    "        // ***선택된 병의 개수만큼 병 선택***\n",
    "\n",
    "        // 발모제 포함여부에 따라 약의 효과여부 전달\n",
    "\t\tint isincluded = 0; // 보여줄 병들에 발모제 포함 여부\n",
    "    \n",
    "        // 몇 번째 정보인지 알려줌.\n",
    "\t\tprintf(\" > %d 번째 시도: \", i);\n",
    "\n",
    "\t\t// 보여줄 물병 종류 선택\n",
    "\t\tfor (int j = 0; j < cntShowBottle; j++)\n",
    "\t\t{\n",
    "\t\t\tint randBottle = rand() % 4; // 0 - 3\n",
    "\n",
    "\t\t\t// 아직 선택되지 않은 물병만 선택\n",
    "\t\t\tif (bottle[randBottle] == 0)\n",
    "\t\t\t{\n",
    "\t\t\t\tbottle[randBottle] = 1;\n",
    "\n",
    "\t\t\t\tif (randBottle == treatment)\n",
    "\t\t\t\t{\n",
    "\t\t\t\t\tisincluded = 1;  // 포함된 것 기억\n",
    "\t\t\t\t}\n",
    "\t\t\t}\n",
    "\t\t\telse  // 이미 선택된 병인 경우 j값을 늘리지 않고 다시 선택하기 위해\n",
    "\t\t\t{\n",
    "\t\t\t\tj--;\n",
    "\t\t\t}\n",
    "\t\t}\n",
    "\n",
    "\t\t// ***사용자에게 준비된 3개의 물병조합 보여주기***\n",
    "\t\tfor (int k = 0; k < 4; k++)\n",
    "\t\t{\n",
    "\t\t\tif (bottle[k] == 1)\n",
    "\t\t\t{\n",
    "\t\t\t\tprintf(\"%d \", k+1); \n",
    "\t\t\t}\n",
    "\t\t}\n",
    "\t\tprintf(\" 물약을 머리에 바릅니다.\\n\\n\");\n",
    "\n",
    "\t\tif (isincluded == 1)\n",
    "\t\t{\n",
    "\t\t\tprintf(\" >> 성공 ! 머리가 났어요 !!\\n\");\n",
    "\t\t}\n",
    "\t\telse\n",
    "\t\t{\n",
    "\t\t\tprintf(\" >> 실패 ! 머리가 나지 않었어요.. ㅠㅠ\\n\");\n",
    "\t\t}\n",
    "\n",
    "\t\tprintf(\"\\n ... 계속 하려면 아무 키나 누르세요 ...\\n\");\n",
    "\t\tgetchar();  //임의의 값을 입력할 때까지 대기하는 용도로 사용\n",
    "\t}\n",
    "}\n",
    "```"
   ]
  },
  {
   "cell_type": "markdown",
   "metadata": {
    "slideshow": {
     "slide_type": "slide"
    }
   },
   "source": [
    "---\n",
    "\n",
    "### Python 구현"
   ]
  },
  {
   "cell_type": "markdown",
   "metadata": {},
   "source": [
    "* C 언어 코드를 거의 그대로 변환할 수 있음.\n",
    "\n",
    "* 주의사항 1: 파이썬은 `do ... while ...` 반복문을 지원하지 않음. \n",
    "    * 하지만 아래 형식 사용 가능\n",
    "    \n",
    "    ```python\n",
    "    while True\n",
    "        명령문\n",
    "        if not 조건식:\n",
    "            break\n",
    "    ```\n",
    "    \n",
    "    * 위 파이썬 코드는 아래 C 코드와 동일한 기능 수행\n",
    "    \n",
    "    ```c\n",
    "    do\n",
    "    {\n",
    "        명령문\n",
    "    } while 조건식;\n",
    "    ```\n",
    "\n",
    "* 주의사항 2: 파이썬의 `for` 문은 인덱스를 뒤로 돌릴 수 없음에 주의.\n",
    "    * 그런 기능이 필요할 경우 `while` 반복문 사용할 것.    "
   ]
  },
  {
   "cell_type": "markdown",
   "metadata": {},
   "source": [
    "#### 무작위로 생성하기 위한 환경설정"
   ]
  },
  {
   "cell_type": "code",
   "execution_count": 25,
   "metadata": {},
   "outputs": [],
   "source": [
    "import random \n",
    "import time\n",
    "\n",
    "# 현재 시간에 맞추어 무작위로 정수 생성 가능\n",
    "\n",
    "# time 함수: 1970.01.01 이후 흐른 시간(ns 단위)\n",
    "current_time = int(time.time())\n",
    "# 현재 시간 기준으로 무작위수 생성 지정\n",
    "random.seed(current_time)"
   ]
  },
  {
   "cell_type": "markdown",
   "metadata": {},
   "source": [
    "#### 게임 세팅 함수 구현"
   ]
  },
  {
   "cell_type": "markdown",
   "metadata": {},
   "source": [
    "* `random.randint(a, b)`는 `a`에서 `b`까지의 수 중에서 임의로 수를 선택하여 반환함."
   ]
  },
  {
   "cell_type": "code",
   "execution_count": 26,
   "metadata": {},
   "outputs": [],
   "source": [
    "# 게임세팅을 위한 함수\n",
    "\n",
    "def game_setting(treatment):\n",
    "    # 무작위로 보여줄 병 개수 지정. \n",
    "    # 정답률을 향상시키기 위해 병의 수를 2개 또는 3개로 번갈아 가면서 지정\n",
    "\n",
    "    cntShowBottle = 0 # 이번 게임에 보여줄 병 개수\n",
    "    prevCntShowBottle = 0 # 앞 게임에 보여준 병 개수\n",
    "\n",
    "    # 발모제에 대한 정보를 3번 전달함.\n",
    "    for i in range(1, 4):\n",
    "        ### 보여줄 병의 개수를 2개 또는 3개로 번갈아 임의로 선택\n",
    "        # 4개의 물병준비\n",
    "        # 인덱스에 해당하는 물병의 사용여부 저장\n",
    "        bottle = [0, 0, 0, 0]\n",
    "\n",
    "        # do ... while ... 문을 파이썬으로 구현하기\n",
    "        while True:\n",
    "            cntShowBottle = random.randint(0,1) + 2 # 보여줄 병 개수는 2-3개\n",
    "            if cntShowBottle != prevCntShowBottle:\n",
    "                break\n",
    "\n",
    "        prevCntShowBottle = cntShowBottle\n",
    "\n",
    "        ### 선택된 병의 개수만큼 병 선택\n",
    "\n",
    "        # 발모제 포함여부에 따라 약의 효과여부 전달\n",
    "        isincluded = 0 # 보여줄 병들에 발모제 포함 여부\n",
    "\n",
    "        # 몇 번째 정보인지 알려줌.\n",
    "        print(f\" > {i} 번째 시도: \", end=' ')\n",
    "\n",
    "        # 보여줄 병 종류 선택\n",
    "        # 주의: 파이썬의 for 반복문은 사용되는 인덱스를 임의로 조정할 수 없음.\n",
    "        # 따라서 while 반복문으로 대체함.\n",
    "        \n",
    "        j = 0\n",
    "        while j < cntShowBottle:\n",
    "            randBottle = random.randint(0,3)\n",
    "\n",
    "            # 아직 선택되지 않은 물병만 선택\n",
    "            if (bottle[randBottle] == 0):\n",
    "                bottle[randBottle] = 1\n",
    "\n",
    "                if (randBottle == treatment):\n",
    "                    isincluded = 1  # 포함된 것 기억\n",
    "\n",
    "                j += 1\n",
    "        \n",
    "        ### 사용자에게 준비된 3개의 물병조합 보여주기\n",
    "        for k in range(0, 4):\n",
    "            if (bottle[k] == 1):\n",
    "                print(k+1, end=' ') \n",
    "        print(\" 물약을 머리에 바릅니다.n\")\n",
    "\n",
    "        if (isincluded == 1):\n",
    "            print(\" >> 성공 ! 머리가 났어요 !!\")\n",
    "        else:\n",
    "            print(\" >> 실패 ! 머리가 나지 않었어요.. ㅠㅠ\")\n",
    "\n",
    "        input(\"\\n ... 계속 하려면 아무 키나 누르세요 ...\")"
   ]
  },
  {
   "cell_type": "markdown",
   "metadata": {},
   "source": [
    "* 게임준비가 제대로 되는지 확인 가능."
   ]
  },
  {
   "cell_type": "code",
   "execution_count": 27,
   "metadata": {},
   "outputs": [
    {
     "name": "stdout",
     "output_type": "stream",
     "text": [
      " > 1 번째 시도:  2 4  물약을 머리에 바릅니다.n\n",
      " >> 실패 ! 머리가 나지 않었어요.. ㅠㅠ\n",
      "\n",
      " ... 계속 하려면 아무 키나 누르세요 ...\n",
      " > 2 번째 시도:  1 3 4  물약을 머리에 바릅니다.n\n",
      " >> 성공 ! 머리가 났어요 !!\n",
      "\n",
      " ... 계속 하려면 아무 키나 누르세요 ...\n",
      " > 3 번째 시도:  1 3  물약을 머리에 바릅니다.n\n",
      " >> 성공 ! 머리가 났어요 !!\n",
      "\n",
      " ... 계속 하려면 아무 키나 누르세요 ...\n"
     ]
    }
   ],
   "source": [
    "treatment = 2\n",
    "\n",
    "game_setting(treatment)"
   ]
  },
  {
   "cell_type": "markdown",
   "metadata": {},
   "source": [
    "#### `main()` 함수 부분 구현"
   ]
  },
  {
   "cell_type": "code",
   "execution_count": 28,
   "metadata": {},
   "outputs": [
    {
     "name": "stdout",
     "output_type": "stream",
     "text": [
      "\n",
      " === 아빠는 대머리 게임 === \n",
      "\n",
      " > 1 번째 시도:  1 2 3  물약을 머리에 바릅니다.n\n",
      " >> 성공 ! 머리가 났어요 !!\n",
      "\n",
      " ... 계속 하려면 아무 키나 누르세요 ...\n",
      " > 2 번째 시도:  1 4  물약을 머리에 바릅니다.n\n",
      " >> 성공 ! 머리가 났어요 !!\n",
      "\n",
      " ... 계속 하려면 아무 키나 누르세요 ...\n",
      " > 3 번째 시도:  1 2 4  물약을 머리에 바릅니다.n\n",
      " >> 성공 ! 머리가 났어요 !!\n",
      "\n",
      " ... 계속 하려면 아무 키나 누르세요 ...\n",
      "\n",
      "\n",
      " 발모제는 몇 번일까요? 2\n",
      "\n",
      " >> 땡! 틀렸어요. 정답은 %d 입니다. 1\n"
     ]
    }
   ],
   "source": [
    "# 아빠는 대머리 게임: 발모제 찾기\n",
    "\n",
    "print(\"\\n === 아빠는 대머리 게임 === \\n\")\n",
    "\n",
    "# 4개의 물약 중에 효과 있는 발모제 임의 지정\n",
    "treatment = random.randint(0,3)\n",
    "\n",
    "# 게임 준비\n",
    "game_setting(treatment)\n",
    "\n",
    "# 사용자로부터 발모제 선택 입력값 받기\n",
    "answer = int(input(\"\\n\\n 발모제는 몇 번일까요? \"))\n",
    "\n",
    "if (answer == treatment + 1):\n",
    "    print(\"\\n >> 정답입니다!\")\n",
    "else:\n",
    "    print(\"\\n >> 땡! 틀렸어요. 정답은 %d 입니다.\", treatment + 1)"
   ]
  },
  {
   "cell_type": "markdown",
   "metadata": {},
   "source": [
    "---"
   ]
  },
  {
   "cell_type": "markdown",
   "metadata": {},
   "source": [
    "## 연습문제"
   ]
  },
  {
   "cell_type": "markdown",
   "metadata": {},
   "source": [
    "1. \"아빠는 대머리 게임: 발모제 찾기\" 코드에서 사용된 `game_setting()` 함수의 본체가 매우 길지만,\n",
    "    서로 독립적인 기능으로 구분될 수 있어 보인다. \n",
    "    독립적인 기능을 수행하는 부분을 함수로 선언하여 `game_setting()` 함수의 본체를,\n",
    "    더 나아가 게임 코드 전체를 기능별로 체계화된 코드로 수정하라."
   ]
  }
 ],
 "metadata": {
  "kernelspec": {
   "display_name": "Python 3",
   "language": "python",
   "name": "python3"
  },
  "language_info": {
   "codemirror_mode": {
    "name": "ipython",
    "version": 3
   },
   "file_extension": ".py",
   "mimetype": "text/x-python",
   "name": "python",
   "nbconvert_exporter": "python",
   "pygments_lexer": "ipython3",
   "version": "3.8.3"
  }
 },
 "nbformat": 4,
 "nbformat_minor": 4
}
