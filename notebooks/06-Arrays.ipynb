{
 "cells": [
  {
   "cell_type": "markdown",
   "metadata": {
    "slideshow": {
     "slide_type": "slide"
    }
   },
   "source": [
    "# 6장 배열"
   ]
  },
  {
   "cell_type": "markdown",
   "metadata": {},
   "source": [
    "## 핵심\n",
    "\n",
    "* 배열 개념 및 정의\n",
    "* 문자열 활용"
   ]
  },
  {
   "cell_type": "markdown",
   "metadata": {
    "slideshow": {
     "slide_type": "slide"
    }
   },
   "source": [
    "## (C 언어) 아빠는 대머리"
   ]
  },
  {
   "cell_type": "markdown",
   "metadata": {
    "slideshow": {
     "slide_type": "fragment"
    }
   },
   "source": [
    "* 동영상: [(나도코딩 C) 6-1 아빠는 대머리](https://www.youtube.com/watch?v=5VIDqDdKDsw&list=PLMsa_0kAjjrdiwQykI8eb3H4IRxLTqCnP&index=37&ab_channel=%EB%82%98%EB%8F%84%EC%BD%94%EB%94%A9)"
   ]
  },
  {
   "cell_type": "markdown",
   "metadata": {},
   "source": [
    "### 게임 설명"
   ]
  },
  {
   "cell_type": "markdown",
   "metadata": {},
   "source": [
    "* 발모제의 조합을 테스트하면서 효과있는 발모제 찾기"
   ]
  },
  {
   "cell_type": "markdown",
   "metadata": {},
   "source": [
    "---"
   ]
  },
  {
   "cell_type": "markdown",
   "metadata": {
    "slideshow": {
     "slide_type": "slide"
    }
   },
   "source": [
    "## (C 언어) 배열 기초"
   ]
  },
  {
   "cell_type": "markdown",
   "metadata": {
    "slideshow": {
     "slide_type": "fragment"
    }
   },
   "source": [
    "* 동영상: [(나도코딩 C) 6-2 계산기](https://www.youtube.com/watch?v=pr0r_dZht0g&list=PLMsa_0kAjjrdiwQykI8eb3H4IRxLTqCnP&index=38&ab_channel=%EB%82%98%EB%8F%84%EC%BD%94%EB%94%A9)"
   ]
  },
  {
   "cell_type": "markdown",
   "metadata": {},
   "source": [
    "* 여러 개의 값을 여러 개의 변수에 저장해서 활용할 수 있지만 비효율적임."
   ]
  },
  {
   "cell_type": "markdown",
   "metadata": {},
   "source": [
    "---\n",
    "```c\n",
    "#include <stdio.h>\n",
    " \n",
    "int main()\n",
    "{\n",
    "    // 배열\n",
    "    int subway_1 = 30; // 지하철 1호차에 30명이 타고 있다.\n",
    "    int subway_2 = 40; // 지하철 1호차에 40명이 타고 있다.\n",
    "    int subway_3 = 50; // 지하철 1호차에 50명이 타고 있다.\n",
    "\n",
    "    printf(\"지하철 1호차에 %d 명이 타고 있습니다.\\n\", subway_1);\n",
    "    printf(\"지하철 2호차에 %d 명이 타고 있습니다.\\n\", subway_2);\n",
    "    printf(\"지하철 3호차에 %d 명이 타고 있습니다.\\n\", subway_3);\n",
    "\n",
    "    return 0;\n",
    "}\n",
    "```"
   ]
  },
  {
   "cell_type": "markdown",
   "metadata": {},
   "source": [
    "* 여러 개의 값을 하나의 어레이에 저장하여 동시에 활용할 수 있음.\n",
    "* 인덱스가 0부터 시작함에 주의할 것."
   ]
  },
  {
   "cell_type": "markdown",
   "metadata": {},
   "source": [
    "---\n",
    "```c\n",
    "#include <stdio.h>\n",
    " \n",
    "int main()\n",
    "{\n",
    "    // 여러 개의 변수를 함께, 동시에 생성\n",
    "    int subway_array[3];\n",
    "    \n",
    "    subway_array[0] = 30;\n",
    "    subway_array[1] = 40;\n",
    "    subway_array[2] = 50;\n",
    "    \n",
    "    for (int i = 0; i < 3; i++)\n",
    "    {\n",
    "        printf(\"지하철 %d호차에 %d 명이 타고 있습니다.\\n\", i+1, subway_array[i]);\n",
    "    }\n",
    "\n",
    "    return 0;\n",
    "}\n",
    "```"
   ]
  },
  {
   "cell_type": "markdown",
   "metadata": {
    "slideshow": {
     "slide_type": "slide"
    }
   },
   "source": [
    "---\n",
    "\n",
    "### Python 구현"
   ]
  },
  {
   "cell_type": "code",
   "execution_count": null,
   "metadata": {},
   "outputs": [],
   "source": []
  },
  {
   "cell_type": "markdown",
   "metadata": {},
   "source": [
    "---"
   ]
  },
  {
   "cell_type": "markdown",
   "metadata": {
    "slideshow": {
     "slide_type": "slide"
    }
   },
   "source": [
    "## (C 언어) 어레이 항목 값 설정"
   ]
  },
  {
   "cell_type": "markdown",
   "metadata": {
    "slideshow": {
     "slide_type": "fragment"
    }
   },
   "source": [
    "* 동영상: [(나도코딩 C) 6-3 값 설정](https://www.youtube.com/watch?v=6B-Vu7Ox7zQ&list=PLMsa_0kAjjrdiwQykI8eb3H4IRxLTqCnP&index=39&ab_channel=%EB%82%98%EB%8F%84%EC%BD%94%EB%94%A9)"
   ]
  },
  {
   "cell_type": "markdown",
   "metadata": {},
   "source": [
    "* 어레이를 선언할 때 항목값을 함께 설정 가능"
   ]
  },
  {
   "cell_type": "markdown",
   "metadata": {},
   "source": [
    "---\n",
    "```c\n",
    "#include <stdio.h>\n",
    " \n",
    "int main()\n",
    "{\n",
    "    // 어레이 항목값 설정 방법\n",
    "\n",
    "\tint arr[10] = {1, 2, 3, 4, 5, 6, 7, 8, 9, 10}; \n",
    "\n",
    "\tfor (int i=0; i<10; i++)\n",
    "\t{\n",
    "\t\tprintf(\"%d\\n\", arr[i]);\n",
    "\t}\n",
    "\n",
    "    return 0;\n",
    "}\n",
    "```"
   ]
  },
  {
   "cell_type": "markdown",
   "metadata": {},
   "source": [
    "* 하지만 어레이를 선언만 하면 항목값이 임의로 초기화됨에 주의할 것."
   ]
  },
  {
   "cell_type": "markdown",
   "metadata": {},
   "source": [
    "---\n",
    "```c\n",
    "#include <stdio.h>\n",
    " \n",
    "int main()\n",
    "{\n",
    "    // 어레이 항목값 설정 방법\n",
    "\n",
    "\tint arr[10];\n",
    "    \n",
    "    // 아래 코드를 실행하면 엉뚱한 값들이 확인됨.\n",
    "\n",
    "\tfor (int i=0; i<10; i++)\n",
    "\t{\n",
    "\t\tprintf(\"%d\\n\", arr[i]);\n",
    "\t}\n",
    "\n",
    "    return 0;\n",
    "}\n",
    "```"
   ]
  },
  {
   "cell_type": "markdown",
   "metadata": {},
   "source": [
    "* 아래와 같이 소위 더미(dummy)값이라는 쓰레기값이 임의로 지정됨에 주의할 것.\n",
    "    * 시스템마다 다를 수 있음.\n",
    "    * 따라서 항상 함께 항목값을 직접 지정한 후에 사용해야 함."
   ]
  },
  {
   "cell_type": "markdown",
   "metadata": {},
   "source": [
    "```c\n",
    "742975984\n",
    "32572\n",
    "0\n",
    "0\n",
    "4196848\n",
    "0\n",
    "4195712\n",
    "0\n",
    "-594061760\n",
    "32764\n",
    "```"
   ]
  },
  {
   "cell_type": "markdown",
   "metadata": {},
   "source": [
    "* 어레이의 길이에 변수 사용 불가\n",
    "    * 즉, 배열의 크기는 항상 상수로 선언해야 함."
   ]
  },
  {
   "cell_type": "markdown",
   "metadata": {},
   "source": [
    "```c\n",
    "// 배열 크기는 항상 상수로 선언해야 함.\n",
    "/* 아래 코드 사용 불가\n",
    "int size =10;\n",
    "int arr[size];\n",
    "*/\n",
    "\n",
    "int arr[10];\n",
    "```"
   ]
  },
  {
   "cell_type": "markdown",
   "metadata": {},
   "source": [
    "* 어레이 크기보다 적은 수의 항목만을 입력하면 나머지 항목의 값은 0으로 지정됨."
   ]
  },
  {
   "cell_type": "markdown",
   "metadata": {},
   "source": [
    "---\n",
    "```c\n",
    "#include <stdio.h>\n",
    " \n",
    "int main()\n",
    "{\n",
    "    // 어레이 항목값 설정 방법\n",
    "\n",
    "\tint arr[10] = {1, 2}; // 셋째 값부터는 모두 0으로 지정됨.\n",
    "    \n",
    "    // 아래 코드를 실행하면 엉뚱한 값들이 확인됨.\n",
    "\n",
    "\tfor (int i=0; i<10; i++)\n",
    "\t{\n",
    "\t\tprintf(\"%d\\n\", arr[i]);\n",
    "\t}\n",
    "\n",
    "    return 0;\n",
    "}\n",
    "```"
   ]
  },
  {
   "cell_type": "markdown",
   "metadata": {},
   "source": [
    "* 처음 두 개의 항목을 제외한 나머지 항목은 모두 0으로 초기화됨."
   ]
  },
  {
   "cell_type": "markdown",
   "metadata": {},
   "source": [
    "```c\n",
    "1\n",
    "2\n",
    "0\n",
    "0\n",
    "0\n",
    "0\n",
    "0\n",
    "0\n",
    "0\n",
    "0\n",
    "```"
   ]
  },
  {
   "cell_type": "markdown",
   "metadata": {},
   "source": [
    "* 부동소수점의 경우는 0.0으로 초기화됨."
   ]
  },
  {
   "cell_type": "markdown",
   "metadata": {},
   "source": [
    "```c\n",
    "#include <stdio.h>\n",
    " \n",
    "int main()\n",
    "{\n",
    "    // 어레이 항목값 설정 방법\n",
    "\n",
    "\tfloat arr_f[5]={1.0f, 2.0f, 3.0f}; \n",
    "\n",
    "\tfor (int i=0; i<5; i++)\n",
    "\t{\n",
    "\t\tprintf(\"%.2f\\n\", arr_f[i]);\n",
    "\t}\n",
    "\n",
    "    return 0;\n",
    "}\n",
    "```"
   ]
  },
  {
   "cell_type": "markdown",
   "metadata": {},
   "source": [
    "```c\n",
    "1.00\n",
    "2.00\n",
    "3.00\n",
    "0.00\n",
    "0.00\n",
    "```"
   ]
  },
  {
   "cell_type": "markdown",
   "metadata": {},
   "source": [
    "* 어레이 크기 미지정 선언 가능"
   ]
  },
  {
   "cell_type": "markdown",
   "metadata": {},
   "source": [
    "```c\n",
    "int arr[] = {1, 2} // arr[2]와 동일한 의미임\n",
    "```"
   ]
  },
  {
   "cell_type": "markdown",
   "metadata": {
    "slideshow": {
     "slide_type": "slide"
    }
   },
   "source": [
    "---\n",
    "\n",
    "### Python 구현"
   ]
  },
  {
   "cell_type": "code",
   "execution_count": null,
   "metadata": {},
   "outputs": [],
   "source": []
  },
  {
   "cell_type": "markdown",
   "metadata": {},
   "source": [
    "---"
   ]
  },
  {
   "cell_type": "markdown",
   "metadata": {
    "slideshow": {
     "slide_type": "slide"
    }
   },
   "source": [
    "## (C 언어) 문자와 문자열"
   ]
  },
  {
   "cell_type": "markdown",
   "metadata": {
    "slideshow": {
     "slide_type": "fragment"
    }
   },
   "source": [
    "* 동영상: [(나도코딩 C) 6-4 문자 vs 문자열](https://www.youtube.com/watch?v=CXi3CykWah8&list=PLMsa_0kAjjrdiwQykI8eb3H4IRxLTqCnP&index=40&ab_channel=%EB%82%98%EB%8F%84%EC%BD%94%EB%94%A9)"
   ]
  },
  {
   "cell_type": "markdown",
   "metadata": {},
   "source": [
    "* 문자와 문자열을 구분하여 사용\n",
    "* `char`: 문자 자료형. 하나의 문자만 포함. 작은 인용부호 사용.\n",
    "* 문자열: 문자로 이루어진 배열로 처리. \n",
    "    * 배열의 길이는 사용하는 문자열의 크기보다 1크게 선언해야 함."
   ]
  },
  {
   "cell_type": "markdown",
   "metadata": {},
   "source": [
    "---\n",
    "```c\n",
    "#include <stdio.h>\n",
    "\n",
    "// 문자 vs 문자열 \n",
    "\n",
    "int main()\n",
    "{\n",
    "\t// 문자\n",
    "\tchar c = 'A';\n",
    "\tprintf(\"%c\\n\", c);\n",
    "\n",
    "\t// 문자열 끝을 의미하는 NULL 문자인 '\\0'이 반드시 포함되어야 함.\n",
    "\t// 즉, 지정된 문자열의 크기보다 1크게 선언해야 함.\n",
    "\t// char str[6] = \"coding\"; \n",
    "\tchar str[7] = \"coding\"; \n",
    "\tprintf(\"%s\\n\", str);\n",
    "\n",
    "\t// 일반적으로 문자열의 길이를 지정하지 않게 선언함.\n",
    "\tchar str1[] = \"coding\";\n",
    "\tprintf(\"%s\\n\", str1);\n",
    "\n",
    "\t// 문자열의 크기에 1이 더해짐에 주의할 것\n",
    "\t// 문자열의 크기는 unsigned long 자료형을 갖는 정수값임.\n",
    "\tprintf(\"%d\\n\", sizeof(str1));\n",
    "\n",
    "    return 0;\n",
    "}\n",
    "```"
   ]
  },
  {
   "cell_type": "markdown",
   "metadata": {},
   "source": [
    "#### 문자열과 for 반복문"
   ]
  },
  {
   "cell_type": "markdown",
   "metadata": {},
   "source": [
    "* for 반복문과 인덱싱을 이용하여 문자열 항목 확인 가능."
   ]
  },
  {
   "cell_type": "markdown",
   "metadata": {},
   "source": [
    "```c\n",
    "#include <stdio.h>\n",
    "\n",
    "// 문자 vs 문자열 \n",
    "\n",
    "int main()\n",
    "{\n",
    "\tchar str[] = \"coding\";\n",
    "\n",
    "\tfor(int i=0; i<sizeof(str); i++)\n",
    "\t{\n",
    "\t\tprintf(\"%c\\n\", str[i]);\n",
    "\t}\n",
    "\n",
    "    return 0;\n",
    "}\n",
    "```"
   ]
  },
  {
   "cell_type": "markdown",
   "metadata": {},
   "source": [
    "* 주의: 마지막에 NULL 문자 또한 출력됨."
   ]
  },
  {
   "cell_type": "markdown",
   "metadata": {},
   "source": [
    "```c\n",
    "c\n",
    "o\n",
    "d\n",
    "i\n",
    "n\n",
    "g\n",
    "   (<== 빈칸이 이곳에 보여짐)\n",
    "```"
   ]
  },
  {
   "cell_type": "markdown",
   "metadata": {},
   "source": [
    "#### 한글 문자열 활용"
   ]
  },
  {
   "cell_type": "markdown",
   "metadata": {},
   "source": [
    "* 한글의 글자는 시스템에 따라 2-3 바이트 사용함.\n",
    "* 반면에 영어 알파벳은 1 바이트 활용"
   ]
  },
  {
   "cell_type": "markdown",
   "metadata": {},
   "source": [
    "```c\n",
    "#include <stdio.h>\n",
    "\n",
    "// 문자 vs 문자열 \n",
    "\n",
    "int main()\n",
    "{\n",
    "\tchar kor[] = \"나도코딩\";\n",
    "\tprintf(\"%s\\n\", kor);\n",
    "\tprintf(\"%lu\\n\", sizeof(kor));\n",
    "\t// 영어 1글자: 1 byte\n",
    "\t// 한글 1글자: 2-3 byte\n",
    "\t// char 크기: 1 byte\n",
    "    return 0;\n",
    "}\n",
    "```"
   ]
  },
  {
   "cell_type": "markdown",
   "metadata": {},
   "source": [
    "* 문자열 \"나도코딩\"의 크기는 $13 = 3 \\cdot 4 + 1$"
   ]
  },
  {
   "cell_type": "markdown",
   "metadata": {},
   "source": [
    "```c\n",
    "나도코딩\n",
    "13\n",
    "```"
   ]
  },
  {
   "cell_type": "markdown",
   "metadata": {
    "slideshow": {
     "slide_type": "slide"
    }
   },
   "source": [
    "---\n",
    "\n",
    "### Python 구현"
   ]
  },
  {
   "cell_type": "markdown",
   "metadata": {},
   "source": [
    "* 리스트를 기본 자료형으로 제공\n",
    "* Numpy(넘파이) 등의 패키지 등에서 유사하게 작동하는 어레이(array) 자료형 제공.\n",
    "* 리스트, 어레이의 크기는 `len` 함수로 확인 가능\n",
    "* 바이트 단위의 크기를 알고 싶을 때는 `sys` 모듈의 `getsizeof()` 함수 활용 가능\n",
    "    * 문자열 자료형의 `__sizeof__()` 메서드 호출함.\n",
    "    * 가비지컬렉션에 사용할 메모리 크기까지 포함하기에 별 의미 찾기 어려움."
   ]
  },
  {
   "cell_type": "code",
   "execution_count": 1,
   "metadata": {},
   "outputs": [],
   "source": [
    "from sys import getsizeof"
   ]
  },
  {
   "cell_type": "code",
   "execution_count": 2,
   "metadata": {},
   "outputs": [
    {
     "data": {
      "text/plain": [
       "76"
      ]
     },
     "execution_count": 2,
     "metadata": {},
     "output_type": "execute_result"
    }
   ],
   "source": [
    "getsizeof(\"나\")"
   ]
  },
  {
   "cell_type": "code",
   "execution_count": 3,
   "metadata": {},
   "outputs": [
    {
     "data": {
      "text/plain": [
       "76"
      ]
     },
     "execution_count": 3,
     "metadata": {},
     "output_type": "execute_result"
    }
   ],
   "source": [
    "\"나\".__sizeof__()"
   ]
  },
  {
   "cell_type": "code",
   "execution_count": 4,
   "metadata": {},
   "outputs": [
    {
     "data": {
      "text/plain": [
       "50"
      ]
     },
     "execution_count": 4,
     "metadata": {},
     "output_type": "execute_result"
    }
   ],
   "source": [
    "getsizeof(\"N\")"
   ]
  },
  {
   "cell_type": "code",
   "execution_count": 5,
   "metadata": {},
   "outputs": [
    {
     "data": {
      "text/plain": [
       "50"
      ]
     },
     "execution_count": 5,
     "metadata": {},
     "output_type": "execute_result"
    }
   ],
   "source": [
    "\"N\".__sizeof__()"
   ]
  },
  {
   "cell_type": "markdown",
   "metadata": {},
   "source": [
    "---"
   ]
  }
 ],
 "metadata": {
  "kernelspec": {
   "display_name": "Python 3",
   "language": "python",
   "name": "python3"
  },
  "language_info": {
   "codemirror_mode": {
    "name": "ipython",
    "version": 3
   },
   "file_extension": ".py",
   "mimetype": "text/x-python",
   "name": "python",
   "nbconvert_exporter": "python",
   "pygments_lexer": "ipython3",
   "version": "3.8.3"
  }
 },
 "nbformat": 4,
 "nbformat_minor": 4
}
