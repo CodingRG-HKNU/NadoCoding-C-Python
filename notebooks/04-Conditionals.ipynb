{
 "cells": [
  {
   "cell_type": "markdown",
   "metadata": {
    "slideshow": {
     "slide_type": "slide"
    }
   },
   "source": [
    "# 4장 조건문"
   ]
  },
  {
   "cell_type": "markdown",
   "metadata": {},
   "source": [
    "#### 감사의 글 \n",
    "\n",
    "유튜브 동영상 모음집 \n",
    "[(나도코딩 C)](https://www.youtube.com/watch?v=dEykoFZkf5Y&list=PLMsa_0kAjjrdiwQykI8eb3H4IRxLTqCnP)에서 \n",
    "설명하는 코드를 활용합니다. \n",
    "강의동영상을 공개한 \n",
    "[나도코딩](https://www.youtube.com/channel/UC7iAOLiALt2rtMVAWWl4pnw)님께 \n",
    "감사드립니다."
   ]
  },
  {
   "cell_type": "markdown",
   "metadata": {},
   "source": [
    "## 핵심: 조건과 분기\n",
    "\n",
    "* `if ... else`\n",
    "* `break`\n",
    "* `continue`\n",
    "* `switch`"
   ]
  },
  {
   "cell_type": "markdown",
   "metadata": {
    "slideshow": {
     "slide_type": "slide"
    }
   },
   "source": [
    "## (C 언어) 숫자 맞히기 Up&Down"
   ]
  },
  {
   "cell_type": "markdown",
   "metadata": {
    "slideshow": {
     "slide_type": "fragment"
    }
   },
   "source": [
    "* 동영상: [(나도코딩 C) 4-1 숫자 맞히기 Up&Down](https://www.youtube.com/watch?v=62pWle2i3ek&list=PLMsa_0kAjjrdiwQykI8eb3H4IRxLTqCnP&index=21)"
   ]
  },
  {
   "cell_type": "markdown",
   "metadata": {},
   "source": [
    "### 게임 설명"
   ]
  },
  {
   "cell_type": "markdown",
   "metadata": {},
   "source": [
    "* 상대방이 생각한 1부터 100사이의 수를 맞히는 게임\n",
    "* 언급한 숫자가 맞혀야 하는 숫자보다 크면 Down으로 반응\n",
    "* 언급한 숫자가 맞혀야 하는 숫자보다 크면 Up으로 반응\n",
    "* 지정된 횟수 안에 지정된 숫자를 맞혀야 함"
   ]
  },
  {
   "cell_type": "markdown",
   "metadata": {
    "slideshow": {
     "slide_type": "slide"
    }
   },
   "source": [
    "## (C 언어) `if ... else`"
   ]
  },
  {
   "cell_type": "markdown",
   "metadata": {
    "slideshow": {
     "slide_type": "fragment"
    }
   },
   "source": [
    "* 동영상: [(나도코딩 C) 4-2 If Else](https://www.youtube.com/watch?v=9dxy-eG8gvI&list=PLMsa_0kAjjrdiwQykI8eb3H4IRxLTqCnP&index=22)"
   ]
  },
  {
   "cell_type": "markdown",
   "metadata": {},
   "source": [
    "### 형식\n",
    "\n",
    "```c\n",
    "if (조건)\n",
    "    {\n",
    "        명령문\n",
    "    }\n",
    "else\n",
    "    {\n",
    "        명령문\n",
    "    }\n",
    "```"
   ]
  },
  {
   "cell_type": "markdown",
   "metadata": {},
   "source": [
    "### 예제: `if ... else ...`"
   ]
  },
  {
   "cell_type": "markdown",
   "metadata": {},
   "source": [
    "```c\n",
    "#include <stdio.h>\n",
    "\n",
    "int main(void) {\n",
    "    /*\n",
    "\t버스를 탄다고 가정\n",
    "\t학생/일반인으로 구분\n",
    "\t일반인: 20세 이상\n",
    "\t*/\n",
    "    \n",
    "    int age = 15;\n",
    "\tif (age >= 20)\n",
    "        printf(\"일반인입니다.\\n\");\n",
    "    else\n",
    "        printf(\"학생입니다.\\n\");\n",
    "\n",
    "    return 0;\n",
    "\n",
    "}\n",
    "```"
   ]
  },
  {
   "cell_type": "markdown",
   "metadata": {
    "slideshow": {
     "slide_type": "slide"
    }
   },
   "source": [
    "---\n",
    "\n",
    "### Python 구현"
   ]
  },
  {
   "cell_type": "markdown",
   "metadata": {},
   "source": [
    "* 파이썬에서도 사실상 동일한 조건문 형식 사용\n",
    "* 파이썬의 여러 줄 주석은 세 개의 큰인용부호 사용."
   ]
  },
  {
   "cell_type": "code",
   "execution_count": 1,
   "metadata": {},
   "outputs": [
    {
     "name": "stdout",
     "output_type": "stream",
     "text": [
      "학생입니다.\n"
     ]
    }
   ],
   "source": [
    "\"\"\"\n",
    "버스를 탄다고 가정\n",
    "학생/일반인으로 구분\n",
    "일반인: 20세 이상\n",
    "\"\"\"\n",
    "    \n",
    "age = 15\n",
    "if (age >= 20):\n",
    "    print(\"일반인입니다.\")\n",
    "else:\n",
    "    print(\"학생입니다.\")"
   ]
  },
  {
   "cell_type": "markdown",
   "metadata": {},
   "source": [
    "---"
   ]
  },
  {
   "cell_type": "markdown",
   "metadata": {},
   "source": [
    "### 예제: `if ... else if ... else`"
   ]
  },
  {
   "cell_type": "markdown",
   "metadata": {},
   "source": [
    "```c\n",
    "#include <stdio.h>\n",
    "\n",
    "int main(void) {\n",
    "    /*\n",
    "\t초등학생(8-13)/중학생(14-16)/고등학생(17-19)/일반인으로 구분하기\n",
    "\n",
    "\tif ... else if ... else 형식 활용\n",
    "\t*/\n",
    "    \n",
    "    int age = 25;\n",
    "\tif (age >= 8 && age <= 13)\n",
    "        printf(\"초등학생입니다.\\n\");\n",
    "    else if (age >= 14 && age <= 16)\n",
    "        printf(\"중학생입니다.\\n\");\n",
    "    // else if 반복 사용 가능\n",
    "\telse if (age >= 17 && age <= 19)\n",
    "        printf(\"고등학생입니다.\\n\");\n",
    "    // 마지막 남은 경우는 else로 처리\n",
    "    else\n",
    "        printf(\"일반인입니다.\\n\");\n",
    "\n",
    "    return 0;\n",
    "\n",
    "}\n",
    "```"
   ]
  },
  {
   "cell_type": "markdown",
   "metadata": {},
   "source": [
    "#### PythonTutor 활용하기\n",
    "\n",
    "* [(C 언어) if ... else if ... else](http://pythontutor.com/visualize.html#code=%23include%20%3Cstdio.h%3E%0A%0Aint%20main%28void%29%20%7B%0A%20%20%20%20/*%0A%20%20%20%20%EC%B4%88%EB%93%B1%ED%95%99%EC%83%9D%288-13%29/%EC%A4%91%ED%95%99%EC%83%9D%2814-16%29/%EA%B3%A0%EB%93%B1%ED%95%99%EC%83%9D%2817-19%29/%EC%9D%BC%EB%B0%98%EC%9D%B8%EC%9C%BC%EB%A1%9C%20%EA%B5%AC%EB%B6%84%ED%95%98%EA%B8%B0%0A%0A%20%20%20%20if%20...%20else%20if%20...%20else%20%ED%98%95%EC%8B%9D%20%ED%99%9C%EC%9A%A9%0A%20%20%20%20*/%0A%20%20%20%20%0A%20%20%20%20int%20age%20%3D%2025%3B%0A%20%20%20%20if%20%28age%20%3E%3D%208%20%26%26%20age%20%3C%3D%2013%29%0A%20%20%20%20%20%20%20%20printf%28%22%EC%B4%88%EB%93%B1%ED%95%99%EC%83%9D%EC%9E%85%EB%8B%88%EB%8B%A4.%5Cn%22%29%3B%0A%20%20%20%20else%20if%20%28age%20%3E%3D%2014%20%26%26%20age%20%3C%3D%2016%29%0A%20%20%20%20%20%20%20%20printf%28%22%EC%A4%91%ED%95%99%EC%83%9D%EC%9E%85%EB%8B%88%EB%8B%A4.%5Cn%22%29%3B%0A%20%20%20%20//%20else%20if%20%EB%B0%98%EB%B3%B5%20%EC%82%AC%EC%9A%A9%20%EA%B0%80%EB%8A%A5%0A%20%20%20%20else%20if%20%28age%20%3E%3D%2017%20%26%26%20age%20%3C%3D%2019%29%0A%20%20%20%20%20%20%20%20printf%28%22%EA%B3%A0%EB%93%B1%ED%95%99%EC%83%9D%EC%9E%85%EB%8B%88%EB%8B%A4.%5Cn%22%29%3B%0A%20%20%20%20//%20%EB%A7%88%EC%A7%80%EB%A7%89%20%EB%82%A8%EC%9D%80%20%EA%B2%BD%EC%9A%B0%EB%8A%94%20else%EB%A1%9C%20%EC%B2%98%EB%A6%AC%0A%20%20%20%20else%0A%20%20%20%20%20%20%20%20printf%28%22%EC%9D%BC%EB%B0%98%EC%9D%B8%EC%9E%85%EB%8B%88%EB%8B%A4.%5Cn%22%29%3B%0A%0A%20%20%20%20return%200%3B%0A%0A%7D&cumulative=false&curInstr=0&heapPrimitives=nevernest&mode=display&origin=opt-frontend.js&py=c&rawInputLstJSON=%5B%5D&textReferences=false)"
   ]
  },
  {
   "cell_type": "markdown",
   "metadata": {
    "slideshow": {
     "slide_type": "slide"
    }
   },
   "source": [
    "---\n",
    "\n",
    "### Python 구현"
   ]
  },
  {
   "cell_type": "markdown",
   "metadata": {},
   "source": [
    "* 파이썬에서도 사실상 동일한 조건문 형식 사용\n",
    "* 단, `else if` 대신에 `elif` 사용.\n",
    "* 또한 사용된 논리 연산자에도 주의할 것"
   ]
  },
  {
   "cell_type": "markdown",
   "metadata": {},
   "source": [
    "| 논리 연산자 | C 언어 | Python 언어 |\n",
    "| ---: | :---:  | :---: |\n",
    "| 논리곱($\\land$) | && | and |\n",
    "| 논리합($\\lor$) | &#124;&#124; | or |\n",
    "| 논리부정($\\neg$) | ! | not |"
   ]
  },
  {
   "cell_type": "code",
   "execution_count": 2,
   "metadata": {},
   "outputs": [
    {
     "name": "stdout",
     "output_type": "stream",
     "text": [
      "일반인입니다.\n"
     ]
    }
   ],
   "source": [
    "\"\"\"\n",
    "초등학생(8-13)/중학생(14-16)/고등학생(17-19)/일반인으로 구분하기\n",
    "\n",
    "if ... else if ... else 형식 활용\n",
    "\"\"\"\n",
    "    \n",
    "age = 25\n",
    "\n",
    "if (age >= 8 and age <= 13):\n",
    "    print(\"초등학생입니다.\")\n",
    "elif (age >= 14 and age <= 16):\n",
    "    print(\"중학생입니다.\")\n",
    "# elif 반복 사용 가능\n",
    "elif (age >= 17 and age <= 19):\n",
    "    print(\"고등학생입니다.\")\n",
    "# 마지막 남은 경우는 else로 처리\n",
    "else:\n",
    "    print(\"일반인입니다.\")"
   ]
  },
  {
   "cell_type": "markdown",
   "metadata": {},
   "source": [
    "---"
   ]
  },
  {
   "cell_type": "markdown",
   "metadata": {
    "slideshow": {
     "slide_type": "slide"
    }
   },
   "source": [
    "## (C 언어) `break/continue`"
   ]
  },
  {
   "cell_type": "markdown",
   "metadata": {
    "slideshow": {
     "slide_type": "fragment"
    }
   },
   "source": [
    "* 동영상: [(나도코딩 C) 4-3 Break Continue](https://www.youtube.com/watch?v=T-IiUqRbeu4&list=PLMsa_0kAjjrdiwQykI8eb3H4IRxLTqCnP&index=23)"
   ]
  },
  {
   "cell_type": "markdown",
   "metadata": {},
   "source": [
    "### `break`"
   ]
  },
  {
   "cell_type": "markdown",
   "metadata": {},
   "source": [
    "* `break`가 실행되는 순간에 가장 가까운 반복문의 실행 종료"
   ]
  },
  {
   "cell_type": "markdown",
   "metadata": {},
   "source": [
    "### 예제: `break`"
   ]
  },
  {
   "cell_type": "markdown",
   "metadata": {},
   "source": [
    "```c\n",
    "#include <stdio.h>\n",
    "\n",
    "int main(void) {\n",
    "    /*\n",
    "\tbreak/continue\n",
    "\t\n",
    "\t1번부터 30번까지 있는 반에서 1번에서 5번까지 조별 발표하기\n",
    "\t*/\n",
    "\n",
    "\tfor (int i = 1; i <=30; i++)\n",
    "\t{\n",
    "\t\tif (i >= 6)\n",
    "\t\t{\n",
    "\t\t\tprintf(\"나머지 학생은 집에 가세요.\\n\");\n",
    "\t\t\t// 이제 for 반복문을 더이상 실행하지 않도록 하기\n",
    "\t\t\tbreak;        \n",
    "\t\t}\n",
    "\t\tprintf(\"%d번 학생은 조별발표 준비 하세요.\\n\", i);\n",
    "\t}\n",
    "\n",
    "    return 0; \n",
    "\n",
    "}\n",
    "```"
   ]
  },
  {
   "cell_type": "markdown",
   "metadata": {},
   "source": [
    "#### PythonTutor 활용하기\n",
    "\n",
    "* [(C 언어) break](http://pythontutor.com/visualize.html#code=%23include%20%3Cstdio.h%3E%0A%0Aint%20main%28void%29%20%7B%0A%20%20%20%20/*%0A%20%20%20%20break/continue%0A%20%20%20%20%0A%20%20%20%201%EB%B2%88%EB%B6%80%ED%84%B0%2030%EB%B2%88%EA%B9%8C%EC%A7%80%20%EC%9E%88%EB%8A%94%20%EB%B0%98%EC%97%90%EC%84%9C%201%EB%B2%88%EC%97%90%EC%84%9C%205%EB%B2%88%EA%B9%8C%EC%A7%80%20%EC%A1%B0%EB%B3%84%20%EB%B0%9C%ED%91%9C%ED%95%98%EA%B8%B0%0A%20%20%20%20*/%0A%0A%20%20%20%20for%20%28int%20i%20%3D%201%3B%20i%20%3C%3D30%3B%20i%2B%2B%29%0A%20%20%20%20%7B%0A%20%20%20%20%20%20%20%20if%20%28i%20%3E%3D%206%29%0A%20%20%20%20%20%20%20%20%7B%0A%20%20%20%20%20%20%20%20%20%20%20%20printf%28%22%EB%82%98%EB%A8%B8%EC%A7%80%20%ED%95%99%EC%83%9D%EC%9D%80%20%EC%A7%91%EC%97%90%20%EA%B0%80%EC%84%B8%EC%9A%94.%5Cn%22%29%3B%0A%20%20%20%20%20%20%20%20%20%20%20%20//%20%EC%9D%B4%EC%A0%9C%20for%20%EB%B0%98%EB%B3%B5%EB%AC%B8%EC%9D%84%20%EB%B9%A0%EC%A0%B8%EB%82%98%EC%98%A4%EB%8F%84%EB%A1%9D%20%ED%95%B4%EC%95%BC%20%ED%95%A8.%0A%20%20%20%20%20%20%20%20%20%20%20%20break%3B%20%20%20%20%20%20%20%20%0A%20%20%20%20%20%20%20%20%7D%0A%20%20%20%20%20%20%20%20printf%28%22%25d%EB%B2%88%20%ED%95%99%EC%83%9D%EC%9D%80%20%EC%A1%B0%EB%B3%84%EB%B0%9C%ED%91%9C%20%EC%A4%80%EB%B9%84%20%ED%95%98%EC%84%B8%EC%9A%94.%5Cn%22,%20i%29%3B%0A%20%20%20%20%7D%0A%0A%20%20%20%20return%200%3B%20%0A%0A%7D&cumulative=false&curInstr=0&heapPrimitives=nevernest&mode=display&origin=opt-frontend.js&py=c&rawInputLstJSON=%5B%5D&textReferences=false)"
   ]
  },
  {
   "cell_type": "markdown",
   "metadata": {
    "slideshow": {
     "slide_type": "slide"
    }
   },
   "source": [
    "---\n",
    "\n",
    "### Python 구현"
   ]
  },
  {
   "cell_type": "markdown",
   "metadata": {},
   "source": [
    "* 파이썬에서 break 명령문의 역할은 동일함."
   ]
  },
  {
   "cell_type": "code",
   "execution_count": 3,
   "metadata": {},
   "outputs": [
    {
     "name": "stdout",
     "output_type": "stream",
     "text": [
      "1번 학생은 조별발표 준비 하세요.\n",
      "2번 학생은 조별발표 준비 하세요.\n",
      "3번 학생은 조별발표 준비 하세요.\n",
      "4번 학생은 조별발표 준비 하세요.\n",
      "5번 학생은 조별발표 준비 하세요.\n",
      "나머지 학생은 집에 가세요.\n"
     ]
    }
   ],
   "source": [
    "\"\"\"\n",
    "break/continue\n",
    "\n",
    "1번부터 30번까지 있는 반에서 1번에서 5번까지만 조별 발표하기\n",
    "\"\"\"\n",
    "\n",
    "for i in range(1, 31):\n",
    "    if (i >= 6):\n",
    "        print(\"나머지 학생은 집에 가세요.\")\n",
    "        # 이제 for 반복문을 더이상 실행하지 않도록 하기위해 break 사용\n",
    "        break        \n",
    "    print(f\"{i}번 학생은 조별발표 준비 하세요.\")"
   ]
  },
  {
   "cell_type": "markdown",
   "metadata": {},
   "source": [
    "---"
   ]
  },
  {
   "cell_type": "markdown",
   "metadata": {},
   "source": [
    "### `continue`"
   ]
  },
  {
   "cell_type": "markdown",
   "metadata": {},
   "source": [
    "* `continue`가 실행되는 순간에 가장 가까운 반복문의 다음 경우 실행"
   ]
  },
  {
   "cell_type": "markdown",
   "metadata": {},
   "source": [
    "### 예제: `continue`"
   ]
  },
  {
   "cell_type": "markdown",
   "metadata": {},
   "source": [
    "```c\n",
    "#include <stdio.h>\n",
    "\n",
    "int main(void) {\n",
    "    /*\n",
    "\tbreak/continue\n",
    "\t\n",
    "\t1번부터 30번까지 있는 반에서 7번 학생은 결석\n",
    "\t따라서 7번을 제외하고 6번부터 10번까지 조별발표 하세요.\n",
    "\t*/\n",
    "\n",
    "\tfor (int i = 1; i <=30; i++)\n",
    "\t{\n",
    "\t\tif (i >= 6 && i <= 10)\n",
    "\t\t{\n",
    "\t\t\tif (i == 7)\n",
    "\t\t\t{\n",
    "\t\t\tprintf(\"%d번 학생은 결석입니다.\\n\", i);\n",
    "\t\t\t// 이제 7번 학생은 건너뛰고 for 반복문을 8번 학생에 대해 실행하도록 하기\n",
    "\t\t\tcontinue ;\n",
    "\t\t\t}        \n",
    "\t\t\n",
    "\t\t\tprintf(\"%d번 학생은 조별발표 준비 하세요.\\n\", i);\n",
    "\t\t}\n",
    "\t}\n",
    "\n",
    "    return 0; \n",
    "\n",
    "}\n",
    "```"
   ]
  },
  {
   "cell_type": "markdown",
   "metadata": {},
   "source": [
    "#### PythonTutor 활용하기\n",
    "\n",
    "* [(C 언어) continue](http://pythontutor.com/visualize.html#code=%23include%20%3Cstdio.h%3E%0A%0Aint%20main%28void%29%20%7B%0A%20%20%20%20/*%0A%20%20%20%20break/continue%0A%20%20%20%20%0A%20%20%20%201%EB%B2%88%EB%B6%80%ED%84%B0%2030%EB%B2%88%EA%B9%8C%EC%A7%80%20%EC%9E%88%EB%8A%94%20%EB%B0%98%EC%97%90%EC%84%9C%207%EB%B2%88%20%ED%95%99%EC%83%9D%EC%9D%80%20%EA%B2%B0%EC%84%9D%0A%20%20%20%20%EB%94%B0%EB%9D%BC%EC%84%9C%207%EB%B2%88%EC%9D%84%20%EC%A0%9C%EC%99%B8%ED%95%98%EA%B3%A0%206%EB%B2%88%EB%B6%80%ED%84%B0%2010%EB%B2%88%EA%B9%8C%EC%A7%80%20%EC%A1%B0%EB%B3%84%EB%B0%9C%ED%91%9C%20%ED%95%98%EC%84%B8%EC%9A%94.%0A%20%20%20%20*/%0A%0A%20%20%20%20for%20%28int%20i%20%3D%201%3B%20i%20%3C%3D30%3B%20i%2B%2B%29%0A%20%20%20%20%7B%0A%20%20%20%20%20%20%20%20if%20%28i%20%3E%3D%206%20%26%26%20i%20%3C%3D%2010%29%0A%20%20%20%20%20%20%20%20%7B%0A%20%20%20%20%20%20%20%20%20%20%20%20if%20%28i%20%3D%3D%207%29%0A%20%20%20%20%20%20%20%20%20%20%20%20%7B%0A%20%20%20%20%20%20%20%20%20%20%20%20printf%28%22%25d%EB%B2%88%20%ED%95%99%EC%83%9D%EC%9D%80%20%EA%B2%B0%EC%84%9D%EC%9E%85%EB%8B%88%EB%8B%A4.%5Cn%22,%20i%29%3B%0A%20%20%20%20%20%20%20%20%20%20%20%20//%20%EC%9D%B4%EC%A0%9C%207%EB%B2%88%20%ED%95%99%EC%83%9D%EC%9D%80%20%EA%B1%B4%EB%84%88%EB%9B%B0%EA%B3%A0%20for%20%EB%B0%98%EB%B3%B5%EB%AC%B8%20%EC%9D%B4%EC%96%B4%EB%82%98%EA%B0%80%EB%8F%84%EB%A1%9D%20%ED%95%B4%EC%95%BC%ED%95%A8.%0A%20%20%20%20%20%20%20%20%20%20%20%20continue%20%3B%0A%20%20%20%20%20%20%20%20%20%20%20%20%7D%20%20%20%20%20%20%20%20%0A%20%20%20%20%20%20%20%20%0A%20%20%20%20%20%20%20%20%20%20%20%20printf%28%22%25d%EB%B2%88%20%ED%95%99%EC%83%9D%EC%9D%80%20%EC%A1%B0%EB%B3%84%EB%B0%9C%ED%91%9C%20%EC%A4%80%EB%B9%84%20%ED%95%98%EC%84%B8%EC%9A%94.%5Cn%22,%20i%29%3B%0A%20%20%20%20%20%20%20%20%7D%0A%20%20%20%20%7D%0A%0A%20%20%20%20return%200%3B%20%0A%0A%7D&cumulative=false&curInstr=0&heapPrimitives=nevernest&mode=display&origin=opt-frontend.js&py=c&rawInputLstJSON=%5B%5D&textReferences=false)"
   ]
  },
  {
   "cell_type": "markdown",
   "metadata": {
    "slideshow": {
     "slide_type": "slide"
    }
   },
   "source": [
    "---\n",
    "\n",
    "### Python 구현"
   ]
  },
  {
   "cell_type": "markdown",
   "metadata": {},
   "source": [
    "* 파이썬에서 continue 명령문의 역할은 동일함."
   ]
  },
  {
   "cell_type": "code",
   "execution_count": 4,
   "metadata": {},
   "outputs": [
    {
     "name": "stdout",
     "output_type": "stream",
     "text": [
      "6번 학생은 조별발표 준비 하세요.\n",
      "7번 학생은 결석입니다.\n",
      "8번 학생은 조별발표 준비 하세요.\n",
      "9번 학생은 조별발표 준비 하세요.\n",
      "10번 학생은 조별발표 준비 하세요.\n"
     ]
    }
   ],
   "source": [
    "\"\"\"\n",
    "break/continue\n",
    "\n",
    "1번부터 30번까지 있는 반에서 7번 학생은 결석\n",
    "따라서 7번을 제외하고 6번부터 10번까지 조별발표 하세요.\n",
    "\"\"\"\n",
    "\n",
    "for i in range(1, 31):\n",
    "    if (i >= 6 and i <= 10):\n",
    "        if (i == 7):\n",
    "            print(\"%d번 학생은 결석입니다.\" % i)\n",
    "            # 이제 7번 학생은 건너뛰고 for 반복문을 8번 학생에 대해 실행하도록 하기\n",
    "            continue \n",
    "\n",
    "        print(\"%d번 학생은 조별발표 준비 하세요.\" % i)"
   ]
  },
  {
   "cell_type": "markdown",
   "metadata": {},
   "source": [
    "* 파이썬에서 숫자들의 구간은 보다 쉽게 표현할 수 있음.\n",
    "* `i >= 6 and i <= 10` 를 `6 <= i <= 10` 표현 가능."
   ]
  },
  {
   "cell_type": "code",
   "execution_count": 5,
   "metadata": {},
   "outputs": [
    {
     "name": "stdout",
     "output_type": "stream",
     "text": [
      "6번 학생은 조별발표 준비 하세요.\n",
      "7번 학생은 결석입니다.\n",
      "8번 학생은 조별발표 준비 하세요.\n",
      "9번 학생은 조별발표 준비 하세요.\n",
      "10번 학생은 조별발표 준비 하세요.\n"
     ]
    }
   ],
   "source": [
    "\"\"\"\n",
    "break/continue\n",
    "\n",
    "1번부터 30번까지 있는 반에서 7번 학생은 결석\n",
    "따라서 7번을 제외하고 6번부터 10번까지 조별발표 하세요.\n",
    "\"\"\"\n",
    "\n",
    "for i in range(1, 31):\n",
    "    if (6 <= i <= 10):\n",
    "        if (i == 7):\n",
    "            print(\"%d번 학생은 결석입니다.\" % i)\n",
    "            # 이제 7번 학생은 건너뛰고 for 반복문을 8번 학생에 대해 실행하도록 하기\n",
    "            continue \n",
    "\n",
    "        print(\"%d번 학생은 조별발표 준비 하세요.\" % i)"
   ]
  },
  {
   "cell_type": "markdown",
   "metadata": {},
   "source": [
    "### 중첩 반복문과 break/continue"
   ]
  },
  {
   "cell_type": "markdown",
   "metadata": {},
   "source": [
    "* continue와 break 모두 자신을 직접 감싸는 반복문에 대해서만 작용함."
   ]
  },
  {
   "cell_type": "markdown",
   "metadata": {},
   "source": [
    "#### 중첩 반복문과 break\n",
    "\n",
    "* 3과의 곱셈을 만나면 해당 구구단 멈추고 다음 단으로 이동."
   ]
  },
  {
   "cell_type": "markdown",
   "metadata": {},
   "source": [
    "```c\n",
    "#include <stdio.h>\n",
    " \n",
    "int main()\n",
    "{\n",
    "\tfor (int i = 2; i<= 9; i++)\n",
    "\t{\n",
    "\t\tfor (int j = 1; j <= 9; j++)\n",
    "\t\t{\n",
    "\t\t\tif (j == 3)\n",
    "\t\t\t{\n",
    "\t\t\t\tbreak;\n",
    "\t\t\t}\n",
    "\t\t\tprintf(\"%d 곱하기 %d는 %d\\n\", i, j, i*j);\n",
    "\t\t}\n",
    "\n",
    "\t\tprintf(\"\\n\");\n",
    "\t}\n",
    "\t \n",
    "    return 0;\n",
    "}\n",
    "```"
   ]
  },
  {
   "cell_type": "markdown",
   "metadata": {},
   "source": [
    "#### PythonTutor 활용하기\n",
    "\n",
    "* [(C 언어) 이중 반복문과 break](http://pythontutor.com/visualize.html#code=%23include%20%3Cstdio.h%3E%0A%20%0Aint%20main%28%29%0A%7B%0A%20%20%20%20for%20%28int%20i%20%3D%202%3B%20i%3C%3D%209%3B%20i%2B%2B%29%0A%20%20%20%20%7B%0A%20%20%20%20%20%20%20%20for%20%28int%20j%20%3D%201%3B%20j%20%3C%3D%209%3B%20j%2B%2B%29%0A%20%20%20%20%20%20%20%20%7B%0A%20%20%20%20%20%20%20%20%20%20%20%20if%20%28j%20%3D%3D%203%29%0A%20%20%20%20%20%20%20%20%20%20%20%20%7B%0A%20%20%20%20%20%20%20%20%20%20%20%20%20%20%20%20break%3B%0A%20%20%20%20%20%20%20%20%20%20%20%20%7D%0A%20%20%20%20%20%20%20%20%20%20%20%20printf%28%22%25d%20%EA%B3%B1%ED%95%98%EA%B8%B0%20%25d%EB%8A%94%20%25d%5Cn%22,%20i,%20j,%20i*j%29%3B%0A%20%20%20%20%20%20%20%20%7D%0A%0A%20%20%20%20%20%20%20%20printf%28%22%5Cn%22%29%3B%0A%20%20%20%20%7D%0A%20%20%20%20%20%0A%20%20%20%20return%200%3B%0A%7D&cumulative=false&curInstr=0&heapPrimitives=nevernest&mode=display&origin=opt-frontend.js&py=c&rawInputLstJSON=%5B%5D&textReferences=false)"
   ]
  },
  {
   "cell_type": "markdown",
   "metadata": {},
   "source": [
    "#### Python 구현"
   ]
  },
  {
   "cell_type": "code",
   "execution_count": 6,
   "metadata": {},
   "outputs": [
    {
     "name": "stdout",
     "output_type": "stream",
     "text": [
      "2 곱하기 1 는 2\n",
      "2 곱하기 2 는 4\n",
      "\n",
      "3 곱하기 1 는 3\n",
      "3 곱하기 2 는 6\n",
      "\n",
      "4 곱하기 1 는 4\n",
      "4 곱하기 2 는 8\n",
      "\n",
      "5 곱하기 1 는 5\n",
      "5 곱하기 2 는 10\n",
      "\n",
      "6 곱하기 1 는 6\n",
      "6 곱하기 2 는 12\n",
      "\n",
      "7 곱하기 1 는 7\n",
      "7 곱하기 2 는 14\n",
      "\n",
      "8 곱하기 1 는 8\n",
      "8 곱하기 2 는 16\n",
      "\n",
      "9 곱하기 1 는 9\n",
      "9 곱하기 2 는 18\n",
      "\n"
     ]
    }
   ],
   "source": [
    "for i in range(2,10):\n",
    "    for j in range(1,10):\n",
    "        if j == 3:\n",
    "            break\n",
    "        print(f\"{i} 곱하기 {j} 는 {i*j}\")\n",
    "    \n",
    "    print('')"
   ]
  },
  {
   "cell_type": "markdown",
   "metadata": {},
   "source": [
    "#### 중첩 반복문과 continue\n",
    "\n",
    "* 3과의 곱셈을 만나면 건너뜀."
   ]
  },
  {
   "cell_type": "markdown",
   "metadata": {},
   "source": [
    "```c\n",
    "#include <stdio.h>\n",
    " \n",
    "int main()\n",
    "{\n",
    "\tfor (int i = 2; i<= 9; i++)\n",
    "\t{\n",
    "\t\tfor (int j = 1; j <= 9; j++)\n",
    "\t\t{\n",
    "\t\t\tif (j == 3)\n",
    "\t\t\t{\n",
    "\t\t\t\tcontinue;\n",
    "\t\t\t}\n",
    "\t\t\tprintf(\"%d 곱하기 %d는 %d\\n\", i, j, i*j);\n",
    "\t\t}\n",
    "\n",
    "\t\tprintf(\"\\n\");\n",
    "\t}\n",
    "\t \n",
    "    return 0;\n",
    "}\n",
    "```"
   ]
  },
  {
   "cell_type": "markdown",
   "metadata": {},
   "source": [
    "#### PythonTutor 활용하기\n",
    "\n",
    "* [(C 언어) 중첩 반복문과 continue](http://pythontutor.com/visualize.html#code=%23include%20%3Cstdio.h%3E%0A%20%0Aint%20main%28%29%0A%7B%0A%20%20%20%20for%20%28int%20i%20%3D%202%3B%20i%3C%3D%209%3B%20i%2B%2B%29%0A%20%20%20%20%7B%0A%20%20%20%20%20%20%20%20for%20%28int%20j%20%3D%201%3B%20j%20%3C%3D%209%3B%20j%2B%2B%29%0A%20%20%20%20%20%20%20%20%7B%0A%20%20%20%20%20%20%20%20%20%20%20%20if%20%28j%20%3D%3D%203%29%0A%20%20%20%20%20%20%20%20%20%20%20%20%7B%0A%20%20%20%20%20%20%20%20%20%20%20%20%20%20%20%20continue%3B%0A%20%20%20%20%20%20%20%20%20%20%20%20%7D%0A%20%20%20%20%20%20%20%20%20%20%20%20printf%28%22%25d%20%EA%B3%B1%ED%95%98%EA%B8%B0%20%25d%EB%8A%94%20%25d%5Cn%22,%20i,%20j,%20i*j%29%3B%0A%20%20%20%20%20%20%20%20%7D%0A%0A%20%20%20%20%20%20%20%20printf%28%22%5Cn%22%29%3B%0A%20%20%20%20%7D%0A%20%20%20%20%20%0A%20%20%20%20return%200%3B%0A%7D&cumulative=false&curInstr=0&heapPrimitives=nevernest&mode=display&origin=opt-frontend.js&py=c&rawInputLstJSON=%5B%5D&textReferences=false)"
   ]
  },
  {
   "cell_type": "code",
   "execution_count": 7,
   "metadata": {},
   "outputs": [
    {
     "name": "stdout",
     "output_type": "stream",
     "text": [
      "2 곱하기 1 는 2\n",
      "2 곱하기 2 는 4\n",
      "2 곱하기 4 는 8\n",
      "2 곱하기 5 는 10\n",
      "2 곱하기 6 는 12\n",
      "2 곱하기 7 는 14\n",
      "2 곱하기 8 는 16\n",
      "2 곱하기 9 는 18\n",
      "\n",
      "3 곱하기 1 는 3\n",
      "3 곱하기 2 는 6\n",
      "3 곱하기 4 는 12\n",
      "3 곱하기 5 는 15\n",
      "3 곱하기 6 는 18\n",
      "3 곱하기 7 는 21\n",
      "3 곱하기 8 는 24\n",
      "3 곱하기 9 는 27\n",
      "\n",
      "4 곱하기 1 는 4\n",
      "4 곱하기 2 는 8\n",
      "4 곱하기 4 는 16\n",
      "4 곱하기 5 는 20\n",
      "4 곱하기 6 는 24\n",
      "4 곱하기 7 는 28\n",
      "4 곱하기 8 는 32\n",
      "4 곱하기 9 는 36\n",
      "\n",
      "5 곱하기 1 는 5\n",
      "5 곱하기 2 는 10\n",
      "5 곱하기 4 는 20\n",
      "5 곱하기 5 는 25\n",
      "5 곱하기 6 는 30\n",
      "5 곱하기 7 는 35\n",
      "5 곱하기 8 는 40\n",
      "5 곱하기 9 는 45\n",
      "\n",
      "6 곱하기 1 는 6\n",
      "6 곱하기 2 는 12\n",
      "6 곱하기 4 는 24\n",
      "6 곱하기 5 는 30\n",
      "6 곱하기 6 는 36\n",
      "6 곱하기 7 는 42\n",
      "6 곱하기 8 는 48\n",
      "6 곱하기 9 는 54\n",
      "\n",
      "7 곱하기 1 는 7\n",
      "7 곱하기 2 는 14\n",
      "7 곱하기 4 는 28\n",
      "7 곱하기 5 는 35\n",
      "7 곱하기 6 는 42\n",
      "7 곱하기 7 는 49\n",
      "7 곱하기 8 는 56\n",
      "7 곱하기 9 는 63\n",
      "\n",
      "8 곱하기 1 는 8\n",
      "8 곱하기 2 는 16\n",
      "8 곱하기 4 는 32\n",
      "8 곱하기 5 는 40\n",
      "8 곱하기 6 는 48\n",
      "8 곱하기 7 는 56\n",
      "8 곱하기 8 는 64\n",
      "8 곱하기 9 는 72\n",
      "\n",
      "9 곱하기 1 는 9\n",
      "9 곱하기 2 는 18\n",
      "9 곱하기 4 는 36\n",
      "9 곱하기 5 는 45\n",
      "9 곱하기 6 는 54\n",
      "9 곱하기 7 는 63\n",
      "9 곱하기 8 는 72\n",
      "9 곱하기 9 는 81\n",
      "\n"
     ]
    }
   ],
   "source": [
    "for i in range(2,10):\n",
    "    for j in range(1,10):\n",
    "        if j == 3:\n",
    "            continue\n",
    "        print(f\"{i} 곱하기 {j} 는 {i*j}\")\n",
    "        \n",
    "    print('')"
   ]
  },
  {
   "cell_type": "markdown",
   "metadata": {},
   "source": [
    "---"
   ]
  },
  {
   "cell_type": "markdown",
   "metadata": {
    "slideshow": {
     "slide_type": "slide"
    }
   },
   "source": [
    "## (C 언어) And/Or 부울 연산"
   ]
  },
  {
   "cell_type": "markdown",
   "metadata": {
    "slideshow": {
     "slide_type": "fragment"
    }
   },
   "source": [
    "* 동영상: [(나도코딩 C) 4-4 And Or 연산](https://www.youtube.com/watch?v=LjP9HlJBQ6s&list=PLMsa_0kAjjrdiwQykI8eb3H4IRxLTqCnP&index=24)"
   ]
  },
  {
   "cell_type": "markdown",
   "metadata": {},
   "source": [
    "### 예제"
   ]
  },
  {
   "cell_type": "markdown",
   "metadata": {},
   "source": [
    "* 아래 코드 실행하면 `\"값이 서로 다르네요\"` 출력"
   ]
  },
  {
   "cell_type": "markdown",
   "metadata": {},
   "source": [
    "```c\n",
    "#include <stdio.h>\n",
    "\n",
    "int main(void) {\n",
    "    /*\n",
    "\t논리 연산자: &&(and) 와 ||(or)\n",
    "\t*/\n",
    "\n",
    "\tint a = 10;\n",
    "\tint b = 11;\n",
    "\tint c = 12;\n",
    "\tint d = 13;\n",
    "\tif (a==b && c ==d)\n",
    "\t{\n",
    "\t\tprintf(\"a와 b는 같고, c와 d도 같습니다.\\n\");\n",
    "\t}\n",
    "\telse\n",
    "\t{\n",
    "\t\tprintf(\"값이 서로 다르네요.\\n\");\n",
    "\t}\n",
    "\n",
    "    return 0; \n",
    "\n",
    "}\n",
    "```"
   ]
  },
  {
   "cell_type": "markdown",
   "metadata": {},
   "source": [
    "* 아래 코드 실행하면 `\"a와 b는 같고, c와 d도 같습니다.\"` 출력"
   ]
  },
  {
   "cell_type": "markdown",
   "metadata": {},
   "source": [
    "```c\n",
    "#include <stdio.h>\n",
    "\n",
    "int main(void) {\n",
    "    /*\n",
    "\t논리 연산자: &&(and) 와 ||(or)\n",
    "\t*/\n",
    "\n",
    "\tint a = 10;\n",
    "\tint b = 10;\n",
    "\tint c = 12;\n",
    "\tint d = 12;\n",
    "\tif (a==b && c ==d)\n",
    "\t{\n",
    "\t\tprintf(\"a와 b는 같고, c와 d도 같습니다.\\n\");\n",
    "\t}\n",
    "\telse\n",
    "\t{\n",
    "\t\tprintf(\"값이 서로 다르네요.\\n\");\n",
    "\t}\n",
    "\n",
    "    return 0; \n",
    "\n",
    "}\n",
    "```"
   ]
  },
  {
   "cell_type": "markdown",
   "metadata": {},
   "source": [
    "* 아래 코드 실행하면 `\"a와 b, 혹은 c와 d의 값이 같습니다.\"` 출력"
   ]
  },
  {
   "cell_type": "markdown",
   "metadata": {},
   "source": [
    "```c\n",
    "#include <stdio.h>\n",
    "\n",
    "int main(void) {\n",
    "    /*\n",
    "\t논리 연산자: &&(and) 와 ||(or)\n",
    "\t*/\n",
    "\n",
    "\tint a = 10;\n",
    "\tint b = 10;\n",
    "\tint c = 12;\n",
    "\tint d = 13;\n",
    "\tif (a==b || c ==d)\n",
    "\t{\n",
    "\t\tprintf(\"a와 b, 혹은 c와 d의 값이 같습니다.\\n\");\n",
    "\t}\n",
    "\telse\n",
    "\t{\n",
    "\t\tprintf(\"값이 서로 다르네요.\\n\");\n",
    "\t}\n",
    "\n",
    "    return 0; \n",
    "\n",
    "}\n",
    "```"
   ]
  },
  {
   "cell_type": "markdown",
   "metadata": {},
   "source": [
    "* 아래 코드 실행하면 `\"a와 b, 혹은 c와 d의 값이 같습니다.\"` 출력"
   ]
  },
  {
   "cell_type": "markdown",
   "metadata": {},
   "source": [
    "```c\n",
    "#include <stdio.h>\n",
    "\n",
    "int main(void) {\n",
    "    /*\n",
    "\t논리 연산자: &&(and) 와 ||(or)\n",
    "\t*/\n",
    "\n",
    "\tint a = 11;\n",
    "\tint b = 10;\n",
    "\tint c = 12;\n",
    "\tint d = 12;\n",
    "\tif (a==b || c ==d)\n",
    "\t{\n",
    "\t\tprintf(\"a와 b, 혹은 c와 d의 값이 같습니다.\\n\");\n",
    "\t}\n",
    "\telse\n",
    "\t{\n",
    "\t\tprintf(\"값이 서로 다르네요.\\n\");\n",
    "\t}\n",
    "\n",
    "    return 0; \n",
    "\n",
    "}\n",
    "```"
   ]
  },
  {
   "cell_type": "markdown",
   "metadata": {
    "slideshow": {
     "slide_type": "slide"
    }
   },
   "source": [
    "---\n",
    "\n",
    "### Python 구현"
   ]
  },
  {
   "cell_type": "markdown",
   "metadata": {
    "slideshow": {
     "slide_type": "slide"
    }
   },
   "source": [
    "* 논리 연산자의 활용은 기본적으로 C 언어와 동일함.\n",
    "* 단, 연산자를 나타내는 기호가 다름.\n",
    "    * `and`: C 언어의 `&&`(논리곱) 연산자\n",
    "    * `or`: C 언어의 `||`(논리합) 연산자\n",
    "    * `not`: C 언어의 `!`(부정) 연산자"
   ]
  },
  {
   "cell_type": "code",
   "execution_count": 8,
   "metadata": {},
   "outputs": [
    {
     "name": "stdout",
     "output_type": "stream",
     "text": [
      "False True True\n"
     ]
    }
   ],
   "source": [
    "# 논리 연산자: and, or, 그리고 not\n",
    "\n",
    "a = 11\n",
    "b = 10\n",
    "c = 12\n",
    "d = 12\n",
    "print(a==b and c==d, a==b or c==d, not(a==b and c==d))"
   ]
  },
  {
   "cell_type": "markdown",
   "metadata": {},
   "source": [
    "---"
   ]
  },
  {
   "cell_type": "markdown",
   "metadata": {
    "slideshow": {
     "slide_type": "slide"
    }
   },
   "source": [
    "## (C 언어) switch ... case ..."
   ]
  },
  {
   "cell_type": "markdown",
   "metadata": {
    "slideshow": {
     "slide_type": "fragment"
    }
   },
   "source": [
    "* 동영상: [(나도코딩 C) 4-5 Switch Case](https://www.youtube.com/watch?v=NJpK3RgKDS8&list=PLMsa_0kAjjrdiwQykI8eb3H4IRxLTqCnP&index=25&ab_channel=%EB%82%98%EB%8F%84%EC%BD%94%EB%94%A9)"
   ]
  },
  {
   "cell_type": "markdown",
   "metadata": {},
   "source": [
    "### 예제"
   ]
  },
  {
   "cell_type": "markdown",
   "metadata": {},
   "source": [
    "* `if ... else if ... else`를 이용한 가위-바위-보 게임"
   ]
  },
  {
   "cell_type": "markdown",
   "metadata": {},
   "source": [
    "```c\n",
    "#include <stdio.h>\n",
    "#include <stdlib.h>\n",
    "#include <time.h>\n",
    "\n",
    "int main(void) {\n",
    "    /*\n",
    "\t가위 0, 바위 1, 보 2\n",
    "\t*/\n",
    "\n",
    "\tsrand(time(NULL));\n",
    "\tint i = rand() % 3;   // 0부터 2 사이 숫자 반환\u0001\n",
    "\n",
    "\tif (i == 0)\n",
    "\t{\n",
    "\t\tprintf(\"가위!\\n\");\n",
    "\t}\n",
    "\telse if (i == 1)\n",
    "\t{\n",
    "\t\tprintf(\"바위!\\n\");\n",
    "\t}\n",
    "\telse if (i == 2)\n",
    "\t{\n",
    "\t\tprintf(\"보!\\n\");\n",
    "\t}\n",
    "\telse\n",
    "\t{\n",
    "\t\tprintf(\"몰라요!\\n\");\n",
    "\t}\n",
    "\n",
    "    return 0; \n",
    "\n",
    "}\n",
    "```"
   ]
  },
  {
   "cell_type": "markdown",
   "metadata": {},
   "source": [
    "* `switch ... case ...`를 이용한 가위-바위-보 게임\n",
    "* `break` 사용에 주의할 것!"
   ]
  },
  {
   "cell_type": "markdown",
   "metadata": {},
   "source": [
    "```c\n",
    "#include <stdio.h>\n",
    "#include <stdlib.h>\n",
    "#include <time.h>\n",
    "\n",
    "int main(void) {\n",
    "    /*\n",
    "\tswitch 활용: 가위 0, 바위 1, 보 2\n",
    "\t*/\n",
    "\n",
    "\tsrand(time(NULL));\n",
    "\tint i = rand() % 3;   // 0부터 2 사이 숫자 반환\u0001\n",
    "\n",
    "\t// break 사용에 주의할 것!\n",
    "\tswitch (i)\n",
    "\t{\n",
    "\t\tcase 0: printf(\"가위!\\n\"); break;\n",
    "\t\tcase 1: printf(\"바위!\\n\"); break;\n",
    "\t\tcase 2: printf(\"보!\\n\"); break;\n",
    "\t\tdefault: printf(\"몰라요!\\n\");\n",
    "\t}\n",
    "\n",
    "    return 0; \n",
    "\n",
    "}\n",
    "```"
   ]
  },
  {
   "cell_type": "markdown",
   "metadata": {},
   "source": [
    "#### 예제: 학생 구분\n",
    "\n",
    "* 아래 코드 문제점: case가 너무 많음. 하지만, case와 break 활용 이해에 도움됨."
   ]
  },
  {
   "cell_type": "markdown",
   "metadata": {},
   "source": [
    "```c\n",
    "#include <stdio.h>\n",
    "\n",
    "int main(void) {\n",
    "     /*\n",
    "\t초등학생(8-13)/중학생(14-16)/고등학생(17-19)/일반인으로 구분하기\n",
    "\n",
    "\tswitch ... case ... 활용!\n",
    "\t*/\n",
    "    \n",
    "    int age = 18;\n",
    "\n",
    "\tswitch (age)\n",
    "\t{\n",
    "\t\tcase 8:\n",
    "\t\tcase 9:\n",
    "\t\tcase 10:\n",
    "\t\tcase 11:\n",
    "\t\tcase 12:\n",
    "\t\tcase 13: printf(\"초등학생입니다.\\n\"); break;\n",
    "\t\tcase 14:\n",
    "\t\tcase 15:\n",
    "\t\tcase 16: printf(\"중학생입니다.\\n\"); break;\n",
    "\t\tcase 17:\n",
    "\t\tcase 18:\n",
    "\t\tcase 19: printf(\"고등학생입니다.\\n\"); break;\n",
    "\t\tdefault: printf(\"학생이 아닌가봐요.\\n\"); break;\n",
    "\t}\n",
    "    return 0;\n",
    "\n",
    "}\n",
    "```"
   ]
  },
  {
   "cell_type": "markdown",
   "metadata": {
    "slideshow": {
     "slide_type": "slide"
    }
   },
   "source": [
    "---\n",
    "\n",
    "### Python 구현"
   ]
  },
  {
   "cell_type": "markdown",
   "metadata": {},
   "source": [
    "* `switch ... case ...` 지원 없음.\n",
    "* 하지만 사전 자료형(`dict`)을 이용하여 쉽게 구현 가능."
   ]
  },
  {
   "cell_type": "markdown",
   "metadata": {},
   "source": [
    "#### 사전 자료형 활용"
   ]
  },
  {
   "cell_type": "markdown",
   "metadata": {},
   "source": [
    "* 사전 자료형의 키를 case(경우)처럼 취급 가능.\n",
    "* 키값으로 임의의 값이 올 수 있으며, 따라서 함수도 사용될 수 있음.\n",
    "    따라서 C 언어의 `switch/case`를 완전히 모방할 수 있음."
   ]
  },
  {
   "cell_type": "code",
   "execution_count": 9,
   "metadata": {
    "slideshow": {
     "slide_type": "slide"
    }
   },
   "outputs": [
    {
     "name": "stdout",
     "output_type": "stream",
     "text": [
      "보\n"
     ]
    }
   ],
   "source": [
    "import random \n",
    "import time\n",
    "import sys\n",
    " \n",
    "secret = 0\n",
    "count=0\n",
    "\n",
    "# 현재 시간에 맞추어 무작위로 정수 생성 가능\n",
    "\n",
    "# time 함수: 1970.01.01 이후 흐른 시간(ns 단위)\n",
    "current_time = int(time.time())\n",
    "# 현재 시간 기준으로 무작위수 생성 지정\n",
    "random.seed(current_time)\n",
    "\n",
    "# 0과 100 사이의 무작위 정수 지정\n",
    "secret = random.randint(0, sys.maxsize)%3\n",
    "\n",
    "cases = {\n",
    "    0: \"가위\",\n",
    "    1: \"바위\",\n",
    "    2: \"보\"\n",
    "}\n",
    "print(cases[secret])"
   ]
  },
  {
   "cell_type": "markdown",
   "metadata": {},
   "source": [
    "#### `defaultdict` 활용"
   ]
  },
  {
   "cell_type": "markdown",
   "metadata": {},
   "source": [
    "* `defaultdict`는 사전 자료형을 확장한 자료형이며, 사전과 비슷하게 사용됨.\n",
    "* 여러 추가기능을 갖고 있으며, 예를 들어 C 언어의 `switch/case`와 함께 사용되는 `default` 기능을 간단하게 구현할 수 있음.\n",
    "* 아래 코드는 3이 나올 경우 `default`에 해당하는 `\"잘못 냈어요!\"`를 지정하는 방법을 보여줌."
   ]
  },
  {
   "cell_type": "code",
   "execution_count": 16,
   "metadata": {},
   "outputs": [
    {
     "name": "stdout",
     "output_type": "stream",
     "text": [
      "잘못 냈어요!\n"
     ]
    }
   ],
   "source": [
    "import random \n",
    "import time\n",
    "import sys\n",
    "\n",
    "from collections import defaultdict\n",
    " \n",
    "secret = 0\n",
    "count=0\n",
    "\n",
    "# 현재 시간에 맞추어 무작위로 정수 생성 가능\n",
    "\n",
    "# time 함수: 1970.01.01 이후 흐른 시간(ns 단위)\n",
    "current_time = int(time.time())\n",
    "# 현재 시간 기준으로 무작위수 생성 지정\n",
    "random.seed(current_time)\n",
    "\n",
    "# 0과 100 사이의 무작위 정수 지정\n",
    "# 3도 선택될 수 있음.\n",
    "secret = random.randint(0, sys.maxsize)%4\n",
    "\n",
    "cases = {\n",
    "    0: \"가위\",\n",
    "    1: \"바위\",\n",
    "    2: \"보\"\n",
    "}\n",
    "\n",
    "# cases에 사용되지 않은 값, 예를 들어, 3을 키로 사용하면 예외처리되어 \"잘못 냈어요!\"가 반환됨.\n",
    "default_cases = defaultdict(lambda: \"잘못 냈어요!\", cases)\n",
    "\n",
    "print(default_cases[secret])"
   ]
  },
  {
   "cell_type": "markdown",
   "metadata": {},
   "source": [
    "---"
   ]
  },
  {
   "cell_type": "markdown",
   "metadata": {
    "slideshow": {
     "slide_type": "slide"
    }
   },
   "source": [
    "## (C 언어) 프로젝트: Up & Down"
   ]
  },
  {
   "cell_type": "markdown",
   "metadata": {
    "slideshow": {
     "slide_type": "fragment"
    }
   },
   "source": [
    "* 동영상: [(나도코딩 C) 4-6 프로젝트](https://www.youtube.com/watch?v=QEQtFN2m2G4&list=PLMsa_0kAjjrdiwQykI8eb3H4IRxLTqCnP&index=26&ab_channel=%EB%82%98%EB%8F%84%EC%BD%94%EB%94%A9)"
   ]
  },
  {
   "cell_type": "markdown",
   "metadata": {},
   "source": [
    "#### 숫자맞히기 UP&DOWN 프로그램"
   ]
  },
  {
   "cell_type": "markdown",
   "metadata": {},
   "source": [
    "```c\n",
    "#include <stdio.h>\n",
    "#include <stdlib.h>\n",
    "#include <time.h>\n",
    " \n",
    "// Up and Down\n",
    " \n",
    "int main()\n",
    "{\n",
    "\tsrand(time(NULL));           // 현재시간 기준으로 무작위성 지정\n",
    "\tint num = rand()% 100 + 1;   // 1 - 100 사이의 숫자\n",
    "\tint answer = 0;              // 정답\n",
    "    int chance = 5;              // 남은 기회\n",
    " \n",
    "    // 무한 반복문 실행\n",
    "\t// 1: 참, 0: 거짓\n",
    "    while(1)\n",
    "    {\n",
    "\t\tprintf(\"남은 기회 %d 번\\n\", chance--);\n",
    "        printf(\"숫자를 맞혀보세요 (1-100): \");\n",
    "        scanf(\"%d\", &answer);\n",
    " \n",
    "        if(answer > num){\n",
    "            printf(\"DOWN!\\n\\n\");\n",
    "        }\n",
    "        else if(answer < num){\n",
    "            printf(\"UP!\\n\\n\");\n",
    "        }\n",
    "        else if(answer == num){\n",
    "            printf(\"정답입니다!\\n\\n\");\n",
    "\t\t\tbreak;\n",
    "        }\n",
    "\t\telse\n",
    "\t\t{\n",
    "\t\t\tprintf(\"알 수 없는 오류가 발생했어요.\\n\\n\");\n",
    "\t\t}\n",
    " \n",
    "        if(chance == 0)\n",
    "\t\t{\n",
    "            printf(\"모든 기회를 다 사용하셨네요. 아쉽게 실패했습니다.\\n\");\n",
    "            break;\n",
    "        }\n",
    "    }\n",
    "     \n",
    "    return 0;\n",
    "}\n",
    "```"
   ]
  },
  {
   "cell_type": "markdown",
   "metadata": {
    "slideshow": {
     "slide_type": "slide"
    }
   },
   "source": [
    "---\n",
    "\n",
    "### Python 구현"
   ]
  },
  {
   "cell_type": "code",
   "execution_count": 11,
   "metadata": {
    "slideshow": {
     "slide_type": "slide"
    }
   },
   "outputs": [
    {
     "name": "stdout",
     "output_type": "stream",
     "text": [
      "남은 기회: 5\n",
      "숫자를 맞혀보세요(0-100): 50\n",
      "DOWN!\n",
      "남은 기회: 4\n",
      "숫자를 맞혀보세요(0-100): 25\n",
      "UP!\n",
      "남은 기회: 3\n",
      "숫자를 맞혀보세요(0-100): 37\n",
      "UP!\n",
      "남은 기회: 2\n",
      "숫자를 맞혀보세요(0-100): 44\n",
      "UP!\n",
      "남은 기회: 1\n",
      "숫자를 맞혀보세요(0-100): 47\n",
      "DOWN!\n",
      "모든 기회를 다 사용하셨네요. 아쉽게 실패했습니다.\n"
     ]
    }
   ],
   "source": [
    "##### UP and DOWN\n",
    "\n",
    "import random \n",
    "import time\n",
    "import sys\n",
    " \n",
    "# 현재 시간에 맞추어 무작위로 정수 생성 가능\n",
    "\n",
    "# time 함수: 1970.01.01 이후 흐른 시간(ns 단위)\n",
    "current_time = int(time.time())\n",
    "# 현재 시간 기준으로 무작위수 생성 지정\n",
    "random.seed(current_time)\n",
    "\n",
    "# 0과 100 사이의 무작위 정수 지정\n",
    "# sys.maxsize: 사용 가능한 양의 정수 최댓값. 시스템마다 다를 수 있음.\n",
    "num = random.randint(0, sys.maxsize)%100\n",
    "\n",
    "chance=5\n",
    "\n",
    "# 무한 반복문 실행\n",
    "while(1):\n",
    "    print(\"남은 기회:\", chance)\n",
    "    chance -= 1\n",
    "\n",
    "    answer = int(input(\"숫자를 맞혀보세요(0-100): \"))\n",
    "\n",
    "    if answer > num: \n",
    "        print(\"DOWN!\")\n",
    "    elif answer < num:\n",
    "        print(\"UP!\")\n",
    "    elif answer == num:\n",
    "        print(\"정답입니다!\")\n",
    "        break\n",
    "    else:\n",
    "        print(\"알 수 없는 오류가 발생했어요.\")\n",
    "\n",
    "    if chance == 0:\n",
    "        print(\"모든 기회를 다 사용하셨네요. 아쉽게 실패했습니다.\")\n",
    "        break"
   ]
  },
  {
   "cell_type": "markdown",
   "metadata": {},
   "source": [
    "---"
   ]
  }
 ],
 "metadata": {
  "kernelspec": {
   "display_name": "Python 3",
   "language": "python",
   "name": "python3"
  },
  "language_info": {
   "codemirror_mode": {
    "name": "ipython",
    "version": 3
   },
   "file_extension": ".py",
   "mimetype": "text/x-python",
   "name": "python",
   "nbconvert_exporter": "python",
   "pygments_lexer": "ipython3",
   "version": "3.8.3"
  }
 },
 "nbformat": 4,
 "nbformat_minor": 4
}
