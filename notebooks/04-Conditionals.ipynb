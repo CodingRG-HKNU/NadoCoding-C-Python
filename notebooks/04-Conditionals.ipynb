{
 "cells": [
  {
   "cell_type": "markdown",
   "metadata": {
    "slideshow": {
     "slide_type": "slide"
    }
   },
   "source": [
    "# 4장 조건문"
   ]
  },
  {
   "cell_type": "markdown",
   "metadata": {},
   "source": [
    "## 핵심: 조건과 분기\n",
    "\n",
    "* `if ... else`\n",
    "* `break`\n",
    "* `continue`\n",
    "* `switch`"
   ]
  },
  {
   "cell_type": "markdown",
   "metadata": {
    "slideshow": {
     "slide_type": "slide"
    }
   },
   "source": [
    "## (C 언어) 숫자 맞히기 Up&Down"
   ]
  },
  {
   "cell_type": "markdown",
   "metadata": {
    "slideshow": {
     "slide_type": "fragment"
    }
   },
   "source": [
    "* 동영상: [(나도코딩 C) 4-1 숫자 맞히기 Up&Down](https://www.youtube.com/watch?v=62pWle2i3ek&list=PLMsa_0kAjjrdiwQykI8eb3H4IRxLTqCnP&index=21)"
   ]
  },
  {
   "cell_type": "markdown",
   "metadata": {},
   "source": [
    "### 게임 설명"
   ]
  },
  {
   "cell_type": "markdown",
   "metadata": {},
   "source": [
    "* 상대방이 생각한 1부터 100사이의 수를 맞히는 게임\n",
    "* 언급한 숫자가 맞혀야 하는 숫자보다 크면 Down으로 반응\n",
    "* 언급한 숫자가 맞혀야 하는 숫자보다 크면 Up으로 반응\n",
    "* 지정된 횟수 안에 지정된 숫자를 맞혀야 함"
   ]
  },
  {
   "cell_type": "markdown",
   "metadata": {
    "slideshow": {
     "slide_type": "slide"
    }
   },
   "source": [
    "## (C 언어) `if ... else`"
   ]
  },
  {
   "cell_type": "markdown",
   "metadata": {
    "slideshow": {
     "slide_type": "fragment"
    }
   },
   "source": [
    "* 동영상: [(나도코딩 C) 4-2 If Else](https://www.youtube.com/watch?v=9dxy-eG8gvI&list=PLMsa_0kAjjrdiwQykI8eb3H4IRxLTqCnP&index=22)"
   ]
  },
  {
   "cell_type": "markdown",
   "metadata": {},
   "source": [
    "### 형식\n",
    "\n",
    "```c\n",
    "if (조건)\n",
    "    {\n",
    "        명령문\n",
    "    }\n",
    "else\n",
    "    {\n",
    "        명령문\n",
    "    }\n",
    "```"
   ]
  },
  {
   "cell_type": "markdown",
   "metadata": {},
   "source": [
    "### 예제: `if ... else ...`"
   ]
  },
  {
   "cell_type": "markdown",
   "metadata": {},
   "source": [
    "```c\n",
    "#include <stdio.h>\n",
    "\n",
    "int main(void) {\n",
    "    /*\n",
    "\t버스를 탄다고 가정\n",
    "\t학생/일반인으로 구분\n",
    "\t일반인: 20세 이상\n",
    "\t*/\n",
    "    \n",
    "    int age = 15;\n",
    "\tif (age >= 20)\n",
    "        printf(\"일반인입니다.\");\n",
    "    else\n",
    "        printf(\"학생입니다.\");\n",
    "\n",
    "    return 0;\n",
    "\n",
    "}\n",
    "```"
   ]
  },
  {
   "cell_type": "markdown",
   "metadata": {
    "slideshow": {
     "slide_type": "slide"
    }
   },
   "source": [
    "---\n",
    "\n",
    "### Python 구현"
   ]
  },
  {
   "cell_type": "code",
   "execution_count": null,
   "metadata": {
    "slideshow": {
     "slide_type": "slide"
    }
   },
   "outputs": [],
   "source": []
  },
  {
   "cell_type": "markdown",
   "metadata": {},
   "source": [
    "---"
   ]
  },
  {
   "cell_type": "markdown",
   "metadata": {},
   "source": [
    "### 예제: `if ... else if ... else`"
   ]
  },
  {
   "cell_type": "markdown",
   "metadata": {},
   "source": [
    "```c\n",
    "#include <stdio.h>\n",
    "\n",
    "int main(void) {\n",
    "    /*\n",
    "\t초등학생(8-13)/중학생(14-16)/고등학생(17-19)/일반인으로 구분하기\n",
    "\n",
    "\tif ... else if ... else 형식 활용\n",
    "\t*/\n",
    "    \n",
    "    int age = 25;\n",
    "\tif (age >= 8 && age <= 13)\n",
    "        printf(\"초등학생입니다.\");\n",
    "    else if (age >= 14 && age <= 16)\n",
    "        printf(\"중학생입니다.\");\n",
    "    // else if 반복 사용 가능\n",
    "\telse if (age >= 17 & age <= 19)\n",
    "        printf(\"고등학생입니다.\");\n",
    "    // 마지막 남은 경우는 else로 처리\n",
    "    else\n",
    "        printf(\"일반인입니다.\");\n",
    "\n",
    "    return 0;\n",
    "\n",
    "}\n",
    "```"
   ]
  },
  {
   "cell_type": "markdown",
   "metadata": {},
   "source": [
    "#### PythonTutor 활용하기\n",
    "\n",
    "* [(C 언어) if ... else if ... else](http://pythontutor.com/visualize.html#code=%23include%20%3Cstdio.h%3E%0A%0Aint%20main%28void%29%20%7B%0A%20%20%20%20/*%0A%20%20%20%20%EC%B4%88%EB%93%B1%ED%95%99%EC%83%9D%288-13%29/%EC%A4%91%ED%95%99%EC%83%9D%2814-16%29/%EA%B3%A0%EB%93%B1%ED%95%99%EC%83%9D%2817-19%29/%EC%9D%BC%EB%B0%98%EC%9D%B8%EC%9C%BC%EB%A1%9C%20%EA%B5%AC%EB%B6%84%ED%95%98%EA%B8%B0%0A%0A%20%20%20%20if%20...%20else%20if%20...%20else%20if%20...%20else%20%ED%98%95%EC%8B%9D%20%ED%99%9C%EC%9A%A9%0A%20%20%20%20*/%0A%20%20%20%20%0A%20%20%20%20int%20age%20%3D%2025%3B%0A%20%20%20%20if%20%28age%20%3E%3D%208%20%26%26%20age%20%3C%3D%2013%29%0A%20%20%20%20%20%20%20%20printf%28%22%EC%B4%88%EB%93%B1%ED%95%99%EC%83%9D%EC%9E%85%EB%8B%88%EB%8B%A4.%22%29%3B%0A%20%20%20%20else%20if%20%28age%20%3E%3D%2014%20%26%26%20age%20%3C%3D%2016%29%0A%20%20%20%20%20%20%20%20printf%28%22%EC%A4%91%ED%95%99%EC%83%9D%EC%9E%85%EB%8B%88%EB%8B%A4.%22%29%3B%0A%20%20%20%20else%20if%20%28age%20%3E%3D%2017%20%26%20age%20%3C%3D%2019%29%0A%20%20%20%20%20%20%20%20printf%28%22%EA%B3%A0%EB%93%B1%ED%95%99%EC%83%9D%EC%9E%85%EB%8B%88%EB%8B%A4.%22%29%3B%0A%20%20%20%20else%0A%20%20%20%20%20%20%20%20printf%28%22%EC%9D%BC%EB%B0%98%EC%9D%B8%EC%9E%85%EB%8B%88%EB%8B%A4.%22%29%3B%0A%0A%20%20%20%20return%200%3B%0A%0A%7D&cumulative=false&curInstr=0&heapPrimitives=nevernest&mode=display&origin=opt-frontend.js&py=c&rawInputLstJSON=%5B%5D&textReferences=false)"
   ]
  },
  {
   "cell_type": "markdown",
   "metadata": {
    "slideshow": {
     "slide_type": "slide"
    }
   },
   "source": [
    "---\n",
    "\n",
    "### Python 구현"
   ]
  },
  {
   "cell_type": "code",
   "execution_count": null,
   "metadata": {
    "slideshow": {
     "slide_type": "slide"
    }
   },
   "outputs": [],
   "source": []
  },
  {
   "cell_type": "markdown",
   "metadata": {},
   "source": [
    "---"
   ]
  },
  {
   "cell_type": "markdown",
   "metadata": {
    "slideshow": {
     "slide_type": "slide"
    }
   },
   "source": [
    "## (C 언어) `break/continue`"
   ]
  },
  {
   "cell_type": "markdown",
   "metadata": {
    "slideshow": {
     "slide_type": "fragment"
    }
   },
   "source": [
    "* 동영상: [(나도코딩 C) 4-3 Break Continue](https://www.youtube.com/watch?v=T-IiUqRbeu4&list=PLMsa_0kAjjrdiwQykI8eb3H4IRxLTqCnP&index=23)"
   ]
  },
  {
   "cell_type": "markdown",
   "metadata": {},
   "source": [
    "### `break`"
   ]
  },
  {
   "cell_type": "markdown",
   "metadata": {},
   "source": [
    "* `break`가 실행되는 순간에 가장 가까운 반복문의 실행 종료"
   ]
  },
  {
   "cell_type": "markdown",
   "metadata": {},
   "source": [
    "### 예제: `break`"
   ]
  },
  {
   "cell_type": "markdown",
   "metadata": {},
   "source": [
    "```c\n",
    "#include <stdio.h>\n",
    "\n",
    "int main(void) {\n",
    "    /*\n",
    "\tbreak/continue\n",
    "\t\n",
    "\t1번부터 30번까지 있는 반에서 1번에서 5번까지 조별 발표하기\n",
    "\t*/\n",
    "\n",
    "\tfor (int i = 1; i <=30; i++)\n",
    "\t{\n",
    "\t\tif (i >= 6)\n",
    "\t\t{\n",
    "\t\t\tprintf(\"나머지 학생은 집에 가세요\\n\");\n",
    "\t\t\t// 이제 for 반복문을 더이상 실행하지 않도록 하기\n",
    "\t\t\tbreak;        \n",
    "\t\t}\n",
    "\t\tprintf(\"%d번 학생은 조별발표 준비 하세요\\n\", i);\n",
    "\t}\n",
    "\n",
    "    return 0; \n",
    "\n",
    "}\n",
    "```"
   ]
  },
  {
   "cell_type": "markdown",
   "metadata": {},
   "source": [
    "#### PythonTutor 활용하기\n",
    "\n",
    "* [(C 언어) break](http://pythontutor.com/visualize.html#code=%23include%20%3Cstdio.h%3E%0A%0Aint%20main%28void%29%20%7B%0A%20%20%20%20/*%0A%20%20%20%20break/continue%0A%20%20%20%20%0A%20%20%20%201%EB%B2%88%EB%B6%80%ED%84%B0%2030%EB%B2%88%EA%B9%8C%EC%A7%80%20%EC%9E%88%EB%8A%94%20%EB%B0%98%EC%97%90%EC%84%9C%201%EB%B2%88%EC%97%90%EC%84%9C%205%EB%B2%88%EA%B9%8C%EC%A7%80%20%EC%A1%B0%EB%B3%84%20%EB%B0%9C%ED%91%9C%ED%95%98%EA%B8%B0%0A%20%20%20%20*/%0A%0A%20%20%20%20for%20%28int%20i%20%3D%201%3B%20i%20%3C%3D30%3B%20i%2B%2B%29%0A%20%20%20%20%7B%0A%20%20%20%20%20%20%20%20if%20%28i%20%3E%3D%206%29%0A%20%20%20%20%20%20%20%20%7B%0A%20%20%20%20%20%20%20%20%20%20%20%20printf%28%22%EB%82%98%EB%A8%B8%EC%A7%80%20%ED%95%99%EC%83%9D%EC%9D%80%20%EC%A7%91%EC%97%90%20%EA%B0%80%EC%84%B8%EC%9A%94%5Cn%22%29%3B%0A%20%20%20%20%20%20%20%20%20%20%20%20//%20%EC%9D%B4%EC%A0%9C%20for%20%EB%B0%98%EB%B3%B5%EB%AC%B8%EC%9D%84%20%EB%B9%A0%EC%A0%B8%EB%82%98%EC%98%A4%EB%8F%84%EB%A1%9D%20%ED%95%B4%EC%95%BC%20%ED%95%A8.%0A%20%20%20%20%20%20%20%20%20%20%20%20break%3B%20%20%20%20%20%20%20%20%0A%20%20%20%20%20%20%20%20%7D%0A%20%20%20%20%20%20%20%20printf%28%22%25d%EB%B2%88%20%ED%95%99%EC%83%9D%EC%9D%80%20%EC%A1%B0%EB%B3%84%EB%B0%9C%ED%91%9C%20%EC%A4%80%EB%B9%84%20%ED%95%98%EC%84%B8%EC%9A%94%5Cn%22,%20i%29%3B%0A%20%20%20%20%7D%0A%0A%20%20%20%20return%200%3B%20%0A%0A%7D&cumulative=false&curInstr=0&heapPrimitives=nevernest&mode=display&origin=opt-frontend.js&py=c&rawInputLstJSON=%5B%5D&textReferences=false)"
   ]
  },
  {
   "cell_type": "markdown",
   "metadata": {
    "slideshow": {
     "slide_type": "slide"
    }
   },
   "source": [
    "---\n",
    "\n",
    "### Python 구현"
   ]
  },
  {
   "cell_type": "code",
   "execution_count": null,
   "metadata": {
    "slideshow": {
     "slide_type": "slide"
    }
   },
   "outputs": [],
   "source": []
  },
  {
   "cell_type": "markdown",
   "metadata": {},
   "source": [
    "---"
   ]
  },
  {
   "cell_type": "markdown",
   "metadata": {},
   "source": [
    "### `continue`"
   ]
  },
  {
   "cell_type": "markdown",
   "metadata": {},
   "source": [
    "* `continue`가 실행되는 순간에 가장 가까운 반복문의 다음 경우 실행"
   ]
  },
  {
   "cell_type": "markdown",
   "metadata": {},
   "source": [
    "### 예제: `continue`"
   ]
  },
  {
   "cell_type": "markdown",
   "metadata": {},
   "source": [
    "```c\n",
    "#include <stdio.h>\n",
    "\n",
    "int main(void) {\n",
    "    /*\n",
    "\tbreak/continue\n",
    "\t\n",
    "\t1번부터 30번까지 있는 반에서 7번 학생은 결석\n",
    "\t따라서 7번을 제외하고 6번부터 10번까지 조별발표 하세요.\n",
    "\t*/\n",
    "\n",
    "\tfor (int i = 1; i <=30; i++)\n",
    "\t{\n",
    "\t\tif (i >= 6 && i <= 10)\n",
    "\t\t{\n",
    "\t\t\tif (i == 7)\n",
    "\t\t\t{\n",
    "\t\t\tprintf(\"%d번 학생은 결석입니다.\\n\", i);\n",
    "\t\t\t// 이제 7번 학생은 건너뛰고 for 반복문을 8번 학생에 대해 실행하도록 하기\n",
    "\t\t\tcontinue ;\n",
    "\t\t\t}        \n",
    "\t\t\n",
    "\t\t\tprintf(\"%d번 학생은 조별발표 준비 하세요\\n\", i);\n",
    "\t\t}\n",
    "\t}\n",
    "\n",
    "    return 0; \n",
    "\n",
    "}\n",
    "```"
   ]
  },
  {
   "cell_type": "markdown",
   "metadata": {},
   "source": [
    "#### PythonTutor 활용하기\n",
    "\n",
    "* [(C 언어) continue](http://pythontutor.com/visualize.html#code=%23include%20%3Cstdio.h%3E%0A%0Aint%20main%28void%29%20%7B%0A%20%20%20%20/*%0A%20%20%20%20break/continue%0A%20%20%20%20%0A%20%20%20%201%EB%B2%88%EB%B6%80%ED%84%B0%2030%EB%B2%88%EA%B9%8C%EC%A7%80%20%EC%9E%88%EB%8A%94%20%EB%B0%98%EC%97%90%EC%84%9C%207%EB%B2%88%20%ED%95%99%EC%83%9D%EC%9D%80%20%EA%B2%B0%EC%84%9D%0A%20%20%20%20%EB%94%B0%EB%9D%BC%EC%84%9C%207%EB%B2%88%EC%9D%84%20%EC%A0%9C%EC%99%B8%ED%95%98%EA%B3%A0%206%EB%B2%88%EB%B6%80%ED%84%B0%2010%EB%B2%88%EA%B9%8C%EC%A7%80%20%EC%A1%B0%EB%B3%84%EB%B0%9C%ED%91%9C%20%ED%95%98%EC%84%B8%EC%9A%94.%0A%20%20%20%20*/%0A%0A%20%20%20%20for%20%28int%20i%20%3D%201%3B%20i%20%3C%3D30%3B%20i%2B%2B%29%0A%20%20%20%20%7B%0A%20%20%20%20%20%20%20%20if%20%28i%20%3E%3D%206%20%26%26%20i%20%3C%3D%2010%29%0A%20%20%20%20%20%20%20%20%7B%0A%20%20%20%20%20%20%20%20%20%20%20%20if%20%28i%20%3D%3D%207%29%0A%20%20%20%20%20%20%20%20%20%20%20%20%7B%0A%20%20%20%20%20%20%20%20%20%20%20%20printf%28%22%25d%EB%B2%88%20%ED%95%99%EC%83%9D%EC%9D%80%20%EA%B2%B0%EC%84%9D%EC%9E%85%EB%8B%88%EB%8B%A4.%5Cn%22,%20i%29%3B%0A%20%20%20%20%20%20%20%20%20%20%20%20//%20%EC%9D%B4%EC%A0%9C%207%EB%B2%88%20%ED%95%99%EC%83%9D%EC%9D%80%20%EA%B1%B4%EB%84%88%EB%9B%B0%EA%B3%A0%20for%20%EB%B0%98%EB%B3%B5%EB%AC%B8%20%EC%9D%B4%EC%96%B4%EB%82%98%EA%B0%80%EB%8F%84%EB%A1%9D%20%ED%95%B4%EC%95%BC%ED%95%A8.%0A%20%20%20%20%20%20%20%20%20%20%20%20continue%20%3B%0A%20%20%20%20%20%20%20%20%20%20%20%20%7D%20%20%20%20%20%20%20%20%0A%20%20%20%20%20%20%20%20%0A%20%20%20%20%20%20%20%20%20%20%20%20printf%28%22%25d%EB%B2%88%20%ED%95%99%EC%83%9D%EC%9D%80%20%EC%A1%B0%EB%B3%84%EB%B0%9C%ED%91%9C%20%EC%A4%80%EB%B9%84%20%ED%95%98%EC%84%B8%EC%9A%94%5Cn%22,%20i%29%3B%0A%20%20%20%20%20%20%20%20%7D%0A%20%20%20%20%7D%0A%0A%20%20%20%20return%200%3B%20%0A%0A%7D&cumulative=false&curInstr=0&heapPrimitives=nevernest&mode=display&origin=opt-frontend.js&py=c&rawInputLstJSON=%5B%5D&textReferences=false)"
   ]
  },
  {
   "cell_type": "markdown",
   "metadata": {
    "slideshow": {
     "slide_type": "slide"
    }
   },
   "source": [
    "---\n",
    "\n",
    "### Python 구현"
   ]
  },
  {
   "cell_type": "code",
   "execution_count": null,
   "metadata": {
    "slideshow": {
     "slide_type": "slide"
    }
   },
   "outputs": [],
   "source": []
  },
  {
   "cell_type": "markdown",
   "metadata": {},
   "source": [
    "---"
   ]
  },
  {
   "cell_type": "markdown",
   "metadata": {
    "slideshow": {
     "slide_type": "slide"
    }
   },
   "source": [
    "## (C 언어) And/Or 부울 연산"
   ]
  },
  {
   "cell_type": "markdown",
   "metadata": {
    "slideshow": {
     "slide_type": "fragment"
    }
   },
   "source": [
    "* 동영상: [(나도코딩 C) 4-4 And Or 연산](https://www.youtube.com/watch?v=LjP9HlJBQ6s&list=PLMsa_0kAjjrdiwQykI8eb3H4IRxLTqCnP&index=24)"
   ]
  },
  {
   "cell_type": "markdown",
   "metadata": {},
   "source": [
    "### 예제"
   ]
  },
  {
   "cell_type": "markdown",
   "metadata": {},
   "source": [
    "```c\n",
    "\n",
    "```"
   ]
  },
  {
   "cell_type": "markdown",
   "metadata": {
    "slideshow": {
     "slide_type": "slide"
    }
   },
   "source": [
    "---\n",
    "\n",
    "### Python 구현"
   ]
  },
  {
   "cell_type": "code",
   "execution_count": null,
   "metadata": {
    "slideshow": {
     "slide_type": "slide"
    }
   },
   "outputs": [],
   "source": []
  },
  {
   "cell_type": "markdown",
   "metadata": {},
   "source": [
    "---"
   ]
  }
 ],
 "metadata": {
  "kernelspec": {
   "display_name": "Python 3",
   "language": "python",
   "name": "python3"
  },
  "language_info": {
   "codemirror_mode": {
    "name": "ipython",
    "version": 3
   },
   "file_extension": ".py",
   "mimetype": "text/x-python",
   "name": "python",
   "nbconvert_exporter": "python",
   "pygments_lexer": "ipython3",
   "version": "3.7.6"
  }
 },
 "nbformat": 4,
 "nbformat_minor": 4
}
