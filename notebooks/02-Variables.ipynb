{
 "cells": [
  {
   "cell_type": "markdown",
   "metadata": {},
   "source": [
    "# 2장 변수"
   ]
  },
  {
   "cell_type": "markdown",
   "metadata": {},
   "source": [
    "##  printf, scanf"
   ]
  },
  {
   "cell_type": "markdown",
   "metadata": {},
   "source": [
    "* 정수: 12\n",
    "\n",
    "\n",
    "* 실수: 46.5"
   ]
  },
  {
   "cell_type": "markdown",
   "metadata": {},
   "source": [
    "## 변수\n",
    "\n",
    "* 변하는 수\n",
    "* 나이: 해가 지나면서 나이가 달라짐\n",
    "\n",
    "* 자료형 명시해야 함.\n",
    "\n",
    "* 자료형: 정수, 실수, 부울값 등등"
   ]
  },
  {
   "cell_type": "markdown",
   "metadata": {},
   "source": [
    "### 주석"
   ]
  },
  {
   "cell_type": "markdown",
   "metadata": {},
   "source": [
    "* 여러 줄 주석: `/* ... /*`"
   ]
  },
  {
   "cell_type": "markdown",
   "metadata": {},
   "source": [
    "* 한 줄 주석: `//`"
   ]
  },
  {
   "cell_type": "markdown",
   "metadata": {},
   "source": [
    "```c\n",
    "#include <stdio.h>\n",
    "\n",
    "int main(void) {\n",
    "    // 정수형 변수에 대한 예제\n",
    "\t/* int age = 12;  //자료형 명시\n",
    "\tprintf(\"%d\\n\", age);\n",
    "\tage = 13;     // 선언된 변수는 자료형 명시하지 않음\n",
    "\tprintf(\"%d\\n\", age); */\n",
    "    \n",
    "    printf(\"1\\n\");\n",
    "    // printf(\"2\\n\");\n",
    "    printf(\"3\\n\");\n",
    "\treturn 0;\n",
    "}\n",
    "\n",
    "```"
   ]
  },
  {
   "cell_type": "markdown",
   "metadata": {},
   "source": [
    "### 상수\n",
    "\n",
    "* 한 번 정의하면 변하지 않는 수\n",
    "* 수정하려 하면 오류 발생"
   ]
  },
  {
   "cell_type": "markdown",
   "metadata": {},
   "source": [
    "* 상수를 수정하려 하면 오류 발생"
   ]
  },
  {
   "cell_type": "markdown",
   "metadata": {},
   "source": [
    "```c\n",
    "const int YEAR = 2000;\n",
    "printf(\"태어난 년도: %d\\n\", YEAR);\n",
    "\n",
    "// 상수 수정은 오류 발생시킴\n",
    "YEAR = 1999;\n",
    "```"
   ]
  },
  {
   "cell_type": "markdown",
   "metadata": {},
   "source": [
    "* 오류: `error: assignment of read-only variable ‘YEAR’`"
   ]
  },
  {
   "cell_type": "markdown",
   "metadata": {},
   "source": [
    "### scanf_s"
   ]
  },
  {
   "cell_type": "markdown",
   "metadata": {},
   "source": [
    "* 참조: https://pang2h.tistory.com/200\n"
   ]
  },
  {
   "cell_type": "markdown",
   "metadata": {},
   "source": [
    "```c\n",
    "\n",
    "#include <stdio.h>\n",
    "\n",
    "int main(void) {\n",
    "\t// 정수형 변수에 대한 예제\n",
    "\t/* int age = 12;  //자료형 명시\n",
    "\tprintf(\"%d\\n\", age);\n",
    "\tage = 13;     // 선언된 변수는 자료형 명시하지 않음\n",
    "\tprintf(\"%d\\n\", age); */\n",
    "\t\n",
    "\t// 실수형 변수에 대한 예제\n",
    "\tfloat f = 46.5f;\n",
    "\tprintf(\"%.2f\\n\", f);\n",
    "\tdouble d = 4.428;\n",
    "\tprintf(\"%.2lf\\n\", d);\n",
    "\t\n",
    "\t// 상수: 태어난 연도\n",
    "\t// int YEAR = 2000;\n",
    "\tconst int YEAR = 2000;\n",
    "\tprintf(\"태어난 년도: %d\\n\", YEAR);\n",
    "\n",
    "\t// 상수 수정은 오류 발생시킴\n",
    "\tYEAR = 1999;\n",
    "\treturn 0;\n",
    "}\n",
    "```"
   ]
  },
  {
   "cell_type": "markdown",
   "metadata": {},
   "source": [
    "```c\n",
    " #include <stdio.h>\n",
    "\n",
    "int main(void) {\n",
    "\t// 연산\n",
    "\t\n",
    "\tint add = 3 + 7;  // 10 (계산된 후에 할당)\n",
    "\t// printf(\"3 + 7 = %d\\n\", add);\n",
    "\tprintf(\"%d + %d = %d\\n\", 3, 7, 3 + 7);\n",
    "\tprintf(\"%d * %d = %d\\n\", 3, 7, 3 * 7);\n",
    "\t\n",
    "\treturn 0;\n",
    "}\n",
    "```"
   ]
  },
  {
   "cell_type": "markdown",
   "metadata": {},
   "source": [
    "```c\n",
    "#include <stdio.h>\n",
    "\n",
    "int main(void) {\n",
    "\t// scanf\n",
    "\t// 키모드 입력을 받아서 저장\n",
    "\t/* int input;\n",
    "\tint input2;\n",
    "\tprintf(\"값을 입력하세요: \");\n",
    "\tscanf(\"%d, %d\", &input, &input2);\n",
    "\t// 동영상에서는 scanf_s 사용. 참조 사이트 확인 필요\n",
    "\tprintf(\"입력값: %d, %d\\n\", input, input2); */\n",
    "\t\n",
    "\t/* int one, two, three;\n",
    "\tprintf(\"3개의 정수를 입력하세요: \\n\");\n",
    "\tscanf(\"%d %d %d\", &one, &two, &three);\n",
    "\tprintf(\"첫번째 값: %d\\n\", one);\n",
    "\tprintf(\"두번째 값: %d\\n\", two);\n",
    "\tprintf(\"세번째 값: %d\\n\", three); */\n",
    "\t\n",
    "\t// 문자(한 글자), 문자여(한 글자 이상의 여러 글자)\n",
    "\tchar c = 'A';\n",
    "\tprintf(\"%c\\n\", c);\n",
    "\n",
    "\t// 공간크기 지정 필요\t\n",
    "\tchar str[256];\n",
    "\tscanf(\"%s\", str, sizeof(str));\n",
    "\tprintf(\"%s\\n\", str);\n",
    "\treturn 0;\n",
    "}\n",
    "```"
   ]
  },
  {
   "cell_type": "markdown",
   "metadata": {},
   "source": [
    "## 프로젝트"
   ]
  },
  {
   "cell_type": "markdown",
   "metadata": {},
   "source": [
    "```c\n",
    "#include <stdio.h>\n",
    "\n",
    "int main(void) {\n",
    "\t// 프로젝트\n",
    "\t// 경찰관이 범죄자의 정보를 입수 (조서 작성)\n",
    "\t// 이름? 나이? 몸무게? 키? 범죄명?\n",
    "\t\n",
    "\tchar name[256];\n",
    "\tprintf(\"이름이 뭐에요? \");\n",
    "\tscanf(\"%s\", name, sizeof(name));\n",
    "\t\n",
    "\tint age;\n",
    "\tprintf(\"몇 살이에요? \");\n",
    "\tscanf(\"%d\", &age);\n",
    "\n",
    "\tfloat weight;\n",
    "\tprintf(\"몸무게는 몇 kg이에요? \");\n",
    "\tscanf(\"%f\", &weight);\n",
    "\n",
    "\tdouble height;\n",
    "\tprintf(\"키는 몇 cm이에요? \");\n",
    "\tscanf(\"%lf\", &height);\n",
    "\t\n",
    "\tchar what[256];\n",
    "\tprintf(\"무슨 범죄를 저질렀어요? \");\n",
    "\tscanf(\"%s\", what, sizeof(what));\n",
    "\t\n",
    "\t// 조서 내용 출력\n",
    "\t\n",
    "\tprintf(\"\\n\\n--- 범죄자 정보 ---\\n\\n\");\n",
    "\tprintf(\" 이름    : %s\\n\", name);\n",
    "\tprintf(\" 나이    : %d\\n\", age);\n",
    "\tprintf(\" 몸무게  : %.2f\\n\", weight);\n",
    "\tprintf(\" 키      : %.2lf\\n\", height);\n",
    "\tprintf(\" 범죄    : %s\\n\", what);\n",
    "\t\n",
    "\treturn 0;\n",
    "}\n",
    "\n",
    "```"
   ]
  }
 ],
 "metadata": {
  "kernelspec": {
   "display_name": "Python 3",
   "language": "python",
   "name": "python3"
  },
  "language_info": {
   "codemirror_mode": {
    "name": "ipython",
    "version": 3
   },
   "file_extension": ".py",
   "mimetype": "text/x-python",
   "name": "python",
   "nbconvert_exporter": "python",
   "pygments_lexer": "ipython3",
   "version": "3.7.6"
  }
 },
 "nbformat": 4,
 "nbformat_minor": 4
}
