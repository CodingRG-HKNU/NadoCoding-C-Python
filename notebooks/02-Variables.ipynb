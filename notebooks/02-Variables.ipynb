{
 "cells": [
  {
   "cell_type": "markdown",
   "metadata": {},
   "source": [
    "# 2장 변수, 상수, printf, scanf"
   ]
  },
  {
   "cell_type": "markdown",
   "metadata": {},
   "source": [
    "## 정수형 변수"
   ]
  },
  {
   "cell_type": "markdown",
   "metadata": {},
   "source": [
    "* 동영상: [(나도코딩 C) 2-2 정수형 변수](https://www.youtube.com/watch?v=pQjUGIeSr3k&list=PLMsa_0kAjjrdiwQykI8eb3H4IRxLTqCnP&index=5)"
   ]
  },
  {
   "cell_type": "markdown",
   "metadata": {},
   "source": [
    "---\n",
    "```c\n",
    "#include <stdio.h>\n",
    "\n",
    "int main(void) {\n",
    "\tint age = 12;        //자료형 명시\n",
    "\tprintf(\"%d\\n\", age);\n",
    "\t// 변수는 수정 가능\n",
    "\t// 이미 선언된 변수는 자료형 명시하지 않음\n",
    "\tage = 13;            \n",
    "\tprintf(\"%d\\n\", age);\n",
    "\n",
    "\treturn 0;\n",
    "}\n",
    "```\n",
    "---"
   ]
  },
  {
   "cell_type": "markdown",
   "metadata": {},
   "source": [
    "## 주석"
   ]
  },
  {
   "cell_type": "markdown",
   "metadata": {},
   "source": [
    "* 동영상: [(나도코딩 C) 2-3 주석](https://www.youtube.com/watch?v=tqUVxNHeUys&list=PLMsa_0kAjjrdiwQykI8eb3H4IRxLTqCnP&index=6)"
   ]
  },
  {
   "cell_type": "markdown",
   "metadata": {},
   "source": [
    "---\n",
    "```c\n",
    "#include <stdio.h>\n",
    "\n",
    "int main(void) {\n",
    "\t// 여러 줄 주석은 /* ... */로 감싸야 함\n",
    "    \n",
    "    // 정수형 변수 예제\n",
    "\t/* int age = 12;        //자료형 명시\n",
    "\tprintf(\"%d\\n\", age);\n",
    "\t// 변수는 수정 가능\n",
    "\t// 이미 선언된 변수는 자료형 명시하지 않음\n",
    "\tage = 13;            \n",
    "\tprintf(\"%d\\n\", age); */\n",
    "\n",
    "\t// 한 줄 주석\n",
    "\tprintf(\"1\\n\");\n",
    "\t// printf(\"2\\n\");   // 2는 범위에서 벗어남\n",
    "\tprintf(\"3\\n\");\n",
    "\n",
    "\treturn 0;\n",
    "}\n",
    "```\n",
    "---"
   ]
  },
  {
   "cell_type": "markdown",
   "metadata": {},
   "source": [
    "## 실수형 변수"
   ]
  },
  {
   "cell_type": "markdown",
   "metadata": {},
   "source": [
    "* 동영상: [(나도코딩 C) 2-4 실수형 변수](https://www.youtube.com/watch?v=PtUCr7a1dPo&list=PLMsa_0kAjjrdiwQykI8eb3H4IRxLTqCnP&index=7)"
   ]
  },
  {
   "cell_type": "markdown",
   "metadata": {},
   "source": [
    "---\n",
    "```c\n",
    "#include <stdio.h>\n",
    "\n",
    "int main(void) {\n",
    "\t// 실수형 변수 예제\n",
    "\tfloat f = 46.5f;       // float 자료형 뒤에 f 붙혀줄 것\n",
    "\tprintf(\"%f\\n\", f); \n",
    "\tprintf(\"%.2f\\n\", f);   // 소수점 자릿수 지정\n",
    "\tdouble d = 4.428;\n",
    "\tprintf(\"%.3lf\\n\", d);\n",
    "\tprintf(\"%lf\\n\", d); \n",
    "\n",
    "\treturn 0;\n",
    "}\n",
    "```\n",
    "---"
   ]
  },
  {
   "cell_type": "markdown",
   "metadata": {},
   "source": [
    "## 상수"
   ]
  },
  {
   "cell_type": "markdown",
   "metadata": {},
   "source": [
    "* 동영상: [(나도코딩 C) 2-5 상수](https://www.youtube.com/watch?v=D4rZ7ZxxgAo&list=PLMsa_0kAjjrdiwQykI8eb3H4IRxLTqCnP&index=8)"
   ]
  },
  {
   "cell_type": "markdown",
   "metadata": {},
   "source": [
    "---\n",
    "```c\n",
    "#include <stdio.h>\n",
    "\n",
    "int main(void) {\n",
    "\t// 상수: const 라는 지정자 사용!\n",
    "\tconst int YEAR = 2000;\n",
    "\tprintf(\"태어난 년도: %d\\n\", YEAR);\n",
    "\n",
    "\t// 상수 수정은 오류 발생시킴\n",
    "\t// YEAR = 2001;\n",
    "\n",
    "\treturn 0;\n",
    "}\n",
    "```\n",
    "---"
   ]
  },
  {
   "cell_type": "markdown",
   "metadata": {},
   "source": [
    "## printf"
   ]
  },
  {
   "cell_type": "markdown",
   "metadata": {},
   "source": [
    "* 동영상: [(나도코딩 C) 2-6 printf](https://www.youtube.com/watch?v=wc3zH04hgBo&list=PLMsa_0kAjjrdiwQykI8eb3H4IRxLTqCnP&index=9)"
   ]
  },
  {
   "cell_type": "markdown",
   "metadata": {},
   "source": [
    "---\n",
    "```c\n",
    "#include <stdio.h>\n",
    "\n",
    "int main(void) {\n",
    "\t// 연산\n",
    "\t\n",
    "\tint add = 3 + 7;  // 10 (계산된 후에 저장됨)\n",
    "\tprintf(\"3 + 7 = %d\\n\", add);\n",
    "\n",
    "\t// %d의 반복 횟수만큼 정수를 지정해야 함.\n",
    "\tprintf(\"%d + %d = %d\\n\", 30, 79, 30 + 79);\n",
    "\tprintf(\"%d * %d = %d\\n\", 30, 79, 30 * 79);\n",
    "\t\n",
    "\treturn 0;\n",
    "}\n",
    "```\n",
    "---"
   ]
  },
  {
   "cell_type": "markdown",
   "metadata": {},
   "source": [
    "## scanf"
   ]
  },
  {
   "cell_type": "markdown",
   "metadata": {},
   "source": [
    "* 동영상: [(나도코딩 C) 2-7 scanf](https://www.youtube.com/watch?v=neFzhsdzI0Q&list=PLMsa_0kAjjrdiwQykI8eb3H4IRxLTqCnP&index=10)"
   ]
  },
  {
   "cell_type": "markdown",
   "metadata": {},
   "source": [
    "\n",
    "#### 주의사항\n",
    "\n",
    "* 동영상에서 사용되는 `scanf_s`는 Visual Studio이 사용하는 컴파일에서만 사용될 수 있음.\n",
    "* 다양한 종류의 컴파일러 사용되고 있음.\n",
    "* 대부분의 온라인 서버는 gcc 컴파일러 사용하며 `scanf_s`를 지원하지 않음.\n",
    "* 그럴 때는 `scanf`를 대신 사용하면 됨.\n",
    "* `scanf_s` 관련 자세한 설명: [scanf_s 사용하기](https://pang2h.tistory.com/200) 참조\n"
   ]
  },
  {
   "cell_type": "markdown",
   "metadata": {},
   "source": [
    "### 값 입력받기\n",
    "\n",
    "* 정수, 실수, 문자 등을 입력받는 변수에 `&`(앰퍼샌드) 기호를 붙혀서 사용함에 주의\n",
    "* 문자열을 입력받는 변수에는 `&` 기호 사용하지 않음."
   ]
  },
  {
   "cell_type": "markdown",
   "metadata": {},
   "source": [
    "#### 값 하나 입력받기"
   ]
  },
  {
   "cell_type": "markdown",
   "metadata": {},
   "source": [
    "---\n",
    "```c\n",
    "#include <stdio.h>\n",
    "\n",
    "int main(void) {\n",
    "\t// scanf\n",
    "\t// 키보드 입력을 받아서 저장\n",
    "\tint input;\n",
    "\tprintf(\"값을 입력하세요: \");\n",
    "\tscanf(\"%d\", &input);\n",
    "\tprintf(\"입력값: %d\\n\", input);\n",
    "\n",
    "\treturn 0;\n",
    "}\n",
    "```\n",
    "---"
   ]
  },
  {
   "cell_type": "markdown",
   "metadata": {},
   "source": [
    "#### 값 여러 값 입력받기\n",
    "\n",
    "* 여러 개의 값을 입력할 때 스페이스(space)를 분리 기준으로 사용"
   ]
  },
  {
   "cell_type": "markdown",
   "metadata": {},
   "source": [
    "---\n",
    "```c\n",
    "#include <stdio.h>\n",
    "\n",
    "int main(void) {\n",
    "\t// 여러 개의 값을 입력받기\n",
    "\tint one, two, three;\n",
    "    printf(\"3개의 정수를 입력하세요: \\n\");\n",
    "    scanf(\"%d %d %d\", &one, &two, &three);\n",
    "    printf(\"첫번째 값: %d\\n\", one);\n",
    "    printf(\"두번째 값: %d\\n\", two);\n",
    "    printf(\"세번째 값: %d\\n\", three);\n",
    "\n",
    "\treturn 0;\n",
    "}\n",
    "```\n",
    "---"
   ]
  },
  {
   "cell_type": "markdown",
   "metadata": {},
   "source": [
    "#### 문자와 문자열 입력받기\n",
    "\n",
    "* 문자열은 여러 개의 문자를 의미함\n",
    "* `char`: 문자 자료형\n",
    "    * 문자를 작은따옴표로 감쌈\n",
    "    \n",
    "* 문자열 자료형\n",
    "    * 변수명에 문자열의 길이를 지정하는 형식으로 선언됨.\n",
    "    * 즉, 문자들의 배열로 정의됨.\n",
    "    * 문자열을 큰따옴표포 감쌈"
   ]
  },
  {
   "cell_type": "markdown",
   "metadata": {},
   "source": [
    "##### 문자 입력받기"
   ]
  },
  {
   "cell_type": "markdown",
   "metadata": {},
   "source": [
    "---\n",
    "```c\n",
    "#include <stdio.h>\n",
    "\n",
    "int main(void) {\n",
    "\t// 문자(한 글자), \n",
    "    char c = 'A';\n",
    "    printf(\"c: %c\\n\", c);\n",
    "\n",
    "    char d;\n",
    "    scanf(\"%c\", &d);\n",
    "    printf(\"d: %c\\n\", d);\n",
    "\n",
    "    return 0;\n",
    "}\n",
    "```\n",
    "---"
   ]
  },
  {
   "cell_type": "markdown",
   "metadata": {},
   "source": [
    "##### 문자열 입력받기"
   ]
  },
  {
   "cell_type": "markdown",
   "metadata": {},
   "source": [
    "---\n",
    "```c\n",
    "#include <stdio.h>\n",
    "\n",
    "int main(void) {\n",
    "\t// 문자열(한 글자 이상의 여러 글자)\n",
    "    // 문자열의 길이 지정 필요\n",
    "    // 즉, 문자들의 배열(array) 자료형에 해당\n",
    "    char str[256];\n",
    "    \n",
    "    // 문자열을 입력받을 때 & 기호 사용하지 않음\n",
    "    // sizeof 함수는 지정된 배열의 크기 확인해줌\n",
    "    scanf(\"%s\", str, sizeof(str));\n",
    "    printf(\"%s\\n\", str);\n",
    "\n",
    "    return 0;\n",
    "}\n",
    "```\n",
    "---"
   ]
  },
  {
   "cell_type": "markdown",
   "metadata": {},
   "source": [
    "## 프로젝트"
   ]
  },
  {
   "cell_type": "markdown",
   "metadata": {},
   "source": [
    "* 동영상: [(나도코딩 C) 2-8 프로젝트](https://www.youtube.com/watch?v=Ca_UCG40JX0&list=PLMsa_0kAjjrdiwQykI8eb3H4IRxLTqCnP&index=11)"
   ]
  },
  {
   "cell_type": "markdown",
   "metadata": {},
   "source": [
    "```c\n",
    "#include <stdio.h>\n",
    "\n",
    "int main(void) {\n",
    "\t// 프로젝트\n",
    "    \n",
    "\t// 경찰관이 범죄자의 정보를 입수 (조서 작성)\n",
    "\t// 이름? 나이? 몸무게? 키? 범죄명?\n",
    "\t\n",
    "\tchar name[256];\n",
    "\tprintf(\"이름이 뭐에요? \");\n",
    "\tscanf(\"%s\", name, sizeof(name));\n",
    "\t\n",
    "\tint age;\n",
    "\tprintf(\"몇 살이에요? \");\n",
    "\tscanf(\"%d\", &age);\n",
    "\n",
    "\tfloat weight;\n",
    "\tprintf(\"몸무게는 몇 kg이에요? \");\n",
    "\tscanf(\"%f\", &weight);\n",
    "\n",
    "\tdouble height;\n",
    "\tprintf(\"키는 몇 cm이에요? \");\n",
    "\tscanf(\"%lf\", &height);\n",
    "\t\n",
    "\tchar what[256];\n",
    "\tprintf(\"무슨 범죄를 저질렀어요? \");\n",
    "\tscanf(\"%s\", what, sizeof(what));\n",
    "\t\n",
    "\t// 조서 내용 출력\n",
    "\t\n",
    "\tprintf(\"\\n\\n--- 범죄자 정보 ---\\n\\n\");\n",
    "\tprintf(\" 이름    : %s\\n\", name);\n",
    "\tprintf(\" 나이    : %d\\n\", age);\n",
    "\tprintf(\" 몸무게  : %.2f\\n\", weight);\n",
    "\tprintf(\" 키      : %.2lf\\n\", height);\n",
    "\tprintf(\" 범죄    : %s\\n\", what);\n",
    "\t\n",
    "\treturn 0;\n",
    "}\n",
    "\n",
    "```"
   ]
  }
 ],
 "metadata": {
  "kernelspec": {
   "display_name": "Python 3",
   "language": "python",
   "name": "python3"
  },
  "language_info": {
   "codemirror_mode": {
    "name": "ipython",
    "version": 3
   },
   "file_extension": ".py",
   "mimetype": "text/x-python",
   "name": "python",
   "nbconvert_exporter": "python",
   "pygments_lexer": "ipython3",
   "version": "3.7.6"
  }
 },
 "nbformat": 4,
 "nbformat_minor": 4
}
