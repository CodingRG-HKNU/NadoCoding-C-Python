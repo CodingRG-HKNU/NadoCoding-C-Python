{
 "cells": [
  {
   "cell_type": "markdown",
   "metadata": {
    "slideshow": {
     "slide_type": "slide"
    }
   },
   "source": [
    "# 5장 함수"
   ]
  },
  {
   "cell_type": "markdown",
   "metadata": {},
   "source": [
    "## 핵심\n",
    "\n",
    "* 함수 개념\n",
    "* 함수 정의"
   ]
  },
  {
   "cell_type": "markdown",
   "metadata": {
    "slideshow": {
     "slide_type": "slide"
    }
   },
   "source": [
    "## (C 언어) 비밀번호 마스터"
   ]
  },
  {
   "cell_type": "markdown",
   "metadata": {
    "slideshow": {
     "slide_type": "fragment"
    }
   },
   "source": [
    "* 동영상: [(나도코딩 C) 5-1 비밀번호 마스터](https://www.youtube.com/watch?v=hwerIdYt_Mo&list=PLMsa_0kAjjrdiwQykI8eb3H4IRxLTqCnP&index=27&ab_channel=%EB%82%98%EB%8F%84%EC%BD%94%EB%94%A9)"
   ]
  },
  {
   "cell_type": "markdown",
   "metadata": {},
   "source": [
    "### 게임 설명"
   ]
  },
  {
   "cell_type": "markdown",
   "metadata": {},
   "source": [
    "* 퀴즈를 맞히면서 문을 하나씩 열면서 전진하기"
   ]
  },
  {
   "cell_type": "markdown",
   "metadata": {},
   "source": [
    "---"
   ]
  },
  {
   "cell_type": "markdown",
   "metadata": {
    "slideshow": {
     "slide_type": "slide"
    }
   },
   "source": [
    "## (C 언어) 계산기"
   ]
  },
  {
   "cell_type": "markdown",
   "metadata": {
    "slideshow": {
     "slide_type": "fragment"
    }
   },
   "source": [
    "* 동영상: [(나도코딩 C) 5-2 계산기](https://www.youtube.com/watch?v=hL3AjJX-bY8&list=PLMsa_0kAjjrdiwQykI8eb3H4IRxLTqCnP&index=28&ab_channel=%EB%82%98%EB%8F%84%EC%BD%94%EB%94%A9)"
   ]
  },
  {
   "cell_type": "markdown",
   "metadata": {},
   "source": [
    "#### 함수 활용\n",
    "\n",
    "* 선언을 먼저한 후에 정의를 나중에 할  수 있음."
   ]
  },
  {
   "cell_type": "markdown",
   "metadata": {},
   "source": [
    "---\n",
    "```c\n",
    "#include <stdio.h>\n",
    " \n",
    "// 계산기\n",
    " \n",
    "// 함수 선언\n",
    "void p(int num);\n",
    "\n",
    "int main()\n",
    "{\n",
    "\tint num = 12;\n",
    "\tp(num);\n",
    "\n",
    "\tnum /= 2;\n",
    "\tp(num);\n",
    "     \n",
    "    return 0;\n",
    "}\n",
    "\n",
    "// 함수 정의\n",
    "void p(int num)\n",
    "{\n",
    "\tprintf(\"num은 %d 입니다.\\n\", num);\n",
    "}\n",
    "```"
   ]
  },
  {
   "cell_type": "markdown",
   "metadata": {
    "slideshow": {
     "slide_type": "slide"
    }
   },
   "source": [
    "---\n",
    "\n",
    "### Python 구현"
   ]
  },
  {
   "cell_type": "markdown",
   "metadata": {},
   "source": [
    "* 파이썬에서는 함수 선언과 정의를 동시에 진행해야 함.\n",
    "* 대신, 함수가 실제로 호출되기 이전에 정의되어야 함."
   ]
  },
  {
   "cell_type": "code",
   "execution_count": 1,
   "metadata": {},
   "outputs": [
    {
     "name": "stdout",
     "output_type": "stream",
     "text": [
      "num은 12입니다.\n",
      "num은 6.0입니다.\n"
     ]
    }
   ],
   "source": [
    "# 계산기\n",
    " \n",
    "# 함수 선언 및 정의\n",
    "# f-문자열 활용\n",
    "def p(num):\n",
    "    print(f\"num은 {num}입니다.\")\n",
    "\n",
    "num = 12\n",
    "p(num)\n",
    "\n",
    "num /= 2\n",
    "p(num)"
   ]
  },
  {
   "cell_type": "markdown",
   "metadata": {},
   "source": [
    "#### 주의사항\n",
    "\n",
    "* `print` 또한 이미 하나의 함수임.\n",
    "* 하지만 여기서는 함수를 정의하는 방법을 소개하기 위한 예제로 사용했음."
   ]
  },
  {
   "cell_type": "markdown",
   "metadata": {},
   "source": [
    "---"
   ]
  },
  {
   "cell_type": "markdown",
   "metadata": {
    "slideshow": {
     "slide_type": "slide"
    }
   },
   "source": [
    "## (C 언어) 함수의 형태"
   ]
  },
  {
   "cell_type": "markdown",
   "metadata": {
    "slideshow": {
     "slide_type": "fragment"
    }
   },
   "source": [
    "* 동영상: [(나도코딩 C) 5-3 함수의 형태](https://www.youtube.com/watch?v=x-J-wWFBDtY&list=PLMsa_0kAjjrdiwQykI8eb3H4IRxLTqCnP&index=29)"
   ]
  },
  {
   "cell_type": "markdown",
   "metadata": {},
   "source": [
    "### 함수 정의 형식"
   ]
  },
  {
   "cell_type": "markdown",
   "metadata": {},
   "source": [
    "---\n",
    "```c\n",
    "반환(자료)형 함수이름(자료형1 매개변수1, 자료형2 매개변수2, ..., 자료형k 매개변수k)\n",
    "{\n",
    "    명령문;\n",
    "    ...\n",
    "    return 반환값\n",
    "}\n",
    "```\n",
    "---"
   ]
  },
  {
   "cell_type": "markdown",
   "metadata": {},
   "source": [
    "* 반환형은 반환값의 자료형이 사용되어야 함.\n",
    "\n",
    "* 함수를 미리 선언만 할 때 반환형과 매개변수들의 자료형이 동일하게 선언되어야 함.\n",
    "    * 아래 코드에서 함수 `p()`의 반환형으로 `void`가 사용된 이유는 `printf()` 함수의 반환형이 `void`이기 때문."
   ]
  },
  {
   "cell_type": "markdown",
   "metadata": {},
   "source": [
    "---\n",
    "```c\n",
    "#include <stdio.h>\n",
    " \n",
    "void p(int num);\n",
    "\n",
    "int main()\n",
    "{\n",
    "\tint num = 12;\n",
    "\tp(num);\n",
    "\n",
    "    return 0;\n",
    "}\n",
    "\n",
    "// 함수 정의\n",
    "void p(int num)\n",
    "{\n",
    "\tprintf(\"num은 %d 입니다.\\n\", num);\n",
    "}\n",
    "```"
   ]
  },
  {
   "cell_type": "markdown",
   "metadata": {
    "slideshow": {
     "slide_type": "slide"
    }
   },
   "source": [
    "---\n",
    "\n",
    "### Python 구현"
   ]
  },
  {
   "cell_type": "markdown",
   "metadata": {},
   "source": [
    "* 파이썬에서는 함수 선언과 정의를 동시에 진행해야 함.\n",
    "* 반환형 지정: 사용하지 않음."
   ]
  },
  {
   "cell_type": "markdown",
   "metadata": {},
   "source": [
    "#### 함수 정의 형식\n",
    "\n",
    "```python\n",
    "def 함수이름(매개변수1, 매개변수2, ..., 매개변수k):\n",
    "    명령문\n",
    "    return 반환값\n",
    "```"
   ]
  },
  {
   "cell_type": "markdown",
   "metadata": {},
   "source": [
    "* 반환값이 지정되지 않으면 `None`을 반환하도록 자동 설정됨:\n",
    "\n",
    "    ```python\n",
    "    return None\n",
    "    ```"
   ]
  },
  {
   "cell_type": "markdown",
   "metadata": {},
   "source": [
    "#### 유형 암시하기(typing hint)"
   ]
  },
  {
   "cell_type": "markdown",
   "metadata": {},
   "source": [
    "* 파이썬 3.6 버전부터 C 언어의 정적 타이핑 방식이 형식적으로 지원됨.\n",
    "* 주의: 정적 타이핑의 흉내만 낼 뿐, 실행과는 전혀 상관 없음."
   ]
  },
  {
   "cell_type": "code",
   "execution_count": 21,
   "metadata": {},
   "outputs": [
    {
     "name": "stdout",
     "output_type": "stream",
     "text": [
      "num은 12입니다.\n",
      "num은 6.0입니다.\n"
     ]
    }
   ],
   "source": [
    "# 계산기\n",
    "\n",
    "# 함수 선언 및 정의\n",
    "# 매개변수 유형과 반환형 명시 가능\n",
    "def p(num:int) -> None:\n",
    "    print(f\"num은 {num}입니다.\")\n",
    "\n",
    "num:int = 12\n",
    "p(num)\n",
    "\n",
    "num /= 2\n",
    "p(num)"
   ]
  },
  {
   "cell_type": "markdown",
   "metadata": {},
   "source": [
    "* 주의: 엉뚱한 유형 암시도 아무 문제를 발생시키지 않음.\n",
    "    즉, 말 그대로 유형 암시일 뿐 실제 실행과는 무관함."
   ]
  },
  {
   "cell_type": "code",
   "execution_count": 24,
   "metadata": {},
   "outputs": [
    {
     "name": "stdout",
     "output_type": "stream",
     "text": [
      "num은 12입니다.\n",
      "num은 6.0입니다.\n"
     ]
    }
   ],
   "source": [
    "def p(num:int) -> str:\n",
    "    print(f\"num은 {num}입니다.\")\n",
    "\n",
    "num:int = 12\n",
    "p(num)\n",
    "\n",
    "num /= 2\n",
    "p(num)"
   ]
  },
  {
   "cell_type": "markdown",
   "metadata": {},
   "source": [
    "* 리스트의 경우도 포함될 리스트의 자료형을 명시해 놓고 사용 가능."
   ]
  },
  {
   "cell_type": "code",
   "execution_count": 19,
   "metadata": {},
   "outputs": [],
   "source": [
    "from typing import List # 대문자 L 사용에 주의\n",
    "\n",
    "def total(xs: List[float]) -> float:\n",
    "    return sum(xs)"
   ]
  },
  {
   "cell_type": "markdown",
   "metadata": {},
   "source": [
    "* 보다 상세한 설명은 [파이썬 타입 어노테이션/힌트](https://www.daleseo.com/python-type-annotations/) 참조."
   ]
  },
  {
   "cell_type": "markdown",
   "metadata": {},
   "source": [
    "---"
   ]
  },
  {
   "cell_type": "markdown",
   "metadata": {
    "slideshow": {
     "slide_type": "slide"
    }
   },
   "source": [
    "## (C 언어) 반환값이 없는 함수"
   ]
  },
  {
   "cell_type": "markdown",
   "metadata": {
    "slideshow": {
     "slide_type": "fragment"
    }
   },
   "source": [
    "* 동영상: [(나도코딩 C) 5-4 반환값이 없는 함수](https://www.youtube.com/watch?v=k5F7f3AvHZY&list=PLMsa_0kAjjrdiwQykI8eb3H4IRxLTqCnP&index=30)"
   ]
  },
  {
   "cell_type": "markdown",
   "metadata": {},
   "source": [
    "* 반환값이 없는 함수. 즉, 반환 자료형이 `void`\n",
    "* 아래 형식을 따름:"
   ]
  },
  {
   "cell_type": "markdown",
   "metadata": {},
   "source": [
    "---\n",
    "```c\n",
    "void 함수이름(자료형1 매개변수1, 자료형2 매개변수2, ..., 자료형k 매개변수k)\n",
    "{\n",
    "    명령문;\n",
    "    ...\n",
    "    // return 명령문이 사용되지 않아야 함\n",
    "}\n",
    "```"
   ]
  },
  {
   "cell_type": "markdown",
   "metadata": {},
   "source": [
    "---\n",
    "```c\n",
    "#include <stdio.h>\n",
    " \n",
    "// 함수 선언\n",
    "\n",
    "void function_without_return();\n",
    "\n",
    "int main()\n",
    "{\n",
    "\tfunction_without_return();\n",
    "\n",
    "    return 0;\n",
    "}\n",
    "\n",
    "// 함수 정의\n",
    "// 반환값이 없는 함수\n",
    "void function_without_return()\n",
    "{\n",
    "\tprintf(\"반환값이 없는 함수입니다.\\n\");\n",
    "}\n",
    "```"
   ]
  },
  {
   "cell_type": "markdown",
   "metadata": {},
   "source": [
    "#### 함수 선언과 정의"
   ]
  },
  {
   "cell_type": "markdown",
   "metadata": {},
   "source": [
    "* 함수 선언은 함수가 호출되기 이전에 지정되어 있어야 함.\n",
    "    * 일반적으로 `main` 함수 이전에 선언함.\n",
    "* 함수 정의는 이후에 아무 때나 하면 됨.\n",
    "    * 일반적으로 `main` 함수 밖에서 정의됨."
   ]
  },
  {
   "cell_type": "markdown",
   "metadata": {
    "slideshow": {
     "slide_type": "slide"
    }
   },
   "source": [
    "---\n",
    "\n",
    "### Python 구현"
   ]
  },
  {
   "cell_type": "code",
   "execution_count": null,
   "metadata": {},
   "outputs": [],
   "source": []
  },
  {
   "cell_type": "markdown",
   "metadata": {},
   "source": [
    "---"
   ]
  },
  {
   "cell_type": "markdown",
   "metadata": {
    "slideshow": {
     "slide_type": "slide"
    }
   },
   "source": [
    "## (C 언어) 반환값이 있는 함수"
   ]
  },
  {
   "cell_type": "markdown",
   "metadata": {
    "slideshow": {
     "slide_type": "fragment"
    }
   },
   "source": [
    "* 동영상: [(나도코딩 C) 5-5 반환값이 있는 함수](https://www.youtube.com/watch?v=qi4kIgEVqX4&list=PLMsa_0kAjjrdiwQykI8eb3H4IRxLTqCnP&index=31)"
   ]
  },
  {
   "cell_type": "markdown",
   "metadata": {},
   "source": [
    "* 반환값이 있는 함수. 즉, 반환 자료형이 반환값의 자료형으로 지정되어야 함.\n",
    "* 아래 형식을 따름:"
   ]
  },
  {
   "cell_type": "markdown",
   "metadata": {},
   "source": [
    "---\n",
    "```c\n",
    "반환형 함수이름(자료형1 매개변수1, 자료형2 매개변수2, ..., 자료형k 매개변수k)\n",
    "{\n",
    "    명령문;\n",
    "    ...\n",
    "    return 반환값\n",
    "}\n",
    "```"
   ]
  },
  {
   "cell_type": "markdown",
   "metadata": {},
   "source": [
    "---\n",
    "```c\n",
    "#include <stdio.h>\n",
    " \n",
    "// 함수 선언\n",
    "\n",
    "void p(int num);\n",
    "int function_with_return();\n",
    "\n",
    "int main()\n",
    "{\n",
    "\tint ret = function_with_return();\n",
    "    p(ret);\n",
    "\n",
    "    return 0;\n",
    "}\n",
    "\n",
    "// 함수 정의\n",
    "void p(int num)\n",
    "{\n",
    "\tprintf(\"num은 %d 입니다.\\n\", num);\n",
    "}\n",
    "\n",
    "// 반환값이 있는 함수\n",
    "int function_with_return()\n",
    "{\n",
    "\tprintf(\"반환값이 있는 함수입니다.\\n\");\n",
    "    return 10;\n",
    "}\n",
    "```"
   ]
  },
  {
   "cell_type": "markdown",
   "metadata": {
    "slideshow": {
     "slide_type": "slide"
    }
   },
   "source": [
    "---\n",
    "\n",
    "### Python 구현"
   ]
  },
  {
   "cell_type": "code",
   "execution_count": null,
   "metadata": {},
   "outputs": [],
   "source": []
  },
  {
   "cell_type": "markdown",
   "metadata": {},
   "source": [
    "---"
   ]
  },
  {
   "cell_type": "markdown",
   "metadata": {
    "slideshow": {
     "slide_type": "slide"
    }
   },
   "source": [
    "## (C 언어) 파라미터(전달값)이 없는 함수"
   ]
  },
  {
   "cell_type": "markdown",
   "metadata": {
    "slideshow": {
     "slide_type": "fragment"
    }
   },
   "source": [
    "* 동영상: [(나도코딩 C) 5-6 전달값이 없는 함수](https://www.youtube.com/watch?v=VAGucb4u_QE&list=PLMsa_0kAjjrdiwQykI8eb3H4IRxLTqCnP&index=32)"
   ]
  },
  {
   "cell_type": "markdown",
   "metadata": {},
   "source": [
    "* 파라미터(전달값)이 전혀 사용되지 않는 함수\n",
    "* 함수 호출할 때 반드시 괄호 사용해야 함.\n",
    "* 반환형은 있어도/없어도 됨.\n",
    "* 아래 형식을 따름:"
   ]
  },
  {
   "cell_type": "markdown",
   "metadata": {},
   "source": [
    "---\n",
    "```c\n",
    "반환형 함수이름(자료형1 매개변수1, 자료형2 매개변수2, ..., 자료형k 매개변수k)\n",
    "{\n",
    "    명령문;\n",
    "    ...\n",
    "}\n",
    "```"
   ]
  },
  {
   "cell_type": "markdown",
   "metadata": {},
   "source": [
    "---\n",
    "```c\n",
    "#include <stdio.h>\n",
    " \n",
    "// 함수 선언\n",
    "\n",
    "void function_without_params();\n",
    "\n",
    "int main()\n",
    "{\n",
    "\tfunction_without_params();\n",
    "\n",
    "    return 0;\n",
    "}\n",
    "\n",
    "// 함수 정의\n",
    "// 전달값이 없는 함수\n",
    "void function_without_params()\n",
    "{\n",
    "\tprintf(\"전달값이 없는 함수입니다.\\n\");\n",
    " }\n",
    "```"
   ]
  },
  {
   "cell_type": "markdown",
   "metadata": {
    "slideshow": {
     "slide_type": "slide"
    }
   },
   "source": [
    "---\n",
    "\n",
    "### Python 구현"
   ]
  },
  {
   "cell_type": "code",
   "execution_count": null,
   "metadata": {},
   "outputs": [],
   "source": []
  },
  {
   "cell_type": "markdown",
   "metadata": {},
   "source": [
    "---"
   ]
  },
  {
   "cell_type": "markdown",
   "metadata": {
    "slideshow": {
     "slide_type": "slide"
    }
   },
   "source": [
    "## (C 언어) 파라미터(전달값)이 있는 함수"
   ]
  },
  {
   "cell_type": "markdown",
   "metadata": {
    "slideshow": {
     "slide_type": "fragment"
    }
   },
   "source": [
    "* 동영상: [(나도코딩 C) 5-7 전달값이 있는 함수](https://www.youtube.com/watch?v=AtzogzNw5EA&list=PLMsa_0kAjjrdiwQykI8eb3H4IRxLTqCnP&index=33)"
   ]
  },
  {
   "cell_type": "markdown",
   "metadata": {},
   "source": [
    "* 파라미터(전달값)이 사용되는 함수\n",
    "* 함수 호출할 때 반드시 적절한 수의 인자와 함께 사용해야 함.\n",
    "* 반환값은 있어도 없어도 됨.\n",
    "* 아래 형식을 따름:"
   ]
  },
  {
   "cell_type": "markdown",
   "metadata": {},
   "source": [
    "---\n",
    "```c\n",
    "반환형 함수이름()\n",
    "{\n",
    "    명령문;\n",
    "    ...\n",
    "}\n",
    "```"
   ]
  },
  {
   "cell_type": "markdown",
   "metadata": {},
   "source": [
    "---\n",
    "```c\n",
    "#include <stdio.h>\n",
    " \n",
    "// 함수 선언\n",
    "\n",
    "void function_with_params(int num1, int num2, int num3);\n",
    "\n",
    "int main()\n",
    "{\n",
    "\tfunction_with_params(35, 27, 12);\n",
    "\n",
    "    return 0;\n",
    "}\n",
    "\n",
    "// 함수 정의\n",
    "// 전달값이 있는 함수\n",
    "void function_with_params(int num1, int num2, int num3)\n",
    "{\n",
    "\tprintf(\"전달값이 있는 함수이며, 전달받은 값은 %d, %d, %d 입니다.\\n\", num1, num2, num3);\n",
    "}\n",
    "```"
   ]
  },
  {
   "cell_type": "markdown",
   "metadata": {
    "slideshow": {
     "slide_type": "slide"
    }
   },
   "source": [
    "---\n",
    "\n",
    "### Python 구현"
   ]
  },
  {
   "cell_type": "code",
   "execution_count": null,
   "metadata": {},
   "outputs": [],
   "source": []
  },
  {
   "cell_type": "markdown",
   "metadata": {},
   "source": [
    "---"
   ]
  },
  {
   "cell_type": "markdown",
   "metadata": {
    "slideshow": {
     "slide_type": "slide"
    }
   },
   "source": [
    "## (C 언어) 반환값과 파라미터(전달값)이 있는 함수"
   ]
  },
  {
   "cell_type": "markdown",
   "metadata": {
    "slideshow": {
     "slide_type": "fragment"
    }
   },
   "source": [
    "* 동영상: [(나도코딩 C) 5-8 반환값과 전달값이 있는 함수](https://www.youtube.com/watch?v=zsr5u4gI7Zo&list=PLMsa_0kAjjrdiwQykI8eb3H4IRxLTqCnP&index=34)"
   ]
  },
  {
   "cell_type": "markdown",
   "metadata": {},
   "source": [
    "* 반환값과 파라미터(전달값) 모두 사용되는 함수\n",
    "* 함수 호출할 때 반드시 적절한 수의 인자와 함께 사용해야 함.\n",
    "* 반환값이 반드시 적절하게 명시되어야 함.\n",
    "* 아래 형식을 따름:"
   ]
  },
  {
   "cell_type": "markdown",
   "metadata": {},
   "source": [
    "---\n",
    "```c\n",
    "반환형 함수이름()\n",
    "{\n",
    "    명령문;\n",
    "    ...\n",
    "    return 반환값\n",
    "}\n",
    "```"
   ]
  },
  {
   "cell_type": "markdown",
   "metadata": {},
   "source": [
    "* 반환값을 저장하여 활용 가능"
   ]
  },
  {
   "cell_type": "markdown",
   "metadata": {},
   "source": [
    "---\n",
    "```c\n",
    "#include <stdio.h>\n",
    " \n",
    "// 함수 선언\n",
    "\n",
    "int apple(int total, int ate); // 전체 total 개에서 ate 개를 먹고 남은 수를 반환\n",
    "\n",
    "\n",
    "int main()\n",
    "{\n",
    "\t// 5개의 사과 중에서 2개 먹기\n",
    "    // 반환값을 저장 후 활용\n",
    "\tint ret = apple(5, 2);\n",
    "\tprintf(\"사과 5개 중에 2개를 먹으면? %d 개가 남아요.\\n\", ret);\n",
    "\n",
    "    return 0;\n",
    "}\n",
    "\n",
    "// 함수 정의\n",
    "// 파라미터(전달값)도 받고, 반환값도 있는 함수\n",
    "int apple(int total, int ate)\n",
    "{\n",
    "\treturn (total - ate);\n",
    "}\n",
    "```"
   ]
  },
  {
   "cell_type": "markdown",
   "metadata": {},
   "source": [
    "* 반환값을 직접 활용 가능"
   ]
  },
  {
   "cell_type": "markdown",
   "metadata": {},
   "source": [
    "---\n",
    "```c\n",
    "#include <stdio.h>\n",
    " \n",
    "// 함수 선언\n",
    "\n",
    "int apple(int total, int ate); // 전체 total 개에서 ate 개를 먹고 남은 수를 반환\n",
    "\n",
    "\n",
    "int main()\n",
    "{\n",
    "\t// 5개의 사과 중에서 2개 먹기\n",
    "    // 함수의 반환값 직접 활용\n",
    "\tprintf(\"사과 %d 개 중에 %d 개를 먹으면? %d 개가 남아요.\\n\", 10, 4, apple(10,4));\n",
    "\n",
    "    return 0;\n",
    "}\n",
    "\n",
    "// 함수 정의\n",
    "// 파라미터(전달값)도 받고, 반환값도 있는 함수\n",
    "int apple(int total, int ate)\n",
    "{\n",
    "\treturn (total - ate);\n",
    "}\n",
    "```"
   ]
  },
  {
   "cell_type": "markdown",
   "metadata": {
    "slideshow": {
     "slide_type": "slide"
    }
   },
   "source": [
    "---\n",
    "\n",
    "### Python 구현"
   ]
  },
  {
   "cell_type": "code",
   "execution_count": null,
   "metadata": {},
   "outputs": [],
   "source": []
  },
  {
   "cell_type": "markdown",
   "metadata": {},
   "source": [
    "---"
   ]
  },
  {
   "cell_type": "markdown",
   "metadata": {
    "slideshow": {
     "slide_type": "slide"
    }
   },
   "source": [
    "## (C 언어) 함수를 이용한 계산기"
   ]
  },
  {
   "cell_type": "markdown",
   "metadata": {
    "slideshow": {
     "slide_type": "fragment"
    }
   },
   "source": [
    "* 동영상: [(나도코딩 C) 5-9 함수를  이용한 계산기](https://www.youtube.com/watch?v=1Hbw87QrP54&list=PLMsa_0kAjjrdiwQykI8eb3H4IRxLTqCnP&index=35)"
   ]
  },
  {
   "cell_type": "markdown",
   "metadata": {},
   "source": [
    "#### 함수 활용 예제: 사칙연산을 실행하는 함수 선언하여 활용하기"
   ]
  },
  {
   "cell_type": "markdown",
   "metadata": {},
   "source": [
    "---\n",
    "```c\n",
    "#include <stdio.h>\n",
    "\n",
    "// 함수 선언\n",
    "// 출력 함수 새로 선언\n",
    "void p(int num);\n",
    "\n",
    "// 계산기 함수\n",
    "int add(int num1, int num2);\n",
    "int sub(int num1, int num2);\n",
    "int mul(int num1, int num2);\n",
    "int div(int num1, int num2);\n",
    "\n",
    "\n",
    "int main()\n",
    "{\n",
    "\tint num = 2;\n",
    "\tnum = add(num, 3);\n",
    "\tp(num);\n",
    "\n",
    "\tnum = sub(num, 1);\n",
    "\tp(num);\n",
    "\n",
    "\tnum = mul(num, 3);\n",
    "\tp(num);\n",
    "\n",
    "\tnum = div(num, 6);\n",
    "\tp(num);\n",
    "    return 0;\n",
    "}\n",
    "\n",
    "// 함수 정의\n",
    "void p(int num)\n",
    "{\n",
    "\tprintf(\"num은 %d 입니다.\\n\", num);\n",
    "}\n",
    "\n",
    "int add(int num1, int num2)\n",
    "{\n",
    "\treturn num1 + num2;\n",
    "}\n",
    "\n",
    "int sub(int num1, int num2)\n",
    "{\n",
    "\treturn num1 - num2;\n",
    "}\n",
    "\n",
    "int mul(int num1, int num2)\n",
    "{\n",
    "\treturn num1 * num2;\n",
    "}\n",
    "\n",
    "int div(int num1, int num2)\n",
    "{\n",
    "\treturn num1 / num2;\n",
    "}\n",
    "```"
   ]
  },
  {
   "cell_type": "markdown",
   "metadata": {
    "slideshow": {
     "slide_type": "slide"
    }
   },
   "source": [
    "---\n",
    "\n",
    "### Python 구현"
   ]
  },
  {
   "cell_type": "code",
   "execution_count": null,
   "metadata": {},
   "outputs": [],
   "source": []
  },
  {
   "cell_type": "markdown",
   "metadata": {},
   "source": [
    "---"
   ]
  },
  {
   "cell_type": "markdown",
   "metadata": {
    "slideshow": {
     "slide_type": "slide"
    }
   },
   "source": [
    "## (C 언어) 프로젝트"
   ]
  },
  {
   "cell_type": "markdown",
   "metadata": {
    "slideshow": {
     "slide_type": "fragment"
    }
   },
   "source": [
    "* 동영상: [(나도코딩 C) 5-10 프로젝트](https://www.youtube.com/watch?v=3L8WqhdIF0I&list=PLMsa_0kAjjrdiwQykI8eb3H4IRxLTqCnP&index=36)"
   ]
  },
  {
   "cell_type": "markdown",
   "metadata": {},
   "source": [
    "#### 5단계로 이루어진 곱셈 계산 맞히기 게임"
   ]
  },
  {
   "cell_type": "markdown",
   "metadata": {},
   "source": [
    "---\n",
    "```c\n",
    "#include <stdio.h>\n",
    "#include <stdlib.h>\n",
    "#include <time.h>\n",
    "\n",
    "// 함수 선언\n",
    "// 계산기 함수\n",
    "int getRandomNumber(int level);\n",
    "void showQuestion(int level, int num1, int num2);\n",
    "void success();\n",
    "void fail();\n",
    "\n",
    "int main()\n",
    "{\n",
    "\t// 문이 5개가 있고, 각 문마다 어려운 수식퀴즈가 출제(랜덤)\n",
    "\t// 맞히면 통과, 틀리면 실패\n",
    "\n",
    "\tsrand(time(NULL));\n",
    "\tint count = 0;           // 맞힌 문제수\n",
    "\tfor (int i=1; i<=5; i++)\n",
    "\t{\n",
    "\t\t// x * y = ?\n",
    "\t\tint num1 = getRandomNumber(i);\n",
    "\t\tint num2 = getRandomNumber(i);\n",
    "\t\t//printf(\"%d x %d ?\"), num1, num2);\n",
    "\t\tshowQuestion(i, num1, num2);\n",
    "\n",
    "\t\tint answer = -1;\n",
    "\n",
    "\t\tscanf(\"%d\", &answer);\n",
    "\t\tif (answer == -1)\n",
    "\t\t{\n",
    "\t\t\tprintf(\"프로그램을 종료합니다.\\n\");\n",
    "\t\t\texit(0);  // 프로그램 종료!\n",
    "\t\t}\n",
    "\t\telse if (answer == num1 * num2)\n",
    "\t\t{\n",
    "\t\t\t// 성공\n",
    "\t\t\tsuccess();\n",
    "\t\t\tcount++;\n",
    "\t\t}\n",
    "\t\telse\n",
    "\t\t{\n",
    "\t\t\t// 실패\n",
    "\t\t\tfail();\n",
    "\t\t}\n",
    "\t}\n",
    "\n",
    "\tprintf(\"\\n\\n 당신은 5개의 비밀번호 중 %d 개를 맞혔습니다.\\n\", count);\n",
    "\n",
    "    return 0;\n",
    "}\n",
    "\n",
    "// 함수 정의\n",
    "int getRandomNumber(int level)\n",
    "{\n",
    "\t// 0을 피하기 위해 +1 사용\n",
    "\treturn rand() % (level * 7) + 1;\n",
    "}\n",
    "\n",
    "void showQuestion(int level, int num1, int num2)\n",
    "{\n",
    "\tprintf(\"\\n\\n\\n### %d 번째 비밀번호 ###\\n\", level);\n",
    "\tprintf(\"\\n\\t%d x %d 는? \\n\\n\", num1, num2);\n",
    "\tprintf(\"#######################\\n\");\n",
    "\tprintf(\"\\n비밀번호를 입력하세요 (종료: -1) >> \");\n",
    "}\n",
    "\n",
    "void success()\n",
    "{\n",
    "\tprintf(\"\\n >> Good! 정답입니다.\\n\");\n",
    "}\n",
    "\n",
    "void fail()\n",
    "{\n",
    "\tprintf(\"\\n >> 땡! 틀렸습니다.\\n\");\n",
    "}\n",
    "```"
   ]
  },
  {
   "cell_type": "markdown",
   "metadata": {
    "slideshow": {
     "slide_type": "slide"
    }
   },
   "source": [
    "---\n",
    "\n",
    "### Python 구현"
   ]
  },
  {
   "cell_type": "code",
   "execution_count": null,
   "metadata": {},
   "outputs": [],
   "source": []
  },
  {
   "cell_type": "markdown",
   "metadata": {},
   "source": [
    "---"
   ]
  }
 ],
 "metadata": {
  "kernelspec": {
   "display_name": "Python 3",
   "language": "python",
   "name": "python3"
  },
  "language_info": {
   "codemirror_mode": {
    "name": "ipython",
    "version": 3
   },
   "file_extension": ".py",
   "mimetype": "text/x-python",
   "name": "python",
   "nbconvert_exporter": "python",
   "pygments_lexer": "ipython3",
   "version": "3.8.3"
  }
 },
 "nbformat": 4,
 "nbformat_minor": 4
}
