{
 "cells": [
  {
   "cell_type": "markdown",
   "metadata": {
    "slideshow": {
     "slide_type": "slide"
    }
   },
   "source": [
    "# 8장 다차원 배열"
   ]
  },
  {
   "cell_type": "markdown",
   "metadata": {},
   "source": [
    "## 핵심"
   ]
  },
  {
   "cell_type": "markdown",
   "metadata": {},
   "source": [
    "* 다차원 배열 이해"
   ]
  },
  {
   "cell_type": "markdown",
   "metadata": {
    "slideshow": {
     "slide_type": "slide"
    }
   },
   "source": [
    "## (C 언어) 동물 뒤집기"
   ]
  },
  {
   "cell_type": "markdown",
   "metadata": {
    "slideshow": {
     "slide_type": "fragment"
    }
   },
   "source": [
    "* 동영상: [(나도코딩 C) 8-1 동물 뒤집기](https://www.youtube.com/watch?v=4iswgYTDJkg&list=PLMsa_0kAjjrdiwQykI8eb3H4IRxLTqCnP&index=54)"
   ]
  },
  {
   "cell_type": "markdown",
   "metadata": {},
   "source": [
    "### 게임 설명"
   ]
  },
  {
   "cell_type": "markdown",
   "metadata": {},
   "source": [
    "* 카드를 뒤집어서 동일한 동물이 그려진 카드 두 장 선택하는 게임"
   ]
  },
  {
   "cell_type": "markdown",
   "metadata": {},
   "source": [
    "---"
   ]
  },
  {
   "cell_type": "markdown",
   "metadata": {
    "slideshow": {
     "slide_type": "slide"
    }
   },
   "source": [
    "## (C 언어) 다차원 배열 기본"
   ]
  },
  {
   "cell_type": "markdown",
   "metadata": {
    "slideshow": {
     "slide_type": "fragment"
    }
   },
   "source": [
    "* 동영상: [(나도코딩 C) 8-2 다차원 배열 기본](https://www.youtube.com/watch?v=tdXf0fto6GA&list=PLMsa_0kAjjrdiwQykI8eb3H4IRxLTqCnP&index=55)"
   ]
  },
  {
   "cell_type": "markdown",
   "metadata": {},
   "source": [
    "* 1차원, 2차원, 3차원 배열 이해하기"
   ]
  },
  {
   "cell_type": "markdown",
   "metadata": {},
   "source": [
    "---\n",
    "```c\n",
    "#include <stdio.h>\n",
    "\n",
    "int main(){\n",
    "\t// 다차원 배열\n",
    "\n",
    "\t// 1차원 배열\n",
    "\tint arr[5];\n",
    "\n",
    "\t// ㅁㅁㅁㅁㅁ\n",
    "\n",
    "\t// 2차원 배열\n",
    "\tint arr2[2][5]; // 길이가 5인 배열이 두 개 있다는 의미로 이해됨.\n",
    "\n",
    "\t// ㅁㅁㅁㅁㅁ\n",
    "\t// ㅁㅁㅁㅁㅁ\n",
    "\n",
    "\t// 3차원 배열\n",
    "\tint arr3[3][2][5]; // 길이가 5인 배열 두 개를 포함한 배열이 3개 있다는 의미로 이해됨.\n",
    "\n",
    "\t// ㅁㅁㅁㅁㅁ\n",
    "\t// ㅁㅁㅁㅁㅁ\n",
    "\n",
    "\t// ㅁㅁㅁㅁㅁ\n",
    "\t// ㅁㅁㅁㅁㅁ\n",
    "\n",
    "\t// ㅁㅁㅁㅁㅁ\n",
    "\t// ㅁㅁㅁㅁㅁ\n",
    "\n",
    "    return 0;\n",
    "}\n",
    "```"
   ]
  },
  {
   "cell_type": "markdown",
   "metadata": {
    "slideshow": {
     "slide_type": "slide"
    }
   },
   "source": [
    "---\n",
    "\n",
    "### Python 구현"
   ]
  },
  {
   "cell_type": "code",
   "execution_count": null,
   "metadata": {},
   "outputs": [],
   "source": []
  },
  {
   "cell_type": "markdown",
   "metadata": {},
   "source": [
    "---"
   ]
  },
  {
   "cell_type": "markdown",
   "metadata": {
    "slideshow": {
     "slide_type": "slide"
    }
   },
   "source": [
    "## (C 언어) 다차원 배열 접근"
   ]
  },
  {
   "cell_type": "markdown",
   "metadata": {
    "slideshow": {
     "slide_type": "fragment"
    }
   },
   "source": [
    "* 동영상: [(나도코딩 C) 8-3 다차원 배열 접근](https://www.youtube.com/watch?v=3SUa32DdMrI&list=PLMsa_0kAjjrdiwQykI8eb3H4IRxLTqCnP&index=56)"
   ]
  },
  {
   "cell_type": "markdown",
   "metadata": {},
   "source": [
    "* 항목 접근은 차원에 맞는 좌표 이용 (아래 그림 참조)"
   ]
  },
  {
   "cell_type": "markdown",
   "metadata": {},
   "source": [
    "* 3차원까지는 행렬 개념으로 이해하면 됨.\n",
    "\n",
    "    ```c\n",
    "    x1 = arr[2];        // 2번 인덱스 값\n",
    "    x2 = arr2[0][5];    // 0번 행 5번 열 값\n",
    "    x3 = arr3[2][1][3]; // 2번 행 1번 열의 3번 인덱스 값\n",
    "    ```"
   ]
  },
  {
   "cell_type": "markdown",
   "metadata": {
    "slideshow": {
     "slide_type": "slide"
    }
   },
   "source": [
    "---\n",
    "\n",
    "### Python 구현"
   ]
  },
  {
   "cell_type": "code",
   "execution_count": null,
   "metadata": {},
   "outputs": [],
   "source": []
  },
  {
   "cell_type": "markdown",
   "metadata": {},
   "source": [
    "---"
   ]
  },
  {
   "cell_type": "markdown",
   "metadata": {
    "slideshow": {
     "slide_type": "slide"
    }
   },
   "source": [
    "## (C 언어) 다차원 배열 선언"
   ]
  },
  {
   "cell_type": "markdown",
   "metadata": {
    "slideshow": {
     "slide_type": "fragment"
    }
   },
   "source": [
    "* 동영상: [(나도코딩 C) 8-4 다차원 배열 선언](https://www.youtube.com/watch?v=DdW4-IsWa0U&list=PLMsa_0kAjjrdiwQykI8eb3H4IRxLTqCnP&index=57)"
   ]
  },
  {
   "cell_type": "markdown",
   "metadata": {},
   "source": [
    "* 차원에 맞게 중괄호를 중첩으로 적용하여 선언"
   ]
  },
  {
   "cell_type": "markdown",
   "metadata": {},
   "source": [
    "---\n",
    "```c\n",
    "#include <stdio.h>\n",
    "\n",
    "int main(){\n",
    "\t// 다차원 배열\n",
    "\n",
    "\t// 1차원 배열\n",
    "\tint arr[5] = {1, 2, 3, 4, 5};\n",
    "\n",
    "\t// 2차원 배열\n",
    "\tint arr2[2][5] = {\n",
    "\t\t{1, 2, 3, 4, 5},\n",
    "\t\t{6, 7, 8, 9, 10}\n",
    "\t};\n",
    "\n",
    "\t// 3차원 배열\n",
    "\tint arr3[3][2][5] = {\n",
    "        {{1, 2, 3, 4, 5},\n",
    "\t\t {6, 7, 8, 9, 10}},\n",
    "\t\t{{1, 2, 3, 4, 5},\n",
    "         {6, 7, 8, 9, 10}},\n",
    "\t\t{{1, 2, 3, 4, 5},\n",
    "\t\t {6, 7, 8, 9, 10}}\n",
    "\t};\n",
    "\n",
    "    return 0;\n",
    "}\n",
    "```"
   ]
  },
  {
   "cell_type": "markdown",
   "metadata": {
    "slideshow": {
     "slide_type": "slide"
    }
   },
   "source": [
    "---\n",
    "\n",
    "### Python 구현"
   ]
  },
  {
   "cell_type": "code",
   "execution_count": null,
   "metadata": {},
   "outputs": [],
   "source": []
  },
  {
   "cell_type": "markdown",
   "metadata": {},
   "source": [
    "---"
   ]
  },
  {
   "cell_type": "markdown",
   "metadata": {
    "slideshow": {
     "slide_type": "slide"
    }
   },
   "source": [
    "## (C 언어) 다차원 배열 사용: 반복문 활용"
   ]
  },
  {
   "cell_type": "markdown",
   "metadata": {
    "slideshow": {
     "slide_type": "fragment"
    }
   },
   "source": [
    "* 동영상: [(나도코딩 C) 8-5 다차원 배열 사용](https://www.youtube.com/watch?v=N_v3MuuEikw&list=PLMsa_0kAjjrdiwQykI8eb3H4IRxLTqCnP&index=58)"
   ]
  },
  {
   "cell_type": "markdown",
   "metadata": {},
   "source": [
    "* 차원에 따라 반복문의 중첩 정도가 달라짐."
   ]
  },
  {
   "cell_type": "markdown",
   "metadata": {},
   "source": [
    "#### 2차원 배열과 반복문"
   ]
  },
  {
   "cell_type": "markdown",
   "metadata": {},
   "source": [
    "---\n",
    "```c\n",
    "#include <stdio.h>\n",
    "\n",
    "int main(){\n",
    "\t// 다차원 배열\n",
    "\n",
    "\t// 2차원 배열\n",
    "\tint arr2[2][5] = {\n",
    "\t\t{1, 2, 3, 4, 5},\n",
    "\t\t{6, 7, 8, 9, 10}\n",
    "\t};\n",
    "\n",
    "\tprintf(\"2차원 배열 항목 확인\\n\\n\");\n",
    "\tfor (int i = 0; i<2; i++)\n",
    "\t{\n",
    "\t\tfor (int j = 0; j<5; j++)\n",
    "\t\t{\n",
    "\t\t\tprintf(\"2차원 배열 (%d, %d)의 값: %d\\n\", i, j, arr2[i][j]);\n",
    "\t\t}\n",
    "\t\tprintf(\"\\n\");\n",
    "\t}\n",
    "\n",
    "    return 0;\n",
    "}\n",
    "```"
   ]
  },
  {
   "cell_type": "markdown",
   "metadata": {},
   "source": [
    "---\n",
    "```c\n",
    "2차원 배열 항목 확인\n",
    "\n",
    "2차원 배열 (0, 0)의 값: 1\n",
    "2차원 배열 (0, 1)의 값: 2\n",
    "2차원 배열 (0, 2)의 값: 3\n",
    "2차원 배열 (0, 3)의 값: 4\n",
    "2차원 배열 (0, 4)의 값: 5\n",
    "\n",
    "2차원 배열 (1, 0)의 값: 6\n",
    "2차원 배열 (1, 1)의 값: 7\n",
    "2차원 배열 (1, 2)의 값: 8\n",
    "2차원 배열 (1, 3)의 값: 9\n",
    "2차원 배열 (1, 4)의 값: 10\n",
    "```\n",
    "---"
   ]
  },
  {
   "cell_type": "markdown",
   "metadata": {},
   "source": [
    "#### 3차원 배열과 반복문"
   ]
  },
  {
   "cell_type": "markdown",
   "metadata": {},
   "source": [
    "---\n",
    "```c\n",
    "#include <stdio.h>\n",
    "\n",
    "int main(){\n",
    "\t// 다차원 배열\n",
    "\n",
    "\t// 3차원 배열\n",
    "\tint arr3[3][2][5] = {\n",
    "\t\t{\n",
    "\t\t\t{1, 2, 3, 4, 5},\n",
    "\t\t\t{6, 7, 8, 9, 10}\n",
    "\t\t},\n",
    "\t\t{\n",
    "\t\t\t{11, 12, 13, 14, 15},\n",
    "\t\t\t{16, 17, 18, 19, 20}\n",
    "\t\t},\n",
    "\t\t{\n",
    "\t\t\t{21, 22, 23, 24, 25},\n",
    "\t\t\t{26, 27, 28, 29, 30}\n",
    "\t\t}\n",
    "\t};\n",
    "\n",
    "\tprintf(\"3차원 배열 항목 확인\\n\\n\");\n",
    "\tfor (int i = 0; i<3; i++)\n",
    "\t{\n",
    "\t\tfor (int j = 0; j<2; j++)\n",
    "\t\t{\n",
    "\t\t\tfor (int k = 0; k<5; k++)\n",
    "\t\t\t{\n",
    "\t\t\t\tprintf(\"3차원 배열 (%d, %d, %d)의 값: %d\\n\", i, j, k, arr3[i][j][k]);\n",
    "\t\t\t}\n",
    "\t\t\tprintf(\"\\n\");\n",
    "\t\t}\n",
    "\t\tprintf(\"\\n\");\n",
    "\t}\n",
    "\n",
    "    return 0;\n",
    "}\n",
    "```"
   ]
  },
  {
   "cell_type": "markdown",
   "metadata": {},
   "source": [
    "---\n",
    "```c\n",
    "3차원 배열 항목 확인\n",
    "\n",
    "3차원 배열 (0, 0, 0)의 값: 1\n",
    "3차원 배열 (0, 0, 1)의 값: 2\n",
    "3차원 배열 (0, 0, 2)의 값: 3\n",
    "3차원 배열 (0, 0, 3)의 값: 4\n",
    "3차원 배열 (0, 0, 4)의 값: 5\n",
    "\n",
    "3차원 배열 (0, 1, 0)의 값: 6\n",
    "3차원 배열 (0, 1, 1)의 값: 7\n",
    "3차원 배열 (0, 1, 2)의 값: 8\n",
    "3차원 배열 (0, 1, 3)의 값: 9\n",
    "3차원 배열 (0, 1, 4)의 값: 10\n",
    "\n",
    "\n",
    "3차원 배열 (1, 0, 0)의 값: 11\n",
    "3차원 배열 (1, 0, 1)의 값: 12\n",
    "3차원 배열 (1, 0, 2)의 값: 13\n",
    "3차원 배열 (1, 0, 3)의 값: 14\n",
    "3차원 배열 (1, 0, 4)의 값: 15\n",
    "\n",
    "3차원 배열 (1, 1, 0)의 값: 16\n",
    "3차원 배열 (1, 1, 1)의 값: 17\n",
    "3차원 배열 (1, 1, 2)의 값: 18\n",
    "3차원 배열 (1, 1, 3)의 값: 19\n",
    "3차원 배열 (1, 1, 4)의 값: 20\n",
    "\n",
    "\n",
    "3차원 배열 (2, 0, 0)의 값: 21\n",
    "3차원 배열 (2, 0, 1)의 값: 22\n",
    "3차원 배열 (2, 0, 2)의 값: 23\n",
    "3차원 배열 (2, 0, 3)의 값: 24\n",
    "3차원 배열 (2, 0, 4)의 값: 25\n",
    "\n",
    "3차원 배열 (2, 1, 0)의 값: 26\n",
    "3차원 배열 (2, 1, 1)의 값: 27\n",
    "3차원 배열 (2, 1, 2)의 값: 28\n",
    "3차원 배열 (2, 1, 3)의 값: 29\n",
    "3차원 배열 (2, 1, 4)의 값: 30\n",
    "```\n",
    "---"
   ]
  },
  {
   "cell_type": "markdown",
   "metadata": {
    "slideshow": {
     "slide_type": "slide"
    }
   },
   "source": [
    "---\n",
    "\n",
    "### Python 구현"
   ]
  },
  {
   "cell_type": "code",
   "execution_count": null,
   "metadata": {},
   "outputs": [],
   "source": []
  },
  {
   "cell_type": "markdown",
   "metadata": {},
   "source": [
    "---"
   ]
  },
  {
   "cell_type": "markdown",
   "metadata": {
    "slideshow": {
     "slide_type": "slide"
    }
   },
   "source": [
    "## (C 언어) 프로젝트"
   ]
  },
  {
   "cell_type": "markdown",
   "metadata": {
    "slideshow": {
     "slide_type": "fragment"
    }
   },
   "source": [
    "* 동영상: [(나도코딩 C) 8-6 프로젝트(전반전)](https://www.youtube.com/watch?v=2Zxp1eCv2-M&list=PLMsa_0kAjjrdiwQykI8eb3H4IRxLTqCnP&index=59)\n",
    "* 동영상: [(나도코딩 C) 8-7 프로젝트(후반전)](https://www.youtube.com/watch?v=_gjGH-ng2RI&list=PLMsa_0kAjjrdiwQykI8eb3H4IRxLTqCnP&index=60)\n",
    "* 동영상: [(나도코딩 C) 8-8 프로젝트(연장전)](https://www.youtube.com/watch?v=romtC4SjzjM&list=PLMsa_0kAjjrdiwQykI8eb3H4IRxLTqCnP&index=61)"
   ]
  },
  {
   "cell_type": "markdown",
   "metadata": {},
   "source": [
    "* 동물 뒤집기(메모리 게임)\n",
    "    * 10마리의 서로 다른 동물 (동물 별로 두 장의 카드 사용)\n",
    "    * 사용자로부터 2개의 입력값을 받아 같은 동물을 츶으면 카드 뒤집기\n",
    "    * 총 실패 횟수 알려주기"
   ]
  },
  {
   "cell_type": "markdown",
   "metadata": {},
   "source": [
    "---\n",
    "```c\n",
    "#include <stdio.h>\n",
    "#include <stdlib.h>\n",
    "#include <time.h>\n",
    "\n",
    "int arrayAnimal[4][5]; // 카드 20장의 위치 지정\n",
    "int checkAnimal[4][5]; // 뒤집혔는지 여부를 기억하는 배열\n",
    "char * strAnimal[10];  // 동물 이름들의 배열\n",
    "\n",
    "void initAnimalArray();\n",
    "void initAnimalName();\n",
    "void shuffleAnimal();\n",
    "int getEmptyPosition();\n",
    "int conv_pos_x(int x);\n",
    "int conv_pos_y(int y);\n",
    "void printAnimals();\n",
    "void printQuestion();\n",
    "int foundAllAnimals();\n",
    "\n",
    "int main()\n",
    "{\n",
    "\tsrand(time(NULL));\n",
    "\n",
    "\tinitAnimalArray();\n",
    "\tinitAnimalName();\n",
    "\n",
    "\tshuffleAnimal();\n",
    "\n",
    "\tint failCount = 0; // 실패 횟수 저장\n",
    "\n",
    "\twhile(1)\n",
    "\t{\n",
    "\t\tint select1 = 0; // 사용자 선택 수 1\n",
    "\t\tint select2 = 0; // 사용자 선택 수 2\n",
    "\t\t\n",
    "\t\tprintAnimals(); // 동물 위치 출력\n",
    "\t\tprintQuestion(); // 문제 출력(카드 지도 보여주기)\n",
    "\n",
    "\t\tprintf(\"뒤집을 카드 두 개를 고르세요: \");\n",
    "\t\tscanf(\"%d %d\", &select1, &select2);\n",
    "\n",
    "\t\tif (select1 == select2)\n",
    "\t\t\tcontinue; \n",
    "\n",
    "\t\t// 좌표를 확인한 다음에 동일한 동물인지 확인하기\n",
    "\t\tint firstSelect_x = conv_pos_x(select1);\n",
    "\t\tint firstSelect_y = conv_pos_y(select1);\n",
    "\n",
    "\t\tint secondSelect_x = conv_pos_x(select2);\n",
    "\t\tint secondSelect_y = conv_pos_y(select2);\n",
    "\n",
    "\t\t// 아직 뒤집히지 않은 카드이고 두 동물이 동일한지 여부확인\n",
    "\t\tif (\n",
    "\t\t\tcheckAnimal[firstSelect_x][firstSelect_y] == 0\n",
    "\t\t\t&& checkAnimal[secondSelect_x][secondSelect_y] == 0\n",
    "\t\t\t&& arrayAnimal[firstSelect_x][firstSelect_y] \n",
    "\t\t\t\t== arrayAnimal[secondSelect_x][secondSelect_y]\n",
    "\t\t\t)\n",
    "\t\t{\n",
    "\t\t\tprintf(\"\\n\\n빙고! : %15s 발견\\n\\n\", \n",
    "                    strAnimal[arrayAnimal[firstSelect_x][firstSelect_y]]);\n",
    "\t\t\tcheckAnimal[firstSelect_x][firstSelect_y] = 1;\n",
    "\t\t\tcheckAnimal[secondSelect_x][secondSelect_y] = 1;\n",
    "\t\t}\n",
    "\t\telse{\n",
    "\t\t\tprintf(\"\\n\\n땡!! (틀렸거나 아미 뒤집힌 카드입니다!\\n\");\n",
    "\t\t\tprintf(\"%d : %s\\n\", select1, \n",
    "                    strAnimal[arrayAnimal[firstSelect_x][firstSelect_y]]);\n",
    "\t\t\tprintf(\"%d : %s\\n\", select2, \n",
    "                    strAnimal[arrayAnimal[secondSelect_x][secondSelect_y]]);\n",
    "\t\t\tprintf(\"\\n\\n\");\n",
    "\t\t\t\n",
    "\t\t\tfailCount++;\n",
    "\t\t}\n",
    "\n",
    "\t\t// 모든 동물을 다 찾은 경우\n",
    "\t\tif (foundAllAnimals() == 1)\n",
    "\t\t{\n",
    "\t\t\tprintf(\"\\n\\n축하합니다! 모든 동물을 다 찾았네요!\\n\");\n",
    "\t\t\tprintf(\"지금까지 총 %d번 실수하였습니다.\\n\", failCount);\n",
    "\t\t\tbreak;\n",
    "\t\t}\n",
    "\t}\n",
    "\n",
    "    return 0;\n",
    "}\n",
    "\n",
    "void initAnimalArray()\n",
    "{\n",
    "\tfor (int i=0; i < 4; i++) \n",
    "\t{\n",
    "\t\tfor (int j = 0; j < 5; j++)\n",
    "\t\t{\n",
    "\t\t\tarrayAnimal[i][j] = -1; // 카드 선정 초기화\n",
    "\t\t}\n",
    "\t}\n",
    "}\n",
    "\n",
    "void initAnimalName()\n",
    "{\n",
    "\tstrAnimal[0] = \"원숭이\";\n",
    "\tstrAnimal[1] = \"하마\";\n",
    "\tstrAnimal[2] = \"강아지\";\n",
    "\tstrAnimal[3] = \"고양이\";\n",
    "\tstrAnimal[4] = \"돼지\";\n",
    "\n",
    "\tstrAnimal[5] = \"코끼리\";\n",
    "\tstrAnimal[6] = \"기린\";\n",
    "\tstrAnimal[7] = \"낙타\";\n",
    "\tstrAnimal[8] = \"타조\";\n",
    "\tstrAnimal[9] = \"호랑이\";\n",
    "}\n",
    "\n",
    "void shuffleAnimal()\n",
    "{\n",
    "\t// 10마리의 동물을 2번씩 무작위로\n",
    "\t// 4x5 크기의 2차원 행렬에 위치시키기\n",
    "\tfor (int i = 0; i<10; i++)\n",
    "\t{\n",
    "\t\tfor (int j = 0; j<2; j++)\n",
    "\t\t{\n",
    "\t\t\tint pos = getEmptyPosition();\n",
    "\t\t\tint x = conv_pos_x(pos);\n",
    "\t\t\tint y = conv_pos_y(pos);\n",
    "\n",
    "\t\t\tarrayAnimal[x][y] = i;\n",
    "\t\t}\n",
    "\t}\n",
    "}\n",
    "\n",
    "int getEmptyPosition()\n",
    "{\n",
    "\t// 4x5 크기의 행렬에서 빈 위치의 좌표 찾기\n",
    "\twhile(1)\n",
    "\t{\n",
    "\t\tint randPos = rand() % 20; // 0-19 사이의 숫자 반환\n",
    "\t\tint x = conv_pos_x(randPos);\n",
    "\t\tint y = conv_pos_y(randPos);\n",
    "\n",
    "\t\tif (arrayAnimal[x][y] == -1)\n",
    "\t\t{\n",
    "\t\t\treturn randPos;\n",
    "\t\t}\n",
    "\t}\n",
    "\treturn 0;\n",
    "}\n",
    "\n",
    "int conv_pos_x(int x)\n",
    "{\n",
    "\t// 4x5 크기의 2차원 배열에서 행의 값 확인\n",
    "\treturn x / 5;\n",
    "}\n",
    "\n",
    "int conv_pos_y(int y)\n",
    "{\n",
    "\t// 4x5 크기의 2차원 배열에서 열의 값 확인\n",
    "\treturn y % 5;\n",
    "}\n",
    "\n",
    "void printAnimals()\n",
    "{\n",
    "\tprintf(\"\\n=====쉿, 이건 비밀인데 몰래 보여주는 거임.=====\\n\\n\");\n",
    "\t// 4x5 크기의 동물로 구성된 행렬 출력\n",
    "\tfor (int i=0; i<4; i++)\n",
    "\t{\n",
    "\t\tfor (int j=0; j<5; j++)\n",
    "\t\t{\n",
    "\t\t\tprintf(\"%15s\", strAnimal[arrayAnimal[i][j]]);\n",
    "\t\t}\n",
    "\t\tprintf(\"\\n\");\n",
    "\t}\n",
    "\tprintf(\"\\n=======================================\\n\\n\");\n",
    "}\n",
    "\n",
    "void printQuestion()\n",
    "{ \n",
    "\tprintf(\"\\n\\n(문제)\\n\");\n",
    "\n",
    "\tint seq = 0;\n",
    "\n",
    "\tfor (int i=0; i<4; i++)\n",
    "\t{\n",
    "\t\tfor (int j=0; j<5; j++)\n",
    "\t\t{\n",
    "\t\t\t// 카드를 뒤집어서 정답을 맞혔으면 동물이름 보여주기\n",
    "\t\t\tif (checkAnimal[i][j] != 0)\n",
    "\t\t\t{\n",
    "\t\t\t\tprintf(\"%15s\", strAnimal[arrayAnimal[i][j]]);\n",
    "\t\t\t}\n",
    "\t\t\t// 정답을 맞히지 못했으면 위치를 나타내는 숫자 보여주기\n",
    "\t\t\telse{\n",
    "\t\t\t\tprintf(\"%15d\", seq);\n",
    "\t\t\t}\n",
    "\t\t\tseq++;\n",
    "\t\t}\n",
    "\t\tprintf(\"\\n\");\n",
    "\t}\n",
    "}\n",
    "\n",
    "int foundAllAnimals()\n",
    "{\n",
    "\tfor (int i=0; i<4; i++)\n",
    "\t{\n",
    "\t\tfor (int j=0; j<5; j++)\n",
    "\t\t{\n",
    "\t\t\tif (checkAnimal[i][j] == 0)\n",
    "\t\t\t{\n",
    "\t\t\t\treturn 0;\n",
    "\t\t\t}\n",
    "\t\t}\n",
    "\t}\n",
    "\n",
    "\t// 모든 동물을 다 찾은 경우\n",
    "\treturn 1;\n",
    "}\n",
    "```\n",
    "---"
   ]
  },
  {
   "cell_type": "markdown",
   "metadata": {},
   "source": [
    "---\n",
    "\n",
    "### Python 구현"
   ]
  },
  {
   "cell_type": "code",
   "execution_count": null,
   "metadata": {},
   "outputs": [],
   "source": []
  }
 ],
 "metadata": {
  "kernelspec": {
   "display_name": "Python 3",
   "language": "python",
   "name": "python3"
  },
  "language_info": {
   "codemirror_mode": {
    "name": "ipython",
    "version": 3
   },
   "file_extension": ".py",
   "mimetype": "text/x-python",
   "name": "python",
   "nbconvert_exporter": "python",
   "pygments_lexer": "ipython3",
   "version": "3.8.3"
  }
 },
 "nbformat": 4,
 "nbformat_minor": 4
}
