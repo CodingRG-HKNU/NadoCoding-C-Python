{
 "cells": [
  {
   "cell_type": "markdown",
   "metadata": {
    "slideshow": {
     "slide_type": "slide"
    }
   },
   "source": [
    "# 2장 변수, 상수, 표준입출력"
   ]
  },
  {
   "cell_type": "markdown",
   "metadata": {},
   "source": [
    "#### 감사의 글 \n",
    "\n",
    "유튜브 동영상 모음집 \n",
    "[(나도코딩 C)](https://www.youtube.com/watch?v=dEykoFZkf5Y&list=PLMsa_0kAjjrdiwQykI8eb3H4IRxLTqCnP)에서 \n",
    "설명하는 코드를 활용합니다. \n",
    "강의동영상을 공개한 \n",
    "[나도코딩](https://www.youtube.com/channel/UC7iAOLiALt2rtMVAWWl4pnw)님께 \n",
    "감사드립니다."
   ]
  },
  {
   "cell_type": "markdown",
   "metadata": {
    "slideshow": {
     "slide_type": "slide"
    }
   },
   "source": [
    "## (C 언어) 정수형 변수"
   ]
  },
  {
   "cell_type": "markdown",
   "metadata": {
    "slideshow": {
     "slide_type": "slide"
    }
   },
   "source": [
    "* 동영상: [(나도코딩 C) 2-1 경찰서 조서 쓰기](https://www.youtube.com/watch?v=LF46oSNFP_U&list=PLMsa_0kAjjrdiwQykI8eb3H4IRxLTqCnP&index=4)"
   ]
  },
  {
   "cell_type": "markdown",
   "metadata": {},
   "source": [
    "* 프로그래밍 기본 요소 설명\n",
    "    * 변수와 상수\n",
    "    * 입력(`scanf)` 및 출력(`printf`)"
   ]
  },
  {
   "cell_type": "markdown",
   "metadata": {
    "slideshow": {
     "slide_type": "slide"
    }
   },
   "source": [
    "## (C 언어) 정수형 변수"
   ]
  },
  {
   "cell_type": "markdown",
   "metadata": {
    "slideshow": {
     "slide_type": "slide"
    }
   },
   "source": [
    "* 동영상: [(나도코딩 C) 2-2 정수형 변수](https://www.youtube.com/watch?v=pQjUGIeSr3k&list=PLMsa_0kAjjrdiwQykI8eb3H4IRxLTqCnP&index=5)"
   ]
  },
  {
   "cell_type": "markdown",
   "metadata": {
    "slideshow": {
     "slide_type": "slide"
    }
   },
   "source": [
    "```c\n",
    "#include <stdio.h>\n",
    "\n",
    "int main(void) {\n",
    "\tint age = 12;        //자료형 명시\n",
    "\tprintf(\"%d\\n\", age);\n",
    "\n",
    "    // 변수에 할당된 값 수정 가능\n",
    "\t// 이미 선언된 변수는 자료형 명시하지 않음\n",
    "\tage = 13;            \n",
    "\tprintf(\"%d\\n\", age);\n",
    "\n",
    "\treturn 0;\n",
    "}\n",
    "```"
   ]
  },
  {
   "cell_type": "markdown",
   "metadata": {},
   "source": [
    "---\n",
    "\n",
    "### Python 구현"
   ]
  },
  {
   "cell_type": "markdown",
   "metadata": {},
   "source": [
    "#### 주의사항\n",
    "\n",
    "* Python의 `print`  함수는 줄바꿈을 자동으로 해줌. \n",
    "    따라서 굳이 줄바꿈 기호 `/n` 을 사용할 필요 없음."
   ]
  },
  {
   "cell_type": "code",
   "execution_count": 1,
   "metadata": {},
   "outputs": [
    {
     "name": "stdout",
     "output_type": "stream",
     "text": [
      "12\n",
      "twelve\n"
     ]
    }
   ],
   "source": [
    "age = 12                # 변수의 자료형을 명시하지 않음\n",
    "print(\"%d\" % age)       # %d는 정수형 값을 받는 포맷 코드\n",
    "\n",
    "# 변수에 할당된 값 수정 가능\n",
    "# 심지어 자료형이 달려져도 됨\n",
    "age = 'twelve'\n",
    "print(\"%s\" % age)       # 하지만 문자열을 받는 %s 포맷 코드를 사용해도 됨."
   ]
  },
  {
   "cell_type": "markdown",
   "metadata": {},
   "source": [
    "---"
   ]
  },
  {
   "cell_type": "markdown",
   "metadata": {
    "slideshow": {
     "slide_type": "slide"
    }
   },
   "source": [
    "## (C 언어) 주석"
   ]
  },
  {
   "cell_type": "markdown",
   "metadata": {
    "slideshow": {
     "slide_type": "slide"
    }
   },
   "source": [
    "* 동영상: [(나도코딩 C) 2-3 주석](https://www.youtube.com/watch?v=tqUVxNHeUys&list=PLMsa_0kAjjrdiwQykI8eb3H4IRxLTqCnP&index=6)"
   ]
  },
  {
   "cell_type": "markdown",
   "metadata": {
    "slideshow": {
     "slide_type": "slide"
    }
   },
   "source": [
    "```c\n",
    "#include <stdio.h>\n",
    "\n",
    "int main(void) {\n",
    "\t// 여러 줄 주석은 /* ... */로 감싸야 함\n",
    "    \n",
    "    // 정수형 변수 예제\n",
    "\t/* int age = 12;        //자료형 명시\n",
    "\tprintf(\"%d\\n\", age);\n",
    "\t// 변수는 수정 가능\n",
    "\t// 이미 선언된 변수는 자료형 명시하지 않음\n",
    "\tage = 13;            \n",
    "\tprintf(\"%d\\n\", age); */\n",
    "\n",
    "\t// 한 줄 주석\n",
    "\tprintf(\"1\\n\");\n",
    "\t// printf(\"2\\n\");   // 2는 주석처리됨\n",
    "\tprintf(\"3\\n\");\n",
    "\n",
    "\treturn 0;\n",
    "}\n",
    "```"
   ]
  },
  {
   "cell_type": "markdown",
   "metadata": {},
   "source": [
    "---\n",
    "\n",
    "### Python 구현"
   ]
  },
  {
   "cell_type": "code",
   "execution_count": 2,
   "metadata": {
    "slideshow": {
     "slide_type": "slide"
    }
   },
   "outputs": [
    {
     "name": "stdout",
     "output_type": "stream",
     "text": [
      "1\n",
      "3\n"
     ]
    }
   ],
   "source": [
    "# 정수형 변수 예제\n",
    "\n",
    "# 여러 줄 주석은 세 개의 큰 따옴표(\"\"\")를 이용하여 감싸야 함\n",
    "\n",
    "\"\"\"\n",
    "age = 12                # 변수의 자료형을 명시하지 않음\n",
    "print(\"%d\" % age)       # %d는 정수형 값을 받는 포맷 코드\n",
    "\n",
    "# 변수에 할당된 값 수정 가능\n",
    "age = 13\n",
    "print(\"%s\" % age)       # 하지만 문자열을 받는 %s 포맷 코드를 사용해도 됨.\n",
    "\"\"\"\n",
    "\n",
    "# 한 줄 주석\n",
    "print(\"1\")\n",
    "# print(\"2\")   // 2는 주석처리됨.\n",
    "print(\"3\")"
   ]
  },
  {
   "cell_type": "markdown",
   "metadata": {},
   "source": [
    "---"
   ]
  },
  {
   "cell_type": "markdown",
   "metadata": {
    "slideshow": {
     "slide_type": "slide"
    }
   },
   "source": [
    "## (C 언어) 실수형 변수"
   ]
  },
  {
   "cell_type": "markdown",
   "metadata": {
    "slideshow": {
     "slide_type": "slide"
    }
   },
   "source": [
    "* 동영상: [(나도코딩 C) 2-4 실수형 변수](https://www.youtube.com/watch?v=PtUCr7a1dPo&list=PLMsa_0kAjjrdiwQykI8eb3H4IRxLTqCnP&index=7)"
   ]
  },
  {
   "cell_type": "markdown",
   "metadata": {
    "slideshow": {
     "slide_type": "slide"
    }
   },
   "source": [
    "```c\n",
    "#include <stdio.h>\n",
    "\n",
    "int main(void) {\n",
    "\t// 실수형 변수 예제\n",
    "\tfloat f = 46.5f;       // float 자료형 뒤에 f 붙혀줄 것\n",
    "\tprintf(\"%f\\n\", f); \n",
    "\tprintf(\"%.2f\\n\", f);   // 소수점 자릿수 지정\n",
    "\tdouble d = 4.428;\n",
    "\tprintf(\"%.3lf\\n\", d);\n",
    "\tprintf(\"%lf\\n\", d); \n",
    "\n",
    "\treturn 0;\n",
    "}\n",
    "```"
   ]
  },
  {
   "cell_type": "markdown",
   "metadata": {},
   "source": [
    "---\n",
    "\n",
    "### Python 구현"
   ]
  },
  {
   "cell_type": "code",
   "execution_count": 3,
   "metadata": {
    "slideshow": {
     "slide_type": "slide"
    }
   },
   "outputs": [
    {
     "name": "stdout",
     "output_type": "stream",
     "text": [
      "46.500000\n",
      "46.50\n",
      "4.428\n",
      "4.428000\n",
      "     3.140\n",
      "000003.140\n"
     ]
    }
   ],
   "source": [
    "# 실수형 변수 예제\n",
    "\n",
    "f = 46.5                    # 자료형과 f 기호를 명시할 필요 없음\n",
    "print(\"%f\" % f) \n",
    "print(\"%.2f\" % f)           # 소수점 자릿수 지정\n",
    "\n",
    "d = 4.428\n",
    "print(\"%.3lf\" % d)          # float 와 double 구분 없음\n",
    "print(\"%lf\" % d) \n",
    "\n",
    "# 문자열의 자릿수를 지정하고자 할 때  점 앞에 정수 지정\n",
    "# 예를 들어 10자리수로 표현하고자 할 때 \n",
    "# 주의: 자릿수는 소수점과 소수점 이하 숫자도 포함\n",
    "pi = 3.14\n",
    "print(\"%10.3f\" % pi)\n",
    "\n",
    "# 빈자리를 0으로 채울 수 있음\n",
    "print(\"%010.3f\" % pi)"
   ]
  },
  {
   "cell_type": "markdown",
   "metadata": {},
   "source": [
    "---"
   ]
  },
  {
   "cell_type": "markdown",
   "metadata": {
    "slideshow": {
     "slide_type": "slide"
    }
   },
   "source": [
    "## (C 언어) 상수"
   ]
  },
  {
   "cell_type": "markdown",
   "metadata": {
    "slideshow": {
     "slide_type": "slide"
    }
   },
   "source": [
    "* 동영상: [(나도코딩 C) 2-5 상수](https://www.youtube.com/watch?v=D4rZ7ZxxgAo&list=PLMsa_0kAjjrdiwQykI8eb3H4IRxLTqCnP&index=8)"
   ]
  },
  {
   "cell_type": "markdown",
   "metadata": {
    "slideshow": {
     "slide_type": "slide"
    }
   },
   "source": [
    "```c\n",
    "#include <stdio.h>\n",
    "\n",
    "int main(void) {\n",
    "\t// 상수: const 라는 지정자 사용!\n",
    "\tconst int YEAR = 2000;\n",
    "\tprintf(\"태어난 년도: %d\\n\", YEAR);\n",
    "\n",
    "\t// 상수 수정은 오류 발생시킴\n",
    "\t// YEAR = 2001;\n",
    "\n",
    "\treturn 0;\n",
    "}\n",
    "```"
   ]
  },
  {
   "cell_type": "markdown",
   "metadata": {},
   "source": [
    "---\n",
    "\n",
    "### Python 구현\n",
    "\n",
    "* Python은 상수 지원 없음.\n",
    "\n",
    "---"
   ]
  },
  {
   "cell_type": "markdown",
   "metadata": {
    "slideshow": {
     "slide_type": "slide"
    }
   },
   "source": [
    "## (C 언어) 출력하기: printf"
   ]
  },
  {
   "cell_type": "markdown",
   "metadata": {
    "slideshow": {
     "slide_type": "slide"
    }
   },
   "source": [
    "* 동영상: [(나도코딩 C) 2-6 printf](https://www.youtube.com/watch?v=wc3zH04hgBo&list=PLMsa_0kAjjrdiwQykI8eb3H4IRxLTqCnP&index=9)"
   ]
  },
  {
   "cell_type": "markdown",
   "metadata": {
    "slideshow": {
     "slide_type": "slide"
    }
   },
   "source": [
    "```c\n",
    "#include <stdio.h>\n",
    "\n",
    "int main(void) {\n",
    "\t// 연산\n",
    "\t\n",
    "\tint add = 3 + 7;               // 10 (계산된 후에 저장됨)\n",
    "\tprintf(\"3 + 7 = %d\\n\", add);\n",
    "\n",
    "\t// %d의 반복 횟수만큼 정수를 지정해야 함.\n",
    "\tprintf(\"%d + %d = %d\\n\", 30, 79, 30 + 79);\n",
    "\tprintf(\"%d * %d = %d\\n\", 30, 79, 30 * 79);\n",
    "\t\n",
    "\treturn 0;\n",
    "}\n",
    "```"
   ]
  },
  {
   "cell_type": "markdown",
   "metadata": {},
   "source": [
    "---\n",
    "\n",
    "### Python 구현"
   ]
  },
  {
   "cell_type": "code",
   "execution_count": 4,
   "metadata": {
    "slideshow": {
     "slide_type": "slide"
    }
   },
   "outputs": [
    {
     "name": "stdout",
     "output_type": "stream",
     "text": [
      "3 + 7 = 10\n",
      "30 + 79 = 109\n",
      "30 * 79 = 2370\n"
     ]
    }
   ],
   "source": [
    "# 연산\n",
    "\n",
    "add = 3 + 7                             # 10 (계산된 후에 저장됨)\n",
    "print(\"3 + 7 = %d\" % add)\n",
    "\n",
    "# 문자열의 여러 곳에 값을 지정하기 위해 포맷 기호 여러 개 사용 가능\n",
    "\n",
    "# %d의 반복 횟수만큼 정수를 지정해야 함.\n",
    "print(\"%d + %d = %d\" % (30, 79, 30 + 79))\n",
    "print(\"%d * %d = %d\" % (30, 79, 30 * 79))"
   ]
  },
  {
   "cell_type": "markdown",
   "metadata": {},
   "source": [
    "---"
   ]
  },
  {
   "cell_type": "markdown",
   "metadata": {
    "slideshow": {
     "slide_type": "slide"
    }
   },
   "source": [
    "## (C 언어) 값 입력받기: scanf"
   ]
  },
  {
   "cell_type": "markdown",
   "metadata": {
    "slideshow": {
     "slide_type": "slide"
    }
   },
   "source": [
    "* 동영상: [(나도코딩 C) 2-7 scanf](https://www.youtube.com/watch?v=neFzhsdzI0Q&list=PLMsa_0kAjjrdiwQykI8eb3H4IRxLTqCnP&index=10)"
   ]
  },
  {
   "cell_type": "markdown",
   "metadata": {
    "slideshow": {
     "slide_type": "slide"
    }
   },
   "source": [
    "#### 주의사항: scanf_s\n",
    "\n",
    "* 동영상에서 사용되는 `scanf_s`는 Visual Studio이 사용하는 컴파일에서만 사용될 수 있음.\n",
    "* 다양한 종류의 컴파일러 사용되고 있음.\n",
    "* 대부분의 온라인 서버는 gcc 컴파일러 사용하며 `scanf_s`를 지원하지 않음.\n",
    "* 그럴 때는 `scanf`를 대신 사용하면 됨.\n",
    "* `scanf_s` 관련 자세한 설명: [scanf_s 사용하기](https://pang2h.tistory.com/200) 참조"
   ]
  },
  {
   "cell_type": "markdown",
   "metadata": {
    "slideshow": {
     "slide_type": "slide"
    }
   },
   "source": [
    "#### 주의사항: 앰퍼샌드(&) 사용 여부\n",
    "\n",
    "* 정수, 실수, 문자 등을 입력받는 변수에 `&`(앰퍼샌드) 기호를 붙혀서 사용함에 주의\n",
    "* 문자열을 입력받는 변수에는 `&` 기호 사용하지 않음."
   ]
  },
  {
   "cell_type": "markdown",
   "metadata": {
    "slideshow": {
     "slide_type": "slide"
    }
   },
   "source": [
    "### (C 언어) 값 하나 입력받기"
   ]
  },
  {
   "cell_type": "markdown",
   "metadata": {
    "slideshow": {
     "slide_type": "slide"
    }
   },
   "source": [
    "```c\n",
    "#include <stdio.h>\n",
    "\n",
    "int main(void) {\n",
    "\t// scanf\n",
    "\t// 키보드 입력을 받아서 저장\n",
    "\tint input;\n",
    "\tprintf(\"값을 입력하세요: \");\n",
    "\tscanf(\"%d\", &input);\n",
    "\tprintf(\"입력값: %d\\n\", input);\n",
    "\n",
    "\treturn 0;\n",
    "}\n",
    "```"
   ]
  },
  {
   "cell_type": "markdown",
   "metadata": {},
   "source": [
    "---\n",
    "\n",
    "### Python 구현\n",
    "\n",
    "* `input` 함수가 키보드 입력을 받아서 되돌려 줌.\n",
    "* `input` 함수의 인자로 문자열을 지정하여 어떤 값을 입력해야 하는지 정보 제공할 수 있음.\n",
    "* 따라서 `print` 함수를 미리 사용할 필요 없음."
   ]
  },
  {
   "cell_type": "code",
   "execution_count": 5,
   "metadata": {
    "slideshow": {
     "slide_type": "slide"
    }
   },
   "outputs": [
    {
     "name": "stdout",
     "output_type": "stream",
     "text": [
      "값을 입력하세요: twelve\n",
      "입력값: twelve\n"
     ]
    }
   ],
   "source": [
    "# 키보드 입력받기 함수: input\n",
    "# 따라서 동일한 이름의 변수를 사용하지 말아야 함.\n",
    "\n",
    "# 입력 받은 값을 저장할 변수를 미리 선언할 필요 없음\n",
    "input_value = input(\"값을 입력하세요: \")\n",
    "\n",
    "print(\"입력값: %s\" % input_value)"
   ]
  },
  {
   "cell_type": "markdown",
   "metadata": {},
   "source": [
    "#### 주의사항\n",
    "\n",
    "* `input` 함수가 되돌려주는 값(리턴값)은 항상 문자열 자료형임.\n",
    "* 따라서 아래와 같이 `%d`를 사용하면 오류 발생\n",
    "\n",
    "* 숫자 12를 입력하더라도 문자열 `\"12\"`로 인식됨. \n",
    "    반면에 `%d`는 정수를 기대함. 따라서 오류 발생."
   ]
  },
  {
   "cell_type": "code",
   "execution_count": 6,
   "metadata": {
    "slideshow": {
     "slide_type": "slide"
    }
   },
   "outputs": [
    {
     "name": "stdout",
     "output_type": "stream",
     "text": [
      "값을 입력하세요: 12\n"
     ]
    },
    {
     "ename": "TypeError",
     "evalue": "%d format: a number is required, not str",
     "output_type": "error",
     "traceback": [
      "\u001b[0;31m---------------------------------------------------------------------------\u001b[0m",
      "\u001b[0;31mTypeError\u001b[0m                                 Traceback (most recent call last)",
      "\u001b[0;32m<ipython-input-6-3044794b98ce>\u001b[0m in \u001b[0;36m<module>\u001b[0;34m\u001b[0m\n\u001b[1;32m      1\u001b[0m \u001b[0minput_value\u001b[0m \u001b[0;34m=\u001b[0m \u001b[0minput\u001b[0m\u001b[0;34m(\u001b[0m\u001b[0;34m\"값을 입력하세요: \"\u001b[0m\u001b[0;34m)\u001b[0m\u001b[0;34m\u001b[0m\u001b[0;34m\u001b[0m\u001b[0m\n\u001b[1;32m      2\u001b[0m \u001b[0;34m\u001b[0m\u001b[0m\n\u001b[0;32m----> 3\u001b[0;31m \u001b[0mprint\u001b[0m\u001b[0;34m(\u001b[0m\u001b[0;34m\"입력값: %d\"\u001b[0m \u001b[0;34m%\u001b[0m \u001b[0minput_value\u001b[0m\u001b[0;34m)\u001b[0m\u001b[0;34m\u001b[0m\u001b[0;34m\u001b[0m\u001b[0m\n\u001b[0m",
      "\u001b[0;31mTypeError\u001b[0m: %d format: a number is required, not str"
     ]
    }
   ],
   "source": [
    "input_value = input(\"값을 입력하세요: \")\n",
    "\n",
    "print(\"입력값: %d\" % input_value)"
   ]
  },
  {
   "cell_type": "markdown",
   "metadata": {},
   "source": [
    "---"
   ]
  },
  {
   "cell_type": "markdown",
   "metadata": {
    "slideshow": {
     "slide_type": "slide"
    }
   },
   "source": [
    "### (C 언어) 여러 값 입력받기\n",
    "\n",
    "* 여러 개의 값을 입력할 때 스페이스(space)를 분리 기준으로 사용"
   ]
  },
  {
   "cell_type": "markdown",
   "metadata": {
    "slideshow": {
     "slide_type": "slide"
    }
   },
   "source": [
    "```c\n",
    "#include <stdio.h>\n",
    "\n",
    "int main(void) {\n",
    "\t// 여러 개의 값을 입력받기\n",
    "\tint one, two, three;\n",
    "    printf(\"3개의 정수를 입력하세요: \\n\");\n",
    "    scanf(\"%d %d %d\", &one, &two, &three);\n",
    "    printf(\"첫번째 값: %d\\n\", one);\n",
    "    printf(\"두번째 값: %d\\n\", two);\n",
    "    printf(\"세번째 값: %d\\n\", three);\n",
    "\n",
    "\treturn 0;\n",
    "}\n",
    "```"
   ]
  },
  {
   "cell_type": "markdown",
   "metadata": {},
   "source": [
    "---\n",
    "\n",
    "### Python 구현"
   ]
  },
  {
   "cell_type": "markdown",
   "metadata": {},
   "source": [
    "* Python은 여러 개의 값을 입력 받더라도 하나의 문자열로 처리함.\n",
    "* 따라서 스페이스로 구분된 여러 개의 문자열을 스페이스를 기준으로 쪼개서 여러 개의 변수에 할당해야 함."
   ]
  },
  {
   "cell_type": "code",
   "execution_count": 7,
   "metadata": {
    "slideshow": {
     "slide_type": "slide"
    }
   },
   "outputs": [
    {
     "name": "stdout",
     "output_type": "stream",
     "text": [
      "3개의 정수를 입력하세요: 3 12 789\n",
      "첫번째 값: 3\n",
      "두번째 값: 12\n",
      "세번째 값: 789\n"
     ]
    }
   ],
   "source": [
    "# 여러 개의 값을 입력받기\n",
    "\n",
    "three_ints = input(\"3개의 정수를 입력하세요: \")\n",
    "\n",
    "one, two, three = three_ints.split()\n",
    "\n",
    "print(\"첫번째 값: %s\" % one)\n",
    "print(\"두번째 값: %s\" % two)\n",
    "print(\"세번째 값: %s\" % three)"
   ]
  },
  {
   "cell_type": "markdown",
   "metadata": {},
   "source": [
    "#### 주의사항\n",
    "\n",
    "* 입력된 값은 모두 문자열로 처리한다. 따라서 `%s` 대신에  `%d`를 사용하면 오류 발생.\n",
    "* 하지만 입력된 문자열이 모두 숫자로만 구성되었다면  \n",
    "    `int` 함수를 이용하여 정수형으로 형변환을 한 후에 `%d`사용 가능"
   ]
  },
  {
   "cell_type": "code",
   "execution_count": 8,
   "metadata": {
    "slideshow": {
     "slide_type": "slide"
    }
   },
   "outputs": [
    {
     "name": "stdout",
     "output_type": "stream",
     "text": [
      "3개의 정수를 입력하세요: 3 12 789\n",
      "첫번째 값: 3\n",
      "두번째 값: 12\n",
      "세번째 값: 789\n"
     ]
    }
   ],
   "source": [
    "# 여러 개의 값을 입력받기\n",
    "\n",
    "three_ints = input(\"3개의 정수를 입력하세요: \")\n",
    "\n",
    "one, two, three = three_ints.split()\n",
    "\n",
    "print(\"첫번째 값: %d\" % int(one))\n",
    "print(\"두번째 값: %d\" % int(two))\n",
    "print(\"세번째 값: %d\" % int(three))"
   ]
  },
  {
   "cell_type": "markdown",
   "metadata": {},
   "source": [
    "#### 주의사항\n",
    "\n",
    "* `int` 함수를 `three_ints` 에 적용하면 오류 발생할 수 있음. \n",
    "* 이유는 `3 5 7`처럼 스페이스로 구분하면 해당 문자열은 더 이상 정수형 자료형이 아니기 때문임.\n",
    "\n",
    "---"
   ]
  },
  {
   "cell_type": "markdown",
   "metadata": {
    "slideshow": {
     "slide_type": "slide"
    }
   },
   "source": [
    "## (C 언어) 문자와 문자열 입력받기\n",
    "\n",
    "* 문자열은 여러 개의 문자를 의미함\n",
    "* `char`: 문자 자료형\n",
    "    * 문자를 작은따옴표로 감쌈\n",
    "    \n",
    "* 문자열 자료형\n",
    "    * 변수명에 문자열의 길이를 지정하는 형식으로 선언됨.\n",
    "    * 즉, 문자들의 배열로 정의됨.\n",
    "    * 문자열을 큰따옴표포 감쌈"
   ]
  },
  {
   "cell_type": "markdown",
   "metadata": {
    "slideshow": {
     "slide_type": "slide"
    }
   },
   "source": [
    "### 문자 입력받기"
   ]
  },
  {
   "cell_type": "markdown",
   "metadata": {
    "slideshow": {
     "slide_type": "slide"
    }
   },
   "source": [
    "```c\n",
    "#include <stdio.h>\n",
    "\n",
    "int main(void) {\n",
    "\t// 문자(한 글자), \n",
    "    char c = 'A';\n",
    "    printf(\"c: %c\\n\", c);\n",
    "\n",
    "    char d;\n",
    "    scanf(\"%c\", &d);\n",
    "    printf(\"d: %c\\n\", d);\n",
    "\n",
    "    return 0;\n",
    "}\n",
    "```"
   ]
  },
  {
   "cell_type": "markdown",
   "metadata": {
    "slideshow": {
     "slide_type": "slide"
    }
   },
   "source": [
    "### 문자열 입력받기"
   ]
  },
  {
   "cell_type": "markdown",
   "metadata": {
    "slideshow": {
     "slide_type": "slide"
    }
   },
   "source": [
    "```c\n",
    "#include <stdio.h>\n",
    "\n",
    "int main(void) {\n",
    "\t// 문자열(한 글자 이상의 여러 글자)\n",
    "    // 문자열의 길이 지정 필요\n",
    "    // 즉, 문자들의 배열(array) 자료형에 해당\n",
    "    char str[256];\n",
    "    \n",
    "    // 문자열을 입력받을 때 & 기호 사용하지 않음\n",
    "    // sizeof 함수는 지정된 배열의 크기 확인해줌\n",
    "    scanf(\"%s\", str, sizeof(str));\n",
    "    printf(\"%s\\n\", str);\n",
    "\n",
    "    return 0;\n",
    "}\n",
    "```"
   ]
  },
  {
   "cell_type": "markdown",
   "metadata": {},
   "source": [
    "---\n",
    "\n",
    "### Python 구현"
   ]
  },
  {
   "cell_type": "markdown",
   "metadata": {},
   "source": [
    "* Python은 문자열 자료형만 사용.\n",
    "* 문자는 길이가 1인 문자열에 해당함.\n",
    "* 문자열 입력은 `input` 함수가 담당.\n",
    "* `input` 함수는 키보드를 사용하여 Enter 키가 눌리기 전까지 입력된 모든 문자를\n",
    "    하나의 문자열로 되돌려줌."
   ]
  },
  {
   "cell_type": "code",
   "execution_count": 9,
   "metadata": {},
   "outputs": [
    {
     "name": "stdout",
     "output_type": "stream",
     "text": [
      "문자열을 입력하세요: Learning C with Python!\n",
      "입력된 문자열: Learning C with Python!\n"
     ]
    }
   ],
   "source": [
    "string = input(\"문자열을 입력하세요: \")\n",
    "print(\"입력된 문자열: %s\" % string)"
   ]
  },
  {
   "cell_type": "markdown",
   "metadata": {},
   "source": [
    "#### 주의사항\n",
    "\n",
    "* `str` 은 Python에서 문자열 자료형을 가리키는 지정자임. 따라서 변수 이름으로 사용하면 안됨.\n",
    "* 여기서는 대신에 `string`을 변수 이름으로 사용함.\n",
    "* Python에서는 문자열의 길이를 미리 지정해서 제한하지 않음.\n",
    "\n",
    "---"
   ]
  },
  {
   "cell_type": "markdown",
   "metadata": {
    "slideshow": {
     "slide_type": "slide"
    }
   },
   "source": [
    "## (C 언어) 프로젝트"
   ]
  },
  {
   "cell_type": "markdown",
   "metadata": {
    "slideshow": {
     "slide_type": "slide"
    }
   },
   "source": [
    "* 동영상: [(나도코딩 C) 2-8 프로젝트](https://www.youtube.com/watch?v=Ca_UCG40JX0&list=PLMsa_0kAjjrdiwQykI8eb3H4IRxLTqCnP&index=11)"
   ]
  },
  {
   "cell_type": "markdown",
   "metadata": {
    "slideshow": {
     "slide_type": "slide"
    }
   },
   "source": [
    "```c\n",
    "#include <stdio.h>\n",
    "\n",
    "int main(void) {\n",
    "\t// 프로젝트\n",
    "    \n",
    "\t// 경찰관이 범죄자의 정보를 입수 (조서 작성)\n",
    "\t// 이름? 나이? 몸무게? 키? 범죄명?\n",
    "\t\n",
    "\tchar name[256];\n",
    "\tprintf(\"이름이 뭐에요? \");\n",
    "\tscanf(\"%s\", name, sizeof(name));\n",
    "\t\n",
    "\tint age;\n",
    "\tprintf(\"몇 살이에요? \");\n",
    "\tscanf(\"%d\", &age);\n",
    "\n",
    "\tfloat weight;\n",
    "\tprintf(\"몸무게는 몇 kg이에요? \");\n",
    "\tscanf(\"%f\", &weight);\n",
    "\n",
    "\tdouble height;\n",
    "\tprintf(\"키는 몇 cm이에요? \");\n",
    "\tscanf(\"%lf\", &height);\n",
    "\t\n",
    "\tchar what[256];\n",
    "\tprintf(\"무슨 범죄를 저질렀어요? \");\n",
    "\tscanf(\"%s\", what, sizeof(what));\n",
    "\t\n",
    "\t// 조서 내용 출력\n",
    "\t\n",
    "\tprintf(\"\\n\\n--- 범죄자 정보 ---\\n\\n\");\n",
    "\tprintf(\" 이름    : %s\\n\", name);\n",
    "\tprintf(\" 나이    : %d\\n\", age);\n",
    "\tprintf(\" 몸무게  : %.2f\\n\", weight);\n",
    "\tprintf(\" 키      : %.2lf\\n\", height);\n",
    "\tprintf(\" 범죄    : %s\\n\", what);\n",
    "\t\n",
    "\treturn 0;\n",
    "}\n",
    "\n",
    "```"
   ]
  },
  {
   "cell_type": "markdown",
   "metadata": {},
   "source": [
    "---\n",
    "\n",
    "### Python 구현"
   ]
  },
  {
   "cell_type": "code",
   "execution_count": 10,
   "metadata": {
    "slideshow": {
     "slide_type": "slide"
    }
   },
   "outputs": [
    {
     "name": "stdout",
     "output_type": "stream",
     "text": [
      "이름이 뭐에요? 장발장\n",
      "몇 살이에요? 34\n",
      "몸무게는 몇 kg이에요? 56\n",
      "키는 몇 cm이에요? 178\n",
      "무슨 범죄를 저질렀어요? 빵훔치기\n",
      "\n",
      "--- 범죄자 정보 ---\n",
      "\n",
      " 이름     : 장발장\n",
      " 나이     : 34\n",
      " 몸무게  : 56.00\n",
      " 키         : 178.00\n",
      " 범죄      : 빵훔치기\n"
     ]
    }
   ],
   "source": [
    "# 경찰관이 범죄자의 정보를 입수 (조서 작성)\n",
    "# 이름? 나이? 몸무게? 키? 범죄명?\n",
    "\n",
    "name = input(\"이름이 뭐에요? \")\n",
    "age = input(\"몇 살이에요? \")\n",
    "weight = input(\"몸무게는 몇 kg이에요? \")\n",
    "height = input(\"키는 몇 cm이에요? \")\n",
    "what = input(\"무슨 범죄를 저질렀어요? \")\n",
    "\n",
    "# 조서 내용 출력\n",
    "\n",
    "print(\"\\n--- 범죄자 정보 ---\\n\")\n",
    "print(\" 이름     : %s\" % name)\n",
    "print(\" 나이     : %d\" % int(age))\n",
    "print(\" 몸무게  : %.2f\" % int(weight))\n",
    "print(\" 키         : %.2lf\" % int(height))\n",
    "print(\" 범죄      : %s\" % what)"
   ]
  },
  {
   "cell_type": "markdown",
   "metadata": {},
   "source": [
    "---"
   ]
  }
 ],
 "metadata": {
  "kernelspec": {
   "display_name": "Python 3",
   "language": "python",
   "name": "python3"
  },
  "language_info": {
   "codemirror_mode": {
    "name": "ipython",
    "version": 3
   },
   "file_extension": ".py",
   "mimetype": "text/x-python",
   "name": "python",
   "nbconvert_exporter": "python",
   "pygments_lexer": "ipython3",
   "version": "3.8.3"
  }
 },
 "nbformat": 4,
 "nbformat_minor": 4
}
