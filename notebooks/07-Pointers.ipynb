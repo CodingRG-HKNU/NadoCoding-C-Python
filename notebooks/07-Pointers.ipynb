{
 "cells": [
  {
   "cell_type": "markdown",
   "metadata": {
    "slideshow": {
     "slide_type": "slide"
    }
   },
   "source": [
    "# 7장 포인터"
   ]
  },
  {
   "cell_type": "markdown",
   "metadata": {},
   "source": [
    "#### 감사의 글 \n",
    "\n",
    "유튜브 동영상 모음집 \n",
    "[(나도코딩 C)](https://www.youtube.com/watch?v=dEykoFZkf5Y&list=PLMsa_0kAjjrdiwQykI8eb3H4IRxLTqCnP)에서 \n",
    "설명하는 코드를 활용합니다. \n",
    "강의동영상을 공개한 \n",
    "[나도코딩](https://www.youtube.com/channel/UC7iAOLiALt2rtMVAWWl4pnw)님께 \n",
    "감사드립니다."
   ]
  },
  {
   "cell_type": "markdown",
   "metadata": {},
   "source": [
    "## 핵심"
   ]
  },
  {
   "cell_type": "markdown",
   "metadata": {},
   "source": [
    "* 포인터 이해"
   ]
  },
  {
   "cell_type": "markdown",
   "metadata": {
    "slideshow": {
     "slide_type": "slide"
    }
   },
   "source": [
    "## (C 언어) 물고기 키우기"
   ]
  },
  {
   "cell_type": "markdown",
   "metadata": {
    "slideshow": {
     "slide_type": "fragment"
    }
   },
   "source": [
    "* 동영상: [(나도코딩 C) 7-1 물고기 키우기](https://www.youtube.com/watch?v=W1zcOFCGqxQ&list=PLMsa_0kAjjrdiwQykI8eb3H4IRxLTqCnP&index=44)"
   ]
  },
  {
   "cell_type": "markdown",
   "metadata": {},
   "source": [
    "### 게임 설명"
   ]
  },
  {
   "cell_type": "markdown",
   "metadata": {},
   "source": [
    "* 어항을 클릭해서 물 채우기"
   ]
  },
  {
   "cell_type": "markdown",
   "metadata": {},
   "source": [
    "---"
   ]
  },
  {
   "cell_type": "markdown",
   "metadata": {
    "slideshow": {
     "slide_type": "slide"
    }
   },
   "source": [
    "## (C 언어) 친구들의 주소"
   ]
  },
  {
   "cell_type": "markdown",
   "metadata": {
    "slideshow": {
     "slide_type": "fragment"
    }
   },
   "source": [
    "* 동영상: [(나도코딩 C) 7-2 친구들의 주소](https://www.youtube.com/watch?v=IxhMzEYB9L0&list=PLMsa_0kAjjrdiwQykI8eb3H4IRxLTqCnP&index=45)"
   ]
  },
  {
   "cell_type": "markdown",
   "metadata": {},
   "source": [
    "* 예제: 실제 저장된 메모리상의 주소 확인하는 방법"
   ]
  },
  {
   "cell_type": "markdown",
   "metadata": {},
   "source": [
    "* 앰퍼샌드(ampersand) 기호(`&`): (일반) 변수에 할당된 값이 저장된 메모리 주소를 가리킴\n",
    "* 주의: 포인터 값을 받는 출력 포맷: `%p` (동영상에서 사용하는 `%d`는 경고 발생시킴)\n",
    "    * 16진법으로 표현된 메모리 주소 출력"
   ]
  },
  {
   "cell_type": "markdown",
   "metadata": {},
   "source": [
    "<div align=\"center\"><img src=\"./images/nado07-c-pointer-1.png\" width=\"250\"/></div>\n",
    "\n",
    "<그림 참조: [SOFT HIVE: C 언어 포인터](https://dasima.xyz/c-pointer/)>"
   ]
  },
  {
   "cell_type": "markdown",
   "metadata": {},
   "source": [
    "---\n",
    "```c\n",
    "#include <stdio.h>\n",
    "\n",
    "int main()\n",
    "{\n",
    "\t// 포인터\n",
    "\n",
    "\t// 한 아파트에 철수, 영희, 민수 거주\n",
    "\t// 각각의 문 앞에 '암호'가 걸려 있음.\n",
    "\n",
    "\t// [철수]: 101호 -> 실제 메모리 공간의 주소는 다름\n",
    "\t// [영희]: 201호 -> 실제 메모리 공간의 주소는 다름\n",
    "\t// [민수]: 301호 -> 실제 메모리 공간의 주소는 다름\n",
    "\n",
    "\tint 철수 = 1;  \n",
    "\tint 영희 = 2;\n",
    "\tint 민수 = 3;\n",
    "\n",
    "\tprintf(\"철수네 주소: %p, 암호: %d\\n\", &철수, 철수);\n",
    "\tprintf(\"영희네 주소: %p, 암호: %d\\n\", &영희, 영희);\n",
    "\tprintf(\"민수네 주소: %p, 암호: %d\\n\", &민수, 민수);\n",
    "}\n",
    "```"
   ]
  },
  {
   "cell_type": "markdown",
   "metadata": {
    "slideshow": {
     "slide_type": "slide"
    }
   },
   "source": [
    "---\n",
    "\n",
    "### Python 구현"
   ]
  },
  {
   "cell_type": "markdown",
   "metadata": {},
   "source": [
    "* 파이썬에서는 포인터 변수를 굳이 사용할 필요 없음.\n",
    "\n",
    "* 또한 변수의 주소 등을 확인할 일도 일밙거으로 없음."
   ]
  },
  {
   "cell_type": "markdown",
   "metadata": {},
   "source": [
    "---"
   ]
  },
  {
   "cell_type": "markdown",
   "metadata": {
    "slideshow": {
     "slide_type": "slide"
    }
   },
   "source": [
    "## (C 언어) 미션맨(포인터)의 등장"
   ]
  },
  {
   "cell_type": "markdown",
   "metadata": {
    "slideshow": {
     "slide_type": "fragment"
    }
   },
   "source": [
    "* 동영상: [(나도코딩 C) 7-3 미션맨(포인터)의 등장](https://www.youtube.com/watch?v=X1LEhWth4X8&list=PLMsa_0kAjjrdiwQykI8eb3H4IRxLTqCnP&index=46)"
   ]
  },
  {
   "cell_type": "markdown",
   "metadata": {},
   "source": [
    "* 두 종류의 변수 활용\n",
    "    * (일반) 변수: 정수, 부동소수점, 문자, 문자열 등 값을 가리키는 변수\n",
    "    * 포인터 변수: 메모리 주소를 가리키는 변수\n",
    "        * (일반) 변수가 가리키는 값이 저장된 메모리 주소\n",
    "        * 배열(어레이), 문자열 등이 저장된 메모리 주소"
   ]
  },
  {
   "cell_type": "markdown",
   "metadata": {},
   "source": [
    "* 애스터리스크(asterisk) 기호(`*`)의 역할\n",
    "    * 포인터 변수가 가리키는 주소에 저장된 값을 가리킴"
   ]
  },
  {
   "cell_type": "markdown",
   "metadata": {},
   "source": [
    "<div align=\"center\"><img src=\"./images/nado07-c-pointer-2.png\" width=\"550\"/></div>\n",
    "\n",
    "<그림 참조: [SOFT HIVE: C 언어 포인터](https://dasima.xyz/c-pointer/)>"
   ]
  },
  {
   "cell_type": "markdown",
   "metadata": {},
   "source": [
    "---\n",
    "```c\n",
    "\t// 미션맨 등장!\n",
    "\n",
    "\t// 첫 번째 미션: 아파트의 각 집에 방문하여 문에 적힘 암호 확인\n",
    "\n",
    "\tint * 미션맨;   // 포인터 변수\n",
    "\t\n",
    "\t// 포인터 변수와, 포인터 변수가 가리키는 주소에 저장된 값 확인\n",
    "\t미션맨 = &철수;  // 철수의 주소\n",
    "\tprintf(\"미션맨이 방문하는 곳의 주소: %p, 암호: %d\\n\", 미션맨, *미션맨);\n",
    "\t\n",
    "\t미션맨 = &영희;  // 영희의 주소\n",
    "\tprintf(\"미션맨이 방문하는 곳의 주소: %p, 암호: %d\\n\", 미션맨, *미션맨);\n",
    "\t\n",
    "\t미션맨 = &민수;  // 민수의 주소\n",
    "\tprintf(\"미션맨이 방문하는 곳의 주소: %p, 암호: %d\\n\", 미션맨, *미션맨);\n",
    "\n",
    "\t// 두 번째 미션: 각 집의 암호에 3 곱하기\n",
    "\n",
    "\t미션맨 = &철수;\n",
    "\t*미션맨 = *미션맨 * 3;\n",
    "\tprintf(\"미션맨이 암호를 바꾼 곳의 주소: %p, 암호: %d\\n\", 미션맨, *미션맨);\n",
    "\n",
    "\t미션맨 = &영희;\n",
    "\t*미션맨 = *미션맨 * 3;\n",
    "\tprintf(\"미션맨이 암호를 바꾼 곳의 주소: %p, 암호: %d\\n\", 미션맨, *미션맨);\n",
    "\n",
    "\t미션맨 = &민수;\n",
    "\t*미션맨 = *미션맨 * 3;\n",
    "\tprintf(\"미션맨이 암호를 바꾼 곳의 주소: %p, 암호: %d\\n\", 미션맨, *미션맨);\n",
    "```"
   ]
  },
  {
   "cell_type": "markdown",
   "metadata": {},
   "source": [
    "---"
   ]
  },
  {
   "cell_type": "markdown",
   "metadata": {
    "slideshow": {
     "slide_type": "slide"
    }
   },
   "source": [
    "## (C 언어) 스파이(또다른 포인터)의 등장"
   ]
  },
  {
   "cell_type": "markdown",
   "metadata": {
    "slideshow": {
     "slide_type": "fragment"
    }
   },
   "source": [
    "* 동영상: [(나도코딩 C) 7-4 스파이(또다른 포인터)의 등장](https://www.youtube.com/watch?v=Ij_XVWDRznI&list=PLMsa_0kAjjrdiwQykI8eb3H4IRxLTqCnP&index=47)"
   ]
  },
  {
   "cell_type": "markdown",
   "metadata": {},
   "source": [
    "* 두 개의 포인터가 하나의 메모리 주소 공유\n",
    "    * 포인터의 주요 역할임. 하지만 매우 어려운 문제 야기 가능\n",
    "    * 여러 포인터 변수가 하나의 주소를 대상으로 많은 변화를 줄 수 있기 때문."
   ]
  },
  {
   "cell_type": "markdown",
   "metadata": {},
   "source": [
    "* 포인터 변수가 가리키는 주소를 저장하는 메모리 공간도 물론 따로 존재\n",
    "    * 역시 앰퍼샌트 기호(`&`)를 활용하여 확인 가능"
   ]
  },
  {
   "cell_type": "markdown",
   "metadata": {},
   "source": [
    "<div align=\"center\"><img src=\"./images/nado07-c-pointer-2a.png\" width=\"550\"/></div>\n",
    "\n",
    "<그림 참조: [SOFT HIVE: C 언어 포인터](https://dasima.xyz/c-pointer/)>"
   ]
  },
  {
   "cell_type": "markdown",
   "metadata": {},
   "source": [
    "---\n",
    "```c\n",
    "\t// 스파이\n",
    "\t// - 두 개의 포인터가 동일한 메모리 주소를 가리킬 수 있음.\n",
    "\t// 미션맨이 바꾼 암호에서 2를 빼라!\n",
    "\tint * 스파이 = 미션맨;\n",
    "\n",
    "\tprintf(\"\\n ... 스파이가 미션 수행하는 중 ... \\n\\n\");\n",
    "\n",
    "\t스파이 = &철수;\n",
    "\t*스파이 = *스파이 - 2;  // 철수 = 철수 - 2\n",
    "\tprintf(\"스파이가 방문하는 곳 주소: %p, 암호: %d\\n\", 스파이, *스파이);\n",
    "\n",
    "\t스파이 = &영희;\n",
    "\t*스파이 = *스파이 - 2;  // 영희 = 영희 - 2\n",
    "\tprintf(\"스파이가 방문하는 곳 주소: %p, 암호: %d\\n\", 스파이, *스파이);\n",
    "\n",
    "\t스파이 = &민수;\n",
    "\t*스파이 = *스파이 - 2;  // 민수 = 민수 - 2\n",
    "\tprintf(\"스파이가 방문하는 곳 주소: %p, 암호: %d\\n\", 스파이, *스파이);\n",
    "\n",
    "\t// 철수, 영희, 민수는 집에 돌아와서 바뀐 암호를 보고 깜짝 놀람.\n",
    "\t// - 철수 제외!\n",
    "\tprintf(\"철수네 주소: %p, 암호: %d\\n\", &철수, 철수);\n",
    "\tprintf(\"영희네 주소: %p, 암호: %d\\n\", &영희, 영희);\n",
    "\tprintf(\"민수네 주소: %p, 암호: %d\\n\", &민수, 민수);\n",
    "\n",
    "\t// 참고: 미션맨/포인터가 사는 곳의 주소 또한 &미션맨/&스파이 등으로 확인\n",
    "\tprintf(\"미션맨의 주소: %p\\n\", &미션맨);\n",
    "\tprintf(\"스파이의 주소: %p\\n\", &스파이);\n",
    "```"
   ]
  },
  {
   "cell_type": "markdown",
   "metadata": {},
   "source": [
    "---"
   ]
  },
  {
   "cell_type": "markdown",
   "metadata": {
    "slideshow": {
     "slide_type": "slide"
    }
   },
   "source": [
    "## (C 언어) 배열과 포인터의 관계"
   ]
  },
  {
   "cell_type": "markdown",
   "metadata": {
    "slideshow": {
     "slide_type": "fragment"
    }
   },
   "source": [
    "* 동영상: [(나도코딩 C) 7-5 배열과 포인터의 관계](https://www.youtube.com/watch?v=MizWzX-mKfg&list=PLMsa_0kAjjrdiwQykI8eb3H4IRxLTqCnP&index=48)"
   ]
  },
  {
   "cell_type": "markdown",
   "metadata": {},
   "source": [
    "* 배열을 가리키는 변수는 포인터 변수로 인식됨\n",
    "* 아래 예제 코드에서 `arr`과 `ptr`은 동일한 배열을 가리킴."
   ]
  },
  {
   "cell_type": "markdown",
   "metadata": {},
   "source": [
    "---\n",
    "```c\n",
    "#include <stdio.h>\n",
    "\n",
    "int main()\n",
    "{\n",
    "\t// 배열\n",
    "\n",
    "\tint arr[3] = {5, 10, 15};\n",
    "\tint * ptr = arr;\n",
    "\t\n",
    "\t// 배열의 항목 확인\n",
    "\tfor (int i = 0; i < 3; i++)\n",
    "\t{\n",
    "\t\tprintf(\"배열 arr[%d]의 값: %d\\n\", i, arr[i]);\n",
    "\t}\n",
    "\n",
    "\t// 포인터로도 배열 항목 확인 가능\n",
    "\tfor (int i = 0; i < 3; i++)\n",
    "\t{\n",
    "\t\tprintf(\"포인터 ptr[%d]의 값: %d\\n\", i, ptr[i]);\n",
    "\t}\n",
    "\n",
    "\t// 포인터를 활용하여 배열 항목 수정\n",
    "\tptr[0] = 100;\n",
    "\tptr[1] = 200;\n",
    "\tptr[2] = 300;\n",
    "\n",
    "\t// 배열 항목 다시 확인\n",
    "\tfor (int i = 0; i < 3; i++)\n",
    "\t{\n",
    "\t\tprintf(\"배열 arr[%d]의 값: %d\\n\", i, arr[i]);\n",
    "\t}\n",
    "\n",
    "\tfor (int i = 0; i < 3; i++)\n",
    "\t{\n",
    "\t\tprintf(\"포인터 ptr[%d]의 값: %d\\n\", i, ptr[i]);\n",
    "\t}\n",
    "}\n",
    "```"
   ]
  },
  {
   "cell_type": "markdown",
   "metadata": {},
   "source": [
    "* 배열이 저장된 주소를 가리키는 포인터 변수는 실제로는 배열의 첫째 항목이 가리키는 메모리 주소를 가리킴."
   ]
  },
  {
   "cell_type": "markdown",
   "metadata": {},
   "source": [
    "<div align=\"center\"><img src=\"./images/nado07-c-pointer-3.png\" width=\"400\"/></div>\n",
    "\n",
    "<그림 참조: [SessionK 블로그: 배열 포인터연산](https://sessionk.tistory.com/156)>"
   ]
  },
  {
   "cell_type": "markdown",
   "metadata": {},
   "source": [
    "---\n",
    "```c\n",
    "\t// 포인터 값을 이용하여 아래와 같이 수정해도 동일하게 작동함\n",
    "\t// 포인터 변수는 어레이의 첫째 항목이 저장된 주소를 가리킴\n",
    "\tfor (int i = 0; i < 3; i++)\n",
    "\t{\n",
    "\t\tprintf(\"배열 arr[%d]의 값: %d\\n\", i, *(arr + i));\n",
    "\t}\n",
    "\n",
    "\tfor (int i = 0; i < 3; i++)\n",
    "\t{\n",
    "\t\tprintf(\"포인터 ptr[%d]의 값: %d\\n\", i, *(ptr + i));\n",
    "\t}\n",
    "\n",
    "\t// *(arr + i) == arr[i] \n",
    "\t// arr == arr 배열의 첫번째 값의 주소와 동일, 즉, &arr[0]\n",
    "\tprintf(\"arr 자체의 값: %p\\n\", arr);\n",
    "\tprintf(\"arr[0]의 주소: %p\\n\", &arr[0]);\n",
    "\n",
    "\t// 배열 포인터 주소에 저장된 값 = 배열의 첫째 항목\u001d",
    "\n",
    "\tprintf(\"arr 자체의 값이 가지는 주소의 실제 값: %d\\n\", *arr); // *(arr + 0)\n",
    "\tprintf(\"arr[0]의 값: %d\\n\", *&arr[0]);\n",
    "\n",
    "\t// *& 는 아무 것도 없는 것과 같다. \n",
    "\t// & 는 주소, * 는 그 주소에 저장된 값\n",
    "\tprintf(\"arr[0]의 값: %d\\n\", *&*&*&arr[0]);\n",
    "\tprintf(\"arr[0]의 값: %d\\n\", arr[0]);\n",
    "```"
   ]
  },
  {
   "cell_type": "markdown",
   "metadata": {
    "slideshow": {
     "slide_type": "slide"
    }
   },
   "source": [
    "---\n",
    "\n",
    "### Python 구현"
   ]
  },
  {
   "cell_type": "markdown",
   "metadata": {},
   "source": [
    "* 배열에 해당하는 파이썬 자료형은 리스트임.\n",
    "* 하지만 또한 일반 변수로 선언해서 사용함.\n",
    "* 리스트의 항목은 인덱스 활용하며, 주소값을 사용할 일이 일반적으로 없음."
   ]
  },
  {
   "cell_type": "code",
   "execution_count": 1,
   "metadata": {},
   "outputs": [
    {
     "name": "stdout",
     "output_type": "stream",
     "text": [
      "배열 arr[0]의 값: 5\n",
      "배열 arr[1]의 값: 10\n",
      "배열 arr[2]의 값: 15\n"
     ]
    }
   ],
   "source": [
    "arr = [5, 10, 15]\n",
    "\n",
    "for i in range(3):\n",
    "    print(\"배열 arr[%d]의 값: %d\" % (i, arr[i]));\n"
   ]
  },
  {
   "cell_type": "markdown",
   "metadata": {},
   "source": [
    "* 인덱스 대신에 항목을 직접 이용하여 for 반복문 실행 가능"
   ]
  },
  {
   "cell_type": "code",
   "execution_count": 2,
   "metadata": {},
   "outputs": [
    {
     "name": "stdout",
     "output_type": "stream",
     "text": [
      "5\n",
      "10\n",
      "15\n"
     ]
    }
   ],
   "source": [
    "arr = [5, 10, 15]\n",
    "\n",
    "for item in arr:\n",
    "    print(item)\n"
   ]
  },
  {
   "cell_type": "markdown",
   "metadata": {},
   "source": [
    "* 항목과 인덱스를 함께 사용하려면 `enumerate()` 함수 활용"
   ]
  },
  {
   "cell_type": "code",
   "execution_count": 3,
   "metadata": {},
   "outputs": [
    {
     "name": "stdout",
     "output_type": "stream",
     "text": [
      "배열 arr[0]의 값: 5\n",
      "배열 arr[1]의 값: 10\n",
      "배열 arr[2]의 값: 15\n"
     ]
    }
   ],
   "source": [
    "arr = [5, 10, 15]\n",
    "\n",
    "for i, item in enumerate(arr):\n",
    "    print(f\"배열 arr[{i}]의 값: {item}\")\n"
   ]
  },
  {
   "cell_type": "markdown",
   "metadata": {},
   "source": [
    "---"
   ]
  },
  {
   "cell_type": "markdown",
   "metadata": {
    "slideshow": {
     "slide_type": "slide"
    }
   },
   "source": [
    "## (C 언어) Swap"
   ]
  },
  {
   "cell_type": "markdown",
   "metadata": {
    "slideshow": {
     "slide_type": "fragment"
    }
   },
   "source": [
    "* 동영상: [(나도코딩 C) 7-6 Swap](https://www.youtube.com/watch?v=CchtxFktL4k&list=PLMsa_0kAjjrdiwQykI8eb3H4IRxLTqCnP&index=49)"
   ]
  },
  {
   "cell_type": "markdown",
   "metadata": {},
   "source": [
    "### 두 개의 변수에 할당된 값 바꾸기 잘못된 시도"
   ]
  },
  {
   "cell_type": "markdown",
   "metadata": {},
   "source": [
    "* 아래와 같이 시도하면 변수 a와 b에 저장된 값을 바꿀 수 없음.\n",
    "* 이유는 swap 함수에 전달되는 것은 a와 b의 주소가 아니라 a와 b가 가리키는 값만 전달되기 때문임."
   ]
  },
  {
   "cell_type": "markdown",
   "metadata": {},
   "source": [
    "---\n",
    "```c\n",
    "#include <stdio.h>\n",
    "\n",
    "// 스왑 함수\n",
    "void swap(int a, int b);\n",
    "\n",
    "int main()\n",
    "{\n",
    "\t// Swap\n",
    "\n",
    "\tint a = 10;\n",
    "\tint b = 20;\n",
    "\n",
    "\t// a와 b의 값 바꾸기\n",
    "\tprintf(\"Swap 함수 적용 전 => a: %d, b:%d\\n\", a, b);\n",
    "\tswap(a, b);\n",
    "\tprintf(\"Swap 함수 적용 후 => a: %d, b:%d\\n\", a, b);\n",
    "}\n",
    "\n",
    "void swap(int a, int b)\n",
    "{\n",
    "\tint temp = a;\n",
    "\ta = b;\n",
    "\tb = temp;\n",
    "\tprintf(\"Swap 함수 내 => a: %d, b:%d\\n\", a, b);\n",
    "}\n",
    "```"
   ]
  },
  {
   "cell_type": "markdown",
   "metadata": {},
   "source": [
    "* 실제로 swap 함수 본체 내에서 사용되는 변수들이 가리키는 주소가 다름."
   ]
  },
  {
   "cell_type": "markdown",
   "metadata": {},
   "source": [
    "---\n",
    "```c\n",
    "#include <stdio.h>\n",
    "\n",
    "// 스왑 함수\n",
    "void swap(int a, int b);\n",
    "\n",
    "int main()\n",
    "{\n",
    "\t// Swap\n",
    "\n",
    "\tint a = 10;\n",
    "\tint b = 20;\n",
    "\tprintf(\"a의 주소: %p\\n\", &a);\n",
    "\tprintf(\"b의 주소: %p\\n\", &b);\n",
    "\n",
    "\t// a와 b의 값 바꾸기\n",
    "\tprintf(\"Swap 함수 적용 전 => a: %d, b:%d\\n\", a, b);\n",
    "    // 값에 의한 복사(Call by Value): 값만 복사한다는 의미\n",
    "\tswap(a, b);\n",
    "\tprintf(\"Swap 함수 적용 후 => a: %d, b:%d\\n\", a, b);\n",
    "}\n",
    "\n",
    "void swap(int a, int b)\n",
    "{\n",
    "\tprintf(\"(swap 함수 본체) a의 주소: %p\\n\", &a);\n",
    "\tprintf(\"(swap 함수 본체) b의 주소: %p\\n\", &b);\n",
    "\n",
    "\tint temp = a;\n",
    "\ta = b;\n",
    "\tb = temp;\n",
    "\tprintf(\"Swap 함수 내 => a: %d, b:%d\\n\", a, b);\n",
    "}\n",
    "```"
   ]
  },
  {
   "cell_type": "markdown",
   "metadata": {},
   "source": [
    "* 위 코드 실행결과"
   ]
  },
  {
   "cell_type": "markdown",
   "metadata": {},
   "source": [
    "```c\n",
    "a의 주소: 0x7ffc1b55074c\n",
    "b의 주소: 0x7ffc1b550748\n",
    "Swap 함수 적용 전 => a: 10, b:20\n",
    "(swap 함수 본체) a의 주소: 0x7ffc1b55071c\n",
    "(swap 함수 본체) b의 주소: 0x7ffc1b550718\n",
    "Swap 함수 내 => a: 20, b:10\n",
    "Swap 함수 적용 후 => a: 10, b:20\n",
    "```"
   ]
  },
  {
   "cell_type": "markdown",
   "metadata": {},
   "source": [
    "### 두 개의 변수에 할당된 값 바꾸기: 주소값(포인터) 활용"
   ]
  },
  {
   "cell_type": "markdown",
   "metadata": {},
   "source": [
    "* 스왑 함수에 변수들의 주소를 전달하면 됨.\n",
    "* 이를 위해 포인터 주소를 인자로 받는 스왑함수 활용"
   ]
  },
  {
   "cell_type": "markdown",
   "metadata": {},
   "source": [
    "---\n",
    "```c\n",
    "#include <stdio.h>\n",
    "\n",
    "// 스왑 함수\n",
    "void swap_addr(int * a, int * b);\n",
    "\n",
    "int main()\n",
    "{\n",
    "\t// Swap\n",
    "\n",
    "\tint a = 10;\n",
    "\tint b = 20;\n",
    "\n",
    "\t// a와 b의 값 바꾸기\n",
    "\tprintf(\"Swap 함수 적용 전 => a: %d, b:%d\\n\", a, b);\n",
    "\t// 주소값 전달하는 방식으로\n",
    "\tswap_addr(&a, &b);\n",
    "\tprintf(\"Swap 함수 적용 후 => a: %d, b:%d\\n\", a, b);\n",
    "}\n",
    "\n",
    "void swap_addr(int * a, int * b)\n",
    "{\n",
    "\tint temp = *a;\n",
    "\t*a = *b;\n",
    "\t*b = temp;\n",
    "}\n",
    "```"
   ]
  },
  {
   "cell_type": "markdown",
   "metadata": {
    "slideshow": {
     "slide_type": "slide"
    }
   },
   "source": [
    "---\n",
    "\n",
    "### Python 구현"
   ]
  },
  {
   "cell_type": "markdown",
   "metadata": {},
   "source": [
    "* 파이썬에서 두 변수에 할당된 값의 교환은 매우 간단함."
   ]
  },
  {
   "cell_type": "code",
   "execution_count": 4,
   "metadata": {},
   "outputs": [
    {
     "name": "stdout",
     "output_type": "stream",
     "text": [
      "a: 20\n",
      "b: 10\n"
     ]
    }
   ],
   "source": [
    "a = 10\n",
    "b = 20\n",
    "\n",
    "a, b = b, a\n",
    "\n",
    "print(f\"a: {a}\", f\"b: {b}\", sep='\\n')"
   ]
  },
  {
   "cell_type": "markdown",
   "metadata": {},
   "source": [
    "* 주의: 아래와 같이 하면 C 언어에서와 동일한 결과를 얻음.\n",
    "    * 각각의 변수들이 사는 영역이 다르기 때문임."
   ]
  },
  {
   "cell_type": "code",
   "execution_count": 5,
   "metadata": {},
   "outputs": [
    {
     "name": "stdout",
     "output_type": "stream",
     "text": [
      "a: 10\n",
      "b: 20\n"
     ]
    }
   ],
   "source": [
    "a = 10\n",
    "b = 20\n",
    "\n",
    "def swap(a, b):\n",
    "    temp = a\n",
    "    b = a\n",
    "    a = b\n",
    "\n",
    "swap(a, b)\n",
    "\n",
    "print(f\"a: {a}\", f\"b: {b}\", sep='\\n')"
   ]
  },
  {
   "cell_type": "markdown",
   "metadata": {},
   "source": [
    "#### PythonTutor 활용하기\n",
    "\n",
    "* [(파이썬) Swap](http://pythontutor.com/visualize.html#code=a%20%3D%2010%0Ab%20%3D%2020%0A%0Adef%20swap%28a,%20b%29%3A%0A%20%20%20%20temp%20%3D%20a%0A%20%20%20%20b%20%3D%20a%0A%20%20%20%20a%20%3D%20b%0A%0Aswap%28a,%20b%29%0A%0Aprint%28f%22a%3A%20%7Ba%7D%22,%20f%22b%3A%20%7Bb%7D%22,%20sep%3D'%5Cn'%29&cumulative=false&curInstr=0&heapPrimitives=nevernest&mode=display&origin=opt-frontend.js&py=3&rawInputLstJSON=%5B%5D&textReferences=false)"
   ]
  },
  {
   "cell_type": "markdown",
   "metadata": {},
   "source": [
    "---"
   ]
  },
  {
   "cell_type": "markdown",
   "metadata": {
    "slideshow": {
     "slide_type": "slide"
    }
   },
   "source": [
    "## (C 언어) 포인터로 배열 값 변경하기"
   ]
  },
  {
   "cell_type": "markdown",
   "metadata": {
    "slideshow": {
     "slide_type": "fragment"
    }
   },
   "source": [
    "* 동영상: [(나도코딩 C) 7-7 포인터로 배열 값 변경하기](https://www.youtube.com/watch?v=jYbFtxbWAzA&list=PLMsa_0kAjjrdiwQykI8eb3H4IRxLTqCnP&index=50)"
   ]
  },
  {
   "cell_type": "markdown",
   "metadata": {},
   "source": [
    "* 배열의 항목을 포인터를 이용하여 수정 가능"
   ]
  },
  {
   "cell_type": "markdown",
   "metadata": {},
   "source": [
    "---\n",
    "```c\n",
    "#include <stdio.h>\n",
    "\n",
    "// 스왑 함수\n",
    "void changeArray(int * ptr);\n",
    "\n",
    "int main()\n",
    "{\n",
    "\t// 배열의 2번 인덱스 값 변경하기\n",
    "\n",
    "\tint arr2[3] = {10, 20, 30};\n",
    "\tchangeArray(arr2);\n",
    "\n",
    "\tfor (int i = 0; i < 3; i++)\n",
    "\t{\n",
    "\t\tprintf(\"%d\\n\", arr2[i]);\n",
    "\t}\n",
    "}\n",
    "\n",
    "void changeArray(int * ptr)\n",
    "{\n",
    "\tptr[2] = 50;\n",
    "}\n",
    "```"
   ]
  },
  {
   "cell_type": "markdown",
   "metadata": {},
   "source": [
    "* `changeArray(arr2);`를 `changeArray(&arr2[0]);`로 변경 가능\n",
    "* 이제 scanf 함수에서 정수를 입력받을 때 `&num` 과 같이 앰퍼샌드 기호(`&`) 사용하는 이유를 이해할 수 있음."
   ]
  },
  {
   "cell_type": "markdown",
   "metadata": {
    "slideshow": {
     "slide_type": "slide"
    }
   },
   "source": [
    "---\n",
    "\n",
    "### Python 구현"
   ]
  },
  {
   "cell_type": "markdown",
   "metadata": {},
   "source": [
    "* 리스트의 항목 수정은 인덱스를 활용하면 됨."
   ]
  },
  {
   "cell_type": "code",
   "execution_count": 6,
   "metadata": {},
   "outputs": [
    {
     "name": "stdout",
     "output_type": "stream",
     "text": [
      "[10, 20, 50]\n"
     ]
    }
   ],
   "source": [
    "arr2 = [10, 20, 30]\n",
    "\n",
    "def changeArray(list):\n",
    "    list[2] = 50\n",
    "    \n",
    "changeArray(arr2)\n",
    "\n",
    "print(arr2)"
   ]
  },
  {
   "cell_type": "markdown",
   "metadata": {},
   "source": [
    "---"
   ]
  },
  {
   "cell_type": "markdown",
   "metadata": {},
   "source": [
    "## (C 언어) 프로젝트"
   ]
  },
  {
   "cell_type": "markdown",
   "metadata": {},
   "source": [
    "* 동영상: [(나도코딩 C) 7-8 프로젝트(전반전)](https://www.youtube.com/watch?v=_NIkHRkRTG4&list=PLMsa_0kAjjrdiwQykI8eb3H4IRxLTqCnP&index=51)\n",
    "* 동영상: [(나도코딩 C) 7-9 프로젝트(후반전)](https://www.youtube.com/watch?v=S88l4zJmkNM&list=PLMsa_0kAjjrdiwQykI8eb3H4IRxLTqCnP&index=52)\n",
    "* 동영상: [(나도코딩 C) 7-10 프로젝트(연장전)](https://www.youtube.com/watch?v=QePj1QvLhcc&list=PLMsa_0kAjjrdiwQykI8eb3H4IRxLTqCnP&index=53)"
   ]
  },
  {
   "cell_type": "markdown",
   "metadata": {},
   "source": [
    "* 물고기 키우기 게임\n",
    "    * 물고기 6마리가 각각 다른 어항에 살고 있는데 사막이다보니 너무 건조해서 물이 아주 빠르게 증발함.\n",
    "    * 물이 다 증발하기 전에 어항에 물을 채워주어야 함.\n",
    "    * 시간이 지날 수록 물고기 커지며, 나주에는 .... 냠냠..."
   ]
  },
  {
   "cell_type": "markdown",
   "metadata": {},
   "source": [
    "---\n",
    "```c\n",
    "#include <stdio.h>\n",
    "#include <stdlib.h>\n",
    "#include <time.h>\n",
    "\n",
    "// 물고기 6마리가 각각 다른 어항에 살고 있는데\n",
    "// 사막이다보니 너무 건조해서 물이 아주 빠르게 증발함.\n",
    "// 물이 다 증발하기 전에 어항에 물을 채워주어야 함.\n",
    "// 시간이 지날 수록 물고기 커지며, 나주에는 .... 냠냠...\n",
    "\n",
    "int level;\n",
    "int arrayFish[6];\n",
    "int * cursor;                  // 각 어항을 가리키는 역할\n",
    "\n",
    "void initData();\n",
    "void printFishes();\n",
    "void decreaseWater(long elapsedTime);\n",
    "int checkFishAlive();\n",
    "\n",
    "int main(void)\n",
    "{\n",
    "\tlong startTime = 0;        // 게임 시작시간\n",
    "\tlong totalElapsedTime = 0; // 총 경과시간\n",
    "\tlong prevElapsedTime = 0;  // 직전 경과시간 (최근에 물을 준 시간 간격)\n",
    "\n",
    "\tint num;                   // 물을 채울 어항 번호 (사용자 입력)\n",
    "\n",
    "\tinitData();\n",
    "\n",
    "\tcursor = arrayFish;        // cursor[0], cursor[1], ...\n",
    "\n",
    "\tstartTime = clock();       // 현재시각을 millisecond(ms, 1000분의 1초) 단위로 변환\n",
    "\n",
    "\twhile (1)                  // 문한반복\n",
    "\t{\n",
    "\t\tprintFishes();\n",
    "\t\tprintf(\"몇 번 어항에 물을 주시겠어요? \");\n",
    "\t\tscanf(\"%d\", &num);\n",
    "\n",
    "\t\t// 입력값 체크\n",
    "\t\tif (num < 1 || num > 6)\n",
    "\t\t{\n",
    "\t\t\tprintf(\"\\n입력값이 잘못되었어요.\\n\");\n",
    "\t\t\tcontinue;\n",
    "\t\t}\n",
    "\n",
    "\t\t// 게임 총 경과시간\n",
    "        \n",
    "\t\ttotalElapsedTime = (clock() - startTime) / CLOCKS_PER_SEC;\n",
    "        // repl.it 사이트에서는 시간이 연속적이지 않음. 100으로 나누어 주는 것으로 모의실험 가능.\n",
    "\t\t// totalElapsedTime = (clock() - startTime) / 100;\n",
    "\n",
    "        printf(\"게임 총 경과시간: %ld 초\\n\", totalElapsedTime);\n",
    "\n",
    "\t\t// 마지막으로 물을 준 이후로 흐른 시간\n",
    "\t\t// 흐른 시간동안 증발된 물의 양을 측정하기 위함.\n",
    "\t\tprevElapsedTime = totalElapsedTime - prevElapsedTime;\n",
    "\t\tprintf(\"마지막으로 물을 준 이후로 흐른 시간: %ld 초\\n\", prevElapsedTime);\n",
    "\n",
    "\t\t// 증발된 만큼 물을 감소시키기\n",
    "\t\tdecreaseWater(prevElapsedTime);\n",
    "\n",
    "\t\t// 사용자가 지정한 어항에 물주기\n",
    "\t\t// 1. 어항의 물이 0이면? 물고기 이미 사망. 따라서 물 주지 않음.\n",
    "\t\tif (cursor[num-1] <= 0)\n",
    "\t\t{\n",
    "\t\t\tprintf(\"%d 번 물고기는 이미 사망. 물 주지 않음.\\n\", num);\n",
    "\t\t}\n",
    "\t\t// 2. 어항의 물의 양이 0이 아니면 물을 줌. 단, 어항 물의 양이 100 넘지 않게 해야함.\n",
    "\t\telse if (cursor[num-1] + 1 <= 100)\n",
    "\t\t{\n",
    "\t\t\t// 물 주기\n",
    "\t\t\tprintf(\"%d 번 어항에 물주기\\n\\n\", num);\n",
    "\t\t\tcursor[num-1] += 1;\n",
    "\t\t}\n",
    "\n",
    "\t\t// 레벨업 시행여부 확인 (20초마다 레벨업 수행)\n",
    "\t\tif (totalElapsedTime / 20 > level - 1)\n",
    "\t\t{\n",
    "\t\t\tlevel += 1;\n",
    "\t\t\tprintf(\" *** 축 레벨업! 기존 %d 레벨에서 %d 레벨로 업그레이드 ***\\n\\n\", level-1, level);\n",
    "\n",
    "\t\t\t// 최종레벨: 5\n",
    "\t\t\tif (level == 5)\n",
    "\t\t\t{\n",
    "\t\t\t\tprintf(\"\\n\\n축하합니다. 최고레벨을 당성하였음! 게임 종료!\\n\\n\");\n",
    "\t\t\t\texit(0);\n",
    "\t\t\t}\n",
    "\t\t}\n",
    "\n",
    "\t\t// 물고기가 죽었는지 확인하기\n",
    "\t\tif (checkFishAlive() == 0)\n",
    "\t\t{\n",
    "\t\t\t// 모든 물고기 모두 사망\n",
    "\t\t\tprintf(\"모든 물고기 사망 ㅠㅠ\\n\");\n",
    "\t\t\texit(0);\n",
    "\t\t}\n",
    "\t\telse\n",
    "\t\t{\n",
    "\t\t\tprintf(\"물고기 아직 살아 있음!\\n\");\n",
    "\t\t}\n",
    "\t\t\n",
    "\t\t// while 문이 반복될 때마다 마지막에 물준 시간 기억하기\n",
    "\t\t// prevElapsedTime 이미 그 역할 다했기 때문에 여기서 업데이트 해도 문제 없음.\n",
    "\t\tprevElapsedTime = totalElapsedTime;\n",
    "\t}\n",
    "\n",
    "\treturn 0;\n",
    "}\n",
    "\n",
    "void initData()\n",
    "{\n",
    "\tlevel = 1;                 // 게임 시작 레벨 (1-5)\n",
    "\t\n",
    "\tfor (int i = 0; i < 6; i++)\n",
    "\t{\n",
    "\t\tarrayFish[i] = 100;     // 최초 어항 물높이 \n",
    "\t}\n",
    "}\n",
    "\n",
    "void printFishes()\n",
    "{\n",
    "\tprintf(\"\\n\");\n",
    "\tprintf(\"%3d번 %3d번 %3d번 %3d번 %3d번 %3d번\\n\", 1, 2, 3, 4, 5, 6);\n",
    "\tfor (int i = 0; i < 6; i++)\n",
    "\t{\n",
    "\t\tprintf(\" %4d \", arrayFish[i]);\n",
    "\t}\n",
    "\tprintf(\"\\n\\n\");\n",
    "}\n",
    "\n",
    "void decreaseWater(long elapsedTime)\n",
    "{\n",
    "\tfor (int i = 0; i < 6; i++)\n",
    "\t{\n",
    "\t\tarrayFish[i] -= (level * 3 * (int)elapsedTime); // 3은 난이도 조절용\n",
    "\n",
    "\t\t// 물의 최소량은 0임.\n",
    "\t\tif (arrayFish[i] < 0)\n",
    "\t\t{\n",
    "\t\t\tarrayFish[i] = 0;\n",
    "\t\t}\n",
    "\t}\n",
    "}\n",
    "\n",
    "int checkFishAlive()\n",
    "{\n",
    "\tfor (int i = 0; i < 6; i++)\n",
    "\t{\n",
    "\t\tif (arrayFish[i] > 0)\n",
    "\t\t\treturn 1; // 참 True\n",
    "\t}\n",
    "\n",
    "\treturn 0;\n",
    "}\n",
    "\n",
    "```\n",
    "---"
   ]
  },
  {
   "cell_type": "markdown",
   "metadata": {},
   "source": [
    "### 특징"
   ]
  },
  {
   "cell_type": "markdown",
   "metadata": {},
   "source": [
    "* 포인터 변수 `cursor`를 굳이 사용해야 하는 이유가 확실하지 않음.\n",
    "* `cursor` 대신에 `arrayFish` 변수를 그대로 사용해도 되기 때문임."
   ]
  },
  {
   "cell_type": "markdown",
   "metadata": {},
   "source": [
    "---\n",
    "\n",
    "### Python 구현"
   ]
  },
  {
   "cell_type": "markdown",
   "metadata": {},
   "source": [
    "* 위 C 코드는 `main()` 함수의 본체가 좀 길게 작성됨.\n",
    "* 여기서는 `while` 반복문에 사용된 일부 코드를 함수화시켜서 코드를 보다 단순하게 작성하였음.\n",
    "* 또한 레벨 5 목표를 달성하거나 물고기가 모두 사망하면 게임을 억지로 종료시키기 위해 `exit()` 함수를 사용하는 것 보다\n",
    "    실행을 자연스럽게 멈추게 하도록 할 수 있음.\n",
    "    * `checkFishAlive()` 함수와 `levelUp()` 함수 참조\n",
    "* `levelUp()` 함수에서 `level` 변수가 `global` 지정자를 이용하여 전역변수로 선언됨.\n",
    "    * 함수 내에서 할당된 값이 수정되는 변수는 `global` 키워드로 지정되어야 함.\n",
    "    * 단, `arrayFish` 처럼 리스트를 가리키는 경우는 그럴 필요 없음.\n",
    "    * 주의: C 언어의 경우 함수 밖에서 선언되면 자동으로 전역변수로 취급됨.\n",
    "        * 참조: [C 언어 코딩도장: 전역변수 선언하기](https://dojang.io/mod/page/view.php?id=684)"
   ]
  },
  {
   "cell_type": "code",
   "execution_count": 17,
   "metadata": {},
   "outputs": [
    {
     "name": "stdout",
     "output_type": "stream",
     "text": [
      "\n",
      "===\n",
      "\n",
      "  1    2    3    4    5    6\n",
      "100  100  100  100  100  100  \n",
      "\n",
      "몇 번 어항에 물을 주시겠어요? 1\n",
      "게임 총 경과시간: 1 초\n",
      "물고기 아직 살아 있음!\n",
      "1번 어항에 물주기\n",
      "\n",
      "===\n",
      "\n",
      "  1    2    3    4    5    6\n",
      " 98   97   97   97   97   97  \n",
      "\n",
      "몇 번 어항에 물을 주시겠어요? 4\n",
      "게임 총 경과시간: 5 초\n",
      "물고기 아직 살아 있음!\n",
      "4번 어항에 물주기\n",
      "\n",
      "===\n",
      "\n",
      "  1    2    3    4    5    6\n",
      " 86   85   85   86   85   85  \n",
      "\n",
      "몇 번 어항에 물을 주시겠어요? 2\n",
      "게임 총 경과시간: 18 초\n",
      "물고기 아직 살아 있음!\n",
      "\n",
      "축! 2 레벨로 업그레이드!!!\n",
      "\n",
      "2번 어항에 물주기\n",
      "\n",
      "===\n",
      "\n",
      "  1    2    3    4    5    6\n",
      " 47   47   46   47   46   46  \n",
      "\n",
      "몇 번 어항에 물을 주시겠어요? 2\n",
      "게임 총 경과시간: 26 초\n",
      "물고기 모두 사망! ㅠㅠ\n",
      "\n"
     ]
    }
   ],
   "source": [
    "import time\n",
    "\n",
    "# 게임초기화\n",
    "def initData():\n",
    "    for i in range(0, 6):\n",
    "        arrayFish[i] = 100\n",
    "\n",
    "# 현재 어항 상태 보여주기\n",
    "def printFishes():\n",
    "    print(\"\\n===\\n\")\n",
    "    print(\"%3d  %3d  %3d  %3d  %3d  %3d\" % (1,2,3,4,5,6))\n",
    "    for i in range(0,6):\n",
    "        print(\"%3d  \" % (arrayFish[i]),end ='')\n",
    "    print(\"\\n\")\n",
    "\n",
    "# 매 초당 (level * 3)씩 물의 양 줄이기\n",
    "def decreaseWater(elapsedTime):\n",
    "    for i in range(0, 6):\n",
    "        arrayFish[i] -= (level * 3 * elapsedTime)\n",
    "        if (arrayFish[i] < 0):\n",
    "            arrayFish[i] = 0\n",
    "\n",
    "# 물고기가 한 마리라도 살아있는지 확인\n",
    "def checkFishAlive():\n",
    "    for i in range(0, 6):\n",
    "        if (arrayFish[i] > 0):\n",
    "            print(\"물고기 아직 살아 있음!\")\n",
    "            return True\n",
    "    print(\"물고기 모두 사망! ㅠㅠ\\n\")\n",
    "    return False                                           # 모든 물고기 죽었음\n",
    "\n",
    "# 물 추가 어항 선택\n",
    "def selectNum():\n",
    "    printFishes()\n",
    "    num = int(input(\"몇 번 어항에 물을 주시겠어요? \"))\n",
    "    if (num < 1 or num > 6):\n",
    "        print(\"입력값이 잘못되었어요.\")\n",
    "        selectNum()                                        # 재귀호출\n",
    "    return num\n",
    "\n",
    "# 지정된 어항에 물 추가\n",
    "def watering(num):\n",
    "    if(arrayFish[num-1] <= 0):\n",
    "        print(f\"{num}번 어항 물고기 사망. 물 주지 않음!\")\n",
    "    elif (arrayFish[num-1] + 1 <= 100):\n",
    "        print(f\"{num}번 어항에 물주기\")\n",
    "        arrayFish[num-1] += 1\n",
    "\n",
    "# 5초마다 레벌 업 시켜주기\n",
    "def levelUp(totalElapsedTime):\n",
    "    global level                                           # 전역변수 선언 필요!\n",
    "    if totalElapsedTime/5 > level:\n",
    "        level += 1\n",
    "        print(f\"\\n축! {level} 레벨로 업그레이드!!!\\n\")\n",
    "    if (level == 5):\n",
    "        print(\"\\n최고레벨 당성! 게임 종료!\\n\")\n",
    "        return False                                       # 레벨 = 5 달성\n",
    "    return True\n",
    "\n",
    "\n",
    "##############\n",
    "### 게임실행 ###\n",
    "##############\n",
    "\n",
    "if __name__ == \"__main__\":\n",
    "    \n",
    "    # 게임세팅\n",
    "    arrayFish = [0, 0, 0, 0, 0, 0]\n",
    "    initData()\n",
    "\n",
    "    # 게임시작\n",
    "    startTime = time.time()                                # 시작 시간 기억\n",
    "    lastPouringTime = 0                                    # 마지막으로 물 추가한 시간 기억\n",
    "    level = 1                                              # 레벨 1로 시작\n",
    "\n",
    "    # 어항선택 반복\n",
    "    while True:\n",
    "        num = selectNum()\n",
    "        \n",
    "        totalElapsedTime = int(time.time() - startTime)    # 게임 총 경과시간\n",
    "        print(f\"게임 총 경과시간: {totalElapsedTime} 초\")\n",
    "        elapsedTime = totalElapsedTime - lastPouringTime   # 마지막으로 물 추가한 후 흐른 시간\n",
    "        decreaseWater(elapsedTime)\n",
    "\n",
    "        # 게임종료 조건 확인\n",
    "        if not (checkFishAlive() and levelUp(totalElapsedTime)):\n",
    "            break\n",
    "\n",
    "        watering(num)\n",
    "        lastPouringTime = totalElapsedTime"
   ]
  },
  {
   "cell_type": "markdown",
   "metadata": {},
   "source": [
    "### 연습문제"
   ]
  },
  {
   "cell_type": "markdown",
   "metadata": {},
   "source": [
    "위 파이썬 코드와 동일한 구조를 갖는 C 언어 코드를 작성하라."
   ]
  },
  {
   "cell_type": "markdown",
   "metadata": {},
   "source": [
    "### 파이썬 클래스 사용"
   ]
  },
  {
   "cell_type": "markdown",
   "metadata": {},
   "source": [
    "* 위 파이썬 코드에서 `levelUp()` 함수에서 `level` 변수가 전역변수로 사용됨.\n",
    "    * 그렇지 않으면 `level` 변수를 사용할 수 없음.\n",
    "* 이 점을 보완하기 위해 `levelUp()` 함수와 `level` 변수가 하나의 공간에서 활동하여 서로 알 수 있도록 해야 함.\n",
    "* 이것을 구현하기 위해 하나의 클래스에서 속성과 메서드로 선언하면 됨.\n",
    "    * 이후에 인스턴스 객체를 선언하면 `self`에 의해 서로의 존재를 인식하게 됨(아래 코드 참조)"
   ]
  },
  {
   "cell_type": "code",
   "execution_count": 21,
   "metadata": {},
   "outputs": [
    {
     "name": "stdout",
     "output_type": "stream",
     "text": [
      "\n",
      "===\n",
      "\n",
      "  1    2    3    4    5    6\n",
      "100  100  100  100  100  100  \n",
      "\n",
      "몇 번 어항에 물을 주시겠어요? 2\n",
      "게임 총 경과시간: 1 초\n",
      "물고기 아직 살아 있음!\n",
      "2번 어항에 물주기\n",
      "\n",
      "===\n",
      "\n",
      "  1    2    3    4    5    6\n",
      " 94   95   94   94   94   94  \n",
      "\n",
      "몇 번 어항에 물을 주시겠어요? 4\n",
      "게임 총 경과시간: 8 초\n",
      "물고기 아직 살아 있음!\n",
      "\n",
      "축! 2 레벨로 업그레이드!!!\n",
      "\n",
      "4번 어항에 물주기\n",
      "\n",
      "===\n",
      "\n",
      "  1    2    3    4    5    6\n",
      " 52   53   52   53   52   52  \n",
      "\n",
      "몇 번 어항에 물을 주시겠어요? 2\n",
      "게임 총 경과시간: 17 초\n",
      "물고기 모두 사망! ㅠㅠ\n",
      "\n"
     ]
    }
   ],
   "source": [
    "import time\n",
    "\n",
    "class FishWatering():\n",
    "    def __init__(self, arrayFish=[0]*6, level=1):\n",
    "        self.arrayFish = arrayFish\n",
    "        self.level = level        \n",
    "\n",
    "    # 게임초기화\n",
    "    def initData(self):\n",
    "        for i in range(0, 6):\n",
    "            self.arrayFish[i] = 100\n",
    "\n",
    "    # 현재 어항 상태 보여주기\n",
    "    def printFishes(self):\n",
    "        print(\"\\n===\\n\")\n",
    "        print(\"%3d  %3d  %3d  %3d  %3d  %3d\" % (1,2,3,4,5,6))\n",
    "        for i in range(0,6):\n",
    "            print(\"%3d  \" % (self.arrayFish[i]),end ='')\n",
    "        print(\"\\n\")\n",
    "\n",
    "    # 매 초당 (level * 3)씩 물의 양 줄이기\n",
    "    def decreaseWater(self, elapsedTime):\n",
    "        for i in range(0, 6):\n",
    "            self.arrayFish[i] -= (self.level * 3 * elapsedTime)\n",
    "            if (self.arrayFish[i] < 0):\n",
    "                self.arrayFish[i] = 0\n",
    "\n",
    "    # 물고기가 한 마리라도 살아있는지 확인\n",
    "    def checkFishAlive(self):\n",
    "        for i in range(0, 6):\n",
    "            if (self.arrayFish[i] > 0):\n",
    "                print(\"물고기 아직 살아 있음!\")\n",
    "                return True\n",
    "        print(\"물고기 모두 사망! ㅠㅠ\\n\")\n",
    "        return False                                           # 모든 물고기 죽었음\n",
    "\n",
    "    # 물 추가 어항 선택\n",
    "    def selectNum(self):\n",
    "        self.printFishes()\n",
    "        num = int(input(\"몇 번 어항에 물을 주시겠어요? \"))\n",
    "        if (num < 1 or num > 6):\n",
    "            print(\"입력값이 잘못되었어요.\")\n",
    "            self.selectNum()                                        # 재귀호출\n",
    "        return num\n",
    "\n",
    "    # 지정된 어항에 물 추가\n",
    "    def watering(self, num):\n",
    "        if(self.arrayFish[num-1] <= 0):\n",
    "            print(f\"{num}번 어항 물고기 사망. 물 주지 않음!\")\n",
    "        elif (self.arrayFish[num-1] + 1 <= 100):\n",
    "            print(f\"{num}번 어항에 물주기\")\n",
    "            self.arrayFish[num-1] += 1\n",
    "\n",
    "    # 5초마다 레벌 업 시켜주기\n",
    "    def levelUp(self, totalElapsedTime):\n",
    "        if totalElapsedTime/5 > self.level:\n",
    "            self.level += 1\n",
    "            print(f\"\\n축! {self.level} 레벨로 업그레이드!!!\\n\")\n",
    "        if (self.level == 5):\n",
    "            print(\"\\n최고레벨 당성! 게임 종료!\\n\")\n",
    "            return False                                       # 레벨 = 5 달성\n",
    "        return True\n",
    "\n",
    "\n",
    "##############\n",
    "### 게임실행 ###\n",
    "##############\n",
    "\n",
    "if __name__ == \"__main__\":\n",
    "    \n",
    "    # 게임세팅\n",
    "    Fishes = FishWatering()\n",
    "    Fishes.initData()\n",
    "\n",
    "    # 게임시작\n",
    "    startTime = time.time()                                # 시작 시간 기억\n",
    "    lastPouringTime = 0                                    # 마지막으로 물 추가한 시간 기억\n",
    "\n",
    "    # 어항선택 반복\n",
    "    while True:\n",
    "        num = Fishes.selectNum()\n",
    "        \n",
    "        totalElapsedTime = int(time.time() - startTime)    # 게임 총 경과시간\n",
    "        print(f\"게임 총 경과시간: {totalElapsedTime} 초\")\n",
    "        elapsedTime = totalElapsedTime - lastPouringTime   # 마지막으로 물 추가한 후 흐른 시간\n",
    "        Fishes.decreaseWater(elapsedTime)\n",
    "\n",
    "        # 게임종료 조건 확인\n",
    "        if not (Fishes.checkFishAlive() and Fishes.levelUp(totalElapsedTime)):\n",
    "            break\n",
    "\n",
    "        Fishes.watering(num)\n",
    "        lastPouringTime = totalElapsedTime"
   ]
  },
  {
   "cell_type": "markdown",
   "metadata": {},
   "source": [
    "---"
   ]
  },
  {
   "cell_type": "markdown",
   "metadata": {
    "slideshow": {
     "slide_type": "slide"
    }
   },
   "source": [
    "## 부록: (C 언어) 이중 포인터"
   ]
  },
  {
   "cell_type": "markdown",
   "metadata": {},
   "source": [
    "### 이중 포인터 변수"
   ]
  },
  {
   "cell_type": "markdown",
   "metadata": {
    "slideshow": {
     "slide_type": "fragment"
    }
   },
   "source": [
    "* 이중 포인터 변수: 포인터 변수의 주소를 가리키는 포인터 변수\n",
    "* 포인터 변수에 저장되는 값 또한 하나의 정수값이기에 그 값이 저장되는 메모리의 주소를 저장하는 변수가 이중 포인터 변수임."
   ]
  },
  {
   "cell_type": "markdown",
   "metadata": {},
   "source": [
    "<div align=\"center\"><img src=\"./images/nado07-c-pointer-4.png\" width=\"500\"/></div>\n",
    "\n",
    "<그림 참조: [GeeksforGeeks: Double Pointer in C](https://www.geeksforgeeks.org/double-pointer-pointer-pointer-c/)>"
   ]
  },
  {
   "cell_type": "markdown",
   "metadata": {},
   "source": [
    "* 이중 포인터 작동은 일반 포인터가 작동과 동일"
   ]
  },
  {
   "cell_type": "markdown",
   "metadata": {},
   "source": [
    "<div align=\"center\"><img src=\"./images/nado07-c-pointer-4a.png\" width=\"500\"/></div>\n",
    "\n",
    "<그림 참조: [GeeksforGeeks: Double Pointer in C](https://www.geeksforgeeks.org/double-pointer-pointer-pointer-c/)>"
   ]
  },
  {
   "cell_type": "markdown",
   "metadata": {},
   "source": [
    "#### 예제: 이중 포인터 변수"
   ]
  },
  {
   "cell_type": "markdown",
   "metadata": {},
   "source": [
    "---\n",
    "\n",
    "```c\n",
    "#include <stdio.h>\n",
    "\n",
    "int main(){\n",
    "\tint var = 10;\n",
    "\tint *ptr1;\n",
    "\tint **ptr2;\n",
    "\t\n",
    "\tptr1 = &var;\n",
    "\tptr2 = &ptr1;\n",
    "\t\n",
    "\tprintf(\"var : %d *ptr1 : %d **ptr1 : %d\\n\", var, *ptr1, **ptr2);\n",
    "\tprintf(\"var 주소 : %d *ptr1 값 : %d **ptr1 값 : %d\\n\", &var, ptr1, *ptr2);\n",
    "\tprintf(\"ptr1 주소 : %d ptr2 값 : %d\", &ptr1, ptr2);\n",
    "\t\n",
    "\treturn 0;\n",
    "}\n",
    "```\n",
    "\n",
    "---"
   ]
  },
  {
   "cell_type": "markdown",
   "metadata": {},
   "source": [
    "#### PythonTutor 활용하기\n",
    "\n",
    "* [(C 언어) 이중 포인터 소개](http://pythontutor.com/visualize.html#code=%23include%20%3Cstdio.h%3E%0A%0Aint%20main%28%29%7B%0A%20%20%20%20int%20var%20%3D%2010%3B%0A%20%20%20%20int%20*ptr1%3B%0A%20%20%20%20int%20**ptr2%3B%0A%20%20%20%20%0A%20%20%20%20ptr1%20%3D%20%26var%3B%0A%20%20%20%20ptr2%20%3D%20%26ptr1%3B%0A%20%20%20%20%0A%20%20%20%20printf%28%22var%20%3A%20%25d%20*ptr1%20%3A%20%25d%20**ptr1%20%3A%20%25d%5Cn%22,%20var,%20*ptr1,%20**ptr2%29%3B%0A%20%20%20%20printf%28%22var%20%EC%A3%BC%EC%86%8C%20%3A%20%25d%20*ptr1%20%EA%B0%92%20%3A%20%25d%20**ptr1%20%EA%B0%92%20%3A%20%25d%5Cn%22,%20%26var,%20ptr1,%20*ptr2%29%3B%0A%20%20%20%20printf%28%22ptr1%20%EC%A3%BC%EC%86%8C%20%3A%20%25d%20ptr2%20%EA%B0%92%20%3A%20%25d%22,%20%26ptr1,%20ptr2%29%3B%0A%20%20%20%20%0A%20%20%20%20return%200%3B%0A%7D&cumulative=false&curInstr=0&heapPrimitives=nevernest&mode=display&origin=opt-frontend.js&py=c&rawInputLstJSON=%5B%5D&textReferences=false)"
   ]
  },
  {
   "cell_type": "markdown",
   "metadata": {},
   "source": [
    "### 포인터 배열"
   ]
  },
  {
   "cell_type": "markdown",
   "metadata": {},
   "source": [
    "* 포인터 배열: 포인터(메모리 주소)로 구성된 배열\n",
    "* 일반 배열과 동일. 다만, 항목에 사용되는 값들이 값들이 저장된 메모리의 주소에 불과함."
   ]
  },
  {
   "cell_type": "markdown",
   "metadata": {},
   "source": [
    "#### 예제: 포인터 배열"
   ]
  },
  {
   "cell_type": "markdown",
   "metadata": {},
   "source": [
    "---\n",
    "\n",
    "```c\n",
    "#include <stdio.h>\n",
    "\n",
    "int main(){\n",
    "\tint num1 = 10, num2 = 20, num3 = 30;\n",
    "\tint *parr[3];\n",
    "\t\n",
    "\tparr[0] = &num1;\n",
    "\tparr[1] = &num2;\n",
    "\tparr[2] = &num3;\n",
    "\t\n",
    "\tfor(int i=0; i<3; i++){\n",
    "\t\tprintf(\"parr[%d] : %d\\n\", i, *parr[i]);\n",
    "\t}\n",
    "\t\n",
    "\treturn 0;\n",
    "}\n",
    "```\n",
    "\n",
    "---"
   ]
  },
  {
   "cell_type": "markdown",
   "metadata": {},
   "source": [
    "#### PythonTutor 활용하기\n",
    "\n",
    "* [(C 언어) 포인터 배열 소개](http://pythontutor.com/visualize.html#code=%23include%20%3Cstdio.h%3E%0A%0Aint%20main%28%29%7B%0A%20%20%20%20int%20num1%20%3D%2010,%20num2%20%3D%2020,%20num3%20%3D%2030%3B%0A%20%20%20%20int%20*parr%5B3%5D%3B%0A%20%20%20%20%0A%20%20%20%20parr%5B0%5D%20%3D%20%26num1%3B%0A%20%20%20%20parr%5B1%5D%20%3D%20%26num2%3B%0A%20%20%20%20parr%5B2%5D%20%3D%20%26num3%3B%0A%20%20%20%20%0A%20%20%20%20for%28int%20i%3D0%3B%20i%3C3%3B%20i%2B%2B%29%7B%0A%20%20%20%20%20%20%20%20printf%28%22parr%5B%25d%5D%20%3A%20%25d%5Cn%22,%20i,%20*parr%5Bi%5D%29%3B%0A%20%20%20%20%7D%0A%20%20%20%20%0A%20%20%20%20return%200%3B%0A%7D&cumulative=false&curInstr=0&heapPrimitives=nevernest&mode=display&origin=opt-frontend.js&py=c&rawInputLstJSON=%5B%5D&textReferences=false)"
   ]
  },
  {
   "cell_type": "markdown",
   "metadata": {},
   "source": [
    "---"
   ]
  },
  {
   "cell_type": "markdown",
   "metadata": {},
   "source": [
    "### 이중 배열"
   ]
  },
  {
   "cell_type": "markdown",
   "metadata": {},
   "source": [
    "* 포인터 배열을 이용하여 서로 다른 길이의 배열을 항목으로 갖는 배열, 즉, 이중 배열을 정의할 수 있음."
   ]
  },
  {
   "cell_type": "markdown",
   "metadata": {},
   "source": [
    "---\n",
    "\n",
    "```c\n",
    "#include <stdio.h>\n",
    "\n",
    "int main(){\n",
    "    int arr1[2] = {10, 11};\n",
    "    int arr2[3] = {20, 30, 40};\n",
    "\n",
    "\tint * parr[2];\n",
    "\n",
    "\tparr[0] = arr1;\n",
    "\tparr[1] = arr2;\n",
    "\n",
    "\tfor (int i = 0; i < 2; i++)\n",
    "\t{\n",
    "\t\tprintf(\"parr[%d]: %d\\n\", i, *parr[i]);\n",
    "\t}\n",
    "\n",
    "    return 0;\n",
    "}\n",
    "```\n",
    "\n",
    "---"
   ]
  },
  {
   "cell_type": "markdown",
   "metadata": {},
   "source": [
    "#### PythonTutor 활용하기\n",
    "\n",
    "* [(C 언어) 이중 배열](http://pythontutor.com/visualize.html#code=%23include%20%3Cstdio.h%3E%0A%0Aint%20main%28%29%7B%0A%20%20%20%20int%20arr1%5B2%5D%20%3D%20%7B10,%2011%7D%3B%0A%20%20%20%20int%20arr2%5B3%5D%20%3D%20%7B20,%2030,%2040%7D%3B%0A%0A%20%20%20%20int%20*%20parr%5B2%5D%3B%0A%0A%20%20%20%20parr%5B0%5D%20%3D%20arr1%3B%0A%20%20%20%20parr%5B1%5D%20%3D%20arr2%3B%0A%0A%20%20%20%20for%20%28int%20i%20%3D%200%3B%20i%20%3C%202%3B%20i%2B%2B%29%0A%20%20%20%20%7B%0A%20%20%20%20%20%20%20%20printf%28%22parr%5B%25d%5D%3A%20%25d%5Cn%22,%20i,%20*parr%5Bi%5D%29%3B%0A%20%20%20%20%7D%0A%0A%20%20%20%20return%200%3B%0A%7D&cumulative=false&curInstr=0&heapPrimitives=nevernest&mode=display&origin=opt-frontend.js&py=c&rawInputLstJSON=%5B%5D&textReferences=false)"
   ]
  },
  {
   "cell_type": "markdown",
   "metadata": {},
   "source": [
    "#### 주의사항"
   ]
  },
  {
   "cell_type": "markdown",
   "metadata": {},
   "source": [
    "* 서로 다른 자료형의 배열을 항목으로 갖는 포인터 배열은 구조체를 활용해야 함.\n",
    "    \n",
    "    ```c\n",
    "    int arr1[2] = {10, 11};\n",
    "    float arr2[3] = {1.0, 1.1, 1.2};\n",
    "\n",
    "    ```\n",
    "\n",
    "* 이후 구조체를 학습한 후에 예제 살펴볼 것임."
   ]
  },
  {
   "cell_type": "markdown",
   "metadata": {},
   "source": [
    "---\n",
    "\n",
    "### Python 구현"
   ]
  },
  {
   "cell_type": "markdown",
   "metadata": {},
   "source": [
    "* 이중배열을 파이썬으로 구현하는 일은 매우 간단.\n",
    "* 자료형, 포인터 생각할 필요 없이 이중 배열로 선언하면 됨.\n",
    "* 주의: `parr[i]`는 i 번째 리스트의 첫째 항목을 가리킴."
   ]
  },
  {
   "cell_type": "code",
   "execution_count": 8,
   "metadata": {},
   "outputs": [
    {
     "name": "stdout",
     "output_type": "stream",
     "text": [
      "parr[0]: 10\n",
      "parr[1]: 20\n"
     ]
    }
   ],
   "source": [
    "arr1 = [10, 11]\n",
    "arr2 = [20, 30, 40]\n",
    "\n",
    "parr = [arr1, arr2]\n",
    "\n",
    "for i in range(2):\n",
    "    print(\"parr[%d]: %d\" % (i, parr[i][0]))"
   ]
  },
  {
   "cell_type": "markdown",
   "metadata": {},
   "source": [
    "---"
   ]
  },
  {
   "cell_type": "markdown",
   "metadata": {},
   "source": [
    "## 부록: call-by-value vs. call-by-reference"
   ]
  },
  {
   "cell_type": "markdown",
   "metadata": {},
   "source": [
    "* 함수에 대한 인자로 일반적인 값을 받는 경우와 포인터 값을 받는 경우로 구분할 수 있음.\n",
    "* call-by-value(콜 바이 밸류) 함수: 일반적인 값을 인자로 받는 함수\n",
    "* call-by-reference(콜 바이 레퍼런스) 함수: 포인터 값을 인자로 받는 함수\n",
    "* 함수에 인자를 전달할 때 값을 전달하는 방식과 포인터를 전달하는 방식에 차이가 있음.\n",
    "    * 예제: `swap()`과 `swap_addr()`"
   ]
  },
  {
   "cell_type": "markdown",
   "metadata": {},
   "source": [
    "#### 예제"
   ]
  },
  {
   "cell_type": "markdown",
   "metadata": {},
   "source": [
    "---"
   ]
  },
  {
   "cell_type": "markdown",
   "metadata": {},
   "source": [
    "```c\n",
    "#include <stdio.h>\n",
    "\n",
    "void cbv(int val)\n",
    "{\n",
    "    val = 30;\n",
    "}\n",
    "\n",
    "void cbr(int *ref)\n",
    "{\n",
    "    *ref = 30;\n",
    "}\n",
    "\n",
    "int main()\n",
    "{\n",
    "    int val1 = 10, val2 = 10;\n",
    "\n",
    "    printf(\"이전 : val1=%d, val2=%d\\n\", val1, val2);\n",
    "    cbv(val1);\n",
    "    cbr(&val2);\n",
    "    printf(\"이후  : val1=%d, val2=%d\\n\", val1, val2);\n",
    "\treturn 0;\n",
    "}\n",
    "```"
   ]
  },
  {
   "cell_type": "markdown",
   "metadata": {},
   "source": [
    "---"
   ]
  },
  {
   "cell_type": "markdown",
   "metadata": {},
   "source": [
    "#### PythonTutor 활용하기\n",
    "\n",
    "* [(C 언어) call-by-value vs call-by-reference](http://pythontutor.com/visualize.html#code=%23include%20%3Cstdio.h%3E%0A%0Avoid%20call_by_value%28int%20val%29%0A%7B%0A%20%20%20%20val%20%3D%2020%3B%0A%7D%0A%0Avoid%20call_by_refer%28int%20*ref%29%0A%7B%0A%20%20%20%20*ref%20%3D%2020%3B%0A%7D%0A%0Aint%20main%28%29%0A%7B%0A%20%20%20%20int%20value%20%3D%2010%3B%0A%20%20%20%20int%20refer%20%3D%2010%3B%0A%0A%20%20%20%20printf%28%22before%20%3A%20value%3D%25d,%20refer%3D%25d%5Cn%22,%20value,%20refer%29%3B%0A%20%20%20%20call_by_value%28value%29%3B%0A%20%20%20%20call_by_refer%28%26refer%29%3B%0A%20%20%20%20printf%28%22after%20%20%3A%20value%3D%25d,%20refer%3D%25d%5Cn%22,%20value,%20refer%29%3B%0A%20%20%20%20return%200%3B%0A%7D&cumulative=false&curInstr=0&heapPrimitives=nevernest&mode=display&origin=opt-frontend.js&py=c&rawInputLstJSON=%5B%5D&textReferences=false)"
   ]
  },
  {
   "cell_type": "markdown",
   "metadata": {},
   "source": [
    "---"
   ]
  },
  {
   "cell_type": "markdown",
   "metadata": {},
   "source": [
    "## 연습문제"
   ]
  },
  {
   "cell_type": "markdown",
   "metadata": {},
   "source": [
    "1. 물고기 키우기 프로젝트의 C 언어 소스코드에 사용된 main() 함수의 본문 내용을 보다 간결하게 작성하라. \n",
    "    즉, 기능별로 보다 많은 함수를 작성하라.\n",
    "    \n",
    "    힌트: 파이썬 소스코드 참조"
   ]
  },
  {
   "cell_type": "markdown",
   "metadata": {},
   "source": [
    "* 모범답안: 아래 코드는 과제로 제출한 모범답안임. 코드에 약간의 중복이 있지만 매우 모범적인 코드임.\n",
    "    * 예를 들어, `checkFishAlive()` 함수와 `isItAlive()` 함수를 병합할 수 있음."
   ]
  },
  {
   "cell_type": "markdown",
   "metadata": {},
   "source": [
    "---\n",
    "```c\n",
    "#include <stdio.h>\n",
    "#include <stdlib.h>\n",
    "#include <time.h>\n",
    "\n",
    "int level;\n",
    "int arrayFish[6];\n",
    "int* cursor;\n",
    "\n",
    "void initData();\n",
    "void printFishes();\n",
    "void decreaseWater(long elapsedTime);\n",
    "int checkFishAlive();\n",
    "int initNum();\n",
    "long initTotalElapsedTime(long startTime);\n",
    "long initPrevElapsedTime(long totalElapsedTime, long prevElapsedTime);\n",
    "void watering(int num);\n",
    "void levelUp(long totalElapsedTime);\n",
    "void isItAlive();\n",
    "\n",
    "int main(void)\n",
    "{\n",
    "    long startTime = 0;        // 게임 시작시간\n",
    "    long totalElapsedTime = 0; // 총 경과시간\n",
    "    long prevElapsedTime = 0;  // 직전 경과시간 (최근에 물을 준 시간 간격)\n",
    "\n",
    "    int num;                   // 물을 채울 어항 번호 (사용자 입력)\n",
    "\n",
    "    initData();\n",
    "\n",
    "    cursor = arrayFish;\n",
    "\n",
    "    startTime = clock();       // 현재시각을 millisecond(ms, 1000분의 1초) 단위로 변환\n",
    "\n",
    "    while (1)                  // 문한반복\n",
    "    {\n",
    "        printFishes();\n",
    "        \n",
    "        num = initNum();\n",
    "\n",
    "        totalElapsedTime = initTotalElapsedTime(startTime);\n",
    "        printf(\"게임 총 경과시간: %ld 초\\n\", totalElapsedTime);\n",
    "\n",
    "        prevElapsedTime = initPrevElapsedTime(totalElapsedTime, prevElapsedTime);\n",
    "        printf(\"마지막으로 물을 준 이후로 흐른 시간: %ld 초\\n\", prevElapsedTime);\n",
    "\n",
    "        decreaseWater(prevElapsedTime);\n",
    "\n",
    "        watering(num);\n",
    "\n",
    "        levelUp(totalElapsedTime);\n",
    "\n",
    "        isItAlive();\n",
    "\n",
    "        prevElapsedTime = totalElapsedTime;\n",
    "    }\n",
    "    return 0;\n",
    "}\n",
    "\n",
    "void initData()\n",
    "{\n",
    "    level = 1;                 // 게임 시작 레벨 (1-5)\n",
    "\n",
    "    for (int i = 0; i < 6; i++)\n",
    "    {\n",
    "        arrayFish[i] = 100;     // 최초 어항 물높이 \n",
    "    }\n",
    "}\n",
    "\n",
    "void printFishes()\n",
    "{\n",
    "    printf(\"\\n\");\n",
    "    printf(\"%3d번 %3d번 %3d번 %3d번 %3d번 %3d번\\n\", 1, 2, 3, 4, 5, 6);\n",
    "    for (int i = 0; i < 6; i++)\n",
    "    {\n",
    "        printf(\" %4d \", arrayFish[i]);\n",
    "    }\n",
    "    printf(\"\\n\\n\");\n",
    "}\n",
    "\n",
    "void decreaseWater(long elapsedTime)\n",
    "{\n",
    "    for (int i = 0; i < 6; i++)\n",
    "    {\n",
    "        arrayFish[i] -= (level * 3 * (int)elapsedTime); // 3은 난이도 조절용\n",
    "\n",
    "        // 물의 최소량은 0임.\n",
    "        if (arrayFish[i] < 0)\n",
    "        {\n",
    "            arrayFish[i] = 0;\n",
    "        }\n",
    "    }\n",
    "}\n",
    "\n",
    "int checkFishAlive()\n",
    "{\n",
    "    for (int i = 0; i < 6; i++)\n",
    "    {\n",
    "        if (arrayFish[i] > 0)\n",
    "            return 1; // 참 True\n",
    "    }\n",
    "\n",
    "    return 0;\n",
    "}\n",
    "\n",
    "int initNum() {\n",
    "    int num;\n",
    "\n",
    "    while (1) {\n",
    "        printf(\"몇 번 어항에 물을 주시겠어요? \");\n",
    "        scanf(\"%d\", &num);\n",
    "\n",
    "        // 입력값 체크\n",
    "        if (num < 1 || num > 6)\n",
    "        {\n",
    "            printf(\"\\n입력값이 잘못되었어요.\\n\");\n",
    "            continue;\n",
    "        }\n",
    "        else {\n",
    "            return num;\n",
    "        }\n",
    "    }\n",
    "}\n",
    "\n",
    "long initTotalElapsedTime(long startTime) {\n",
    "    long totalElapsedTime = 0;\n",
    "\n",
    "    totalElapsedTime = (clock() - startTime) / 10;\n",
    "\n",
    "    return totalElapsedTime;\n",
    "}\n",
    "\n",
    "long initPrevElapsedTime(long totalElapsedTime, long prevElapsedTime) {\n",
    "    return totalElapsedTime - prevElapsedTime;\n",
    "}\n",
    "\n",
    "void watering(int num) {\n",
    "    if (cursor[num - 1] <= 0)\n",
    "    {\n",
    "        printf(\"%d 번 물고기는 이미 사망. 물 주지 않음.\\n\", num);\n",
    "    }\n",
    "    else if (cursor[num - 1] + 1 <= 100)\n",
    "    {\n",
    "        printf(\"%d 번 어항에 물주기\\n\\n\", num);\n",
    "        cursor[num - 1] += 1;\n",
    "    }\n",
    "}\n",
    "\n",
    "void levelUp(long totalElapsedTime) {\n",
    "    if (totalElapsedTime / 20 > level - 1)\n",
    "    {\n",
    "        level += 1;\n",
    "        printf(\" *** 축 레벨업! 기존 %d 레벨에서 %d 레벨로 업그레이드 ***\\n\\n\", level - 1, level);\n",
    "\n",
    "        if (level == 5)\n",
    "        {\n",
    "            printf(\"\\n\\n축하합니다. 최고레벨을 달성하였음! 게임 종료!\\n\\n\");\n",
    "            exit(0);\n",
    "        }\n",
    "    }\n",
    "}\n",
    "\n",
    "void isItAlive() {\n",
    "    if (checkFishAlive() == 0)\n",
    "    {\n",
    "        printf(\"모든 물고기 사망 ㅠㅠ\\n\");\n",
    "        exit(0);\n",
    "    }\n",
    "    else\n",
    "    {\n",
    "        printf(\"물고기 아직 살아 있음!\\n\");\n",
    "    }\n",
    "}\n",
    "```"
   ]
  }
 ],
 "metadata": {
  "kernelspec": {
   "display_name": "Python 3",
   "language": "python",
   "name": "python3"
  },
  "language_info": {
   "codemirror_mode": {
    "name": "ipython",
    "version": 3
   },
   "file_extension": ".py",
   "mimetype": "text/x-python",
   "name": "python",
   "nbconvert_exporter": "python",
   "pygments_lexer": "ipython3",
   "version": "3.8.3"
  }
 },
 "nbformat": 4,
 "nbformat_minor": 4
}
