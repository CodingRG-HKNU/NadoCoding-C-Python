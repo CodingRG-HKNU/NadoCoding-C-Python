{
 "cells": [
  {
   "cell_type": "markdown",
   "metadata": {
    "slideshow": {
     "slide_type": "slide"
    }
   },
   "source": [
    "# 7장 포인터"
   ]
  },
  {
   "cell_type": "markdown",
   "metadata": {},
   "source": [
    "## 핵심\n",
    "\n",
    "* 포인터 이해* 문자열 활용"
   ]
  },
  {
   "cell_type": "markdown",
   "metadata": {
    "slideshow": {
     "slide_type": "slide"
    }
   },
   "source": [
    "## (C 언어) 물고기 키우기"
   ]
  },
  {
   "cell_type": "markdown",
   "metadata": {
    "slideshow": {
     "slide_type": "fragment"
    }
   },
   "source": [
    "* 동영상: [(나도코딩 C) 7-1 물고기 키우기](https://www.youtube.com/watch?v=W1zcOFCGqxQ&list=PLMsa_0kAjjrdiwQykI8eb3H4IRxLTqCnP&index=44)"
   ]
  },
  {
   "cell_type": "markdown",
   "metadata": {},
   "source": [
    "### 게임 설명"
   ]
  },
  {
   "cell_type": "markdown",
   "metadata": {},
   "source": [
    "* 어항을 클릭해서 물 채우기"
   ]
  },
  {
   "cell_type": "markdown",
   "metadata": {},
   "source": [
    "---"
   ]
  },
  {
   "cell_type": "markdown",
   "metadata": {
    "slideshow": {
     "slide_type": "slide"
    }
   },
   "source": [
    "## (C 언어) 친구들의 주소"
   ]
  },
  {
   "cell_type": "markdown",
   "metadata": {
    "slideshow": {
     "slide_type": "fragment"
    }
   },
   "source": [
    "* 동영상: [(나도코딩 C) 7-2 친구들의 주소](https://www.youtube.com/watch?v=IxhMzEYB9L0&list=PLMsa_0kAjjrdiwQykI8eb3H4IRxLTqCnP&index=45)"
   ]
  },
  {
   "cell_type": "markdown",
   "metadata": {},
   "source": [
    "* 예제: 실제 저장된 메모리상의 주소 확인하는 방법"
   ]
  },
  {
   "cell_type": "markdown",
   "metadata": {},
   "source": [
    "* 앰퍼샌드(ampersand) 기호(`&`): (일반) 변수에 할당된 값이 저장된 메모리 주소를 가리킴\n",
    "* 주의: 포인터 값을 받는 출력 포맷: `%p` (동영상에서 사용하는 `%d`는 경고 발생시킴)\n",
    "    * 16진법으로 표현된 메모리 주소 출력"
   ]
  },
  {
   "cell_type": "markdown",
   "metadata": {},
   "source": [
    "<div align=\"center\"><img src=\"./images/nado07-c-pointer-1.png\" width=\"250\"/></div>\n",
    "\n",
    "<그림 참조: [SOFT HIVE: C 언어 포인터](https://dasima.xyz/c-pointer/)>"
   ]
  },
  {
   "cell_type": "markdown",
   "metadata": {},
   "source": [
    "---\n",
    "```c\n",
    "#include <stdio.h>\n",
    "\n",
    "int main()\n",
    "{\n",
    "\t// 포인터\n",
    "\n",
    "\t// 한 아파트에 철수, 영희, 민수 거주\n",
    "\t// 각각의 문 앞에 '암호'가 걸려 있음.\n",
    "\n",
    "\t// [철수]: 101호 -> 실제 메모리 공간의 주소는 다름\n",
    "\t// [영희]: 201호 -> 실제 메모리 공간의 주소는 다름\n",
    "\t// [민수]: 301호 -> 실제 메모리 공간의 주소는 다름\n",
    "\n",
    "\tint 철수 = 1;  \n",
    "\tint 영희 = 2;\n",
    "\tint 민수 = 3;\n",
    "\n",
    "\tprintf(\"철수네 주소: %p, 암호: %d\\n\", &철수, 철수);\n",
    "\tprintf(\"영희네 주소: %p, 암호: %d\\n\", &영희, 영희);\n",
    "\tprintf(\"민수네 주소: %p, 암호: %d\\n\", &민수, 민수);\n",
    "}\n",
    "```"
   ]
  },
  {
   "cell_type": "markdown",
   "metadata": {
    "slideshow": {
     "slide_type": "slide"
    }
   },
   "source": [
    "---\n",
    "\n",
    "### Python 구현"
   ]
  },
  {
   "cell_type": "code",
   "execution_count": null,
   "metadata": {},
   "outputs": [],
   "source": []
  },
  {
   "cell_type": "markdown",
   "metadata": {},
   "source": [
    "---"
   ]
  },
  {
   "cell_type": "markdown",
   "metadata": {
    "slideshow": {
     "slide_type": "slide"
    }
   },
   "source": [
    "## (C 언어) 미션맨(포인터)의 등장"
   ]
  },
  {
   "cell_type": "markdown",
   "metadata": {
    "slideshow": {
     "slide_type": "fragment"
    }
   },
   "source": [
    "* 동영상: [(나도코딩 C) 7-3 미션맨(포인터)의 등장](https://www.youtube.com/watch?v=X1LEhWth4X8&list=PLMsa_0kAjjrdiwQykI8eb3H4IRxLTqCnP&index=46)"
   ]
  },
  {
   "cell_type": "markdown",
   "metadata": {},
   "source": [
    "* 두 종류의 변수 활용\n",
    "    * (일반) 변수: 정수, 부동소수점, 문자, 문자열 등 값을 가리키는 변수\n",
    "    * 포인터 변수: 메모리 주소를 가리키는 변수\n",
    "        * (일반) 변수가 가리키는 값이 저장된 메모리 주소\n",
    "        * 배열(어레이), 문자열 등이 저장된 메모리 주소"
   ]
  },
  {
   "cell_type": "markdown",
   "metadata": {},
   "source": [
    "* 애스터리스크(asterisk) 기호(`*`)의 역할\n",
    "    * 포인터 변수가 가리키는 주소에 저장된 값을 가리킴"
   ]
  },
  {
   "cell_type": "markdown",
   "metadata": {},
   "source": [
    "<div align=\"center\"><img src=\"./images/nado07-c-pointer-2.png\" width=\"550\"/></div>\n",
    "\n",
    "<그림 참조: [SOFT HIVE: C 언어 포인터](https://dasima.xyz/c-pointer/)>"
   ]
  },
  {
   "cell_type": "markdown",
   "metadata": {},
   "source": [
    "---\n",
    "```c\n",
    "\t// 미션맨 등장!\n",
    "\n",
    "\t// 첫 번째 미션: 아파트의 각 집에 방문하여 문에 적힘 암호 확인\n",
    "\n",
    "\tint * 미션맨;   // 포인터 변수\n",
    "\t\n",
    "\t// 포인터 변수와, 포인터 변수가 가리키는 주소에 저장된 값 확인\n",
    "\t미션맨 = &철수;  // 철수의 주소\n",
    "\tprintf(\"미션맨이 방문하는 곳의 주소: %p, 암호: %d\\n\", 미션맨, *미션맨);\n",
    "\t\n",
    "\t미션맨 = &영희;  // 영희의 주소\n",
    "\tprintf(\"미션맨이 방문하는 곳의 주소: %p, 암호: %d\\n\", 미션맨, *미션맨);\n",
    "\t\n",
    "\t미션맨 = &민수;  // 민수의 주소\n",
    "\tprintf(\"미션맨이 방문하는 곳의 주소: %p, 암호: %d\\n\", 미션맨, *미션맨);\n",
    "\n",
    "\t// 두 번째 미션: 각 집의 암호에 3 곱하기\n",
    "\n",
    "\t미션맨 = &철수;\n",
    "\t*미션맨 = *미션맨 * 3;\n",
    "\tprintf(\"미션맨이 암호를 바꾼 곳의 주소: %p, 암호: %d\\n\", 미션맨, *미션맨);\n",
    "\n",
    "\t미션맨 = &영희;\n",
    "\t*미션맨 = *미션맨 * 3;\n",
    "\tprintf(\"미션맨이 암호를 바꾼 곳의 주소: %p, 암호: %d\\n\", 미션맨, *미션맨);\n",
    "\n",
    "\t미션맨 = &민수;\n",
    "\t*미션맨 = *미션맨 * 3;\n",
    "\tprintf(\"미션맨이 암호를 바꾼 곳의 주소: %p, 암호: %d\\n\", 미션맨, *미션맨);\n",
    "```"
   ]
  },
  {
   "cell_type": "markdown",
   "metadata": {
    "slideshow": {
     "slide_type": "slide"
    }
   },
   "source": [
    "---\n",
    "\n",
    "### Python 구현"
   ]
  },
  {
   "cell_type": "code",
   "execution_count": null,
   "metadata": {},
   "outputs": [],
   "source": []
  },
  {
   "cell_type": "markdown",
   "metadata": {},
   "source": [
    "---"
   ]
  },
  {
   "cell_type": "markdown",
   "metadata": {
    "slideshow": {
     "slide_type": "slide"
    }
   },
   "source": [
    "## (C 언어) 스파이(또다른 포인터)의 등장"
   ]
  },
  {
   "cell_type": "markdown",
   "metadata": {
    "slideshow": {
     "slide_type": "fragment"
    }
   },
   "source": [
    "* 동영상: [(나도코딩 C) 7-4 스파이(또다른 포인터)의 등장](https://www.youtube.com/watch?v=Ij_XVWDRznI&list=PLMsa_0kAjjrdiwQykI8eb3H4IRxLTqCnP&index=47)"
   ]
  },
  {
   "cell_type": "markdown",
   "metadata": {},
   "source": [
    "* 두 개의 포인터가 하나의 메모리 주소 공유\n",
    "    * 포인터의 주요 역할임. 하지만 매우 어려운 문제 야기 가능\n",
    "    * 여러 포인터 변수가 하나의 주소를 대상으로 많은 변화를 줄 수 있기 때문."
   ]
  },
  {
   "cell_type": "markdown",
   "metadata": {},
   "source": [
    "* 포인터 변수가 가리키는 주소를 저장하는 메모리 공간도 물론 따로 존재\n",
    "    * 역시 앰퍼샌트 기호(`&`)를 활용하여 확인 가능"
   ]
  },
  {
   "cell_type": "markdown",
   "metadata": {},
   "source": [
    "<div align=\"center\"><img src=\"./images/nado07-c-pointer-2a.png\" width=\"550\"/></div>\n",
    "\n",
    "<그림 참조: [SOFT HIVE: C 언어 포인터](https://dasima.xyz/c-pointer/)>"
   ]
  },
  {
   "cell_type": "markdown",
   "metadata": {},
   "source": [
    "---\n",
    "```c\n",
    "\t// 스파이\n",
    "\t// - 두 개의 포인터가 동일한 메모리 주소를 가리킬 수 있음.\n",
    "\t// 미션맨이 바꾼 암호에서 2를 빼라!\n",
    "\tint * 스파이 = 미션맨;\n",
    "\n",
    "\tprintf(\"\\n ... 스파이가 미션 수행하는 중 ... \\n\\n\");\n",
    "\n",
    "\t스파이 = &철수;\n",
    "\t*스파이 = *스파이 - 2;  // 철수 = 철수 - 2\n",
    "\tprintf(\"스파이가 방문하는 곳 주소: %p, 암호: %d\\n\", 스파이, *스파이);\n",
    "\n",
    "\t스파이 = &영희;\n",
    "\t*스파이 = *스파이 - 2;  // 영희 = 영희 - 2\n",
    "\tprintf(\"스파이가 방문하는 곳 주소: %p, 암호: %d\\n\", 스파이, *스파이);\n",
    "\n",
    "\t스파이 = &민수;\n",
    "\t*스파이 = *스파이 - 2;  // 민수 = 민수 - 2\n",
    "\tprintf(\"스파이가 방문하는 곳 주소: %p, 암호: %d\\n\", 스파이, *스파이);\n",
    "\n",
    "\t// 철수, 영희, 민수는 집에 돌아와서 바뀐 암호를 보고 깜짝 놀람.\n",
    "\t// - 철수 제외!\n",
    "\tprintf(\"철수네 주소: %p, 암호: %d\\n\", &철수, 철수);\n",
    "\tprintf(\"영희네 주소: %p, 암호: %d\\n\", &영희, 영희);\n",
    "\tprintf(\"민수네 주소: %p, 암호: %d\\n\", &민수, 민수);\n",
    "\n",
    "\t// 참고: 미션맨/포인터가 사는 곳의 주소 또한 &미션맨/&스파이 등으로 확인\n",
    "\tprintf(\"미션맨의 주소: %p\\n\", &미션맨);\n",
    "\tprintf(\"스파이의 주소: %p\\n\", &스파이);\n",
    "```"
   ]
  },
  {
   "cell_type": "markdown",
   "metadata": {
    "slideshow": {
     "slide_type": "slide"
    }
   },
   "source": [
    "---\n",
    "\n",
    "### Python 구현"
   ]
  },
  {
   "cell_type": "code",
   "execution_count": null,
   "metadata": {},
   "outputs": [],
   "source": []
  },
  {
   "cell_type": "markdown",
   "metadata": {},
   "source": [
    "---"
   ]
  },
  {
   "cell_type": "markdown",
   "metadata": {
    "slideshow": {
     "slide_type": "slide"
    }
   },
   "source": [
    "## (C 언어) 배열과 포인터의 관계"
   ]
  },
  {
   "cell_type": "markdown",
   "metadata": {
    "slideshow": {
     "slide_type": "fragment"
    }
   },
   "source": [
    "* 동영상: [(나도코딩 C) 7-5 배열과 포인터의 관계](https://www.youtube.com/watch?v=MizWzX-mKfg&list=PLMsa_0kAjjrdiwQykI8eb3H4IRxLTqCnP&index=48)"
   ]
  },
  {
   "cell_type": "markdown",
   "metadata": {},
   "source": [
    "* 배열을 가리키는 변수는 포인터 변수로 인식됨\n",
    "* 아래 예제 코드에서 `arr`과 `ptr`은 동일한 배열을 가리킴."
   ]
  },
  {
   "cell_type": "markdown",
   "metadata": {},
   "source": [
    "---\n",
    "```c\n",
    "#include <stdio.h>\n",
    "\n",
    "int main()\n",
    "{\n",
    "\t// 배열\n",
    "\n",
    "\tint arr[3] = {5, 10, 15};\n",
    "\tint * ptr = arr;\n",
    "\t\n",
    "\t// 배열의 항목 확인\n",
    "\tfor (int i = 0; i < 3; i++)\n",
    "\t{\n",
    "\t\tprintf(\"배열 arr[%d]의 값: %d\\n\", i, arr[i]);\n",
    "\t}\n",
    "\n",
    "\t// 포인터로도 배열 항목 확인 가능\n",
    "\tfor (int i = 0; i < 3; i++)\n",
    "\t{\n",
    "\t\tprintf(\"포인터 ptr[%d]의 값: %d\\n\", i, ptr[i]);\n",
    "\t}\n",
    "\n",
    "\t// 포인터를 활용하여 배열 항목 수정\n",
    "\tptr[0] = 100;\n",
    "\tptr[1] = 200;\n",
    "\tptr[2] = 300;\n",
    "\n",
    "\t// 배열 항목 다시 확인\n",
    "\tfor (int i = 0; i < 3; i++)\n",
    "\t{\n",
    "\t\tprintf(\"배열 arr[%d]의 값: %d\\n\", i, arr[i]);\n",
    "\t}\n",
    "\n",
    "\tfor (int i = 0; i < 3; i++)\n",
    "\t{\n",
    "\t\tprintf(\"포인터 ptr[%d]의 값: %d\\n\", i, ptr[i]);\n",
    "\t}\n",
    "}\n",
    "```"
   ]
  },
  {
   "cell_type": "markdown",
   "metadata": {},
   "source": [
    "* 배열이 저장된 주소를 가리키는 포인터 변수는 실제로는 배열의 첫째 항목이 가리키는 메모리 주소를 가리킴."
   ]
  },
  {
   "cell_type": "markdown",
   "metadata": {},
   "source": [
    "<div align=\"center\"><img src=\"./images/nado07-c-pointer-3.png\" width=\"400\"/></div>\n",
    "\n",
    "<그림 참조: [SessionK 블로그: 배열 포인터연산](https://sessionk.tistory.com/156)>"
   ]
  },
  {
   "cell_type": "markdown",
   "metadata": {},
   "source": [
    "---\n",
    "```c\n",
    "\t// 포인터 값을 이용하여 아래와 같이 수정해도 동일하게 작동함\n",
    "\t// 포인터 변수는 어레이의 첫째 항목이 저장된 주소를 가리킴\n",
    "\tfor (int i = 0; i < 3; i++)\n",
    "\t{\n",
    "\t\tprintf(\"배열 arr[%d]의 값: %d\\n\", i, *(arr + i));\n",
    "\t}\n",
    "\n",
    "\tfor (int i = 0; i < 3; i++)\n",
    "\t{\n",
    "\t\tprintf(\"포인터 ptr[%d]의 값: %d\\n\", i, *(ptr + i));\n",
    "\t}\n",
    "\n",
    "\t// *(arr + i) == arr[i] \n",
    "\t// arr == arr 배열의 첫번째 값의 주소와 동일, 즉, &arr[0]\n",
    "\tprintf(\"arr 자체의 값: %p\\n\", arr);\n",
    "\tprintf(\"arr[0]의 주소: %p\\n\", &arr[0]);\n",
    "\n",
    "\t// 배열 포인터 주소에 저장된 값 = 배열의 첫째 항목\u001d",
    "\n",
    "\tprintf(\"arr 자체의 값이 가지는 주소의 실제 값: %d\\n\", *arr); // *(arr + 0)\n",
    "\tprintf(\"arr[0]의 값: %d\\n\", *&arr[0]);\n",
    "\n",
    "\t// *& 는 아무 것도 없는 것과 같다. \n",
    "\t// & 는 주소, * 는 그 주소에 저장된 값\n",
    "\tprintf(\"arr[0]의 값: %d\\n\", *&*&*&arr[0]);\n",
    "\tprintf(\"arr[0]의 값: %d\\n\", arr[0]);\n",
    "```"
   ]
  },
  {
   "cell_type": "markdown",
   "metadata": {
    "slideshow": {
     "slide_type": "slide"
    }
   },
   "source": [
    "---\n",
    "\n",
    "### Python 구현"
   ]
  },
  {
   "cell_type": "code",
   "execution_count": null,
   "metadata": {},
   "outputs": [],
   "source": []
  },
  {
   "cell_type": "markdown",
   "metadata": {},
   "source": [
    "---"
   ]
  },
  {
   "cell_type": "markdown",
   "metadata": {
    "slideshow": {
     "slide_type": "slide"
    }
   },
   "source": [
    "## (C 언어) Swap"
   ]
  },
  {
   "cell_type": "markdown",
   "metadata": {
    "slideshow": {
     "slide_type": "fragment"
    }
   },
   "source": [
    "* 동영상: [(나도코딩 C) 7-6 Swap](https://www.youtube.com/watch?v=CchtxFktL4k&list=PLMsa_0kAjjrdiwQykI8eb3H4IRxLTqCnP&index=49)"
   ]
  },
  {
   "cell_type": "markdown",
   "metadata": {},
   "source": [
    "### 두 개의 변수에 할당된 값 바꾸기 잘못된 시도"
   ]
  },
  {
   "cell_type": "markdown",
   "metadata": {},
   "source": [
    "* 아래와 같이 시도하면 변수 a와 b에 저장된 값을 바꿀 수 없음.\n",
    "* 이유는 swap 함수에 전달되는 것은 a와 b의 주소가 아니라 a와 b가 가리키는 값만 전달되기 때문임."
   ]
  },
  {
   "cell_type": "markdown",
   "metadata": {},
   "source": [
    "---\n",
    "```c\n",
    "#include <stdio.h>\n",
    "\n",
    "// 스왑 함수\n",
    "void swap(int a, int b);\n",
    "\n",
    "int main()\n",
    "{\n",
    "\t// Swap\n",
    "\n",
    "\tint a = 10;\n",
    "\tint b = 20;\n",
    "\n",
    "\t// a와 b의 값 바꾸기\n",
    "\tprintf(\"Swap 함수 적용 전 => a: %d, b:%d\\n\", a, b);\n",
    "\tswap(a, b);\n",
    "\tprintf(\"Swap 함수 적용 후 => a: %d, b:%d\\n\", a, b);\n",
    "}\n",
    "\n",
    "void swap(int a, int b)\n",
    "{\n",
    "\tint temp = a;\n",
    "\ta = b;\n",
    "\tb = temp;\n",
    "\tprintf(\"Swap 함수 내 => a: %d, b:%d\\n\", a, b);\n",
    "}\n",
    "```"
   ]
  },
  {
   "cell_type": "markdown",
   "metadata": {},
   "source": [
    "* 실제로 swap 함수 본체 내에서 사용되는 변수들이 가리키는 주소가 다름."
   ]
  },
  {
   "cell_type": "markdown",
   "metadata": {},
   "source": [
    "---\n",
    "```c\n",
    "#include <stdio.h>\n",
    "\n",
    "// 스왑 함수\n",
    "void swap(int a, int b);\n",
    "\n",
    "int main()\n",
    "{\n",
    "\t// Swap\n",
    "\n",
    "\tint a = 10;\n",
    "\tint b = 20;\n",
    "\tprintf(\"a의 주소: %p\\n\", &a);\n",
    "\tprintf(\"b의 주소: %p\\n\", &b);\n",
    "\n",
    "\t// a와 b의 값 바꾸기\n",
    "\tprintf(\"Swap 함수 적용 전 => a: %d, b:%d\\n\", a, b);\n",
    "    // 값에 의한 복사(Call by Value): 값만 복사한다는 의미\n",
    "\tswap(a, b);\n",
    "\tprintf(\"Swap 함수 적용 후 => a: %d, b:%d\\n\", a, b);\n",
    "}\n",
    "\n",
    "void swap(int a, int b)\n",
    "{\n",
    "\tprintf(\"(swap 함수 본체) a의 주소: %p\\n\", &a);\n",
    "\tprintf(\"(swap 함수 본체) b의 주소: %p\\n\", &b);\n",
    "\n",
    "\tint temp = a;\n",
    "\ta = b;\n",
    "\tb = temp;\n",
    "\tprintf(\"Swap 함수 내 => a: %d, b:%d\\n\", a, b);\n",
    "}\n",
    "```"
   ]
  },
  {
   "cell_type": "markdown",
   "metadata": {},
   "source": [
    "* 위 코드 실행결과"
   ]
  },
  {
   "cell_type": "markdown",
   "metadata": {},
   "source": [
    "```c\n",
    "a의 주소: 0x7ffc1b55074c\n",
    "b의 주소: 0x7ffc1b550748\n",
    "Swap 함수 적용 전 => a: 10, b:20\n",
    "(swap 함수 본체) a의 주소: 0x7ffc1b55071c\n",
    "(swap 함수 본체) b의 주소: 0x7ffc1b550718\n",
    "Swap 함수 내 => a: 20, b:10\n",
    "Swap 함수 적용 후 => a: 10, b:20\n",
    "```"
   ]
  },
  {
   "cell_type": "markdown",
   "metadata": {},
   "source": [
    "### 두 개의 변수에 할당된 값 바꾸기: 주소값(포인터) 활용"
   ]
  },
  {
   "cell_type": "markdown",
   "metadata": {},
   "source": [
    "* 스왑 함수에 변수들의 주소를 전달하면 됨.\n",
    "* 이를 위해 포인터 주소를 인자로 받는 스왑함수 활용"
   ]
  },
  {
   "cell_type": "markdown",
   "metadata": {},
   "source": [
    "---\n",
    "```c\n",
    "#include <stdio.h>\n",
    "\n",
    "// 스왑 함수\n",
    "void swap_addr(int * a, int * b);\n",
    "\n",
    "int main()\n",
    "{\n",
    "\t// Swap\n",
    "\n",
    "\tint a = 10;\n",
    "\tint b = 20;\n",
    "\n",
    "\t// a와 b의 값 바꾸기\n",
    "\tprintf(\"Swap 함수 적용 전 => a: %d, b:%d\\n\", a, b);\n",
    "\t// 주소값 전달하는 방식으로\n",
    "\tswap_addr(&a, &b);\n",
    "\tprintf(\"Swap 함수 적용 후 => a: %d, b:%d\\n\", a, b);\n",
    "}\n",
    "\n",
    "void swap_addr(int * a, int * b)\n",
    "{\n",
    "\tint temp = *a;\n",
    "\t*a = *b;\n",
    "\t*b = temp;\n",
    "}\n",
    "```"
   ]
  },
  {
   "cell_type": "markdown",
   "metadata": {
    "slideshow": {
     "slide_type": "slide"
    }
   },
   "source": [
    "---\n",
    "\n",
    "### Python 구현"
   ]
  },
  {
   "cell_type": "code",
   "execution_count": null,
   "metadata": {},
   "outputs": [],
   "source": []
  },
  {
   "cell_type": "markdown",
   "metadata": {},
   "source": [
    "---"
   ]
  },
  {
   "cell_type": "markdown",
   "metadata": {
    "slideshow": {
     "slide_type": "slide"
    }
   },
   "source": [
    "## (C 언어) 포인터로 배열 값 변경하기"
   ]
  },
  {
   "cell_type": "markdown",
   "metadata": {
    "slideshow": {
     "slide_type": "fragment"
    }
   },
   "source": [
    "* 동영상: [(나도코딩 C) 7-7 포인터로 배열 값 변경하기](https://www.youtube.com/watch?v=jYbFtxbWAzA&list=PLMsa_0kAjjrdiwQykI8eb3H4IRxLTqCnP&index=50)"
   ]
  },
  {
   "cell_type": "markdown",
   "metadata": {},
   "source": [
    "* 배열의 항목을 포인터를 이용하여 수정 가능"
   ]
  },
  {
   "cell_type": "markdown",
   "metadata": {},
   "source": [
    "---\n",
    "```c\n",
    "#include <stdio.h>\n",
    "\n",
    "// 스왑 함수\n",
    "void changeArray(int * ptr);\n",
    "\n",
    "int main()\n",
    "{\n",
    "\t// 배열의 2번 인덱스 값 변경하기\n",
    "\n",
    "\tint arr2[3] = {10, 20, 30};\n",
    "\tchangeArray(arr2);\n",
    "\n",
    "\tfor (int i = 0; i < 3; i++)\n",
    "\t{\n",
    "\t\tprintf(\"%d\\n\", arr2[i]);\n",
    "\t}\n",
    "}\n",
    "\n",
    "void changeArray(int * ptr)\n",
    "{\n",
    "\tptr[2] = 50;\n",
    "}\n",
    "```"
   ]
  },
  {
   "cell_type": "markdown",
   "metadata": {},
   "source": [
    "* `changeArray(arr2);`를 `changeArray(&arr2[0]);`로 변경 가능\n",
    "* 이제 scanf 함수에서 정수를 입력받을 때 `&num` 과 같이 앰퍼샌드 기호(`&`) 사용하는 이유를 이해할 수 있음."
   ]
  },
  {
   "cell_type": "markdown",
   "metadata": {
    "slideshow": {
     "slide_type": "slide"
    }
   },
   "source": [
    "---\n",
    "\n",
    "### Python 구현"
   ]
  },
  {
   "cell_type": "code",
   "execution_count": null,
   "metadata": {},
   "outputs": [],
   "source": []
  },
  {
   "cell_type": "markdown",
   "metadata": {},
   "source": [
    "---"
   ]
  }
 ],
 "metadata": {
  "kernelspec": {
   "display_name": "Python 3",
   "language": "python",
   "name": "python3"
  },
  "language_info": {
   "codemirror_mode": {
    "name": "ipython",
    "version": 3
   },
   "file_extension": ".py",
   "mimetype": "text/x-python",
   "name": "python",
   "nbconvert_exporter": "python",
   "pygments_lexer": "ipython3",
   "version": "3.8.3"
  }
 },
 "nbformat": 4,
 "nbformat_minor": 4
}
