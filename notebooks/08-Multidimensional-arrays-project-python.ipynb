{
 "cells": [
  {
   "cell_type": "code",
   "execution_count": 1,
   "metadata": {},
   "outputs": [],
   "source": [
    "import random \n",
    "import time\n",
    "import sys"
   ]
  },
  {
   "cell_type": "code",
   "execution_count": 2,
   "metadata": {},
   "outputs": [],
   "source": [
    "arrayAnimal = []"
   ]
  },
  {
   "cell_type": "code",
   "execution_count": 3,
   "metadata": {},
   "outputs": [],
   "source": [
    "def initAnimalArray():\n",
    "    for i in range(4):\n",
    "        new = []\n",
    "        for j in range(5):\n",
    "            new.append(-1)\n",
    "        arrayAnimal.append(new)"
   ]
  },
  {
   "cell_type": "code",
   "execution_count": 4,
   "metadata": {},
   "outputs": [],
   "source": [
    "initAnimalArray()"
   ]
  },
  {
   "cell_type": "code",
   "execution_count": 5,
   "metadata": {},
   "outputs": [],
   "source": [
    "arrayAnimal = [[-1 for j in range(5)] for i in range(4)]"
   ]
  },
  {
   "cell_type": "code",
   "execution_count": 6,
   "metadata": {},
   "outputs": [],
   "source": [
    "strAnimal = [\"원숭이\", \"하마\", \"강아지\", \"고양이\", \"돼지\", \"코끼리\", \"기린\", \"낙타\", \"타조\", \"호랑이\"]"
   ]
  },
  {
   "cell_type": "code",
   "execution_count": 7,
   "metadata": {},
   "outputs": [],
   "source": [
    "strAnimal = [\"monkey\", \"hippo\", \"dog\", \"cat\", \"pig\", \n",
    "             \"elephant\", \"giraffe\", \"camel\", \"ostrich\", \"tiger\"]"
   ]
  },
  {
   "cell_type": "code",
   "execution_count": 8,
   "metadata": {},
   "outputs": [],
   "source": [
    "checkAnimal = [[0 for j in range(5)] for i in range(4)]"
   ]
  },
  {
   "cell_type": "code",
   "execution_count": 9,
   "metadata": {},
   "outputs": [
    {
     "data": {
      "text/plain": [
       "[[0, 0, 0, 0, 0], [0, 0, 0, 0, 0], [0, 0, 0, 0, 0], [0, 0, 0, 0, 0]]"
      ]
     },
     "execution_count": 9,
     "metadata": {},
     "output_type": "execute_result"
    }
   ],
   "source": [
    "checkAnimal"
   ]
  },
  {
   "cell_type": "code",
   "execution_count": 10,
   "metadata": {},
   "outputs": [
    {
     "data": {
      "text/plain": [
       "[[-1, -1, -1, -1, -1],\n",
       " [-1, -1, -1, -1, -1],\n",
       " [-1, -1, -1, -1, -1],\n",
       " [-1, -1, -1, -1, -1]]"
      ]
     },
     "execution_count": 10,
     "metadata": {},
     "output_type": "execute_result"
    }
   ],
   "source": [
    "arrayAnimal"
   ]
  },
  {
   "cell_type": "code",
   "execution_count": 11,
   "metadata": {},
   "outputs": [],
   "source": [
    "def getEmptyPosition():\n",
    "    current_time = int(time.time())\n",
    "    random.seed(current_time)\n",
    "\n",
    "    # 4x5 크기의 행렬에서 빈 위치의 좌표 찾기\n",
    "    while True:\n",
    "        randPos = random.randint(0, sys.maxsize) % 20 # 0-19 사이의 숫자 반환\n",
    "        x = randPos // 5\n",
    "        y = randPos % 5\n",
    "\n",
    "        if (arrayAnimal[x][y] == -1):\n",
    "            return x, y"
   ]
  },
  {
   "cell_type": "code",
   "execution_count": 12,
   "metadata": {},
   "outputs": [],
   "source": [
    "def conv_pos_x(x):\n",
    "    # 4x5 크기의 2차원 배열에서 행의 값 확인\n",
    "    return x // 5"
   ]
  },
  {
   "cell_type": "code",
   "execution_count": 13,
   "metadata": {},
   "outputs": [],
   "source": [
    "def conv_pos_y(y):\n",
    "    # 4x5 크기의 2차원 배열에서 행의 값 확인\n",
    "    return y % 5"
   ]
  },
  {
   "cell_type": "code",
   "execution_count": 14,
   "metadata": {},
   "outputs": [],
   "source": [
    "def shuffleAnimal():\n",
    "    for i in range(10):\n",
    "        for _ in range(2):\n",
    "            x, y = getEmptyPosition()\n",
    "            arrayAnimal[x][y] = i"
   ]
  },
  {
   "cell_type": "code",
   "execution_count": 15,
   "metadata": {},
   "outputs": [],
   "source": [
    "def printAnimals():\n",
    "    print(\"\\n=====쉿, 이건 비밀인데 몰래 보여주는 거임.=====\\n\")\n",
    "    # 4x5 크기의 동물로 구성된 행렬 출력\n",
    "    for i in range(4):\n",
    "        for j in range(5):\n",
    "            print(\"%10s\" % strAnimal[arrayAnimal[i][j]], end=' ')\n",
    "        print()\n",
    "\n",
    "    print(\"\\n=======================================\\n\")"
   ]
  },
  {
   "cell_type": "code",
   "execution_count": 16,
   "metadata": {},
   "outputs": [],
   "source": [
    "def printQuestion():\n",
    "    print(\"\\n\\n(문제)\")\n",
    "\n",
    "    seq = 0\n",
    "\n",
    "    for i in range(4):\n",
    "        for j in range(5):\n",
    "            # 카드를 뒤집어서 정답을 맞혔으면 동물이름 보여주기\n",
    "            if (checkAnimal[i][j] != 0):\n",
    "                print(\"%10s\" % strAnimal[arrayAnimal[i][j]], end=' ')\n",
    "            # 정답을 맞히지 못했으면 위치를 나타내는 숫자 보여주기\n",
    "            else: \n",
    "                print(\"%10d\" % seq, end=' ')\n",
    "\n",
    "            seq += 1\n",
    "\n",
    "        print(\"\\n\")\n"
   ]
  },
  {
   "cell_type": "code",
   "execution_count": 17,
   "metadata": {},
   "outputs": [],
   "source": [
    "def foundAllAnimals():\n",
    "    for i in range(4):\n",
    "        for j in range(5):\n",
    "            if (checkAnimal[i][j] == 0):\n",
    "                return 0\n",
    "\n",
    "    # 모든 동물을 다 찾은 경우\n",
    "    return 1"
   ]
  },
  {
   "cell_type": "code",
   "execution_count": 18,
   "metadata": {},
   "outputs": [
    {
     "name": "stdout",
     "output_type": "stream",
     "text": [
      "\n",
      "=====쉿, 이건 비밀인데 몰래 보여주는 거임.=====\n",
      "\n",
      "    monkey      camel      camel     monkey        cat \n",
      "       dog      tiger    ostrich        pig      hippo \n",
      "     tiger    giraffe   elephant        cat    giraffe \n",
      "       pig    ostrich      hippo        dog   elephant \n",
      "\n",
      "=======================================\n",
      "\n",
      "\n",
      "\n",
      "(문제)\n",
      "         0          1          2          3          4 \n",
      "\n",
      "         5          6          7          8          9 \n",
      "\n",
      "        10         11         12         13         14 \n",
      "\n",
      "        15         16         17         18         19 \n",
      "\n",
      "뒤집을 카드 2 개를 고르세요: 12 19\n",
      "\n",
      "\n",
      "빙고!:   elephant 발견\n",
      "\n",
      "\n",
      "=====쉿, 이건 비밀인데 몰래 보여주는 거임.=====\n",
      "\n",
      "    monkey      camel      camel     monkey        cat \n",
      "       dog      tiger    ostrich        pig      hippo \n",
      "     tiger    giraffe   elephant        cat    giraffe \n",
      "       pig    ostrich      hippo        dog   elephant \n",
      "\n",
      "=======================================\n",
      "\n",
      "\n",
      "\n",
      "(문제)\n",
      "         0          1          2          3          4 \n",
      "\n",
      "         5          6          7          8          9 \n",
      "\n",
      "        10         11   elephant         13         14 \n",
      "\n",
      "        15         16         17         18   elephant \n",
      "\n",
      "뒤집을 카드 2 개를 고르세요: 0 3\n",
      "\n",
      "\n",
      "빙고!:     monkey 발견\n",
      "\n",
      "\n",
      "=====쉿, 이건 비밀인데 몰래 보여주는 거임.=====\n",
      "\n",
      "    monkey      camel      camel     monkey        cat \n",
      "       dog      tiger    ostrich        pig      hippo \n",
      "     tiger    giraffe   elephant        cat    giraffe \n",
      "       pig    ostrich      hippo        dog   elephant \n",
      "\n",
      "=======================================\n",
      "\n",
      "\n",
      "\n",
      "(문제)\n",
      "    monkey          1          2     monkey          4 \n",
      "\n",
      "         5          6          7          8          9 \n",
      "\n",
      "        10         11   elephant         13         14 \n",
      "\n",
      "        15         16         17         18   elephant \n",
      "\n",
      "뒤집을 카드 2 개를 고르세요: 1 2\n",
      "\n",
      "\n",
      "빙고!:      camel 발견\n",
      "\n",
      "\n",
      "=====쉿, 이건 비밀인데 몰래 보여주는 거임.=====\n",
      "\n",
      "    monkey      camel      camel     monkey        cat \n",
      "       dog      tiger    ostrich        pig      hippo \n",
      "     tiger    giraffe   elephant        cat    giraffe \n",
      "       pig    ostrich      hippo        dog   elephant \n",
      "\n",
      "=======================================\n",
      "\n",
      "\n",
      "\n",
      "(문제)\n",
      "    monkey      camel      camel     monkey          4 \n",
      "\n",
      "         5          6          7          8          9 \n",
      "\n",
      "        10         11   elephant         13         14 \n",
      "\n",
      "        15         16         17         18   elephant \n",
      "\n",
      "뒤집을 카드 2 개를 고르세요: 2 3\n",
      "\n",
      "\n",
      "땡!! (틀렸거나 아미 뒤집힌 카드입니다!\n",
      "\n",
      "2 : camel\n",
      "\n",
      "3 : monkey\n",
      "\n",
      "\n",
      "\n",
      "\n",
      "=====쉿, 이건 비밀인데 몰래 보여주는 거임.=====\n",
      "\n",
      "    monkey      camel      camel     monkey        cat \n",
      "       dog      tiger    ostrich        pig      hippo \n",
      "     tiger    giraffe   elephant        cat    giraffe \n",
      "       pig    ostrich      hippo        dog   elephant \n",
      "\n",
      "=======================================\n",
      "\n",
      "\n",
      "\n",
      "(문제)\n",
      "    monkey      camel      camel     monkey          4 \n",
      "\n",
      "         5          6          7          8          9 \n",
      "\n",
      "        10         11   elephant         13         14 \n",
      "\n",
      "        15         16         17         18   elephant \n",
      "\n",
      "뒤집을 카드 2 개를 고르세요: \n"
     ]
    },
    {
     "ename": "ValueError",
     "evalue": "not enough values to unpack (expected 2, got 0)",
     "output_type": "error",
     "traceback": [
      "\u001b[0;31m---------------------------------------------------------------------------\u001b[0m",
      "\u001b[0;31mValueError\u001b[0m                                Traceback (most recent call last)",
      "\u001b[0;32m<ipython-input-18-cba212a0fbff>\u001b[0m in \u001b[0;36m<module>\u001b[0;34m\u001b[0m\n\u001b[1;32m     16\u001b[0m \u001b[0;34m\u001b[0m\u001b[0m\n\u001b[1;32m     17\u001b[0m         \u001b[0;31m# 사용자에 의해 선택된 두 개의 수\u001b[0m\u001b[0;34m\u001b[0m\u001b[0;34m\u001b[0m\u001b[0;34m\u001b[0m\u001b[0m\n\u001b[0;32m---> 18\u001b[0;31m         \u001b[0mselect1\u001b[0m\u001b[0;34m,\u001b[0m \u001b[0mselect2\u001b[0m \u001b[0;34m=\u001b[0m \u001b[0mmap\u001b[0m\u001b[0;34m(\u001b[0m\u001b[0mint\u001b[0m\u001b[0;34m,\u001b[0m \u001b[0minput\u001b[0m\u001b[0;34m(\u001b[0m\u001b[0;34m\"뒤집을 카드 2 개를 고르세요: \"\u001b[0m\u001b[0;34m)\u001b[0m\u001b[0;34m.\u001b[0m\u001b[0msplit\u001b[0m\u001b[0;34m(\u001b[0m\u001b[0;34m)\u001b[0m\u001b[0;34m)\u001b[0m\u001b[0;34m\u001b[0m\u001b[0;34m\u001b[0m\u001b[0m\n\u001b[0m\u001b[1;32m     19\u001b[0m \u001b[0;34m\u001b[0m\u001b[0m\n\u001b[1;32m     20\u001b[0m         \u001b[0;32mif\u001b[0m \u001b[0;34m(\u001b[0m\u001b[0mselect1\u001b[0m \u001b[0;34m==\u001b[0m \u001b[0mselect2\u001b[0m\u001b[0;34m)\u001b[0m\u001b[0;34m:\u001b[0m\u001b[0;34m\u001b[0m\u001b[0;34m\u001b[0m\u001b[0m\n",
      "\u001b[0;31mValueError\u001b[0m: not enough values to unpack (expected 2, got 0)"
     ]
    }
   ],
   "source": [
    "if __name__ == \"__main__\":\n",
    "    arrayAnimal = [[-1 for j in range(5)] for i in range(4)]\n",
    "    \n",
    "    strAnimal = [\"monkey\", \"hippo\", \"dog\", \"cat\", \"pig\", \n",
    "                 \"elephant\", \"giraffe\", \"camel\", \"ostrich\", \"tiger\"]\n",
    "    \n",
    "    checkAnimal = [[0 for j in range(5)] for i in range(4)]\n",
    "    \n",
    "    shuffleAnimal()\n",
    "\n",
    "    failCount = 0 # 실패 횟수 저장\n",
    "\n",
    "    while True:\n",
    "        printAnimals() # 동물 위치 출력\n",
    "        printQuestion() # 문제 출력(카드 지도 보여주기)\n",
    "        \n",
    "        # 사용자에 의해 선택된 두 개의 수\n",
    "        select1, select2 = map(int, input(\"뒤집을 카드 2 개를 고르세요: \").split())\n",
    "\n",
    "        if (select1 == select2):\n",
    "            continue\n",
    "\n",
    "        # 좌표를 확인한 다음에 동일한 동물인지 확인하기\n",
    "        firstSelect_x = conv_pos_x(select1)\n",
    "        firstSelect_y = conv_pos_y(select1)\n",
    "\n",
    "        secondSelect_x = conv_pos_x(select2)\n",
    "        secondSelect_y = conv_pos_y(select2)\n",
    "\n",
    "        # 아직 뒤집히지 않은 카드이고 두 동물이 동일한지 여부확인\n",
    "        if ( (checkAnimal[firstSelect_x][firstSelect_y] == 0)\n",
    "             and (checkAnimal[secondSelect_x][secondSelect_y] == 0)\n",
    "             and (arrayAnimal[firstSelect_x][firstSelect_y] \n",
    "                 == arrayAnimal[secondSelect_x][secondSelect_y]) ):\n",
    "            \n",
    "            print(\"\\n\\n빙고!: %10s 발견\\n\" %\n",
    "                    strAnimal[arrayAnimal[firstSelect_x][firstSelect_y]])\n",
    "            \n",
    "            checkAnimal[firstSelect_x][firstSelect_y] = 1\n",
    "            checkAnimal[secondSelect_x][secondSelect_y] = 1\n",
    "        else:\n",
    "            print(\"\\n\\n땡!! (틀렸거나 아미 뒤집힌 카드입니다!\\n\")\n",
    "            print(\"%d : %s\\n\" % (select1, strAnimal[arrayAnimal[firstSelect_x][firstSelect_y]]))\n",
    "            print(\"%d : %s\\n\" % (select2, strAnimal[arrayAnimal[secondSelect_x][secondSelect_y]]))\n",
    "            print(\"\\n\")\n",
    "\n",
    "            failCount += 1\n",
    "\n",
    "        # 모든 동물을 다 찾은 경우\n",
    "        if (foundAllAnimals() == 1):\n",
    "            print(\"\\n\\n축하합니다! 모든 동물을 다 찾았네요!\\n\")\n",
    "            print(\"지금까지 총 %d번 실수하였습니다.\\n\" % failCount)\n",
    "            break"
   ]
  }
 ],
 "metadata": {
  "kernelspec": {
   "display_name": "Python 3",
   "language": "python",
   "name": "python3"
  },
  "language_info": {
   "codemirror_mode": {
    "name": "ipython",
    "version": 3
   },
   "file_extension": ".py",
   "mimetype": "text/x-python",
   "name": "python",
   "nbconvert_exporter": "python",
   "pygments_lexer": "ipython3",
   "version": "3.8.3"
  }
 },
 "nbformat": 4,
 "nbformat_minor": 4
}
