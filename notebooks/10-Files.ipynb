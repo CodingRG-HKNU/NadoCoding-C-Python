{
 "cells": [
  {
   "cell_type": "markdown",
   "metadata": {
    "slideshow": {
     "slide_type": "slide"
    }
   },
   "source": [
    "# 10장 파일 다루기"
   ]
  },
  {
   "cell_type": "markdown",
   "metadata": {},
   "source": [
    "#### 감사의 글 \n",
    "\n",
    "유튜브 동영상 모음집 \n",
    "[(나도코딩 C)](https://www.youtube.com/watch?v=dEykoFZkf5Y&list=PLMsa_0kAjjrdiwQykI8eb3H4IRxLTqCnP)에서 \n",
    "설명하는 코드를 활용합니다. \n",
    "강의동영상을 공개한 \n",
    "[나도코딩](https://www.youtube.com/channel/UC7iAOLiALt2rtMVAWWl4pnw)님께 \n",
    "감사드립니다."
   ]
  },
  {
   "cell_type": "markdown",
   "metadata": {},
   "source": [
    "## 핵심"
   ]
  },
  {
   "cell_type": "markdown",
   "metadata": {},
   "source": [
    "* 파일 생성 및 읽기/쓰기"
   ]
  },
  {
   "cell_type": "markdown",
   "metadata": {
    "slideshow": {
     "slide_type": "slide"
    }
   },
   "source": [
    "## (C 언어) 비밀일기"
   ]
  },
  {
   "cell_type": "markdown",
   "metadata": {
    "slideshow": {
     "slide_type": "fragment"
    }
   },
   "source": [
    "* 동영상: [(나도코딩 C) 10-1 비밀일기](https://www.youtube.com/watch?v=3hg0kSQKIuc&list=PLMsa_0kAjjrdiwQykI8eb3H4IRxLTqCnP&index=71)"
   ]
  },
  {
   "cell_type": "markdown",
   "metadata": {},
   "source": [
    "### 게임 설명"
   ]
  },
  {
   "cell_type": "markdown",
   "metadata": {},
   "source": [
    "* 파일을 생성하여 내용을 작성하여 저장한 후 저장된 내용 확인 및 수정하기"
   ]
  },
  {
   "cell_type": "markdown",
   "metadata": {
    "slideshow": {
     "slide_type": "slide"
    }
   },
   "source": [
    "## (C 언어) 파일 쓰기 1"
   ]
  },
  {
   "cell_type": "markdown",
   "metadata": {
    "slideshow": {
     "slide_type": "fragment"
    }
   },
   "source": [
    "* 동영상: [(나도코딩 C) 10-2 파일 쓰기 fputs](https://www.youtube.com/watch?v=SXj2RUlplNk&list=PLMsa_0kAjjrdiwQykI8eb3H4IRxLTqCnP&index=72)"
   ]
  },
  {
   "cell_type": "markdown",
   "metadata": {},
   "source": [
    "* 파일 열기: `fopen()` 함수 활용\n",
    "    * 첫째 인자: 파일 저장 위치와 파일명 지정\n",
    "        * 윈도우에서 파일경로를 지정할 때 아래와 같이 원(won) 기호를 두 번 사용해야 함.\n",
    "\n",
    "        \"C:&#8361;&#8361;test1.txt\"\n",
    "        <br><br>\n",
    "\n",
    "    * 둘째 인자: 파일을 열 때의 옵션 지정\n",
    "        * r(읽기), w(쓰기), a(추가하기)\n",
    "        * t(텍스트 문서), b(바이너리 문서)\n",
    "            * 줄바꿈 기호(`\\n`)처리하는 방식이 운영체제마다 다른데 이 문제를 피하려면 바이너리 방식 사용 추천\n",
    "        * 참조: [fopen() 옵션과 binary/text mode](http://everydday0418.blogspot.com/2012/03/fopen.html)"
   ]
  },
  {
   "cell_type": "markdown",
   "metadata": {},
   "source": [
    "---\n",
    "```c\n",
    "// Visual Studio에서 오류 발생할 경우\n",
    "// #define _CRT_SECURE_NO_WARNINGS\n",
    "\n",
    "#include <stdio.h>\n",
    "\n",
    "int main()\n",
    "{\n",
    "\t// 파일에 쓰기: fputs\n",
    "\t// 파일에 특정 내용 저장\n",
    "\n",
    "\tFILE * file = fopen(\"test1.txt\", \"wb\");  // 현재 디렉토리에 파일 생성 및 저장\n",
    "\n",
    "    // 파일 열기 가능여부 확인\n",
    "\tif (file == NULL)\n",
    "\t{\n",
    "\t\tprintf(\"파일 열기 실패\\n\");\n",
    "        return 1;\n",
    "\t}\n",
    "\n",
    "\tfputs(\"fputs를 이용해서 글을 적어볼께요.\\n\", file);\n",
    "\tfputs(\"잘 적히는지 확인해주세요.\\n\", file);\n",
    "\n",
    "\t// 파일 닫기를 기본적으로 진행.\n",
    "\t// 그렇지 않으면 데이터 손실 발생 가능\n",
    "\tfclose(file);\n",
    "\n",
    "    return 0;\n",
    "}\n",
    "```"
   ]
  },
  {
   "cell_type": "markdown",
   "metadata": {},
   "source": [
    "---\n",
    "\n",
    "### Python 구현"
   ]
  },
  {
   "cell_type": "markdown",
   "metadata": {},
   "source": [
    "* 여기서는 `open()` 함수의 옵션으로 'b'옵션을 굳이 사용하지 않음.\n",
    "    * 'b' 옵션을 사용하여 파일을 저장하려면 저장 내용을 바이너리로 전환시킨 후 저장해야 하기 때문임.\n",
    "    * 바이너리 파일은 실행파일(exe), 음악파일(mp3) 등 일반 텍스트 용도가 아닌 경우에 사용함.\n",
    "    * 파이썬에서 바이너리 파일을 다루는 일은 좀 더 복잡함. "
   ]
  },
  {
   "cell_type": "code",
   "execution_count": 1,
   "metadata": {},
   "outputs": [],
   "source": [
    "# 파일에 쓰기: write() 메서드\n",
    "# 파일에 특정 내용 저장\n",
    "\n",
    "file = open(\"test1_py.txt\", \"w\")  # 현재 디렉토리에 파일 생성 및 저장\n",
    "\n",
    "file.write(\"write() 메서드를 이용해서 글을 적어볼께요.\\n\")\n",
    "file.write(\"잘 적히는지 확인해주세요.\\n\")\n",
    "\n",
    "# 파일 닫기를 기본적으로 진행.\n",
    "# 그렇지 않으면 데이터 손실 발생 가능\n",
    "file.close()\n"
   ]
  },
  {
   "cell_type": "markdown",
   "metadata": {},
   "source": [
    "* 텍스트 파일을 바이너리 파일로 다루는 경우는 아래와 같이 함.\n",
    "    * 내용을 저장할 때 문자열을 `encode()` 메서드를 활용하여 bytes 자료형으로 변환시켜야 함.\n",
    "    * 바이너리 파일로 저장된 파일은 이후 계속 'b' 옵션을 함께 사용해야 함."
   ]
  },
  {
   "cell_type": "code",
   "execution_count": 2,
   "metadata": {},
   "outputs": [],
   "source": [
    "file = open(\"test1b_py.txt\", \"wb\")\n",
    "\n",
    "file.write(\"write() 메서드를 이용해서 글을 적어볼께요.\\n\".encode())\n",
    "file.write(\"잘 적히는지 확인해주세요.\\n\".encode())\n",
    "\n",
    "file.close()"
   ]
  },
  {
   "cell_type": "markdown",
   "metadata": {},
   "source": [
    "* 파일 다루기가 끝나면 자동으로 닫아주는 기능을 아래와 같이 활용할 수 있음."
   ]
  },
  {
   "cell_type": "code",
   "execution_count": 3,
   "metadata": {},
   "outputs": [],
   "source": [
    "with open(\"test1c_py.txt\", \"w\") as file:\n",
    "\n",
    "    file.write(\"write() 메서드를 이용해서 글을 적어볼께요.\\n\")\n",
    "    file.write(\"잘 적히는지 확인해주세요.\\n\")\n",
    "\n",
    "    # 파일 닫기는 자동으로 진행됨."
   ]
  },
  {
   "cell_type": "markdown",
   "metadata": {},
   "source": [
    "* 파일이 존재하지 않거나 파일 열기/닫기에 실패하는 경우에 대비하여 **예외처리** 활용\n",
    "\n",
    "* 아래 방식은 오류 종류에 맞추어 예외처리하는 기능 설명"
   ]
  },
  {
   "cell_type": "code",
   "execution_count": 4,
   "metadata": {},
   "outputs": [
    {
     "name": "stdout",
     "output_type": "stream",
     "text": [
      "파일 오류: [Errno 2] No such file or directory: 'test1d_py.txt'\n"
     ]
    }
   ],
   "source": [
    "try: \n",
    "    with open(\"test1d_py.txt\", \"r\") as file:\n",
    "\n",
    "        file.write(\"write() 메서드를 이용해서 글을 적어볼께요.\\n\")\n",
    "        file.write(\"잘 적히는지 확인해주세요.\\n\")\n",
    "\n",
    "except IOError as err:\n",
    "    print('파일 오류: ' + str(err))\n",
    "    "
   ]
  },
  {
   "cell_type": "markdown",
   "metadata": {},
   "source": [
    "* 아래 방식은 임의의 오류를 처리하는 방식 설명"
   ]
  },
  {
   "cell_type": "code",
   "execution_count": 5,
   "metadata": {},
   "outputs": [
    {
     "name": "stdout",
     "output_type": "stream",
     "text": [
      "파일 열기 실패\n"
     ]
    }
   ],
   "source": [
    "try: \n",
    "    with open(\"test1d_py.txt\", \"r\") as file:\n",
    "\n",
    "        file.write(\"write() 메서드를 이용해서 글을 적어볼께요.\\n\")\n",
    "        file.write(\"잘 적히는지 확인해주세요.\\n\")\n",
    "\n",
    "except:\n",
    "    print('파일 열기 실패')    "
   ]
  },
  {
   "cell_type": "markdown",
   "metadata": {},
   "source": [
    "---"
   ]
  },
  {
   "cell_type": "markdown",
   "metadata": {
    "slideshow": {
     "slide_type": "slide"
    }
   },
   "source": [
    "## (C 언어) 파일 읽기 1"
   ]
  },
  {
   "cell_type": "markdown",
   "metadata": {
    "slideshow": {
     "slide_type": "fragment"
    }
   },
   "source": [
    "* 동영상: [(나도코딩 C) 10-3 파일 읽기 fgets](https://www.youtube.com/watch?v=PwZPUBw6RWA&list=PLMsa_0kAjjrdiwQykI8eb3H4IRxLTqCnP&index=73)"
   ]
  },
  {
   "cell_type": "markdown",
   "metadata": {},
   "source": [
    "---\n",
    "```c\n",
    "// Visual Studio에서 오류 발생할 경우\n",
    "// #define _CRT_SECURE_NO_WARNINGS\n",
    "\n",
    "#include <stdio.h>\n",
    "\n",
    "#define MAX 10000 // 상수 선언\n",
    "\n",
    "int main()\n",
    "{\n",
    "\t// 파일 읽기 fgets\n",
    "\t// 저장된 파일 내용 읽어오기\n",
    "\n",
    "\tchar line[MAX];\n",
    "\n",
    "\t// 읽기 전용으로 열기\n",
    "\t// 바이너리 파일로 저장한 경우 바이너리 파일로 읽어와야 함.\n",
    "\tFILE * file = fopen(\"test1.txt\", \"rb\");\n",
    "\n",
    "\t// 파일 열기 가능여부 확인\n",
    "\tif (file == NULL)\n",
    "\t{\n",
    "\t\tprintf(\"파일 열기 실패\\n\");\n",
    "\t\treturn 1;\n",
    "\t}\n",
    "\n",
    "\t// 한 줄씩 읽어오기\n",
    "\twhile(fgets(line, MAX, file) != NULL)\n",
    "\t{\n",
    "\t\tprintf(\"%s\", line);\n",
    "\t}\n",
    "\n",
    "\t// 파일 닫기를 기본적으로 진행.\n",
    "\t// 그렇지 않으면 데이터 손실 발생 가능\n",
    "\tfclose(file);\n",
    "\n",
    "    return 0;\n",
    "}\n",
    "```"
   ]
  },
  {
   "cell_type": "markdown",
   "metadata": {},
   "source": [
    "---\n",
    "\n",
    "### Python 구현"
   ]
  },
  {
   "cell_type": "markdown",
   "metadata": {},
   "source": [
    "* 저장된 파일 내용 읽어오기"
   ]
  },
  {
   "cell_type": "markdown",
   "metadata": {},
   "source": [
    "#### `readline()` 함수 활용"
   ]
  },
  {
   "cell_type": "markdown",
   "metadata": {},
   "source": [
    "* `readline()` 메서드: 한 줄씩 읽기"
   ]
  },
  {
   "cell_type": "code",
   "execution_count": 6,
   "metadata": {},
   "outputs": [
    {
     "name": "stdout",
     "output_type": "stream",
     "text": [
      "write() 메서드를 이용해서 글을 적어볼께요.\n",
      "\n",
      "잘 적히는지 확인해주세요.\n",
      "\n"
     ]
    }
   ],
   "source": [
    "with open(\"test1_py.txt\", \"r\") as file:\n",
    "\n",
    "    while 1:\n",
    "        line = file.readline()\n",
    "        if not line: break\n",
    "        print(line)"
   ]
  },
  {
   "cell_type": "markdown",
   "metadata": {},
   "source": [
    "* 주의사항: 파이썬의 `print()` 함수는 줄바꿈을 자동으로 추가함. \n",
    "* `strip()` 메서드 활용하면 문자열의 양 끝에 있는 줄바꿈 기호(`'\\n'`), 스페이스(`' '`, 뛰어쓰기) 등의\n",
    "    소위 화이트 스페이스(white space) 등을 제거함."
   ]
  },
  {
   "cell_type": "code",
   "execution_count": 7,
   "metadata": {},
   "outputs": [
    {
     "name": "stdout",
     "output_type": "stream",
     "text": [
      "write() 메서드를 이용해서 글을 적어볼께요.\n",
      "잘 적히는지 확인해주세요.\n"
     ]
    }
   ],
   "source": [
    "with open(\"test1_py.txt\", \"r\") as file:\n",
    "\n",
    "    while 1:\n",
    "        line = file.readline().strip()\n",
    "        if not line: \n",
    "            break\n",
    "        print(line)"
   ]
  },
  {
   "cell_type": "markdown",
   "metadata": {},
   "source": [
    "#### `readlines()` 함수 활용"
   ]
  },
  {
   "cell_type": "markdown",
   "metadata": {},
   "source": [
    "* `readlines()` 메서드: 모든 줄을 한꺼번에 리스트로 읽어오기. 각각의 줄을 리스트의 항목으로 사용."
   ]
  },
  {
   "cell_type": "code",
   "execution_count": 8,
   "metadata": {},
   "outputs": [
    {
     "name": "stdout",
     "output_type": "stream",
     "text": [
      "write() 메서드를 이용해서 글을 적어볼께요.\n",
      "잘 적히는지 확인해주세요.\n"
     ]
    }
   ],
   "source": [
    "with open(\"test1_py.txt\", \"r\") as file:\n",
    "    for line in file.readlines():\n",
    "        if not line: \n",
    "            break\n",
    "        print(line.strip())"
   ]
  },
  {
   "cell_type": "code",
   "execution_count": 9,
   "metadata": {},
   "outputs": [
    {
     "name": "stdout",
     "output_type": "stream",
     "text": [
      "파일 열기 실패\n"
     ]
    }
   ],
   "source": [
    "try:\n",
    "    with open(\"test1d_py.txt\", \"r\") as file:\n",
    "        for line in file.readlines():\n",
    "            if not line: \n",
    "                break\n",
    "            print(line.strip())\n",
    "except:\n",
    "    print(\"파일 열기 실패\")"
   ]
  },
  {
   "cell_type": "markdown",
   "metadata": {},
   "source": [
    "---"
   ]
  },
  {
   "cell_type": "markdown",
   "metadata": {
    "slideshow": {
     "slide_type": "slide"
    }
   },
   "source": [
    "## (C 언어) 파일 쓰기 2"
   ]
  },
  {
   "cell_type": "markdown",
   "metadata": {
    "slideshow": {
     "slide_type": "fragment"
    }
   },
   "source": [
    "* 동영상: [(나도코딩 C) 10-4 또다른 파일 쓰기 fprintf](https://www.youtube.com/watch?v=kxZ61zgX0Kc&list=PLMsa_0kAjjrdiwQykI8eb3H4IRxLTqCnP&index=74)"
   ]
  },
  {
   "cell_type": "markdown",
   "metadata": {
    "slideshow": {
     "slide_type": "fragment"
    }
   },
   "source": [
    "* `fprintf()` 함수: 서식 문자열을 파일에 저장할 때 사용"
   ]
  },
  {
   "cell_type": "markdown",
   "metadata": {},
   "source": [
    "---\n",
    "```c\n",
    "// Visual Studio에서 오류 발생할 경우\n",
    "// #define _CRT_SECURE_NO_WARNINGS\n",
    "\n",
    "#include <stdio.h>\n",
    "\n",
    "int main()\n",
    "{\n",
    "\t// 파일 쓰기 fprintf\n",
    "\t// 서식을 지원하는 문자열 저장 함수\n",
    "\n",
    "\t// 예제: 로또 번호 저장\n",
    "\n",
    "    FILE * file = fopen(\"test2.txt\", \"wb\");\n",
    "\n",
    "\tif (file == NULL)\n",
    "\t{\n",
    "\t\tprintf(\"파일 열기 실패!\\n\");\n",
    "\t\treturn 1;\n",
    "\t}\n",
    "\n",
    "\t// 로또 추첨번호 저장\n",
    "\tfprintf(file, \"%s %d %d %d %d %d %d\\n\", \"추첨번호\", 1, 2, 3, 4, 5, 6);\n",
    "\tfprintf(file, \"%s %d\\n\", \"보너스번호\", 7);\n",
    "\n",
    "\tfclose(file);\n",
    "\n",
    "    return 0;\n",
    "}\n",
    "```"
   ]
  },
  {
   "cell_type": "markdown",
   "metadata": {},
   "source": [
    "---\n",
    "\n",
    "### Python 구현"
   ]
  },
  {
   "cell_type": "markdown",
   "metadata": {},
   "source": [
    "* 문자열 서식은 기본으로 지원함."
   ]
  },
  {
   "cell_type": "code",
   "execution_count": 10,
   "metadata": {},
   "outputs": [],
   "source": [
    "with open(\"test2_py.txt\", \"w\") as file:\n",
    "    file.write(\"%s %d %d %d %d %d %d\\n\" % (\"추첨번호\", 1, 2, 3, 4, 5, 6))\n",
    "    file.write(\"%s %d\\n\" % (\"보너스번호\", 7))"
   ]
  },
  {
   "cell_type": "markdown",
   "metadata": {},
   "source": [
    "---"
   ]
  },
  {
   "cell_type": "markdown",
   "metadata": {
    "slideshow": {
     "slide_type": "slide"
    }
   },
   "source": [
    "## (C 언어) 파일 읽기 2"
   ]
  },
  {
   "cell_type": "markdown",
   "metadata": {
    "slideshow": {
     "slide_type": "fragment"
    }
   },
   "source": [
    "* 동영상: [(나도코딩 C) 10-5 또다른 파일 쓰기 fscanf](https://www.youtube.com/watch?v=jA7Squ3JGls&list=PLMsa_0kAjjrdiwQykI8eb3H4IRxLTqCnP&index=75)"
   ]
  },
  {
   "cell_type": "markdown",
   "metadata": {
    "slideshow": {
     "slide_type": "fragment"
    }
   },
   "source": [
    "* `fscanf()` 함수: 파일에 저장된 문자열을 서식에 맞추어 읽어올 때 사용"
   ]
  },
  {
   "cell_type": "markdown",
   "metadata": {},
   "source": [
    "---\n",
    "```c\n",
    "// Visual Studio에서 오류 발생할 경우\n",
    "// #define _CRT_SECURE_NO_WARNINGS\n",
    "\n",
    "#include <stdio.h>\n",
    "\n",
    "#define MAX 10000 // 상수 선언\n",
    "\n",
    "int main()\n",
    "{\n",
    "\t// 파일 읽기 fscanf\n",
    "\t// 서식을 지원하는 문자열 저장 함수\n",
    "\n",
    "\t// 예제: 저장된 로또 번호 읽어오기\n",
    "\tint num[6] = { 0, 0, 0, 0, 0, 0 }; // 추첨번호 저장용\n",
    "\tint bonus = 0; // 보너스 번호 저장용\n",
    "\n",
    "\tchar str1[MAX];\n",
    "\tchar str2[MAX];\n",
    "\n",
    "\tFILE * file = fopen(\"test2.txt\", \"rb\");\n",
    "\n",
    "\tif (file == NULL)\n",
    "\t{\n",
    "\t\tprintf(\"파일 열기 실패!\\n\");\n",
    "\t\treturn 1;\n",
    "\t}\n",
    "\n",
    "\t// 저장된 로또 추첨번호 읽어오기\n",
    "\tfscanf(file, \"%s %d %d %d %d %d %d\\n\", str1, \n",
    "\t\t\t&num[0], &num[1], &num[2], &num[3], &num[4], &num[5]);\n",
    "\tprintf(\"%s %d %d %d %d %d %d\\n\", str1,\n",
    "\t\t\tnum[0], num[1], num[2], num[3], num[4], num[5]);\n",
    "\n",
    "\tfscanf(file, \"%s %d\\n\", str2, &bonus);\n",
    "\tprintf(\"%s %d\\n\", str2, bonus);\n",
    "\n",
    "\tfclose(file);\n",
    "\n",
    "    return 0;\n",
    "}\n",
    "```"
   ]
  },
  {
   "cell_type": "markdown",
   "metadata": {},
   "source": [
    "---\n",
    "\n",
    "### Python 구현"
   ]
  },
  {
   "cell_type": "markdown",
   "metadata": {},
   "source": [
    "* 비슷한 기능의 함수는 없지만 구현은 아래와 같이 가능."
   ]
  },
  {
   "cell_type": "code",
   "execution_count": 11,
   "metadata": {},
   "outputs": [
    {
     "name": "stdout",
     "output_type": "stream",
     "text": [
      "추첨번호 1 2 3 4 5 6\n",
      "보너스번호 7\n"
     ]
    }
   ],
   "source": [
    "with open(\"test2_py.txt\", \"r\") as file:\n",
    "    print(\"%s %s %s %s %s %s %s\" % tuple(file.readline().split()))\n",
    "    print(\"%s %s\" % tuple(file.readline().split()))"
   ]
  },
  {
   "cell_type": "markdown",
   "metadata": {},
   "source": [
    "---"
   ]
  },
  {
   "cell_type": "markdown",
   "metadata": {
    "slideshow": {
     "slide_type": "slide"
    }
   },
   "source": [
    "## (C 언어) 프로젝트"
   ]
  },
  {
   "cell_type": "markdown",
   "metadata": {
    "slideshow": {
     "slide_type": "fragment"
    }
   },
   "source": [
    "* 동영상: [(나도코딩 C) 10-6 프로젝트(전반전)](https://www.youtube.com/watch?v=9uD13421HRU&list=PLMsa_0kAjjrdiwQykI8eb3H4IRxLTqCnP&index=76)\n",
    "* 동영상: [(나도코딩 C) 10-7 프로젝트(후반전)](https://www.youtube.com/watch?v=xZP-ssNpQOU&list=PLMsa_0kAjjrdiwQykI8eb3H4IRxLTqCnP&index=77)"
   ]
  },
  {
   "cell_type": "markdown",
   "metadata": {
    "slideshow": {
     "slide_type": "fragment"
    }
   },
   "source": [
    "* 비밀읽기 작성하기\n",
    "    * 비밀번호 맞는 경우: 비밀일기를 읽어와서 보여주고, 계속 작성하도록 함.\n",
    "    * 비밀번호 틀린 경우: 경고 메시지를 표시하고 종료함.\n",
    "\n",
    "* `fopen()` 함수의 `a+` 옵션\n",
    "    * 파일이 존재하면 파일 끝에 문장 추가\n",
    "    * 파일이 존재하지 않으면 새로 생성 후 문장 추가"
   ]
  },
  {
   "cell_type": "markdown",
   "metadata": {},
   "source": [
    "### 주의사항"
   ]
  },
  {
   "cell_type": "markdown",
   "metadata": {},
   "source": [
    "* `getchar()`와 `getch()`의 차이점\n",
    "    * `getchar()` 함수: 엔터가 입력될 때까지 기다린 후 처리\n",
    "    * `getch()` 함수: 키 입력 시 바로바로 처리\n",
    "\n",
    "* 하지만 `getch()` 함수는 윈도우에서만 지원됨.\n",
    "\n",
    "* Repl.it 사이트 등 처럼 리눅스/맥 환경에서 사용하는 gcc 컴파일러에서는 지원하지 않음.\n",
    "\n",
    "* 하지만 아래와 같이 동일한 기능을 하는 함수를 구현할 수 있음.\n",
    "    * 참조: [stackoverflow: What is the equivalent to getch() & getche() in Linux?](https://stackoverflow.com/questions/7469139/what-is-the-equivalent-to-getch-getche-in-linux)\n"
   ]
  },
  {
   "cell_type": "markdown",
   "metadata": {},
   "source": [
    "---\n",
    "```c\n",
    "#include <termios.h>\n",
    "#include <stdio.h>\n",
    "\n",
    "static struct termios old, current;\n",
    "\n",
    "// 새로운 터미널의 i/o 세팅 초기화\n",
    "void initTermios(int echo) \n",
    "{\n",
    "  tcgetattr(0, &old); // 이전 터미널의 i/o 세팅 저장\n",
    "  current = old; // 이전 i/o 세팅을 그대로 활용\n",
    "  current.c_lflag &= ~ICANON; // 버퍼를 사용하는 i/o 끄기\n",
    "  if (echo) {\n",
    "      current.c_lflag |= ECHO; // 메아리용 버퍼를 사용하는 모드. 입력한 문자열을 화면에 보여주는 기능.\n",
    "  } else {\n",
    "      current.c_lflag &= ~ECHO; // 메아리용 버퍼를 사용하지 않는 모드. 입력한 문자열을 화면에 보여주지 않음.\n",
    "  }\n",
    "  tcsetattr(0, TCSANOW, &current); // 지정한 새로운 i/o 세팅 사용\n",
    "}\n",
    "\n",
    "/* 이전 i/o 세팅 복구 */\n",
    "void resetTermios(void) \n",
    "{\n",
    "  tcsetattr(0, TCSANOW, &old);\n",
    "}\n",
    "\n",
    "/* 한 개의 문자열 읽기 - echo 인자는 버퍼 사용여부 지정 */\n",
    "char getch_(int echo) \n",
    "{\n",
    "  char ch;\n",
    "  initTermios(echo);\n",
    "  ch = getchar();\n",
    "  resetTermios();\n",
    "  return ch;\n",
    "}\n",
    "\n",
    "/* 메아리 없이 한 개의 문자 읽기. 즉, 입력내용 화면에 보여주지 않음. */\n",
    "char getch(void) \n",
    "{\n",
    "  return getch_(0);\n",
    "}\n",
    "\n",
    "/* 메아리 사용하며 한 개의 문자 읽기. 즉, 입력내용 화면에 보여줌. */\n",
    "char getche(void) \n",
    "{\n",
    "  return getch_(1);\n",
    "}\n",
    "```\n",
    "---"
   ]
  },
  {
   "cell_type": "markdown",
   "metadata": {},
   "source": [
    "### 프로젝트 구현"
   ]
  },
  {
   "cell_type": "markdown",
   "metadata": {},
   "source": [
    "* 동영상과 동일하게 코드 구현 가능\n",
    "\n",
    "* 단, 위 코드를 동일 프로젝트 내의 다른 c 파일에 저장했다고 가정함.\n",
    "    * 다른 c 파일에 저장된 함수를 불러오려면 `extern` 지정자를 이용하여 함수를 선언해야 함.\n",
    "    \n",
    "* `#include <string.h>`는 `strcmp()`를 사용하기 위해 필요함.\n",
    "* 비밀일기 작성을 'Exit' 뿐만 아니라 'exit'를 입력해도 종료하도록 수정됨.\n",
    "    * '또는'(or)에 해당하는 논리연산자 `||` 활용하였음."
   ]
  },
  {
   "cell_type": "markdown",
   "metadata": {},
   "source": [
    "---\n",
    "```c\n",
    "// Visual Studio에서 오류 발생할 경우\n",
    "// #define _CRT_SECURE_NO_WARNINGS\n",
    "\n",
    "#include <stdio.h>\n",
    "#include <string.h>\n",
    "\n",
    "// 다른 c 파일에 저장된 getch() 함수 불러오기\n",
    "// 동일한 프로젝트의 폴더에 포함된 파일이어야 함.\n",
    "extern char getch(void);\n",
    "\n",
    "// 비밀번호를 입력 받아 맞는 경우는 내용 읽어와서 보여주고, 계속 작성하도록 함수\n",
    "// 비밀번호가 틀린 경우 경고 메시지 출력 후 종료함.\n",
    "\n",
    "#define MAX 10000 // 상수 선언\n",
    "\n",
    "int main()\n",
    "{\n",
    "\t// fgets, fputs 활용\n",
    "\t\n",
    "\tchar line[MAX]; // 파일에서 불러온 내용 저장\n",
    "\tchar contents[MAX]; // 일기장에 입력할 내용\n",
    "\tchar password[20]; // 비밀번호 입력할\n",
    "\tchar c; // 비밀번호가 입력될 때 한 캐릭터씩 처리하는 용도\n",
    "\n",
    "\tprintf(\"'비밀일기'에 오신 것을 환영합니다!\\n\");\n",
    "\tprintf(\"비밀번호를 입력하세요:\");\n",
    "\n",
    "\t// 비밀번호 입력 처리하기\n",
    "\tint i = 0;\n",
    "\twhile (1)\n",
    "\t{\n",
    "\t\tc = getch();\n",
    "\n",
    "\t\t// if (c == 13) // 동영상에서처럼 getch()가 지원되는 윈도우에서 실행하는 경우. \n",
    "                        // 13은 '\\n'의 아스키 코드\n",
    "\t\tif (c == '\\n') // Enter를 가리키는 번호, 즉, 비밀번호 입력 종료 의미\n",
    "\t\t{\n",
    "\t\t\tpassword[i] = '\\0'; // 비밀먼호 문자열 끝에 추가되는 널 문자 지정\n",
    "\t\t\tbreak; // 비밀번호 입력 종료\n",
    "\t\t}\n",
    "\t\telse // 비밀번호 입력 중\n",
    "\t\t{\n",
    "\t\t\tprintf(\"*\"); // 입력되는 비밀번호 마스킹 처리 용도\n",
    "\t\t\tpassword[i] = c;\n",
    "\t\t}\n",
    "\n",
    "\t\ti++;\n",
    "\t}\n",
    "\n",
    "\t// 입력된 비밀번호 확인하기\n",
    "\tprintf(\"\\n\\n === 비밀번호 확인 중 ... ===\\n\\n\");\n",
    "\n",
    "\tif (strcmp(password, \"skehzheld\") == 0) // 비밀번호 = (영어)나도코딩\n",
    "\t{\n",
    "\t\tprintf(\"=== 비밀번호 확인 완료 ===\\n\\n\");\n",
    "\t\tchar * fileName = \"secretdiary.txt\";\n",
    "\t\tFILE * file = fopen(fileName, \"a+b\"); \n",
    "\n",
    "\t\tif (file == NULL) \n",
    "\t\t{\n",
    "\t\t\tprintf(\"파일 열기 실패!\\n\");\n",
    "\t\t\treturn 1;\n",
    "\t\t}\n",
    "\n",
    "\t\t// 파일 내용 읽어오기\n",
    "\t\twhile (fgets(line, MAX, file) != NULL)\n",
    "\t\t{\n",
    "\t\t\tprintf(\"%s\", line);\n",
    "\t\t}\n",
    "\n",
    "\t\t// 내용 추가하기\n",
    "\t\tprintf(\"\\n\\n 내용을 계속 작성하세요. 종료하려면 EXIT 또는 exit를 입력하세요\\n\\n\");\n",
    "\n",
    "\t\twhile (1)\n",
    "\t\t{\n",
    "\t\t\tscanf(\"%[^\\n]\", contents); // 줄바꿈이 사용되기 직전까지 저장. 즉, 한 문단씩 저장.\n",
    "\t\t\tgetchar(); // Enter 키 입력을 flush 처리하기\n",
    "\n",
    "\t\t\tif (strcmp(contents, \"EXIT\") == 0 || strcmp(contents, \"exit\") == 0)\n",
    "\t\t\t{\n",
    "\t\t\t\tprintf(\"비밀일기 입력을 종료합니다.\\n\\n\");\n",
    "\t\t\t\tbreak;\n",
    "\t\t\t}\n",
    "\n",
    "\t\t\tfputs(contents, file);\n",
    "\t\t\tfputs(\"\\n\", file); // 줄바꿈을 인위적으로 진행\u001f\n",
    "\t\t}\n",
    "\t\tfclose(file);\n",
    "\t}\n",
    "\telse\n",
    "\t{\n",
    "\t\tprintf(\" === 비밀번호가 틀렸어요. ===\\n\\n\");\n",
    "\t\tprintf(\" 꺅!! 당신 누가야?!! 감히 내 일기장을 !!!\\n\\n\\n\");\n",
    "\t}\n",
    "\n",
    "    return 0;\n",
    "}\n",
    "```"
   ]
  },
  {
   "cell_type": "markdown",
   "metadata": {},
   "source": [
    "---\n",
    "\n",
    "### Python 구현"
   ]
  },
  {
   "cell_type": "markdown",
   "metadata": {},
   "source": [
    "* 파이썬에서는 `getch()`에 해당하는 함수 없지만 아래와 같이 구현할 수 있음.\n",
    "\n",
    "* 주의사항\n",
    "    * 아래 코드에서 정의된 `getch()` 함수는 주피터 노트북에서 작동하지 않음. \n",
    "    * 이유: 주피터 노트북의 입출력 장치가 제대로 지원되지 않아 보임.\n",
    "    * repl.it 사이트 등에서는 작동함.\n",
    "\n",
    "* 참조: [OS별 처리](https://suwoni-codelab.com/python%20기본/2018/03/06/Python-Basic-Platform/)"
   ]
  },
  {
   "cell_type": "markdown",
   "metadata": {},
   "source": [
    "---\n",
    "```python\n",
    "try:\n",
    "    # Windows용 코드\n",
    "    import msvcrt\n",
    "\n",
    "    def getch():\n",
    "        \"\"\"단일키 누르는 것을 받아옴\"\"\"\n",
    "        return msvcrt.getch()\n",
    "except ImportError:\n",
    "    # Linux & Mac 용 코드\n",
    "    import sys\n",
    "    import tty\n",
    "    import termios\n",
    "\n",
    "    def getche():\n",
    "        \"\"\"단일키 누르는 것을 받아옴\n",
    "        입력된 값도 출력함\"\"\"\n",
    "        fd = sys.stdin.fileno()\n",
    "        original_attributes = termios.tcgetattr(fd)\n",
    "        try:\n",
    "            tty.setraw(sys.stdin.fileno())\n",
    "            ch = sys.stdin.read(1)\n",
    "        finally:\n",
    "            termios.tcsetattr(fd, termios.TCSADRAIN, original_attributes)\n",
    "        print(ch)\n",
    "        return ch\n",
    "\n",
    "    def getch():\n",
    "        \"\"\"단일키 누르는 것을 받아옴\"\"\"\n",
    "        fd = sys.stdin.fileno()\n",
    "        original_attributes = termios.tcgetattr(fd)\n",
    "        try:\n",
    "            tty.setraw(sys.stdin.fileno())\n",
    "            ch = sys.stdin.read(1)\n",
    "        finally:\n",
    "            termios.tcsetattr(fd, termios.TCSADRAIN, original_attributes)\n",
    "        return ch\n",
    "```\n",
    "---"
   ]
  },
  {
   "cell_type": "markdown",
   "metadata": {},
   "source": [
    "#### 프로젝트 구현"
   ]
  },
  {
   "cell_type": "markdown",
   "metadata": {},
   "source": [
    "* 주의사항: \n",
    "    * 위 코드가 getch_termios.py 파일에 저장되어 있다고 가정함.\n",
    "    * 엔터 키 입력여부 확인은 `'\\r'` 문자열과 비교함. C 언어의 경우와 다름.\n",
    "    * 파이썬의 문자열은 불변자료형임. 따라서 키가 입력될 때마다 매번 새로 생성해야 함."
   ]
  },
  {
   "cell_type": "markdown",
   "metadata": {},
   "source": [
    "---\n",
    "```python\n",
    "from getch_termios import getch\n",
    "\n",
    "print(\"'비밀일기'에 오신 것을 환영합니다!\")\n",
    "print(\"비밀번호를 입력하세요:\")\n",
    "\n",
    "password = ''\n",
    "while True:\n",
    "\tc = getch()\n",
    "\tif (c == '\\r'):\n",
    "\t\tbreak\n",
    "\telse:\n",
    "\t\tprint(\"*\", end='', flush=True)\n",
    "\t\tpassword += c\n",
    "\n",
    "print(\"\\n=== 비밀번호 확인 중 ... ===\\n\")\n",
    "\n",
    "if (password == \"skehzheld\"):\n",
    "\tprint(\"\\n=== 비밀번호 확인 완료 ===\\n\")\n",
    "\tfileName = \"secretdiary.txt\"\n",
    "\twith open(fileName, \"a+\") as file:\n",
    "\t\tfor line in file.readlines():\n",
    "\t\t\tprint(line)\n",
    "\n",
    "\t\tprint(\"내용을 계속 작성하세요. 종료하려면 EXIT 또는 exit를 입력하세요\\n\")\n",
    "\n",
    "\t\twhile True:\n",
    "\t\t\tcontents = input()\n",
    "\t\t\tif (contents == \"EXIT\" or contents == \"exit\"):\n",
    "\t\t\t\tprint(\"비밀일기 입력을 종료합니다.\\n\")\n",
    "\t\t\t\tbreak\n",
    "\t\t\tfile.write(contents+'\\n')\n",
    "else:\n",
    "\tprint(\"=== 비밀번호가 틀렸어요. ===\\n\")\n",
    "\tprint(\"꺅!! 당신 누가야?!! 감히 내 일기장을 !!!\")\n",
    "```"
   ]
  },
  {
   "cell_type": "markdown",
   "metadata": {},
   "source": [
    "---"
   ]
  },
  {
   "cell_type": "markdown",
   "metadata": {},
   "source": [
    "## 부록"
   ]
  },
  {
   "cell_type": "markdown",
   "metadata": {},
   "source": [
    "### 불변 자료형 vs. 가변 자료형"
   ]
  },
  {
   "cell_type": "markdown",
   "metadata": {},
   "source": [
    "* 파이썬에서 문자열은 한 번 생성하면 절대로 내용을 수정할 수 없음.\n",
    "* 반면에 C 에서의 문자열은 문자들의 어레이로 정의되었기 때문에 수정이 가능함."
   ]
  },
  {
   "cell_type": "code",
   "execution_count": 12,
   "metadata": {},
   "outputs": [
    {
     "name": "stdout",
     "output_type": "stream",
     "text": [
      "문자열은 수정불가!\n"
     ]
    }
   ],
   "source": [
    "try: \n",
    "    password = \"skehzheld\" # 나도코딩\n",
    "    password[0] = \"S\"\n",
    "except:\n",
    "    print(\"문자열은 수정불가!\")"
   ]
  },
  {
   "cell_type": "markdown",
   "metadata": {},
   "source": [
    "### 오프셋(offset) 활용"
   ]
  },
  {
   "cell_type": "markdown",
   "metadata": {},
   "source": [
    "* `fgets()` 함수 또는 `readline()` 함수 등으로 파일 내용을 읽으면 어디까지 읽었는지를 기억하는 장치가 있음.\n",
    "    * 읽기 위치를 **오프셋**(offset)이라 부름.\n",
    "* 따라서 파일 끝까지 읽으면 더 이상 읽을 내용이 없어서 빈 문자열을 되돌려줌."
   ]
  },
  {
   "cell_type": "markdown",
   "metadata": {},
   "source": [
    "#### 파이썬"
   ]
  },
  {
   "cell_type": "markdown",
   "metadata": {},
   "source": [
    "* 예를 들어, 아래와 같이 두 줄을 포함하고 있는 파일에 `readline()` 함수를 세 번 적용하면 빈 줄이 반환됨."
   ]
  },
  {
   "cell_type": "code",
   "execution_count": 13,
   "metadata": {},
   "outputs": [
    {
     "name": "stdout",
     "output_type": "stream",
     "text": [
      "write() 메서드를 이용해서 글을 적어볼께요. 1\n",
      "잘 적히는지 확인해주세요. 2\n",
      " 3\n"
     ]
    }
   ],
   "source": [
    "with open(\"test3_py.txt\", \"w\") as f:\n",
    "    f.write(\"write() 메서드를 이용해서 글을 적어볼께요.\\n\")\n",
    "    f.write(\"잘 적히는지 확인해주세요.\\n\")\n",
    "\n",
    "with open(\"test3_py.txt\", \"r\") as f:\n",
    "    print(f.readline().strip(), 1)\n",
    "    print(f.readline().strip(), 2)\n",
    "    print(f.readline().strip(), 3)\n"
   ]
  },
  {
   "cell_type": "markdown",
   "metadata": {},
   "source": [
    "* 오프셋의 현재 위치는 `tell()` 메서드로 확인 가능"
   ]
  },
  {
   "cell_type": "code",
   "execution_count": 14,
   "metadata": {},
   "outputs": [
    {
     "name": "stdout",
     "output_type": "stream",
     "text": [
      "write() 메서드를 이용해서 글을 적어볼께요. 1\n",
      "잘 적히는지 확인해주세요. 2\n",
      "현재 오프셋 위치: 95\n",
      " 3\n"
     ]
    }
   ],
   "source": [
    "with open(\"test3_py.txt\", \"w\") as f:\n",
    "    f.write(\"write() 메서드를 이용해서 글을 적어볼께요.\\n\")\n",
    "    f.write(\"잘 적히는지 확인해주세요.\\n\")\n",
    "\n",
    "with open(\"test3_py.txt\", \"r\") as f:\n",
    "    print(f.readline().strip(), 1)\n",
    "    print(f.readline().strip(), 2)\n",
    "    print(\"현재 오프셋 위치:\", f.tell())\n",
    "    print(f.readline().strip(), 3)\n"
   ]
  },
  {
   "cell_type": "markdown",
   "metadata": {},
   "source": [
    "* 파일을 다시 처음부터 읽으려면 파일을 새로 열어야 함.\n",
    "* 아니면 `seek()` 메서드를 통해 오프셋 값을 바이트 단위로 지정할 수 있음.\n",
    "    * 주의사항: 오프셋의 값을 정확하게 지정하기 어려움."
   ]
  },
  {
   "cell_type": "code",
   "execution_count": 15,
   "metadata": {},
   "outputs": [
    {
     "name": "stdout",
     "output_type": "stream",
     "text": [
      "write() 메서드를 이용해서 글을 적어볼께요. 1\n",
      "잘 적히는지 확인해주세요. 2\n",
      "다시 처음부터...\n",
      "현재 오프셋 위치: 0\n",
      "write() 메서드를 이용해서 글을 적어볼께요. 1\n",
      "잘 적히는지 확인해주세요. 2\n"
     ]
    }
   ],
   "source": [
    "with open(\"test3_py.txt\", \"w\") as f:\n",
    "    f.write(\"write() 메서드를 이용해서 글을 적어볼께요.\\n\")\n",
    "    f.write(\"잘 적히는지 확인해주세요.\\n\")\n",
    "\n",
    "with open(\"test3_py.txt\", \"r\") as f:\n",
    "    print(f.readline().strip(), 1)\n",
    "    print(f.readline().strip(), 2)\n",
    "    \n",
    "    print(\"다시 처음부터...\")\n",
    "    f.seek(0)\n",
    "    print(\"현재 오프셋 위치:\", f.tell())\n",
    "    print(f.readline().strip(), 1)\n",
    "    print(f.readline().strip(), 2)"
   ]
  },
  {
   "cell_type": "markdown",
   "metadata": {},
   "source": [
    "#### C 언어"
   ]
  },
  {
   "cell_type": "markdown",
   "metadata": {},
   "source": [
    "* `fseek()`, `ftell()` 함수를 동일한 방식으로 활용하면 됨.\n",
    "* 참조: [fseek와 ftell 함수](https://luckyyowu.tistory.com/21)"
   ]
  },
  {
   "cell_type": "markdown",
   "metadata": {},
   "source": [
    "```c\n",
    "#include <stdio.h>\n",
    "\n",
    "#define MAX 10000\n",
    "\n",
    "int main()\n",
    "{\n",
    "\tchar line[MAX];\n",
    "\n",
    "\tFILE * file = fopen(\"test1.txt\", \"rb\");\n",
    "\n",
    "\tfgets(line, MAX, file);\n",
    "\tprintf(\"%s\", line);\n",
    "\n",
    "\tfgets(line, MAX, file);\n",
    "\tprintf(\"%s\", line);\n",
    "\n",
    "\tprintf(\"%ld\\n\", ftell(file));\n",
    "\t// 파일의 현재위치부터 4바이트 뒤로 이동\n",
    "\tfseek(file, 4, 1);\n",
    "\tprintf(\"%ld\\n\", ftell(file));\n",
    "\t// 파일의 현재위치부터 4바이트 앞으로 이동\n",
    "\tfseek(file, -4, 1);\n",
    "\tprintf(\"%ld\\n\", ftell(file));\n",
    "\t// 파일의 처음위치부터 0바이트 떨어진 곳으로 이동\n",
    "\t// 즉, 파일의 처음으로 이동\n",
    "\tfseek(file, 0, 0);\n",
    "\tprintf(\"%ld\\n\", ftell(file));\n",
    "\n",
    "\tfgets(line, MAX, file);\n",
    "\tprintf(\"%s\", line);\n",
    "\n",
    "\tfgets(line, MAX, file);\n",
    "\tprintf(\"%s\", line);\n",
    "\n",
    "\tfclose(file);\n",
    "\n",
    "    return 0;\n",
    "}\n",
    "```"
   ]
  }
 ],
 "metadata": {
  "kernelspec": {
   "display_name": "Python 3",
   "language": "python",
   "name": "python3"
  },
  "language_info": {
   "codemirror_mode": {
    "name": "ipython",
    "version": 3
   },
   "file_extension": ".py",
   "mimetype": "text/x-python",
   "name": "python",
   "nbconvert_exporter": "python",
   "pygments_lexer": "ipython3",
   "version": "3.8.3"
  }
 },
 "nbformat": 4,
 "nbformat_minor": 4
}
