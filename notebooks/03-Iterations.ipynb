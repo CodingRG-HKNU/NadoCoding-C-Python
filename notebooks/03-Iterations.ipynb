{
 "cells": [
  {
   "cell_type": "markdown",
   "metadata": {
    "slideshow": {
     "slide_type": "slide"
    }
   },
   "source": [
    "# 3장 반복문"
   ]
  },
  {
   "cell_type": "markdown",
   "metadata": {
    "slideshow": {
     "slide_type": "slide"
    }
   },
   "source": [
    "## (C 언어) 피라미드를 쌓아라"
   ]
  },
  {
   "cell_type": "markdown",
   "metadata": {
    "slideshow": {
     "slide_type": "fragment"
    }
   },
   "source": [
    "* 동영상: [(나도코딩 C) 3-1 피라미드를 쌓아라](https://www.youtube.com/watch?v=5Xx6tK6HWGs&list=PLMsa_0kAjjrdiwQykI8eb3H4IRxLTqCnP&index=12)"
   ]
  },
  {
   "cell_type": "markdown",
   "metadata": {},
   "source": [
    "### 반복문 종류\n",
    "\n",
    "* `for`\n",
    "* `while`\n",
    "* `do while`"
   ]
  },
  {
   "cell_type": "markdown",
   "metadata": {
    "slideshow": {
     "slide_type": "slide"
    }
   },
   "source": [
    "## (C 언어) 뿔뿔증감연산"
   ]
  },
  {
   "cell_type": "markdown",
   "metadata": {
    "slideshow": {
     "slide_type": "fragment"
    }
   },
   "source": [
    "* 동영상: [(나도코딩 C) 3-2 불뿔증감연산](https://www.youtube.com/watch?v=9n0nv27dxcs&list=PLMsa_0kAjjrdiwQykI8eb3H4IRxLTqCnP&index=13)"
   ]
  },
  {
   "cell_type": "markdown",
   "metadata": {},
   "source": [
    "```c\n",
    "#include <stdio.h>\n",
    "\n",
    "int main(void) {\n",
    "\t// printf(\"Hello World\\n\");\n",
    "\n",
    "\t// ++ 뿔뿔\n",
    "\tint a = 10;\n",
    "\tprintf(\"a는 %d\\n\", a);\n",
    "\n",
    "\ta++;\n",
    "\tprintf(\"a는 %d\\n\", a);\n",
    "\n",
    "\tprintf(\"===\\n\");\n",
    "\n",
    "\tint b = 20;\n",
    "\n",
    "\t// 먼저 더하기 1을 한 다음에 명령문 실행\n",
    "\t// b = b + 1\n",
    "\tprintf(\"b는 %d\\n\", ++b);\n",
    "\n",
    "\t//  먼저 명령문을 수행한 다음에 명령문 실행\n",
    "\tprintf(\"b는 %d\\n\", b++);\n",
    "\t// b = b + 1\n",
    "\n",
    "\tprintf(\"===\\n\");\n",
    "\n",
    "\tint i = 1;\n",
    "\tprintf(\"Hello World %d\\n\", i++);  // i = 1\n",
    "\tprintf(\"Hello World %d\\n\", i++);  // i = 2\n",
    "\tprintf(\"Hello World %d\\n\", i++);  // i = 3\n",
    "\tprintf(\"Hello World %d\\n\", i++);  // i = 4\n",
    "\tprintf(\"Hello World %d\\n\", i++);  // i = 5\n",
    "\tprintf(\"Hello World %d\\n\", i++);  // i = 6\n",
    "\tprintf(\"Hello World %d\\n\", i++);  // i = 7\n",
    "\tprintf(\"Hello World %d\\n\", i++);  // i = 8\n",
    "\tprintf(\"Hello World %d\\n\", i++);  // i = 9\n",
    "\tprintf(\"Hello World %d\\n\", i++);  // i = 10\n",
    "\n",
    "\tprintf(\"i는 %d\\n\", i);            // i = 11\n",
    "\n",
    "\tprintf(\"\\n===\\n\\n\");\n",
    "\n",
    "\tprintf(\"Hello World %d\\n\", i--);  // i = 11\n",
    "\tprintf(\"Hello World %d\\n\", i--);  // i = 10\n",
    "\tprintf(\"Hello World %d\\n\", i--);  // i = 9\n",
    "\tprintf(\"Hello World %d\\n\", i--);  // i = 8\n",
    "\tprintf(\"Hello World %d\\n\", i--);  // i = 7\n",
    "\tprintf(\"Hello World %d\\n\", i--);  // i = 6\n",
    "\tprintf(\"Hello World %d\\n\", i--);  // i = 5\n",
    "\tprintf(\"Hello World %d\\n\", i--);  // i = 4\n",
    "\tprintf(\"Hello World %d\\n\", i--);  // i = 3\n",
    "\tprintf(\"Hello World %d\\n\", i--);  // i = 2\n",
    "\tprintf(\"Hello World %d\\n\", i--);  // i = 1\n",
    "\n",
    "\tprintf(\"i는 %d\\n\", i);            // i = 0s\n",
    "\n",
    "    return 0;\n",
    "}\n",
    "```"
   ]
  },
  {
   "cell_type": "markdown",
   "metadata": {
    "slideshow": {
     "slide_type": "slide"
    }
   },
   "source": [
    "---\n",
    "\n",
    "### Python 구현"
   ]
  },
  {
   "cell_type": "code",
   "execution_count": null,
   "metadata": {
    "slideshow": {
     "slide_type": "slide"
    }
   },
   "outputs": [],
   "source": []
  },
  {
   "cell_type": "markdown",
   "metadata": {},
   "source": [
    "---"
   ]
  },
  {
   "cell_type": "markdown",
   "metadata": {
    "slideshow": {
     "slide_type": "slide"
    }
   },
   "source": [
    "## (C 언어) `for`"
   ]
  },
  {
   "cell_type": "markdown",
   "metadata": {
    "slideshow": {
     "slide_type": "fragment"
    }
   },
   "source": [
    "* 동영상: [(나도코딩 C) 3-3 for](https://www.youtube.com/watch?v=XhoKhevLtmk&list=PLMsa_0kAjjrdiwQykI8eb3H4IRxLTqCnP&index=14)"
   ]
  },
  {
   "cell_type": "markdown",
   "metadata": {},
   "source": [
    "* `for` 반복문 형식\n",
    "\n",
    "    ```c\n",
    "    for (선언;  조건;  증감)\n",
    "    {\n",
    "    명령문\n",
    "    }\n",
    "    ```"
   ]
  },
  {
   "cell_type": "markdown",
   "metadata": {},
   "source": [
    "```c\n",
    "#include <stdio.h>\n",
    "\n",
    "int main(void) {\n",
    "\t// for 반복문\n",
    "    \n",
    "\t// 예제: 증가\n",
    "\tfor (int i = 1; i <= 10; i++)\n",
    "\t{\n",
    "\t\tprintf(\"Hello World %d\\n\", i);\n",
    "\t}\n",
    "\n",
    "\tprintf(\"\\n===\\n\\n\");\n",
    "\n",
    "\t// 예제: 감소\n",
    "\tfor (int i = 10; i >= 0; i--)\n",
    "\t{\n",
    "\t\tprintf(\"Hello World %d\\n\", i);\n",
    "\t}\n",
    "\n",
    "    return 0;\n",
    "}\n",
    "```"
   ]
  },
  {
   "cell_type": "markdown",
   "metadata": {
    "slideshow": {
     "slide_type": "slide"
    }
   },
   "source": [
    "---\n",
    "\n",
    "### Python 구현"
   ]
  },
  {
   "cell_type": "code",
   "execution_count": null,
   "metadata": {
    "slideshow": {
     "slide_type": "slide"
    }
   },
   "outputs": [],
   "source": []
  },
  {
   "cell_type": "markdown",
   "metadata": {},
   "source": [
    "---"
   ]
  },
  {
   "cell_type": "markdown",
   "metadata": {
    "slideshow": {
     "slide_type": "slide"
    }
   },
   "source": [
    "## (C 언어) `while`"
   ]
  },
  {
   "cell_type": "markdown",
   "metadata": {
    "slideshow": {
     "slide_type": "fragment"
    }
   },
   "source": [
    "* 동영상: [(나도코딩 C) 3-4 while](https://www.youtube.com/watch?v=Um-61He4Lhw&list=PLMsa_0kAjjrdiwQykI8eb3H4IRxLTqCnP&index=15)"
   ]
  },
  {
   "cell_type": "markdown",
   "metadata": {},
   "source": [
    "* `while` 반복문 형식\n",
    "\n",
    "    ```c\n",
    "    while (조건)\n",
    "    {\n",
    "    명령문\n",
    "    }\n",
    "    ```"
   ]
  },
  {
   "cell_type": "markdown",
   "metadata": {},
   "source": [
    "```c\n",
    " #include <stdio.h>\n",
    "\n",
    "int main(void) {\n",
    "\t// while 반복문\n",
    "\n",
    "\tint i = 1;\n",
    "\twhile (i <= 10)\n",
    "\t{\n",
    "\t\t// printf(\"Hello World %d\\n\", i);\n",
    "\t\t// i++;\n",
    "\t\tprintf(\"Hello World %d\\n\", i++);\n",
    "\t}\n",
    "\n",
    "    return 0;\n",
    "}\n",
    "```"
   ]
  },
  {
   "cell_type": "markdown",
   "metadata": {
    "slideshow": {
     "slide_type": "slide"
    }
   },
   "source": [
    "---\n",
    "\n",
    "### Python 구현"
   ]
  },
  {
   "cell_type": "code",
   "execution_count": null,
   "metadata": {
    "slideshow": {
     "slide_type": "slide"
    }
   },
   "outputs": [],
   "source": []
  },
  {
   "cell_type": "markdown",
   "metadata": {},
   "source": [
    "---"
   ]
  },
  {
   "cell_type": "markdown",
   "metadata": {
    "slideshow": {
     "slide_type": "slide"
    }
   },
   "source": [
    "## (C 언어) `do while`"
   ]
  },
  {
   "cell_type": "markdown",
   "metadata": {
    "slideshow": {
     "slide_type": "fragment"
    }
   },
   "source": [
    "* 동영상: [(나도코딩 C) 3-5 do while](https://www.youtube.com/watch?v=4eDDQU9Mwic&list=PLMsa_0kAjjrdiwQykI8eb3H4IRxLTqCnP&index=16)"
   ]
  },
  {
   "cell_type": "markdown",
   "metadata": {},
   "source": [
    "* `do while` 반복문 형식\n",
    "\n",
    "    ```c\n",
    "    do \n",
    "    {\n",
    "    명령문\n",
    "    } while (조건);\n",
    "    ```"
   ]
  },
  {
   "cell_type": "markdown",
   "metadata": {},
   "source": [
    "```c\n",
    "#include <stdio.h>\n",
    "\n",
    "int main(void) {\n",
    "\t// do while 반복문\n",
    "\n",
    "\tint i = 1;\n",
    "\tdo\n",
    "\t{\n",
    "\t\tprintf(\"Hello World %d\\n\", i++);\n",
    "\t} while (i <= 10);\n",
    "\n",
    "    return 0;\n",
    "}```"
   ]
  },
  {
   "cell_type": "markdown",
   "metadata": {
    "slideshow": {
     "slide_type": "slide"
    }
   },
   "source": [
    "---\n",
    "\n",
    "### Python 구현"
   ]
  },
  {
   "cell_type": "code",
   "execution_count": null,
   "metadata": {
    "slideshow": {
     "slide_type": "slide"
    }
   },
   "outputs": [],
   "source": []
  },
  {
   "cell_type": "markdown",
   "metadata": {},
   "source": [
    "---"
   ]
  },
  {
   "cell_type": "markdown",
   "metadata": {
    "slideshow": {
     "slide_type": "slide"
    }
   },
   "source": [
    "## (C 언어) `이중 반복문(구구단)`"
   ]
  },
  {
   "cell_type": "markdown",
   "metadata": {
    "slideshow": {
     "slide_type": "fragment"
    }
   },
   "source": [
    "* 동영상: [(나도코딩 C) 3-6 이중 반복문(구구단)](https://www.youtube.com/watch?v=P448GE1UGbQ&list=PLMsa_0kAjjrdiwQykI8eb3H4IRxLTqCnP&index=17)"
   ]
  },
  {
   "cell_type": "markdown",
   "metadata": {},
   "source": [
    "* `for` 반복문 중첩해서 사용하기"
   ]
  },
  {
   "cell_type": "markdown",
   "metadata": {},
   "source": [
    "```c\n",
    "#include <stdio.h>\n",
    "\n",
    "int main(void) {\n",
    "\t// 2중 반복문\n",
    "\n",
    "\tfor (int i = 1; i <= 3; i++)\n",
    "\t{\n",
    "\t\tprintf(\"첫재 반복문: %d\\n\", i);\n",
    "\n",
    "\t\t\tfor (int j = 1; j <= 5; j++)\n",
    "\t\t\t\t{\n",
    "\t\t\t\t\tprintf(\"    둘째 반복문: %d\\n\", j);\n",
    "\t\t\t\t}\n",
    "\t}\n",
    "\n",
    "    return 0;\n",
    "}\n",
    "```"
   ]
  },
  {
   "cell_type": "markdown",
   "metadata": {},
   "source": [
    "* 구구단 구현하기"
   ]
  },
  {
   "cell_type": "markdown",
   "metadata": {},
   "source": [
    "```c\n",
    "#include <stdio.h>\n",
    "\n",
    "int main(void) {\n",
    "\t// 구구단\n",
    "\n",
    "\tfor (int i = 2; i <= 9; i++)\n",
    "\t{\n",
    "        printf(\"%d단:\\n\", i);\n",
    "\t\t\n",
    "\t\tfor (int j = 1; j <= 9; j++)\n",
    "\t\t{\n",
    "\t\t\tprintf(\"    %d x %d = %d\\n\", i, j, i*j);\n",
    "\t\t}\n",
    "\t}\n",
    "} \n",
    "```"
   ]
  },
  {
   "cell_type": "markdown",
   "metadata": {
    "slideshow": {
     "slide_type": "slide"
    }
   },
   "source": [
    "---\n",
    "\n",
    "### Python 구현"
   ]
  },
  {
   "cell_type": "code",
   "execution_count": null,
   "metadata": {
    "slideshow": {
     "slide_type": "slide"
    }
   },
   "outputs": [],
   "source": []
  },
  {
   "cell_type": "markdown",
   "metadata": {},
   "source": [
    "---"
   ]
  },
  {
   "cell_type": "markdown",
   "metadata": {
    "slideshow": {
     "slide_type": "slide"
    }
   },
   "source": [
    "## (C 언어) `이중 반복문 파헤치기`"
   ]
  },
  {
   "cell_type": "markdown",
   "metadata": {
    "slideshow": {
     "slide_type": "fragment"
    }
   },
   "source": [
    "* 동영상: [(나도코딩 C) 3-7 이중 반복문 파헤치기](https://www.youtube.com/watch?v=4gV1MjGIL3E&list=PLMsa_0kAjjrdiwQykI8eb3H4IRxLTqCnP&index=18)"
   ]
  },
  {
   "cell_type": "markdown",
   "metadata": {},
   "source": [
    "* 아래 모양의 별 피라미드 출력하기"
   ]
  },
  {
   "cell_type": "markdown",
   "metadata": {},
   "source": [
    "```\n",
    "*\n",
    "**\n",
    "***\n",
    "****\n",
    "*****\n",
    "```"
   ]
  },
  {
   "cell_type": "markdown",
   "metadata": {},
   "source": [
    "```c\n",
    "#include <stdio.h>\n",
    "\n",
    "int main(void) {\n",
    "    // 별 피라미드 출력하기\n",
    "    \n",
    "\tfor (int i = 0; i<5; i++)\n",
    "\t{\n",
    "\t\tfor (int j = 0; j <= i; j++)\n",
    "\t\t{\n",
    "\t\t\tprintf(\"*\");\n",
    "\t\t}\n",
    "\t\tprintf(\"\\n\");\n",
    "\t}\n",
    "\n",
    "} \n",
    "```"
   ]
  },
  {
   "cell_type": "markdown",
   "metadata": {},
   "source": [
    "#### PythonTutor 활용하기\n",
    "\n",
    "* [(C 언어) 별 피라미드 그리기](http://www.pythontutor.com/visualize.html#code=%23include%20%3Cstdio.h%3E%0A%0Aint%20main%28void%29%20%7B%0A%20%20%20%20//%20%EB%B3%84%20%ED%94%BC%EB%9D%BC%EB%AF%B8%EB%93%9C%20%EC%B6%9C%EB%A0%A5%ED%95%98%EA%B8%B0%0A%20%20%20%20%0A%20%20%20%20for%20%28int%20i%20%3D%200%3B%20i%3C5%3B%20i%2B%2B%29%0A%20%20%20%20%7B%0A%20%20%20%20%20%20%20%20for%20%28int%20j%20%3D%200%3B%20j%20%3C%3D%20i%3B%20j%2B%2B%29%0A%20%20%20%20%20%20%20%20%7B%0A%20%20%20%20%20%20%20%20%20%20%20%20printf%28%22*%22%29%3B%0A%20%20%20%20%20%20%20%20%7D%0A%20%20%20%20%20%20%20%20printf%28%22%5Cn%22%29%3B%0A%20%20%20%20%7D%0A%7D&cumulative=false&curInstr=0&heapPrimitives=nevernest&mode=display&origin=opt-frontend.js&py=c&rawInputLstJSON=%5B%5D&textReferences=false)"
   ]
  },
  {
   "cell_type": "markdown",
   "metadata": {
    "slideshow": {
     "slide_type": "slide"
    }
   },
   "source": [
    "---\n",
    "\n",
    "### Python 구현"
   ]
  },
  {
   "cell_type": "code",
   "execution_count": null,
   "metadata": {
    "slideshow": {
     "slide_type": "slide"
    }
   },
   "outputs": [],
   "source": []
  },
  {
   "cell_type": "markdown",
   "metadata": {},
   "source": [
    "---"
   ]
  }
 ],
 "metadata": {
  "kernelspec": {
   "display_name": "Python 3",
   "language": "python",
   "name": "python3"
  },
  "language_info": {
   "codemirror_mode": {
    "name": "ipython",
    "version": 3
   },
   "file_extension": ".py",
   "mimetype": "text/x-python",
   "name": "python",
   "nbconvert_exporter": "python",
   "pygments_lexer": "ipython3",
   "version": "3.7.6"
  }
 },
 "nbformat": 4,
 "nbformat_minor": 4
}
