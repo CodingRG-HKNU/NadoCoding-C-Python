{
 "cells": [
  {
   "cell_type": "markdown",
   "metadata": {
    "slideshow": {
     "slide_type": "slide"
    }
   },
   "source": [
    "# 3장 반복문"
   ]
  },
  {
   "cell_type": "markdown",
   "metadata": {
    "slideshow": {
     "slide_type": "slide"
    }
   },
   "source": [
    "## (C 언어) 피라미드를 쌓아라"
   ]
  },
  {
   "cell_type": "markdown",
   "metadata": {
    "slideshow": {
     "slide_type": "fragment"
    }
   },
   "source": [
    "* 동영상: [(나도코딩 C) 3-1 피라미드를 쌓아라](https://www.youtube.com/watch?v=5Xx6tK6HWGs&list=PLMsa_0kAjjrdiwQykI8eb3H4IRxLTqCnP&index=12)"
   ]
  },
  {
   "cell_type": "markdown",
   "metadata": {},
   "source": [
    "### 반복문 종류\n",
    "\n",
    "* `for`\n",
    "* `while`\n",
    "* `do while`"
   ]
  },
  {
   "cell_type": "markdown",
   "metadata": {
    "slideshow": {
     "slide_type": "slide"
    }
   },
   "source": [
    "## (C 언어) 뿔뿔증감연산"
   ]
  },
  {
   "cell_type": "markdown",
   "metadata": {
    "slideshow": {
     "slide_type": "fragment"
    }
   },
   "source": [
    "* 동영상: [(나도코딩 C) 3-2 불뿔증감연산](https://www.youtube.com/watch?v=9n0nv27dxcs&list=PLMsa_0kAjjrdiwQykI8eb3H4IRxLTqCnP&index=13)"
   ]
  },
  {
   "cell_type": "markdown",
   "metadata": {},
   "source": [
    "```c\n",
    "#include <stdio.h>\n",
    "\n",
    "int main(void) {\n",
    "\t// printf(\"Hello World\\n\");\n",
    "\n",
    "\t// ++ 뿔뿔\n",
    "\tint a = 10;\n",
    "\tprintf(\"a는 %d\\n\", a);\n",
    "\n",
    "\ta++;\n",
    "\tprintf(\"a는 %d\\n\", a);\n",
    "\n",
    "\tprintf(\"===\\n\");\n",
    "\n",
    "\tint b = 20;\n",
    "\n",
    "\t// 먼저 더하기 1을 한 다음에 명령문 실행\n",
    "\t// b = b + 1\n",
    "\tprintf(\"b는 %d\\n\", ++b);\n",
    "\n",
    "\t//  먼저 명령문을 수행한 다음에 명령문 실행\n",
    "\tprintf(\"b는 %d\\n\", b++);\n",
    "\t// b = b + 1\n",
    "\n",
    "\tprintf(\"===\\n\");\n",
    "\n",
    "\tint i = 1;\n",
    "\tprintf(\"Hello World %d\\n\", i++);  // i = 1\n",
    "\tprintf(\"Hello World %d\\n\", i++);  // i = 2\n",
    "\tprintf(\"Hello World %d\\n\", i++);  // i = 3\n",
    "\tprintf(\"Hello World %d\\n\", i++);  // i = 4\n",
    "\tprintf(\"Hello World %d\\n\", i++);  // i = 5\n",
    "\tprintf(\"Hello World %d\\n\", i++);  // i = 6\n",
    "\tprintf(\"Hello World %d\\n\", i++);  // i = 7\n",
    "\tprintf(\"Hello World %d\\n\", i++);  // i = 8\n",
    "\tprintf(\"Hello World %d\\n\", i++);  // i = 9\n",
    "\tprintf(\"Hello World %d\\n\", i++);  // i = 10\n",
    "\n",
    "\tprintf(\"i는 %d\\n\", i);            // i = 11\n",
    "\n",
    "\tprintf(\"\\n===\\n\\n\");\n",
    "\n",
    "\tprintf(\"Hello World %d\\n\", i--);  // i = 11\n",
    "\tprintf(\"Hello World %d\\n\", i--);  // i = 10\n",
    "\tprintf(\"Hello World %d\\n\", i--);  // i = 9\n",
    "\tprintf(\"Hello World %d\\n\", i--);  // i = 8\n",
    "\tprintf(\"Hello World %d\\n\", i--);  // i = 7\n",
    "\tprintf(\"Hello World %d\\n\", i--);  // i = 6\n",
    "\tprintf(\"Hello World %d\\n\", i--);  // i = 5\n",
    "\tprintf(\"Hello World %d\\n\", i--);  // i = 4\n",
    "\tprintf(\"Hello World %d\\n\", i--);  // i = 3\n",
    "\tprintf(\"Hello World %d\\n\", i--);  // i = 2\n",
    "\tprintf(\"Hello World %d\\n\", i--);  // i = 1\n",
    "\n",
    "\tprintf(\"i는 %d\\n\", i);            // i = 0\n",
    "\n",
    "    return 0;\n",
    "}\n",
    "```"
   ]
  },
  {
   "cell_type": "markdown",
   "metadata": {},
   "source": [
    "#### 주의사항\n",
    "\n",
    "* ++ 연산 사용은 추천하지 않음.\n",
    "    * 사유: 복잡한 코드에서 사용하는 경우 계산 순서에 대한 이해를 어렵게 만들 수 있음.\n",
    "* 또한 파이썬에서는 아예 지원되지 않음."
   ]
  },
  {
   "cell_type": "markdown",
   "metadata": {
    "slideshow": {
     "slide_type": "slide"
    }
   },
   "source": [
    "---\n",
    "\n",
    "### Python 구현"
   ]
  },
  {
   "cell_type": "markdown",
   "metadata": {
    "slideshow": {
     "slide_type": "slide"
    }
   },
   "source": [
    "* `++` 연산 지원하지 않음."
   ]
  },
  {
   "cell_type": "markdown",
   "metadata": {},
   "source": [
    "---"
   ]
  },
  {
   "cell_type": "markdown",
   "metadata": {
    "slideshow": {
     "slide_type": "slide"
    }
   },
   "source": [
    "## (C 언어) `for`"
   ]
  },
  {
   "cell_type": "markdown",
   "metadata": {
    "slideshow": {
     "slide_type": "fragment"
    }
   },
   "source": [
    "* 동영상: [(나도코딩 C) 3-3 for](https://www.youtube.com/watch?v=XhoKhevLtmk&list=PLMsa_0kAjjrdiwQykI8eb3H4IRxLTqCnP&index=14)"
   ]
  },
  {
   "cell_type": "markdown",
   "metadata": {},
   "source": [
    "* `for` 반복문 형식\n",
    "\n",
    "    ```c\n",
    "    for (선언;  조건;  증감)\n",
    "    {\n",
    "    명령문\n",
    "    }\n",
    "    ```"
   ]
  },
  {
   "cell_type": "markdown",
   "metadata": {},
   "source": [
    "```c\n",
    "#include <stdio.h>\n",
    "\n",
    "int main(void) {\n",
    "\t// for 반복문\n",
    "    \n",
    "\t// 예제: 증가\n",
    "\tfor (int i = 1; i <= 10; i++)\n",
    "\t{\n",
    "\t\tprintf(\"Hello World %d\\n\", i);\n",
    "\t}\n",
    "\n",
    "\tprintf(\"\\n===\\n\\n\");\n",
    "\n",
    "\t// 예제: 감소\n",
    "\tfor (int i = 10; i >= 0; i--)\n",
    "\t{\n",
    "\t\tprintf(\"Hello World %d\\n\", i);\n",
    "\t}\n",
    "\n",
    "    return 0;\n",
    "}\n",
    "```"
   ]
  },
  {
   "cell_type": "markdown",
   "metadata": {
    "slideshow": {
     "slide_type": "slide"
    }
   },
   "source": [
    "---\n",
    "\n",
    "### Python 구현"
   ]
  },
  {
   "cell_type": "markdown",
   "metadata": {},
   "source": [
    "* 파이썬의 `for` 반복문은 형식이 많이 다름:\n",
    "\n",
    "    ```python\n",
    "    for 반복변수 in 이터레이터:\n",
    "        명령문\n",
    "    ```\n",
    "    \n",
    "* 이터레이터: 반복변수의 값이 지정된 크기만큼씩 변할 수있도록 도와주는 기능을 가진 자료형\n",
    "    * 리스트, `range`, 튜플, 사전 자료형 등등\n",
    "    \n",
    "* 반복변수는 미리 선언할 필요 없음.\n",
    "\n",
    "* `for` 반복문과 `range` 함수의 조합이 매우 유용함"
   ]
  },
  {
   "cell_type": "markdown",
   "metadata": {},
   "source": [
    "#### 증가 예제"
   ]
  },
  {
   "cell_type": "code",
   "execution_count": 1,
   "metadata": {
    "slideshow": {
     "slide_type": "slide"
    }
   },
   "outputs": [],
   "source": [
    "for i in range(1, 11):\n",
    "    print(\"Hello World %d\" % i)"
   ]
  },
  {
   "cell_type": "code",
   "execution_count": 2,
   "metadata": {
    "slideshow": {
     "slide_type": "slide"
    }
   },
   "outputs": [],
   "source": [
    "for i in [1, 3, 5, 7, 9]:\n",
    "    print(\"Hello World %d\" % i)"
   ]
  },
  {
   "cell_type": "code",
   "execution_count": 3,
   "metadata": {
    "scrolled": true,
    "slideshow": {
     "slide_type": "slide"
    }
   },
   "outputs": [],
   "source": [
    "for i in range(1, 11, 2):\n",
    "    print(\"Hello World %d\" % i)"
   ]
  },
  {
   "cell_type": "markdown",
   "metadata": {},
   "source": [
    "#### 감소 예제"
   ]
  },
  {
   "cell_type": "code",
   "execution_count": 4,
   "metadata": {
    "scrolled": true,
    "slideshow": {
     "slide_type": "slide"
    }
   },
   "outputs": [],
   "source": [
    "for i in range(10, 0, -1):\n",
    "    print(\"Hello World %d\" % i)"
   ]
  },
  {
   "cell_type": "code",
   "execution_count": 5,
   "metadata": {
    "scrolled": true,
    "slideshow": {
     "slide_type": "slide"
    }
   },
   "outputs": [],
   "source": [
    "for i in range(10, 0, -2):\n",
    "    print(\"Hello World %d\" % i)"
   ]
  },
  {
   "cell_type": "markdown",
   "metadata": {},
   "source": [
    "---"
   ]
  },
  {
   "cell_type": "markdown",
   "metadata": {
    "slideshow": {
     "slide_type": "slide"
    }
   },
   "source": [
    "## (C 언어) `while`"
   ]
  },
  {
   "cell_type": "markdown",
   "metadata": {
    "slideshow": {
     "slide_type": "fragment"
    }
   },
   "source": [
    "* 동영상: [(나도코딩 C) 3-4 while](https://www.youtube.com/watch?v=Um-61He4Lhw&list=PLMsa_0kAjjrdiwQykI8eb3H4IRxLTqCnP&index=15)"
   ]
  },
  {
   "cell_type": "markdown",
   "metadata": {},
   "source": [
    "* `while` 반복문 형식\n",
    "\n",
    "    ```c\n",
    "    while (조건)\n",
    "    {\n",
    "    명령문\n",
    "    }\n",
    "    ```"
   ]
  },
  {
   "cell_type": "markdown",
   "metadata": {},
   "source": [
    "```c\n",
    " #include <stdio.h>\n",
    "\n",
    "int main(void) {\n",
    "\t// while 반복문\n",
    "\n",
    "\tint i = 1;\n",
    "\twhile (i <= 10)\n",
    "\t{\n",
    "\t\t// printf(\"Hello World %d\\n\", i);\n",
    "\t\t// i++;\n",
    "\t\tprintf(\"Hello World %d\\n\", i++);\n",
    "\t}\n",
    "\n",
    "    return 0;\n",
    "}\n",
    "```"
   ]
  },
  {
   "cell_type": "markdown",
   "metadata": {
    "slideshow": {
     "slide_type": "slide"
    }
   },
   "source": [
    "---\n",
    "\n",
    "### Python 구현"
   ]
  },
  {
   "cell_type": "markdown",
   "metadata": {},
   "source": [
    "* 파이썬의 `while` 반복문 형식은 C 언어의 경우와 거의 동일함."
   ]
  },
  {
   "cell_type": "code",
   "execution_count": 6,
   "metadata": {
    "slideshow": {
     "slide_type": "slide"
    }
   },
   "outputs": [],
   "source": [
    "i = 1\n",
    "\n",
    "while (i <= 10):\n",
    "    print(\"Hello World %d\" % i)\n",
    "    i += 1"
   ]
  },
  {
   "cell_type": "code",
   "execution_count": 7,
   "metadata": {
    "slideshow": {
     "slide_type": "slide"
    }
   },
   "outputs": [],
   "source": [
    "i = 1\n",
    "\n",
    "while (i <= 10):\n",
    "    print(\"Hello World %d\" % i)\n",
    "    i += 2"
   ]
  },
  {
   "cell_type": "markdown",
   "metadata": {},
   "source": [
    "* 파이썬의 `print()` 함수는 다양한 자료형의 인자 여러 개를 받을 수 있음.\n",
    "* 따라서 아래와 같이 포맷팅 문자열을 굳이 사용하지 않아도 됨."
   ]
  },
  {
   "cell_type": "code",
   "execution_count": 8,
   "metadata": {
    "slideshow": {
     "slide_type": "slide"
    }
   },
   "outputs": [],
   "source": [
    "i = 1\n",
    "\n",
    "while (i <= 10):\n",
    "    print(\"Hello World\", i)\n",
    "    i += 2"
   ]
  },
  {
   "cell_type": "markdown",
   "metadata": {},
   "source": [
    "---"
   ]
  },
  {
   "cell_type": "markdown",
   "metadata": {
    "slideshow": {
     "slide_type": "slide"
    }
   },
   "source": [
    "## (C 언어) `do while`"
   ]
  },
  {
   "cell_type": "markdown",
   "metadata": {
    "slideshow": {
     "slide_type": "fragment"
    }
   },
   "source": [
    "* 동영상: [(나도코딩 C) 3-5 do while](https://www.youtube.com/watch?v=4eDDQU9Mwic&list=PLMsa_0kAjjrdiwQykI8eb3H4IRxLTqCnP&index=16)"
   ]
  },
  {
   "cell_type": "markdown",
   "metadata": {},
   "source": [
    "* `do while` 반복문 형식\n",
    "\n",
    "    ```c\n",
    "    do \n",
    "    {\n",
    "    명령문\n",
    "    } while (조건);\n",
    "    ```"
   ]
  },
  {
   "cell_type": "markdown",
   "metadata": {},
   "source": [
    "```c\n",
    "#include <stdio.h>\n",
    "\n",
    "int main(void) {\n",
    "\t// do while 반복문\n",
    "\n",
    "\tint i = 1;\n",
    "\tdo\n",
    "\t{\n",
    "\t\tprintf(\"Hello World %d\\n\", i++);\n",
    "\t} while (i <= 10);\n",
    "\n",
    "    return 0;\n",
    "}```"
   ]
  },
  {
   "cell_type": "markdown",
   "metadata": {},
   "source": [
    "#### 주의사항\n",
    "\n",
    "* `do while` 반복문의 사용 가능하면 사용하지 말 것.\n",
    "* `while` 반복문을 이용하여 동일한 기능 구현 가능.\n",
    "* 파이썬 등 일부 언어에서 지원되지 않음."
   ]
  },
  {
   "cell_type": "markdown",
   "metadata": {
    "slideshow": {
     "slide_type": "slide"
    }
   },
   "source": [
    "---\n",
    "\n",
    "### Python 구현"
   ]
  },
  {
   "cell_type": "markdown",
   "metadata": {},
   "source": [
    "* 파이썬은 `do ... while ...` 반복문을 지원하지 않음. 하지만 아래 형식 사용 가능\n",
    "    \n",
    "    ```python\n",
    "    while True\n",
    "        명령문\n",
    "        if not 조건식:\n",
    "            break\n",
    "    ```\n",
    "    \n",
    "* 위 파이썬 코드는 아래 C 코드와 동일한 기능 수행\n",
    "    \n",
    "    ```c\n",
    "    do\n",
    "    {\n",
    "        명령문\n",
    "    } while 조건식;\n",
    "    ```"
   ]
  },
  {
   "cell_type": "markdown",
   "metadata": {},
   "source": [
    "---"
   ]
  },
  {
   "cell_type": "markdown",
   "metadata": {
    "slideshow": {
     "slide_type": "slide"
    }
   },
   "source": [
    "## (C 언어) 이중 반복문(구구단)"
   ]
  },
  {
   "cell_type": "markdown",
   "metadata": {
    "slideshow": {
     "slide_type": "fragment"
    }
   },
   "source": [
    "* 동영상: [(나도코딩 C) 3-6 이중 반복문(구구단)](https://www.youtube.com/watch?v=P448GE1UGbQ&list=PLMsa_0kAjjrdiwQykI8eb3H4IRxLTqCnP&index=17)"
   ]
  },
  {
   "cell_type": "markdown",
   "metadata": {},
   "source": [
    "* `for` 반복문 중첩해서 사용하기"
   ]
  },
  {
   "cell_type": "markdown",
   "metadata": {},
   "source": [
    "```c\n",
    "#include <stdio.h>\n",
    "\n",
    "int main(void) {\n",
    "\t// 2중 반복문\n",
    "\n",
    "\tfor (int i = 1; i <= 3; i++)\n",
    "\t{\n",
    "\t\tprintf(\"첫재 반복문: %d\\n\", i);\n",
    "\n",
    "\t\t\tfor (int j = 1; j <= 5; j++)\n",
    "\t\t\t\t{\n",
    "\t\t\t\t\tprintf(\"    둘째 반복문: %d\\n\", j);\n",
    "\t\t\t\t}\n",
    "\t}\n",
    "\n",
    "    return 0;\n",
    "}\n",
    "```"
   ]
  },
  {
   "cell_type": "markdown",
   "metadata": {},
   "source": [
    "* 구구단 구현하기"
   ]
  },
  {
   "cell_type": "markdown",
   "metadata": {},
   "source": [
    "```c\n",
    "#include <stdio.h>\n",
    "\n",
    "int main(void) {\n",
    "\t// 구구단\n",
    "\n",
    "\tfor (int i = 2; i <= 9; i++)\n",
    "\t{\n",
    "        printf(\"%d단:\\n\", i);\n",
    "\t\t\n",
    "\t\tfor (int j = 1; j <= 9; j++)\n",
    "\t\t{\n",
    "\t\t\tprintf(\"    %d x %d = %d\\n\", i, j, i*j);\n",
    "\t\t}\n",
    "\t}\n",
    "    \n",
    "    return 0;\n",
    "\n",
    "} \n",
    "```"
   ]
  },
  {
   "cell_type": "markdown",
   "metadata": {
    "slideshow": {
     "slide_type": "slide"
    }
   },
   "source": [
    "---\n",
    "\n",
    "### Python 구현"
   ]
  },
  {
   "cell_type": "markdown",
   "metadata": {
    "slideshow": {
     "slide_type": "slide"
    }
   },
   "source": [
    "* 이중 반복문 구조는 사용하는 프로그래밍언와 상관 없이 모두 동일한 형식을 가짐.\n",
    "* 파이썬 `for` 반복문으로 구구단 구현하기 예제는 다음과 같음.\n",
    "* 아래 코드에서 사용되는 `f\"...\"`은 문자열을 지정된 서식에 맞추어 출력되도록 도와주는 기법임\n",
    "    * 문자열 서식지원 기법 중에서 가장 사용하기 편리한 기능임.\n",
    "    * f-문자열 포매팅이라 불림.\n",
    "    * 사용법 참조:[점프투파이썬: f-문자열 포매팅](https://wikidocs.net/13#f) "
   ]
  },
  {
   "cell_type": "code",
   "execution_count": 9,
   "metadata": {},
   "outputs": [],
   "source": [
    "for i in range(2, 10):\n",
    "    print(f\"{i}단\")\n",
    "    for j in range(1, 10):\n",
    "        print(f\"     {i}x{j}={i*j}\")"
   ]
  },
  {
   "cell_type": "markdown",
   "metadata": {},
   "source": [
    "---"
   ]
  },
  {
   "cell_type": "markdown",
   "metadata": {
    "slideshow": {
     "slide_type": "slide"
    }
   },
   "source": [
    "## (C 언어) 이중 반복문 파헤치기"
   ]
  },
  {
   "cell_type": "markdown",
   "metadata": {
    "slideshow": {
     "slide_type": "fragment"
    }
   },
   "source": [
    "* 동영상: [(나도코딩 C) 3-7 이중 반복문 파헤치기](https://www.youtube.com/watch?v=4gV1MjGIL3E&list=PLMsa_0kAjjrdiwQykI8eb3H4IRxLTqCnP&index=18)"
   ]
  },
  {
   "cell_type": "markdown",
   "metadata": {},
   "source": [
    "* 아래 모양의 별 피라미드 출력하기"
   ]
  },
  {
   "cell_type": "markdown",
   "metadata": {},
   "source": [
    "```\n",
    "*\n",
    "**\n",
    "***\n",
    "****\n",
    "*****\n",
    "```"
   ]
  },
  {
   "cell_type": "markdown",
   "metadata": {},
   "source": [
    "```c\n",
    "#include <stdio.h>\n",
    "\n",
    "int main(void) {\n",
    "    // 별 피라미드 출력하기\n",
    "    \n",
    "\tfor (int i = 0; i<5; i++)\n",
    "\t{\n",
    "\t\tfor (int j = 0; j <= i; j++)\n",
    "\t\t{\n",
    "\t\t\tprintf(\"*\");\n",
    "\t\t}\n",
    "\t\tprintf(\"\\n\");\n",
    "\t}\n",
    "\n",
    "    return 0;\n",
    "\n",
    "} \n",
    "```"
   ]
  },
  {
   "cell_type": "markdown",
   "metadata": {},
   "source": [
    "#### PythonTutor 활용하기\n",
    "\n",
    "* [(C 언어) 별 피라미드 그리기](http://www.pythontutor.com/visualize.html#code=%23include%20%3Cstdio.h%3E%0A%0Aint%20main%28void%29%20%7B%0A%20%20%20%20//%20%EB%B3%84%20%ED%94%BC%EB%9D%BC%EB%AF%B8%EB%93%9C%20%EC%B6%9C%EB%A0%A5%ED%95%98%EA%B8%B0%0A%20%20%20%20%0A%20%20%20%20for%20%28int%20i%20%3D%200%3B%20i%3C5%3B%20i%2B%2B%29%0A%20%20%20%20%7B%0A%20%20%20%20%20%20%20%20for%20%28int%20j%20%3D%200%3B%20j%20%3C%3D%20i%3B%20j%2B%2B%29%0A%20%20%20%20%20%20%20%20%7B%0A%20%20%20%20%20%20%20%20%20%20%20%20printf%28%22*%22%29%3B%0A%20%20%20%20%20%20%20%20%7D%0A%20%20%20%20%20%20%20%20printf%28%22%5Cn%22%29%3B%0A%20%20%20%20%7D%0A%7D&cumulative=false&curInstr=0&heapPrimitives=nevernest&mode=display&origin=opt-frontend.js&py=c&rawInputLstJSON=%5B%5D&textReferences=false)"
   ]
  },
  {
   "cell_type": "markdown",
   "metadata": {
    "slideshow": {
     "slide_type": "slide"
    }
   },
   "source": [
    "---\n",
    "\n",
    "### Python 구현"
   ]
  },
  {
   "cell_type": "markdown",
   "metadata": {},
   "source": [
    "* 별 피라미드 구하기\n",
    "* C 언어 프로그램과 동일한 구조를 가짐.\n",
    "* 주의사항: 파이썬의 `print()` 함수는 줄바꿈(`\\n`)을 기본으로 실행함.\n",
    "    하지만 `end=''`와 같이 옵션인자의 속성을 변경하면 줄바꿈을 해제할 수 있음."
   ]
  },
  {
   "cell_type": "code",
   "execution_count": 10,
   "metadata": {
    "slideshow": {
     "slide_type": "slide"
    }
   },
   "outputs": [
    {
     "name": "stdout",
     "output_type": "stream",
     "text": [
      "*\n",
      "**\n",
      "***\n",
      "****\n",
      "*****\n"
     ]
    }
   ],
   "source": [
    "for i in range(0, 5):\n",
    "    for j in range(0, i+1):\n",
    "        print(\"*\", end='')     # 동일한 i 값에 대해서는 줄바꿈 해제\n",
    "    print('')                  # i 값이 바뀔때는 줄바꿈을 해주어야 함."
   ]
  },
  {
   "cell_type": "markdown",
   "metadata": {},
   "source": [
    "---"
   ]
  },
  {
   "cell_type": "markdown",
   "metadata": {
    "slideshow": {
     "slide_type": "slide"
    }
   },
   "source": [
    "## (C 언어) 이중 반복문 거꾸로 별"
   ]
  },
  {
   "cell_type": "markdown",
   "metadata": {
    "slideshow": {
     "slide_type": "fragment"
    }
   },
   "source": [
    "* 동영상: [(나도코딩 C) 3-8 이중 반복문 거꾸로 별](https://www.youtube.com/watch?v=jjIgIPMwgLA&list=PLMsa_0kAjjrdiwQykI8eb3H4IRxLTqCnP&index=19)"
   ]
  },
  {
   "cell_type": "markdown",
   "metadata": {},
   "source": [
    "* 아래 모양의 별 피라미드 출력하기"
   ]
  },
  {
   "cell_type": "markdown",
   "metadata": {},
   "source": [
    "```\n",
    "    *\n",
    "   **\n",
    "  ***\n",
    " ****\n",
    "*****\n",
    "```"
   ]
  },
  {
   "cell_type": "markdown",
   "metadata": {},
   "source": [
    "```c\n",
    "#include <stdio.h>\n",
    "\n",
    "int main(void) {\n",
    "    for (int i = 0; i<5; i++)\n",
    "\t{\n",
    "\t\tfor (int j = i; j < 5-1; j++)\n",
    "        {\n",
    "            // 스페이스 추가\n",
    "\t\t\tprintf(\" \");\n",
    "\t\t}\n",
    "\n",
    "\t\tfor (int k = 0; k <= i; k++)\n",
    "\t\t{\n",
    "\t\t\tprintf(\"*\");\n",
    "\t\t}\n",
    "\t\tprintf(\"\\n\");\n",
    "\t}\n",
    "\n",
    "    return 0;\n",
    "\n",
    "} \n",
    "```"
   ]
  },
  {
   "cell_type": "markdown",
   "metadata": {},
   "source": [
    "#### PythonTutor 활용하기\n",
    "\n",
    "* [(C 언어) 거꾸로 별 그리기](http://pythontutor.com/visualize.html#code=%23include%20%3Cstdio.h%3E%0A%0Aint%20main%28void%29%20%7B%0A%20%20%20%20/*%20%EC%95%84%EB%9E%98%20%EB%AA%A8%EC%96%91%EC%9D%98%20%EB%B3%84%20%EA%B7%B8%EB%A6%AC%EA%B8%B0%0A%20%20%20%20%20%20%20%20*%0A%20%20%20%20%20%20%20**%0A%20%20%20%20%20%20***%0A%20%20%20%20%20****%0A%20%20%20%20*****%0A%20%20%20%20*/%0A%20%20%20%20%0A%20%20%20%20for%20%28int%20i%20%3D%200%3B%20i%3C5%3B%20i%2B%2B%29%0A%20%20%20%20%7B%0A%20%20%20%20%20%20%20%20for%20%28int%20j%20%3D%20i%3B%20j%20%3C%205-1%3B%20j%2B%2B%29%0A%20%20%20%20%20%20%20%20%7B%0A%20%20%20%20%20%20%20%20%20%20%20%20//%20%EC%8A%A4%ED%8E%98%EC%9D%B4%EC%8A%A4%20%EC%B6%94%EA%B0%80%0A%20%20%20%20%20%20%20%20%20%20%20%20printf%28%22%20%22%29%3B%0A%20%20%20%20%20%20%20%20%7D%0A%0A%20%20%20%20%20%20%20%20for%20%28int%20k%20%3D%200%3B%20k%20%3C%3D%20i%3B%20k%2B%2B%29%0A%20%20%20%20%20%20%20%20%7B%0A%20%20%20%20%20%20%20%20%20%20%20%20printf%28%22*%22%29%3B%0A%20%20%20%20%20%20%20%20%7D%0A%20%20%20%20%20%20%20%20printf%28%22%5Cn%22%29%3B%0A%20%20%20%20%7D%0A%0A%20%20%20%20return%200%3B%0A%0A%7D&cumulative=false&curInstr=0&heapPrimitives=nevernest&mode=display&origin=opt-frontend.js&py=c&rawInputLstJSON=%5B%5D&textReferences=false)"
   ]
  },
  {
   "cell_type": "markdown",
   "metadata": {
    "slideshow": {
     "slide_type": "slide"
    }
   },
   "source": [
    "---\n",
    "\n",
    "### Python 구현"
   ]
  },
  {
   "cell_type": "markdown",
   "metadata": {},
   "source": [
    "* 거구로 별 피라미드 구하기\n",
    "* C 언어 프로그램과 동일한 구조로 구현 가능"
   ]
  },
  {
   "cell_type": "code",
   "execution_count": 11,
   "metadata": {},
   "outputs": [
    {
     "name": "stdout",
     "output_type": "stream",
     "text": [
      "    *\n",
      "   **\n",
      "  ***\n",
      " ****\n",
      "*****\n"
     ]
    }
   ],
   "source": [
    "for i in range(0, 5):\n",
    "    for j in range(i, 4):\n",
    "        # 스페이스 추가\n",
    "        print(\" \", end='')\n",
    "\n",
    "    for k in range(0, i+1):\n",
    "        print(\"*\", end='')\n",
    "\n",
    "    print(\"\")"
   ]
  },
  {
   "cell_type": "markdown",
   "metadata": {},
   "source": [
    "* 하지만 다음과 같이 문자열과 정수의 곱셈을 활용할 수도 있음.\n",
    "* for 반복문 사용하지 않고 구현 가능."
   ]
  },
  {
   "cell_type": "code",
   "execution_count": 12,
   "metadata": {},
   "outputs": [
    {
     "name": "stdout",
     "output_type": "stream",
     "text": [
      "****\n"
     ]
    }
   ],
   "source": [
    "print(\"*\"*4)"
   ]
  },
  {
   "cell_type": "code",
   "execution_count": 13,
   "metadata": {},
   "outputs": [
    {
     "name": "stdout",
     "output_type": "stream",
     "text": [
      "    *\n",
      "   **\n",
      "  ***\n",
      " ****\n",
      "*****\n"
     ]
    }
   ],
   "source": [
    "for i in range(0, 5):\n",
    "    # 스페이스 추가\n",
    "    print(\" \"* (4-i), end='')\n",
    "    # 별 찍기\n",
    "    print(\"*\" * (i+1), end='')\n",
    "    # 줄바꿈 \n",
    "    print(\"\")"
   ]
  },
  {
   "cell_type": "markdown",
   "metadata": {},
   "source": [
    "---"
   ]
  },
  {
   "cell_type": "markdown",
   "metadata": {
    "slideshow": {
     "slide_type": "slide"
    }
   },
   "source": [
    "## (C 언어) 프로젝트: 피라미드를 쌓아라"
   ]
  },
  {
   "cell_type": "markdown",
   "metadata": {
    "slideshow": {
     "slide_type": "fragment"
    }
   },
   "source": [
    "* 동영상: [(나도코딩 C) 3-9 프로젝트: 피라미드를 쌓아라](https://www.youtube.com/watch?v=H8-sbBu0blU&list=PLMsa_0kAjjrdiwQykI8eb3H4IRxLTqCnP&index=20)"
   ]
  },
  {
   "cell_type": "markdown",
   "metadata": {},
   "source": [
    "* 아래 모양의 별 피라미드 출력하기"
   ]
  },
  {
   "cell_type": "markdown",
   "metadata": {},
   "source": [
    "```\n",
    "    \t*\n",
    "\t   ***\n",
    "\t  *****\n",
    "\t *******\n",
    "\t*********\n",
    "```"
   ]
  },
  {
   "cell_type": "markdown",
   "metadata": {},
   "source": [
    "```c\n",
    "#include <stdio.h>\n",
    "\n",
    "int main(void) {\n",
    "\n",
    "    int floor;\n",
    "\tprintf(\"몇 층으로 쌓겠느냐? \");\n",
    "\tscanf(\"%d\", &floor);\n",
    "\n",
    "\tfor (int i=0; i < floor; i++)\n",
    "\t{\n",
    "\t\tfor (int j = i; j < floor-1; j++)\n",
    "\t\t{\n",
    "            // 스페이스 추가\n",
    "\t\t\tprintf(\" \");\n",
    "\t\t}\n",
    "\n",
    "\t\tfor (int k = 0; k < i*2 + 1; k++)\n",
    "\t\t{\n",
    "            printf(\"*\");\n",
    "\t\t}\n",
    "\t\tprintf(\"\\n\");\n",
    "\t}\n",
    "\n",
    "    return 0;\n",
    "\n",
    "} \n",
    "```"
   ]
  },
  {
   "cell_type": "markdown",
   "metadata": {},
   "source": [
    "#### PythonTutor 활용하기\n",
    "\n",
    "* [(C 언어) 프로젝트: 피라미드를 쌓아라](http://pythontutor.com/visualize.html#code=%23include%20%3Cstdio.h%3E%0A%0Aint%20main%28void%29%20%7B%0A%20%20%20%20/*%20%ED%94%84%EB%A1%9C%EC%A0%9D%ED%8A%B8%3A%20%ED%94%BC%EB%9D%BC%EB%AF%B8%EB%93%9C%EB%A5%BC%20%EC%8C%93%EC%95%84%EB%9D%BC%0A%20%20%20%20%20%20%20%20*%0A%20%20%20%20%20%20%20***%0A%20%20%20%20%20%20*****%0A%20%20%20%20%20*******%0A%20%20%20%20*********%0A%20%20%20%20*/%0A%20%20%20%20%0A%20%20%20%20int%20floor%3B%0A%20%20%20%20printf%28%22%EB%AA%87%20%EC%B8%B5%EC%9C%BC%EB%A1%9C%20%EC%8C%93%EA%B2%A0%EB%8A%90%EB%83%90%3F%5Cn%22%29%3B%0A%20%20%20%20//%20PythonTutor%EC%97%90%EC%84%9C%20scanf%20%EC%A7%80%EC%9B%90%ED%95%98%EC%A7%80%20%EC%95%8A%EC%9D%8C%0A%20%20%20%20//%20%EB%94%B0%EB%9D%BC%EC%84%9C%205%EC%B8%B5%EC%9C%BC%EB%A1%9C%20%EC%A7%80%EC%A0%95%0A%20%20%20%20//%20scanf%28%22%25d%22,%20%26floor%29%3B%0A%20%20%20%20floor%20%3D%205%3B%0A%0A%20%20%20%20for%20%28int%20i%3D0%3B%20i%20%3C%20floor%3B%20i%2B%2B%29%0A%20%20%20%20%7B%0A%20%20%20%20%20%20%20%20for%20%28int%20j%20%3D%20i%3B%20j%20%3C%20floor-1%3B%20j%2B%2B%29%0A%20%20%20%20%20%20%20%20%7B%0A%20%20%20%20%20%20%20%20%20%20%20%20//%20%EC%8A%A4%ED%8E%98%EC%9D%B4%EC%8A%A4%20%EC%B6%94%EA%B0%80%0A%20%20%20%20%20%20%20%20%20%20%20%20printf%28%22%20%22%29%3B%0A%20%20%20%20%20%20%20%20%7D%0A%0A%20%20%20%20%20%20%20%20for%20%28int%20k%20%3D%200%3B%20k%20%3C%20i*2%20%2B%201%3B%20k%2B%2B%29%0A%20%20%20%20%20%20%20%20%7B%0A%20%20%20%20%20%20%20%20%20%20%20%20printf%28%22*%22%29%3B%0A%20%20%20%20%20%20%20%20%7D%0A%20%20%20%20%20%20%20%20printf%28%22%5Cn%22%29%3B%0A%20%20%20%20%7D%0A%0A%20%20%20%20return%200%3B%0A%0A%7D&cumulative=false&curInstr=0&heapPrimitives=nevernest&mode=display&origin=opt-frontend.js&py=c&rawInputLstJSON=%5B%5D&textReferences=false)"
   ]
  },
  {
   "cell_type": "markdown",
   "metadata": {
    "slideshow": {
     "slide_type": "slide"
    }
   },
   "source": [
    "---\n",
    "\n",
    "### Python 구현"
   ]
  },
  {
   "cell_type": "code",
   "execution_count": 14,
   "metadata": {},
   "outputs": [
    {
     "name": "stdout",
     "output_type": "stream",
     "text": [
      "몇 층으로 쌓겠느냐? 5\n",
      "    *\n",
      "   ***\n",
      "  *****\n",
      " *******\n",
      "*********\n"
     ]
    }
   ],
   "source": [
    "floor = int(input(\"몇 층으로 쌓겠느냐? \"))\n",
    "\n",
    "for i in range(0, floor):\n",
    "    for j in range(i, floor-1):\n",
    "        # 스페이스 추가\n",
    "        print(\" \", end='')\n",
    "\n",
    "    for k in range(0, i*2+1):\n",
    "        print(\"*\",end='')\n",
    "\n",
    "    print(\"\")"
   ]
  },
  {
   "cell_type": "markdown",
   "metadata": {},
   "source": [
    "* 이전에 설명한 것처럼 문자열과 정수의 곱셈을 이용하면 for 반복문 사용하지 않고 구현 가능. "
   ]
  },
  {
   "cell_type": "code",
   "execution_count": 15,
   "metadata": {},
   "outputs": [
    {
     "name": "stdout",
     "output_type": "stream",
     "text": [
      "몇 층으로 쌓겠느냐? 5\n",
      "     *\n",
      "    ***\n",
      "   *****\n",
      "  *******\n",
      " *********\n"
     ]
    }
   ],
   "source": [
    "floor = int(input(\"몇 층으로 쌓겠느냐? \"))\n",
    "\n",
    "for i in range(0, floor):\n",
    "    # 스페이스 추가\n",
    "    print(\" \"* (floor-i), end='')\n",
    "    # 별 찍기\n",
    "    print(\"*\" * (i*2+1), end='')\n",
    "    # 줄바꿈 \n",
    "    print(\"\")"
   ]
  },
  {
   "cell_type": "markdown",
   "metadata": {},
   "source": [
    "---"
   ]
  }
 ],
 "metadata": {
  "kernelspec": {
   "display_name": "Python 3",
   "language": "python",
   "name": "python3"
  },
  "language_info": {
   "codemirror_mode": {
    "name": "ipython",
    "version": 3
   },
   "file_extension": ".py",
   "mimetype": "text/x-python",
   "name": "python",
   "nbconvert_exporter": "python",
   "pygments_lexer": "ipython3",
   "version": "3.8.3"
  }
 },
 "nbformat": 4,
 "nbformat_minor": 4
}
