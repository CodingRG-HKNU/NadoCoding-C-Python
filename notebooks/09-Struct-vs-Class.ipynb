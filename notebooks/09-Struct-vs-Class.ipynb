{
 "cells": [
  {
   "cell_type": "markdown",
   "metadata": {
    "slideshow": {
     "slide_type": "slide"
    }
   },
   "source": [
    "# 9장 구조체 vs. 클래스"
   ]
  },
  {
   "cell_type": "markdown",
   "metadata": {},
   "source": [
    "#### 감사의 글 \n",
    "\n",
    "유튜브 동영상 모음집 \n",
    "[(나도코딩 C)](https://www.youtube.com/watch?v=dEykoFZkf5Y&list=PLMsa_0kAjjrdiwQykI8eb3H4IRxLTqCnP)에서 \n",
    "설명하는 코드를 활용합니다. \n",
    "강의동영상을 공개한 \n",
    "[나도코딩](https://www.youtube.com/channel/UC7iAOLiALt2rtMVAWWl4pnw)님께 \n",
    "감사드립니다."
   ]
  },
  {
   "cell_type": "markdown",
   "metadata": {},
   "source": [
    "## 핵심"
   ]
  },
  {
   "cell_type": "markdown",
   "metadata": {},
   "source": [
    "* C 언어의 구조체 이해\n",
    "* C 언어의 구조체와 파이썬의 클래스 비교"
   ]
  },
  {
   "cell_type": "markdown",
   "metadata": {
    "slideshow": {
     "slide_type": "slide"
    }
   },
   "source": [
    "## (C 언어) 본격 고양이 수집게임"
   ]
  },
  {
   "cell_type": "markdown",
   "metadata": {
    "slideshow": {
     "slide_type": "fragment"
    }
   },
   "source": [
    "* 동영상: [(나도코딩 C) 9-1 너, 내 집사가 되어라](https://www.youtube.com/watch?v=ZAqVsA32E_I&list=PLMsa_0kAjjrdiwQykI8eb3H4IRxLTqCnP&index=62)"
   ]
  },
  {
   "cell_type": "markdown",
   "metadata": {},
   "source": [
    "### 게임 설명"
   ]
  },
  {
   "cell_type": "markdown",
   "metadata": {},
   "source": [
    "* 고양이의 특성을 보여주는 앱 개발 프로젝트\n",
    "    * 이름, 나이, 특징, 레벨"
   ]
  },
  {
   "cell_type": "markdown",
   "metadata": {
    "slideshow": {
     "slide_type": "slide"
    }
   },
   "source": [
    "## (C 언어) 구조체 기본"
   ]
  },
  {
   "cell_type": "markdown",
   "metadata": {
    "slideshow": {
     "slide_type": "fragment"
    }
   },
   "source": [
    "* 동영상: [(나도코딩 C) 9-2 구조체 기본](https://www.youtube.com/watch?v=ecDDJ28U4BQ&list=PLMsa_0kAjjrdiwQykI8eb3H4IRxLTqCnP&index=63)\n",
    "\n",
    "* 아래 코드는 출시된 게임 두 개와 관련된 정보를 저장하는 좋지 않은 방법을 보여줌."
   ]
  },
  {
   "cell_type": "markdown",
   "metadata": {},
   "source": [
    "---\n",
    "```c\n",
    "#include <stdio.h>\n",
    "\n",
    "int main()\n",
    "{\n",
    "\t// [게임 출시 1]\n",
    "\t// 이름: 나도게임\n",
    "\t// 발매년도: 2017년\n",
    "\t// 가격: 50원\n",
    "\t// 제작사: 나도회사\t\n",
    "\n",
    "\tchar * name = \"나도게임\";\n",
    "\tint year = 2017;\n",
    "\tint price = 50;\n",
    "\tchar * company = \"나도회사\";\n",
    "\n",
    "\t// [게임 출시 2]\n",
    "\t// 이름: 너도게임\n",
    "\t// 발매년도: 2020년\n",
    "\t// 가격: 100원\n",
    "\t// 제작사: 너도회사\t\n",
    "\n",
    "\tchar * name2 = \"너도게임\";\n",
    "\tint year2 = 2017;\n",
    "\tint price2 = 100;\n",
    "\tchar * company2 = \"너도회사\";\n",
    "\n",
    "   return 0;\n",
    "}\n",
    "```\n",
    "---"
   ]
  },
  {
   "cell_type": "markdown",
   "metadata": {
    "slideshow": {
     "slide_type": "slide"
    }
   },
   "source": [
    "## (C 언어) 구조체 사용"
   ]
  },
  {
   "cell_type": "markdown",
   "metadata": {
    "slideshow": {
     "slide_type": "fragment"
    }
   },
   "source": [
    "* 동영상: [(나도코딩 C) 9-3 구조체 사용](https://www.youtube.com/watch?v=NG1mbDJMRVs&list=PLMsa_0kAjjrdiwQykI8eb3H4IRxLTqCnP&index=64)\n",
    "\n",
    "* 게임출시가 계속해서 이어지면?\n",
    "    비슷한 변수를 계속해서 반복적으로 복사해야 함.\n",
    "    하나의 게임과 관련된 자료를 함께 관리하기도 어려움.\n",
    "    이를 위해 구조체 활용 가능"
   ]
  },
  {
   "cell_type": "markdown",
   "metadata": {},
   "source": [
    "---\n",
    "```c\n",
    "#include <stdio.h>\n",
    "\n",
    "// 게임 출시: 이름, 발매년도, 가격, 제작사\n",
    "struct GameInfo {\n",
    "\tchar * name;\n",
    "\tint year;\n",
    "\tint price;\n",
    "\tchar * company;\n",
    "};\n",
    "\n",
    "int main()\n",
    "{\n",
    "\t// 게임 출시 1\n",
    "\tstruct GameInfo gameinfo1;\n",
    "\n",
    "\tgameinfo1.name = \"나도게임\";\n",
    "\tgameinfo1.year = 2017;\n",
    "\tgameinfo1.price = 50;\n",
    "\tgameinfo1.company = \"나도회사\";\n",
    "\n",
    "\t// 구조체 항목 출력\n",
    "\tprintf(\"-- 게임출시 1 정보 --\\n\");\n",
    "\tprintf(\"  게임명    : %s\\n\", gameinfo1.name);\n",
    "\tprintf(\"  발매년도  : %d\\n\", gameinfo1.year);\n",
    "\tprintf(\"  가격      : %d\\n\", gameinfo1.price);\n",
    "\tprintf(\"  제작사    : %s\\n\", gameinfo1.company);\n",
    "\n",
    "    return 0;\n",
    "}\n",
    "```\n",
    "---"
   ]
  },
  {
   "cell_type": "markdown",
   "metadata": {},
   "source": [
    "* PythonTutor 활용: \n",
    "[(C 언어) 구조체 선언](http://pythontutor.com/visualize.html#code=%23include%20%3Cstdio.h%3E%0A%0A//%20%EA%B2%8C%EC%9E%84%20%EC%B6%9C%EC%8B%9C%3A%20%EC%9D%B4%EB%A6%84,%20%EB%B0%9C%EB%A7%A4%EB%85%84%EB%8F%84,%20%EA%B0%80%EA%B2%A9,%20%EC%A0%9C%EC%9E%91%EC%82%AC%0Astruct%20GameInfo%20%7B%0A%20%20%20%20char%20*%20name%3B%0A%20%20%20%20int%20year%3B%0A%20%20%20%20int%20price%3B%0A%20%20%20%20char%20*%20company%3B%0A%7D%3B%0A%0Aint%20main%28%29%0A%7B%0A%20%20%20%20//%20%EA%B2%8C%EC%9E%84%20%EC%B6%9C%EC%8B%9C%201%0A%20%20%20%20struct%20GameInfo%20gameinfo1%3B%0A%0A%20%20%20%20gameinfo1.name%20%3D%20%22%EB%82%98%EB%8F%84%EA%B2%8C%EC%9E%84%22%3B%0A%20%20%20%20gameinfo1.year%20%3D%202017%3B%0A%20%20%20%20gameinfo1.price%20%3D%2050%3B%0A%20%20%20%20gameinfo1.company%20%3D%20%22%EB%82%98%EB%8F%84%ED%9A%8C%EC%82%AC%22%3B%0A%0A%20%20%20%20//%20%EA%B5%AC%EC%A1%B0%EC%B2%B4%20%ED%95%AD%EB%AA%A9%20%EC%B6%9C%EB%A0%A5%0A%20%20%20%20printf%28%22--%20%EA%B2%8C%EC%9E%84%EC%B6%9C%EC%8B%9C%201%20%EC%A0%95%EB%B3%B4%20--%5Cn%22%29%3B%0A%20%20%20%20printf%28%22%20%20%EA%B2%8C%EC%9E%84%EB%AA%85%20%20%20%20%3A%20%25s%5Cn%22,%20gameinfo1.name%29%3B%0A%20%20%20%20printf%28%22%20%20%EB%B0%9C%EB%A7%A4%EB%85%84%EB%8F%84%20%20%3A%20%25d%5Cn%22,%20gameinfo1.year%29%3B%0A%20%20%20%20printf%28%22%20%20%EA%B0%80%EA%B2%A9%20%20%20%20%20%20%3A%20%25d%5Cn%22,%20gameinfo1.price%29%3B%0A%20%20%20%20printf%28%22%20%20%EC%A0%9C%EC%9E%91%EC%82%AC%20%20%20%20%3A%20%25s%5Cn%22,%20gameinfo1.company%29%3B%0A%0A%20%20%20%20return%200%3B%0A%7D&cumulative=false&curInstr=0&heapPrimitives=nevernest&mode=display&origin=opt-frontend.js&py=c&rawInputLstJSON=%5B%5D&textReferences=false)\n",
    "\n",
    "* 구조체를 배열처럼 초기화할 수 있음."
   ]
  },
  {
   "cell_type": "markdown",
   "metadata": {},
   "source": [
    "---\n",
    "```c\n",
    "#include <stdio.h>\n",
    "\n",
    "// 게임 출시: 이름, 발매년도, 가격, 제작사\n",
    "struct GameInfo {\n",
    "\tchar * name;\n",
    "\tint year;\n",
    "\tint price;\n",
    "\tchar * company;\n",
    "};\n",
    "\n",
    "int main()\n",
    "{\n",
    "\t// 게임 출시 1\n",
    "\tstruct GameInfo gameinfo1 = {\"나도게임\", 2017, 50, \"나도회사\"};\n",
    "\n",
    "    // 게임 출시 2\n",
    "\tstruct GameInfo gameinfo2 = {\"너도게임\", 2020, 100, \"너도회사\"};\n",
    "\n",
    "\t// 구조체 항목 출력\n",
    "\tprintf(\"-- 게임출시 1 정보 --\\n\");\n",
    "\tprintf(\"  게임명    : %s\\n\", gameinfo1.name);\n",
    "\tprintf(\"  발매년도  : %d\\n\", gameinfo1.year);\n",
    "\tprintf(\"  가격      : %d\\n\", gameinfo1.price);\n",
    "\tprintf(\"  제작사    : %s\\n\", gameinfo1.company);\n",
    "\n",
    "\tprintf(\"\\n\\n-- 게임출시 2 정보 --\\n\");\n",
    "\tprintf(\"  게임명    : %s\\n\", gameinfo2.name);\n",
    "\tprintf(\"  발매년도  : %d\\n\", gameinfo2.year);\n",
    "\tprintf(\"  가격      : %d\\n\", gameinfo2.price);\n",
    "\tprintf(\"  제작사    : %s\\n\", gameinfo2.company);\n",
    "\n",
    "    return 0;\n",
    "}\n",
    "```"
   ]
  },
  {
   "cell_type": "markdown",
   "metadata": {},
   "source": [
    "---\n",
    "\n",
    "### Python 구현"
   ]
  },
  {
   "cell_type": "markdown",
   "metadata": {},
   "source": [
    "* 파이썬은 구조체를 지원하지 않음.\n",
    "* 하지만 구조체를 클래스로 다룰 수 있음."
   ]
  },
  {
   "cell_type": "code",
   "execution_count": 2,
   "metadata": {},
   "outputs": [
    {
     "name": "stdout",
     "output_type": "stream",
     "text": [
      "-- 게임출시 1 정보 --\n",
      "  게임명   : 나도게임\n",
      "  발매년도  : 2017\n",
      "  가격      : 50\n",
      "  제작사    : 나도회사\n",
      "\n",
      "-- 게임출시 2 정보 --\n",
      "  게임명    : 너도게임\n",
      "  발매년도  : 2020\n",
      "  가격      : 100\n",
      "  제작사    : 너도회사\n"
     ]
    }
   ],
   "source": [
    "# 클래스 선언\n",
    "\n",
    "# 게임 출시: 이름, 발매년도, 가격, 제작사\n",
    "class GameInfo:\n",
    "    def __init__(self, name:str, year:int, price:int, company:str):\n",
    "        self.name = name\n",
    "        self.year = year\n",
    "        self.price = price\n",
    "        self.company = company\n",
    "    \n",
    "\n",
    "# 클래스의 인스턴스 생성    \n",
    "\n",
    "# 게임 출시 1\n",
    "gameinfo1 = GameInfo(\"나도게임\", 2017, 50, \"나도회사\")\n",
    "\n",
    "# 게임 출시 2\n",
    "gameinfo2 = GameInfo(\"너도게임\", 2020, 100, \"너도회사\")\n",
    "\n",
    "# 구조체 항목 출력\n",
    "print(\"-- 게임출시 1 정보 --\")\n",
    "print(\"  게임명   : %s\" % gameinfo1.name)\n",
    "print(\"  발매년도  : %d\" % gameinfo1.year)\n",
    "print(\"  가격      : %d\" % gameinfo1.price)\n",
    "print(\"  제작사    : %s\"% gameinfo1.company)\n",
    "\n",
    "print(\"\\n-- 게임출시 2 정보 --\")\n",
    "print(\"  게임명    : %s\" % gameinfo2.name)\n",
    "print(\"  발매년도  : %d\" % gameinfo2.year)\n",
    "print(\"  가격      : %d\" % gameinfo2.price)\n",
    "print(\"  제작사    : %s\" % gameinfo2.company)\n"
   ]
  },
  {
   "cell_type": "markdown",
   "metadata": {},
   "source": [
    "---"
   ]
  },
  {
   "cell_type": "markdown",
   "metadata": {
    "slideshow": {
     "slide_type": "slide"
    }
   },
   "source": [
    "## (C 언어) 구조체 배열"
   ]
  },
  {
   "cell_type": "markdown",
   "metadata": {
    "slideshow": {
     "slide_type": "fragment"
    }
   },
   "source": [
    "* 동영상: [(나도코딩 C) 9-4 구조체 배열](https://www.youtube.com/watch?v=kbXED9LvMxw&list=PLMsa_0kAjjrdiwQykI8eb3H4IRxLTqCnP&index=65)\n",
    "\n",
    "* 구조체로 이루어진 배열 선언은 일반 배열 선언과 동일"
   ]
  },
  {
   "cell_type": "markdown",
   "metadata": {},
   "source": [
    "---\n",
    "```c\n",
    "#include <stdio.h>\n",
    "\n",
    "// 게임 출시: 이름, 발매년도, 가격, 제작사\n",
    "struct GameInfo {\n",
    "\tchar * name;\n",
    "\tint year;\n",
    "\tint price;\n",
    "\tchar * company;\n",
    "};\n",
    "\n",
    "int main()\n",
    "{\n",
    "\t// 구조체로 이루어진 배열\n",
    "\tstruct GameInfo gameArray[2] = {\n",
    "\t\t{\"나도게임\", 2017, 50, \"나도회사\"},\n",
    "\t\t{\"너도게임\", 2020, 100, \"너도회사\"}\n",
    "\t};\n",
    "\n",
    "    return 0;\n",
    "}\n",
    "```\n",
    "---"
   ]
  },
  {
   "cell_type": "markdown",
   "metadata": {},
   "source": [
    "* 또는"
   ]
  },
  {
   "cell_type": "markdown",
   "metadata": {},
   "source": [
    "---\n",
    "```c\n",
    "#include <stdio.h>\n",
    "\n",
    "// 게임 출시: 이름, 발매년도, 가격, 제작사\n",
    "struct GameInfo {\n",
    "\tchar * name;\n",
    "\tint year;\n",
    "\tint price;\n",
    "\tchar * company;\n",
    "};\n",
    "\n",
    "int main()\n",
    "{\n",
    "\tstruct GameInfo gameinfo1 = {\"나도게임\", 2017, 50, \"나도회사\"};\n",
    "\tstruct GameInfo gameinfo2 = {\"너도게임\", 2020, 100, \"너도회사\"};\n",
    "\n",
    "\t// 구조체로 이루어진 배열\n",
    "\tstruct GameInfo gameArray[2] = {\n",
    "\t\tgameinfo1,\n",
    "\t\tgameinfo2\n",
    "\t};\n",
    "\n",
    "    return 0;\n",
    "}\n",
    "```"
   ]
  },
  {
   "cell_type": "markdown",
   "metadata": {},
   "source": [
    "---\n",
    "\n",
    "### Python 구현"
   ]
  },
  {
   "cell_type": "markdown",
   "metadata": {},
   "source": [
    "* 리스트는 클래스를 항목으로 다룰 수 있음.\n",
    "* 실제로 파이썬의 리스트는 어떤 자료형도 항목으로 다룰 수 있음.\n",
    "* 이유: 파이썬의 모든 값은 일급 객체(first-class object)이기 때문임."
   ]
  },
  {
   "cell_type": "code",
   "execution_count": 3,
   "metadata": {},
   "outputs": [],
   "source": [
    "# 클래스 선언\n",
    "\n",
    "# 게임 출시: 이름, 발매년도, 가격, 제작사\n",
    "class GameInfo:\n",
    "    def __init__(self, name:str, year:int, price:int, company:str):\n",
    "        self.name = name\n",
    "        self.year = year\n",
    "        self.price = price\n",
    "        self.company = company\n",
    "    \n",
    "\n",
    "# 클래스의 인스턴스 생성    \n",
    "\n",
    "# 게임 출시 1\n",
    "gameinfo1 = GameInfo(\"나도게임\", 2017, 50, \"나도회사\")\n",
    "\n",
    "# 게임 출시 2\n",
    "gameinfo2 = GameInfo(\"너도게임\", 2020, 100, \"너도회사\")\n",
    "\n",
    "# 구조체 이루어진 리스트\n",
    "gameArray = [gameinfo1, gameinfo2]"
   ]
  },
  {
   "cell_type": "markdown",
   "metadata": {},
   "source": [
    "---"
   ]
  },
  {
   "cell_type": "markdown",
   "metadata": {
    "slideshow": {
     "slide_type": "slide"
    }
   },
   "source": [
    "## (C 언어) 구조체 포인터 변수"
   ]
  },
  {
   "cell_type": "markdown",
   "metadata": {
    "slideshow": {
     "slide_type": "fragment"
    }
   },
   "source": [
    "* 동영상: [(나도코딩 C) 9-5 구조체 포인터](https://www.youtube.com/watch?v=dfF43dnlr5A&list=PLMsa_0kAjjrdiwQykI8eb3H4IRxLTqCnP&index=66)\n",
    "\n",
    "* 구조체가 저장된 위치를 가리키는 포인터 변수를 선언과 사용법 일반 포인터 변수의 경우와 동일.\n",
    "    * 단. 괄호 사용에 주의할 것."
   ]
  },
  {
   "cell_type": "markdown",
   "metadata": {},
   "source": [
    "---\n",
    "```c\n",
    " #include <stdio.h>\n",
    "\n",
    "// 게임 출시: 이름, 발매년도, 가격, 제작사\n",
    "struct GameInfo {\n",
    "\tchar * name;\n",
    "\tint year;\n",
    "\tint price;\n",
    "\tchar * company;\n",
    "};\n",
    "\n",
    "int main()\n",
    "{\n",
    "\t// 게임출시 1\n",
    "\tstruct GameInfo gameinfo1 = {\"나도게임\", 2017, 50, \"나도회사\"};\n",
    "\t// 게임출시 2\n",
    "\tstruct GameInfo gameinfo2 = {\"너도게임\", 2020, 100, \"너도회사\"};\n",
    "\n",
    "\t// 구조체 포인터\n",
    "\n",
    "\t// 미션맨 구현\n",
    "\tstruct GameInfo * gamePtr; \n",
    "\tgamePtr = &gameinfo1;\n",
    "\n",
    "\t// 괄호사용에 주의\n",
    "\tprintf(\"\\n\\n-- 미션맨게임 출시정보 --\\n\");\n",
    "\tprintf(\"  게임명    : %s\\n\", (*gamePtr).name);\n",
    "\tprintf(\"  발매년도  : %d\\n\", (*gamePtr).year);\n",
    "\tprintf(\"  가격      : %d\\n\", (*gamePtr).price);\n",
    "\tprintf(\"  제작사    : %s\\n\", (*gamePtr).company);\n",
    "\n",
    "    return 0;\n",
    "}\n",
    "```\n",
    "---"
   ]
  },
  {
   "cell_type": "markdown",
   "metadata": {},
   "source": [
    "* 구조체 포인터 변수는 화살표 기호(`->`)와 함께 사용하는 것이 편함."
   ]
  },
  {
   "cell_type": "markdown",
   "metadata": {},
   "source": [
    "---\n",
    "```c\n",
    "#include <stdio.h>\n",
    "\n",
    "// 게임 출시: 이름, 발매년도, 가격, 제작사\n",
    "struct GameInfo {\n",
    "\tchar * name;\n",
    "\tint year;\n",
    "\tint price;\n",
    "\tchar * company;\n",
    "};\n",
    "\n",
    "int main()\n",
    "{\n",
    "\t// 게임출시 1\n",
    "\tstruct GameInfo gameinfo1 = {\"나도게임\", 2017, 50, \"나도회사\"};\n",
    "\t// 게임출시 2\n",
    "\tstruct GameInfo gameinfo2 = {\"너도게임\", 2020, 100, \"너도회사\"};\n",
    "\n",
    "\t// 구조체 포인터\n",
    "\n",
    "\t// 미션맨 구현\n",
    "\tstruct GameInfo * gamePtr; \n",
    "\tgamePtr = &gameinfo1;\n",
    "\n",
    "\t// 화살표 기호(->) 사용하는 게 편함\n",
    "    // 단, 별표 기호 사용하지 않음.\n",
    "\tprintf(\"\\n\\n-- 미션맨게임 출시정보 --\\n\");\n",
    "\tprintf(\"  게임명    : %s\\n\", gamePtr->name);\n",
    "\tprintf(\"  발매년도  : %d\\n\", gamePtr->year);\n",
    "\tprintf(\"  가격      : %d\\n\", gamePtr->price);\n",
    "\tprintf(\"  제작사    : %s\\n\", gamePtr->company);\n",
    "\n",
    "    return 0;\n",
    "}\n",
    "```"
   ]
  },
  {
   "cell_type": "markdown",
   "metadata": {},
   "source": [
    "---\n",
    "\n",
    "### Python 구현"
   ]
  },
  {
   "cell_type": "markdown",
   "metadata": {},
   "source": [
    "* 해당사항 없음"
   ]
  },
  {
   "cell_type": "markdown",
   "metadata": {},
   "source": [
    "---"
   ]
  },
  {
   "cell_type": "markdown",
   "metadata": {
    "slideshow": {
     "slide_type": "slide"
    }
   },
   "source": [
    "## (C 언어) 구조체 안의 구조체"
   ]
  },
  {
   "cell_type": "markdown",
   "metadata": {
    "slideshow": {
     "slide_type": "fragment"
    }
   },
   "source": [
    "* 동영상: [(나도코딩 C) 9-6 구조체 안의 구조체](https://www.youtube.com/watch?v=UN1L207jDOg&list=PLMsa_0kAjjrdiwQykI8eb3H4IRxLTqCnP&index=67)\n",
    "\n",
    "* 어레이 변수는 기본적으로 포인터 변수임을 \n",
    "    [7장 포인터](https://codingrg-hknu.github.io/NadoCoding-C-Python/notebooks/07-Pointers.html)에서 배웠음.\n",
    "    구조체를 가리키는 변수 역시 기본적으로 포인터 변수로 취급됨.\n",
    "    이 성질을 이용하여 구조체 안에 구조체를 가리키는 변수 사용 가능."
   ]
  },
  {
   "cell_type": "markdown",
   "metadata": {},
   "source": [
    "---\n",
    "```c\n",
    "#include <stdio.h>\n",
    "\n",
    "// 게임 출시: 이름, 발매년도, 가격, 제작사\n",
    "struct GameInfo {\n",
    "\tchar * name;\n",
    "\tint year;\n",
    "\tint price;\n",
    "\tchar * company;\n",
    "\tstruct GameInfo * friendGame;  // 연관업체 게임 정보\n",
    "};\n",
    "\n",
    "int main()\n",
    "{\n",
    "\t// 게임출시\n",
    "\tstruct GameInfo gameinfo1 = {\"나도게임\", 2017, 50, \"나도회사\"};\n",
    "\t// 연관업체 게임출시\n",
    "\tstruct GameInfo gameinfo2 = {\"너도게임\", 2020, 100, \"너도회사\"};\n",
    "\n",
    "\t// 구조체 안의 구조체 포인터\n",
    "\t// 연관업체 게임 소개 추가\n",
    "\tgameinfo1.friendGame = &gameinfo2;\n",
    "\n",
    "\tprintf(\"\\n\\n-- 연관업체의 게임 출시정보 --\\n\");\n",
    "\tprintf(\"  게임명    : %s\\n\", gameinfo1.friendGame->name);\n",
    "\tprintf(\"  발매년도  : %d\\n\", gameinfo1.friendGame->year);\n",
    "\tprintf(\"  가격      : %d\\n\", gameinfo1.friendGame->price);\n",
    "\tprintf(\"  제작사    : %s\\n\", gameinfo1.friendGame->company);\n",
    "\n",
    "    return 0;\n",
    "}\n",
    "```"
   ]
  },
  {
   "cell_type": "markdown",
   "metadata": {},
   "source": [
    "---\n",
    "\n",
    "### Python 구현"
   ]
  },
  {
   "cell_type": "markdown",
   "metadata": {},
   "source": [
    "* 파이썬 클래스의 속성으로 임의의 값이 사용될 수 있음.\n",
    "    따라서 임의의 클래스의 인스턴스 또한 속성의 값으로 지정될 수 있음."
   ]
  },
  {
   "cell_type": "code",
   "execution_count": 5,
   "metadata": {},
   "outputs": [
    {
     "name": "stdout",
     "output_type": "stream",
     "text": [
      "-- 연관업체의 게임 출시정보 --\n",
      "  게임명    : 너도게임\n",
      "  발매년도  : 2020\n",
      "  가격      : 100\n",
      "  제작사    : 너도회사\n"
     ]
    }
   ],
   "source": [
    "# 클래스 선언\n",
    "\n",
    "# 게임 출시: 이름, 발매년도, 가격, 제작사, 연관업체 게임 정보\n",
    "# 클래스의 재귀적 활용에 주의할 것 (자료형 명시 기능에 유의!)\n",
    "\n",
    "class GameInfo:\n",
    "    def __init__(self, name:str, year:int, price:int, company:str, friendGame:GameInfo=None):\n",
    "        self.name = name\n",
    "        self.year = year\n",
    "        self.price = price\n",
    "        self.company = company\n",
    "        self.friendGame = friendGame   # 연관업체 게임 정보\n",
    "    \n",
    "# 클래스의 인스턴스 생성    \n",
    "\n",
    "# 게임 출시 1\n",
    "gameinfo1 = GameInfo(\"나도게임\", 2017, 50, \"나도회사\")\n",
    "\n",
    "# 게임 출시 2\n",
    "gameinfo2 = GameInfo(\"너도게임\", 2020, 100, \"너도회사\")\n",
    "\n",
    "# 연관업체 게임 소개 추가\n",
    "gameinfo1.friendGame = gameinfo2\n",
    "\n",
    "print(\"-- 연관업체의 게임 출시정보 --\")\n",
    "print(\"  게임명    : %s\" % gameinfo1.friendGame.name)\n",
    "print(\"  발매년도  : %d\" % gameinfo1.friendGame.year)\n",
    "print(\"  가격      : %d\" % gameinfo1.friendGame.price)\n",
    "print(\"  제작사    : %s\" % gameinfo1.friendGame.company)"
   ]
  },
  {
   "cell_type": "markdown",
   "metadata": {},
   "source": [
    "---"
   ]
  },
  {
   "cell_type": "markdown",
   "metadata": {
    "slideshow": {
     "slide_type": "slide"
    }
   },
   "source": [
    "## (C 언어) typedef 활용"
   ]
  },
  {
   "cell_type": "markdown",
   "metadata": {
    "slideshow": {
     "slide_type": "fragment"
    }
   },
   "source": [
    "* 동영상: [(나도코딩 C) 9-7 typedef](https://www.youtube.com/watch?v=65Fz_9-bmSQ&list=PLMsa_0kAjjrdiwQykI8eb3H4IRxLTqCnP&index=68)\n",
    "\n",
    "* `typedef` 지정자: 이미 선언된 자료형의 별명짓기 용도로 사용됨\n",
    "\n",
    "    ```c\n",
    "    typedef int 정수;\n",
    "    typedef float 실수;\n",
    "\n",
    "    정수 i = 3;    // int i = 3;\n",
    "    실수 f = 3.23f // float f = 3.23f;\n",
    "    ```\n",
    "\n",
    "* 구조체를 선언하면서 동시에 `typedef` 활용 가능"
   ]
  },
  {
   "cell_type": "markdown",
   "metadata": {},
   "source": [
    "---\n",
    "```c\n",
    "#include <stdio.h>\n",
    "\n",
    "// 게임 출시: 이름, 발매년도, 가격, 제작사\n",
    "// 자료형 선언하면서 별명을 동시에 지정\n",
    "typedef struct GameInformation {\n",
    "\tchar * name;\n",
    "\tint year;\n",
    "\tint price;\n",
    "\tchar * company;\n",
    "\tstruct GameInformation * friendGame;\n",
    "} GAME_INFO;  // 별명\n",
    "\n",
    "int main()\n",
    "{\n",
    "\t// 구조체 별명 직접 활용\n",
    "\tGAME_INFO gameinfo1 = {\"나도게임\", 2017, 50, \"나도회사\"};\n",
    "\tGAME_INFO gameinfo2 = {\"너도게임\", 2020, 100, \"너도회사\"};\n",
    "\n",
    "\tgameinfo1.friendGame = &gameinfo2;\n",
    "\n",
    "\tprintf(\"\\n\\n-- 연관업체의 게임 출시정보 --\\n\");\n",
    "\tprintf(\"  게임명    : %s\\n\", gameinfo1.friendGame->name);\n",
    "\tprintf(\"  발매년도  : %d\\n\", gameinfo1.friendGame->year);\n",
    "\tprintf(\"  가격      : %d\\n\", gameinfo1.friendGame->price);\n",
    "\tprintf(\"  제작사    : %s\\n\", gameinfo1.friendGame->company);\n",
    "\t\n",
    "    return 0;\n",
    "}\n",
    "```\n",
    "---"
   ]
  },
  {
   "cell_type": "markdown",
   "metadata": {},
   "source": [
    "* 별명을 사용하지 않아도 됨."
   ]
  },
  {
   "cell_type": "markdown",
   "metadata": {},
   "source": [
    "---\n",
    "```c\n",
    "#include <stdio.h>\n",
    "\n",
    "// 게임 출시: 이름, 발매년도, 가격, 제작사\n",
    "typedef struct GameInformation {\n",
    "\tchar * name;\n",
    "\tint year;\n",
    "\tint price;\n",
    "\tchar * company;\n",
    "\tstruct GameInformation * friendGame;\n",
    "} GAME_INFO;  // 별명\n",
    "\n",
    "int main()\n",
    "{\n",
    "\t// 별명 사용하지 않아도 됨.\n",
    "\tstruct GameInformation gameinfo1 = {\"나도게임\", 2017, 50, \"나도회사\"};\n",
    "\tGAME_INFO gameinfo2 = {\"너도게임\", 2020, 100, \"너도회사\"};\n",
    "\n",
    "\tgameinfo1.friendGame = & gameinfo2;\n",
    "\n",
    "\tprintf(\"\\n\\n-- 연관업체의 게임 출시정보 --\\n\");\n",
    "\tprintf(\"  게임명    : %s\\n\", gameinfo1.friendGame->name);\n",
    "\tprintf(\"  발매년도  : %d\\n\", gameinfo1.friendGame->year);\n",
    "\tprintf(\"  가격      : %d\\n\", gameinfo1.friendGame->price);\n",
    "\tprintf(\"  제작사    : %s\\n\", gameinfo1.friendGame->company);\n",
    "\t\n",
    "    return 0;\n",
    "}\n",
    "```\n",
    "---"
   ]
  },
  {
   "cell_type": "markdown",
   "metadata": {},
   "source": [
    "* 주의사항: `typedef` 지정자를 사용할 때 구조체의 이름을 지정하지 않아도 되지만 재귀적인 구조체 정의는 불가능함. \n",
    "    즉, 아래 경우는 선언 불가능\n",
    "    \n",
    "    ```c\n",
    "    typedef struct {\n",
    "\tchar * name;\n",
    "\tint year;\n",
    "\tint price;\n",
    "\tchar * company;\n",
    "\tstruct GAME_INFO * friendGame;  // 연관업체 게임 정보\n",
    "    } GAME_INFO;    \n",
    "    ```"
   ]
  },
  {
   "cell_type": "markdown",
   "metadata": {},
   "source": [
    "* 하지만 아래 경우는 물론 가능."
   ]
  },
  {
   "cell_type": "markdown",
   "metadata": {},
   "source": [
    "---\n",
    "```c\n",
    "#include <stdio.h>\n",
    "\n",
    "struct GameInfo{\n",
    "\tchar * name;\n",
    "\tint year;\n",
    "\tint price;\n",
    "\tchar * company;\n",
    "\tstruct GameInfo * friendGame;  // 연관업체 게임 정보\n",
    "};\n",
    "\n",
    "// 별명만 사용. 재귀적으로 사용되지는 않았음.\n",
    "typedef struct {\n",
    "\tchar * name;\n",
    "\tint year;\n",
    "\tint price;\n",
    "\tchar * company;\n",
    "\tstruct GameInfo * friendGame;  // 연관업체 게임 정보\n",
    "} GAME_INFO;\n",
    "\n",
    "int main()\n",
    "{\n",
    "\t// 게임출시\n",
    "\tGAME_INFO gameinfo1 = {\"나도게임\", 2017, 50, \"나도회사\"};\n",
    "\t// 연관업체 게임출시\n",
    "\tstruct GameInfo gameinfo2 = {\"너도게임\", 2020, 100, \"너도회사\"};\n",
    "\n",
    "\t// 구조체 안의 구조체 포인터\n",
    "\t// 연관업체 게임 소개 추가\n",
    "\tgameinfo1.friendGame = & gameinfo2;\n",
    "\n",
    "\tprintf(\"\\n\\n-- 연관업체의 게임 출시정보 --\\n\");\n",
    "\tprintf(\"  게임명    : %s\\n\", gameinfo1.friendGame->name);\n",
    "\tprintf(\"  발매년도  : %d\\n\", gameinfo1.friendGame->year);\n",
    "\tprintf(\"  가격      : %d\\n\", gameinfo1.friendGame->price);\n",
    "\tprintf(\"  제작사    : %s\\n\", gameinfo1.friendGame->company);\n",
    "\t\n",
    "    return 0;\n",
    "}\n",
    "```"
   ]
  },
  {
   "cell_type": "markdown",
   "metadata": {},
   "source": [
    "---\n",
    "\n",
    "### Python 구현"
   ]
  },
  {
   "cell_type": "markdown",
   "metadata": {},
   "source": [
    "* 해당사항 없음\n",
    "* 파이썬 클래스를 선언할 때 반드시 이름을 사용해야 하며, 클래스 이름이 자료형으로 작동함."
   ]
  },
  {
   "cell_type": "markdown",
   "metadata": {},
   "source": [
    "---"
   ]
  },
  {
   "cell_type": "markdown",
   "metadata": {
    "slideshow": {
     "slide_type": "slide"
    }
   },
   "source": [
    "## (C 언어) 프로젝트"
   ]
  },
  {
   "cell_type": "markdown",
   "metadata": {
    "slideshow": {
     "slide_type": "fragment"
    }
   },
   "source": [
    "* 동영상: [(나도코딩 C) 9-8 프로젝트(전반전)](https://www.youtube.com/watch?v=tFnJ3L4_A0I&list=PLMsa_0kAjjrdiwQykI8eb3H4IRxLTqCnP&index=69)\n",
    "* 동영상: [(나도코딩 C) 9-9 프로젝트(후반전)](https://www.youtube.com/watch?v=-0V5KtSpGeI&list=PLMsa_0kAjjrdiwQykI8eb3H4IRxLTqCnP&index=70)\n",
    "\n",
    "* 5마리의 서로 다른 고양이를 수집하는 게임\n",
    "    * 아무 키나 눌러서 무작위로 고양이를 뽑을 수 있음.\n",
    "\n",
    "* 주의사항: 동영상 \n",
    "[(나도코딩 C) 9-9 프로젝트(후반전)](https://www.youtube.com/watch?v=-0V5KtSpGeI&list=PLMsa_0kAjjrdiwQykI8eb3H4IRxLTqCnP&index=70) 의\n",
    "6분 12초 경에 사용하는 코드 디버깅 기법 익혀둘 것."
   ]
  },
  {
   "cell_type": "markdown",
   "metadata": {},
   "source": [
    "---\n",
    "```c\n",
    "#include <stdio.h>\n",
    "#include <stdlib.h>\n",
    "#include <time.h>\n",
    "\n",
    "// 5 마리의 고양이가 있음.\n",
    "// 아무 키나 눌러서 랜덤으로 고양이를 뽑아 5 마리를 다 모아 키우면 됨.\n",
    "// 중복 발생 가능\n",
    "\n",
    "// 고양이 구조체 선언\n",
    "typedef struct {\n",
    "\tchar * name;      // 이름\n",
    "\tint age;          // 나이\n",
    "\tchar * character; // 성격\n",
    "\tint level;        // 키우기 난이도 (1-5, 5가 어려움)\n",
    "} CAT;\n",
    "\n",
    "// 현재까지 보유한 고양이 목록\n",
    "int collection[5] = { 0, 0, 0, 0, 0 };\n",
    "\n",
    "// 전체 고양이 목록 (구조체 리스트)\n",
    "CAT cats[5];\n",
    "\n",
    "void initCats(); // 고양이 정보 초기화\n",
    "void printCat(int selected);\n",
    "int checkCollection();\n",
    "\n",
    "int main()\n",
    "{\n",
    "\tsrand(time(NULL));\n",
    "\n",
    "\t// 기본 세팅\n",
    "\tinitCats();\n",
    "\n",
    "\twhile (1)\n",
    "\t{\n",
    "\t\t// 임의 키 입력할 때 고양이 한 마리 무작위 선택\n",
    "\t\tprintf(\"두근두근~! 어느 고양이의 집사가 될까요?\\n아무 키나 눌러서 확인하세요!\");\n",
    "\t\tgetchar();  // 임의 키 입력 대기\n",
    "\n",
    "\t\tint selected = rand() % 5; // 0-4 사이의 숫자 반환\n",
    "\n",
    "\t\t// 뽑힌 고양이 정보 출력\n",
    "\t\tprintCat(selected);\n",
    "\n",
    "\t\t// 선택된 고양이 표시하기\n",
    "\t\tcollection[selected] = 1;\n",
    "\n",
    "\t\t// 5 마리 모두 선택되었는지 여부 확인\n",
    "\t\tint collectAll = checkCollection();\n",
    "\n",
    "\t\t// 모두 선택한 경우 종료\n",
    "\t\tif (collectAll)\n",
    "\t\t{\n",
    "\t\t\tbreak;\n",
    "\t\t}\n",
    "\t}\n",
    "\n",
    "    return 0;\n",
    "}\n",
    "\n",
    "void initCats()\n",
    "{\n",
    "\tcats[0].name = \"깜냥이\";\n",
    "\tcats[0].age = 5;\n",
    "\tcats[0].character = \"온순\";\n",
    "\tcats[0].level = 1;\n",
    "\n",
    "\tcats[1].name = \"귀요미\";\n",
    "\tcats[1].age = 3;\n",
    "\tcats[1].character = \"날카로움\";\n",
    "\tcats[1].level = 2;\n",
    "\n",
    "\tcats[2].name = \"수줍이\";\n",
    "\tcats[2].age = 7;\n",
    "\tcats[2].character = \"늘 잔만 잠\";\n",
    "\tcats[2].level = 3;\n",
    "\n",
    "\tcats[3].name = \"깍꿍이\";\n",
    "\tcats[3].age = 2;\n",
    "\tcats[3].character = \"시끄러움\";\n",
    "\tcats[3].level = 4;\n",
    "\n",
    "\tcats[4].name = \"돼냥이\";\n",
    "\tcats[4].age = 1;\n",
    "\tcats[4].character = \"배고파함\";\n",
    "\tcats[4].level = 5;\n",
    "}\n",
    "\n",
    "void printCat(int selected)\n",
    "{\n",
    "\tprintf(\"\\n\\n=== 당신은 이 공양이의 집사가 되었어요! ===\\n\\n\");\n",
    "\tprintf(\" 이름:      %s\\n\", cats[selected].name);\n",
    "\tprintf(\" 나이:      %d\\n\", cats[selected].age);\n",
    "\tprintf(\" 특징(성격): %s\\n\", cats[selected].character);\n",
    "\tprintf(\" 레벨: \");\n",
    "\n",
    "\tfor (int i = 0 ; i < cats[selected].level; i++)\n",
    "\t{\n",
    "\t\tprintf(\"*\");\n",
    "\t}\n",
    "\tprintf(\"\\n\\n\");\n",
    "}\n",
    "\n",
    "// 5 마리 고양이 모두 선택하였는지 여부 확인\n",
    "int checkCollection()\n",
    "{\n",
    "\t// 1. 현재 보유한 고양이 목록 출력하면서\n",
    "\t// 2. 동시에 다 모았는지 여부를 반환\n",
    "\n",
    "\tint collectAll = 1; \n",
    "\n",
    "\tprintf(\"\\n\\n === 보유한 고양이 목록입니다 === \\n\\n\");\n",
    "\tfor (int i = 0 ; i < 5; i++)\n",
    "\t{\n",
    "\t\tif (collection[i] == 0) // 고양이 수집 X\n",
    "\t\t{\n",
    "\t\t\tprintf(\"%10s\", \"(빈 박스)\");\n",
    "\t\t\tcollectAll = 0;\n",
    "\t\t}\n",
    "\t\telse // 고양이 수집 O\n",
    "\t\t{\n",
    "\t\t\tprintf(\"%10s\", cats[i].name);\n",
    "\t\t}\n",
    "\t}\n",
    "\n",
    "\tprintf(\"\\n============\\n\\n\");\n",
    "\n",
    "\tif (collectAll) // 모든 고양이를 수집한 경우\n",
    "\t\t{\n",
    "\t\t\tprintf(\"\\n\\n축하합니다! 모든 고양이를 다 모았어요. 열심히 키워주세요.\\n\\n\");\n",
    "\t\t}\n",
    "\n",
    "\treturn collectAll;\n",
    "}\n",
    "```"
   ]
  },
  {
   "cell_type": "markdown",
   "metadata": {},
   "source": [
    "---\n",
    "\n",
    "### Python 구현"
   ]
  },
  {
   "cell_type": "code",
   "execution_count": null,
   "metadata": {},
   "outputs": [],
   "source": []
  },
  {
   "cell_type": "markdown",
   "metadata": {},
   "source": [
    "---"
   ]
  },
  {
   "cell_type": "markdown",
   "metadata": {
    "slideshow": {
     "slide_type": "slide"
    }
   },
   "source": [
    "## 부록: (C 언어) 구조체 포인터"
   ]
  },
  {
   "cell_type": "markdown",
   "metadata": {},
   "source": [
    "* 구조체를 선언한 후에 해당 구조체의 자료형 값을 선언할 때 두 가지 방식이 있음.\n",
    "\n",
    "* 예제: 포인터로 구성된 구조체를 이용하여 예를 들어 자료형이 다른 배열을 구조체로 하나로 묶기"
   ]
  },
  {
   "cell_type": "markdown",
   "metadata": {},
   "source": [
    "### 방식 1"
   ]
  },
  {
   "cell_type": "markdown",
   "metadata": {},
   "source": [
    "* 구조체를 직접 선언할 수 있음."
   ]
  },
  {
   "cell_type": "markdown",
   "metadata": {},
   "source": [
    "---\n",
    "```c\n",
    "#include <stdio.h>\n",
    "\n",
    "int main()\n",
    "{\n",
    "    // 자료형이 다른 두 개의 배열\n",
    "\tint arr1[2] = {10, 11};\n",
    "    float arr2[3] = {1.0, 1.1, 1.2};\n",
    "\n",
    "    // 구조체 자료형 선언\n",
    "\ttypedef struct\n",
    "\t{\n",
    "\t\tint * intArray;\n",
    "\t\tfloat * floatArray;\n",
    "\t} mixedArray;\n",
    "\n",
    "    // 구조체 직접 정의\n",
    "\tmixedArray arrMixed = {arr1, arr2};\n",
    "\n",
    "    // 활용\n",
    "\tprintf(\"%d\\n\", arrMixed.intArray[0]);\n",
    "\tprintf(\"%.1f\\n\", arrMixed.floatArray[2]);\n",
    "\n",
    "    return 0;\n",
    "}\n",
    "```\n",
    "---"
   ]
  },
  {
   "cell_type": "markdown",
   "metadata": {},
   "source": [
    "#### PythonTutor 활용하기\n",
    "\n",
    "* [(C 언어) 자료형 다른 배열들의 구조체 선언](http://pythontutor.com/visualize.html#code=%23include%20%3Cstdio.h%3E%0A%0Aint%20main%28%29%0A%7B%0A%20%20%20%20int%20arr1%5B2%5D%20%3D%20%7B10,%2011%7D%3B%0A%20%20%20%20float%20arr2%5B3%5D%20%3D%20%7B1.0,%201.1,%201.2%7D%3B%0A%0A%20%20%20%20typedef%20struct%0A%20%20%20%20%7B%0A%20%20%20%20%20%20%20%20int%20*%20intArray%3B%0A%20%20%20%20%20%20%20%20float%20*%20floatArray%3B%0A%20%20%20%20%7D%20mixedArray%3B%0A%0A%20%20%20%20mixedArray%20arrMixed%20%3D%20%7Barr1,%20arr2%7D%3B%0A%0A%20%20%20%20printf%28%22%25d%5Cn%22,%20arrMixed.intArray%5B0%5D%29%3B%0A%20%20%20%20printf%28%22%25.1f%5Cn%22,%20arrMixed.floatArray%5B2%5D%29%3B%0A%0A%20%20%20%20return%200%3B%0A%7D&cumulative=false&curInstr=0&heapPrimitives=nevernest&mode=display&origin=opt-frontend.js&py=c&rawInputLstJSON=%5B%5D&textReferences=false)"
   ]
  },
  {
   "cell_type": "markdown",
   "metadata": {},
   "source": [
    "### 방식 2: 메모리 동적 할당"
   ]
  },
  {
   "cell_type": "markdown",
   "metadata": {},
   "source": [
    "* 구조체 포인터를 활용할 수 있음.\n",
    "* 하지만 `malloc()` 함수를 이용하여 **동적으로 메모리 할당**(dynamic memory allocation)을 \n",
    "    먼저 해야 구조체를 할당할 수 있음."
   ]
  },
  {
   "cell_type": "markdown",
   "metadata": {},
   "source": [
    "---\n",
    "```c\n",
    "#include <stdio.h>\n",
    "#include <stdlib.h>  // 추가 라이브러리 필요\n",
    "\n",
    "int main()\n",
    "{\n",
    "    // 자료형이 다른 두 개의 배열\n",
    "\tint arr1[2] = {10, 11};\n",
    "    float arr2[3] = {1.0, 1.1, 1.2};\n",
    "\n",
    "    // 구조체 자료형 선언\n",
    "\ttypedef struct\n",
    "\t{\n",
    "\t\tint * intArray;\n",
    "\t\tfloat * floatArray;\n",
    "\t} mixedArray;\n",
    "\n",
    "    // 구조체 포인터 변수 선언\n",
    "    // 일단 널(null) 값을 갖도록 해야 함. \n",
    "    // 이유: 아직 할당될 값을 저장할 공간이 메모리의 힙(heap)에 준비되지 않았음.\n",
    "\tmixedArray * arrMixed = NULL;\n",
    "\n",
    "    // 힙(heap)에 할당될 구조체의 크기만큼의 영역 할당하기\n",
    "    // malloc() 함수를 이용하여 선언된 구조체 자료형의 크기만큼만 영역을 할당하도록 함.\n",
    "\tarrMixed = (mixedArray *)malloc(sizeof(mixedArray));\n",
    "\n",
    "    // 구조체 항목 지정\n",
    "\tarrMixed->intArray = arr1;\n",
    "\tarrMixed->floatArray = arr2;\n",
    "\n",
    "    // 활용\n",
    "\tprintf(\"%d\\n\", arrMixed->intArray[0]);\n",
    "\tprintf(\"%.1f\\n\", arrMixed->floatArray[2]);\n",
    "\n",
    "    return 0;\n",
    "}\n",
    "```"
   ]
  },
  {
   "cell_type": "markdown",
   "metadata": {},
   "source": [
    "* PythonTutor 활용하기: \n",
    "    [(C 언어) 구조체 포인터 활용](http://pythontutor.com/visualize.html#code=%23include%20%3Cstdio.h%3E%0A%23include%20%3Cstdlib.h%3E%0A%0Aint%20main%28%29%0A%7B%0A%20%20%20%20int%20arr1%5B2%5D%20%3D%20%7B10,%2011%7D%3B%0A%20%20%20%20float%20arr2%5B3%5D%20%3D%20%7B1.0,%201.1,%201.2%7D%3B%0A%0A%20%20%20%20typedef%20struct%0A%20%20%20%20%7B%0A%20%20%20%20%20%20%20%20int%20*%20intArray%3B%0A%20%20%20%20%20%20%20%20float%20*%20floatArray%3B%0A%20%20%20%20%7D%20mixedArray%3B%0A%0A%20%20%20%20mixedArray%20*%20arrMixed%20%3D%20NULL%3B%0A%20%20%20%20arrMixed%20%3D%20%28mixedArray%20*%29malloc%28sizeof%28mixedArray%29%29%3B%0A%20%20%20%20arrMixed-%3EintArray%20%3D%20arr1%3B%0A%20%20%20%20arrMixed-%3EfloatArray%20%3D%20arr2%3B%0A%0A%20%20%20%20printf%28%22%25d%5Cn%22,%20arrMixed-%3EintArray%5B0%5D%29%3B%0A%20%20%20%20printf%28%22%25.1f%5Cn%22,%20arrMixed-%3EfloatArray%5B2%5D%29%3B%0A%0A%20%20%20%20return%200%3B%0A%7D&cumulative=false&curInstr=0&heapPrimitives=nevernest&mode=display&origin=opt-frontend.js&py=c&rawInputLstJSON=%5B%5D&textReferences=false)"
   ]
  },
  {
   "cell_type": "markdown",
   "metadata": {},
   "source": [
    "---\n",
    "\n",
    "### Python 구현"
   ]
  },
  {
   "cell_type": "markdown",
   "metadata": {},
   "source": [
    "* 해당사항 없음"
   ]
  }
 ],
 "metadata": {
  "kernelspec": {
   "display_name": "Python 3",
   "language": "python",
   "name": "python3"
  },
  "language_info": {
   "codemirror_mode": {
    "name": "ipython",
    "version": 3
   },
   "file_extension": ".py",
   "mimetype": "text/x-python",
   "name": "python",
   "nbconvert_exporter": "python",
   "pygments_lexer": "ipython3",
   "version": "3.8.3"
  }
 },
 "nbformat": 4,
 "nbformat_minor": 4
}
