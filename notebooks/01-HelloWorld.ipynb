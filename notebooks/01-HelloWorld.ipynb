{
 "cells": [
  {
   "cell_type": "markdown",
   "metadata": {
    "slideshow": {
     "slide_type": "slide"
    }
   },
   "source": [
    "# 1장 C 언어 소스코드 실행: Hello World"
   ]
  },
  {
   "cell_type": "markdown",
   "metadata": {},
   "source": [
    "#### 감사의 글 \n",
    "\n",
    "유튜브 동영상 모음집 \n",
    "[(나도코딩 C)](https://www.youtube.com/watch?v=dEykoFZkf5Y&list=PLMsa_0kAjjrdiwQykI8eb3H4IRxLTqCnP)에서 \n",
    "설명하는 코드를 활용합니다. \n",
    "강의동영상을 공개한 \n",
    "[나도코딩](https://www.youtube.com/channel/UC7iAOLiALt2rtMVAWWl4pnw)님께 \n",
    "감사드립니다."
   ]
  },
  {
   "cell_type": "markdown",
   "metadata": {
    "slideshow": {
     "slide_type": "slide"
    }
   },
   "source": [
    "## (C 언어) Hello World"
   ]
  },
  {
   "cell_type": "markdown",
   "metadata": {
    "slideshow": {
     "slide_type": "fragment"
    }
   },
   "source": [
    "* 동영상: [(나도코딩 C) 1-2 Hello World](https://www.youtube.com/watch?v=xNMGGQIU8FU&list=PLMsa_0kAjjrdiwQykI8eb3H4IRxLTqCnP&index=3)"
   ]
  },
  {
   "cell_type": "markdown",
   "metadata": {},
   "source": [
    "* C 언어로 작성된 소스코드를 실행하기 위해 갖추어야 하는 가장 기본적인 형식\n",
    "    * `include <stdio.h>`: 표준입출력을 위해 필요한 표준 라이브러리 불러오기\n",
    "    * `int main(void)`: 소스코드를 실행할 때 사용되는 메인 함수. 프로젝트별로 반드시 하나만 있어야 함.\n",
    "* 우선은 아래 코드를 단순히 따라할 것.\n",
    "* `printf()` 함수: 표준입출력 창(보통 터미널 창)에 지정된 값을 출력하는 함.\n",
    "    * `\\n`은 줄바꿈을 의미하는 문자\n",
    "    * 터미널 창에서 줄바꿈 문자가 있는 경우와 없는 경우를 비교해볼 것."
   ]
  },
  {
   "cell_type": "markdown",
   "metadata": {
    "slideshow": {
     "slide_type": "slide"
    }
   },
   "source": [
    "---\n",
    "```c\n",
    "#include <stdio.h>\n",
    "\n",
    "int main(void) {\n",
    "  printf(\"Hello World\\n\");\n",
    "  return 0;\n",
    "}\n",
    "```"
   ]
  },
  {
   "cell_type": "markdown",
   "metadata": {
    "slideshow": {
     "slide_type": "slide"
    }
   },
   "source": [
    "---\n",
    "\n",
    "### Python 구현"
   ]
  },
  {
   "cell_type": "markdown",
   "metadata": {},
   "source": [
    "* 파이썬에서는 메인함수를 선언할 필요 없음.\n",
    "* 표준입출력을 위한 라이브러리도 굳이 불러올 필요 없음.\n",
    "* `print()` 함수\n",
    "    * C 언어의 `printf()` 함수와 유사한 기능 수행.\n",
    "    * 하지만 출력 후 줄바꿈을 기본으로 실행. \n",
    "    * 따라서 줄바꿈 문자(`\\n`)를 굳이 사용할 필요 없음.\n",
    "    * 아래 한 줄짜리 파이썬 코드가 위 C 언어 코드와 동일한 기능 수행함."
   ]
  },
  {
   "cell_type": "code",
   "execution_count": 1,
   "metadata": {
    "slideshow": {
     "slide_type": "slide"
    }
   },
   "outputs": [
    {
     "name": "stdout",
     "output_type": "stream",
     "text": [
      "Hello World\n"
     ]
    }
   ],
   "source": [
    "print(\"Hello World\")"
   ]
  },
  {
   "cell_type": "markdown",
   "metadata": {},
   "source": [
    "#### `if __name__ == \"__main__\"` 활용"
   ]
  },
  {
   "cell_type": "markdown",
   "metadata": {},
   "source": [
    "* 파이썬 소스코드의 맨 하단에 아래와 같이 작성하면 C 언어의 `main()` 함수와 유사한 기능 수행함.\n",
    "    하지만 반드시 필요한 것은 아니며, 역할이 다름.\n",
    "    나중에 자세히 설명할 것임.\n",
    "    * 콜론(`:`)기호와 들여쓰기에 주의할 것."
   ]
  },
  {
   "cell_type": "code",
   "execution_count": 2,
   "metadata": {},
   "outputs": [
    {
     "name": "stdout",
     "output_type": "stream",
     "text": [
      "Hello World\n"
     ]
    }
   ],
   "source": [
    "if __name__ == \"__main__\":\n",
    "    print(\"Hello World\")"
   ]
  }
 ],
 "metadata": {
  "kernelspec": {
   "display_name": "Python 3",
   "language": "python",
   "name": "python3"
  },
  "language_info": {
   "codemirror_mode": {
    "name": "ipython",
    "version": 3
   },
   "file_extension": ".py",
   "mimetype": "text/x-python",
   "name": "python",
   "nbconvert_exporter": "python",
   "pygments_lexer": "ipython3",
   "version": "3.8.3"
  }
 },
 "nbformat": 4,
 "nbformat_minor": 4
}
